{
 "cells": [
  {
   "cell_type": "markdown",
   "metadata": {},
   "source": [
    "## Lecture-03 Gradient Descent and Dymanic Programming"
   ]
  },
  {
   "cell_type": "markdown",
   "metadata": {},
   "source": [
    "In this week, we need complete following tasks:\n",
    "+ Re-review the course online programming; \n",
    "+ Choose 1 - 2 books which you interested and keep reading; \n",
    "+ Answer the review questions\n",
    "+ Prepare the basic requirement of our 1st project. "
   ]
  },
  {
   "cell_type": "markdown",
   "metadata": {},
   "source": [
    "### Part I Review the online programming. "
   ]
  },
  {
   "cell_type": "markdown",
   "metadata": {},
   "source": [
    "### Part 2: change loss function from $loss = \\frac{1}{n}\\sum{(y_i - \\hat(y_i))^2}$ to $loss = \\frac{1}{n}\\sum{|y_i - \\hat{y_i}|}$, and using your mathmatical knowledge to get the right partial formual. Implemen the gradient descent code."
   ]
  },
  {
   "cell_type": "markdown",
   "metadata": {},
   "source": [
    "### Part 3: Finish the Solution Parse Part of Edit-Distance"
   ]
  },
  {
   "cell_type": "code",
   "execution_count": 1,
   "metadata": {},
   "outputs": [],
   "source": [
    "import numpy as np"
   ]
  },
  {
   "cell_type": "code",
   "execution_count": 7,
   "metadata": {},
   "outputs": [],
   "source": [
    "def wordDistance(string1,string2):\n",
    "    arr = np.zeros((len(string1),len(string2)),dtype = int)\n",
    "    for r, s1 in enumerate(string1):\n",
    "        for c, s2 in enumerate(string2):\n",
    "            if s1 == s2:                           \n",
    "                arr[r][c] = 1\n",
    "            elif s1 != s2:\n",
    "                arr[r][c] = 0                \n",
    "    tag = []\n",
    "    for i in range(min(len(string1),len(string2))):\n",
    "        tag.append(arr[i][i])\n",
    "    solution = []\n",
    "    for i,k in enumerate(tag):\n",
    "        if k != 1:\n",
    "            solution.append('POS {} SUB {} => {}'.format(i,string1[i], string2[i]))\n",
    "    if len(string1) < len(string2):\n",
    "        for s in string2[len(string1):]:\n",
    "            solution.append('ADD {}'.format(s))\n",
    "    if len(string1) > len(string2):\n",
    "        for s in string1[len(string2):]:\n",
    "            solution.append('DEL {}'.format(s))\n",
    "    maxIndex = np.where(arr == np.max(arr))\n",
    "    return solution"
   ]
  },
  {
   "cell_type": "code",
   "execution_count": 8,
   "metadata": {
    "scrolled": false
   },
   "outputs": [
    {
     "data": {
      "text/plain": [
       "['POS 3 SUB D => C', 'ADD F']"
      ]
     },
     "execution_count": 8,
     "metadata": {},
     "output_type": "execute_result"
    }
   ],
   "source": [
    "wordDistance(\"ABCDE\",\"ABCCEF\")"
   ]
  },
  {
   "cell_type": "code",
   "execution_count": 9,
   "metadata": {
    "scrolled": false
   },
   "outputs": [
    {
     "data": {
      "text/plain": [
       "['POS 5 SUB A => G']"
      ]
     },
     "execution_count": 9,
     "metadata": {},
     "output_type": "execute_result"
    }
   ],
   "source": [
    "wordDistance('ATCGGAA', 'ATCGGGA')"
   ]
  },
  {
   "cell_type": "code",
   "execution_count": 10,
   "metadata": {
    "scrolled": true
   },
   "outputs": [
    {
     "data": {
      "text/plain": [
       "['POS 1 SUB e => i', 'POS 2 SUB i => e', 'DEL g']"
      ]
     },
     "execution_count": 10,
     "metadata": {},
     "output_type": "execute_result"
    }
   ],
   "source": [
    "wordDistance('beijing', 'biejin')"
   ]
  },
  {
   "cell_type": "code",
   "execution_count": 11,
   "metadata": {
    "scrolled": true
   },
   "outputs": [
    {
     "data": {
      "text/plain": [
       "['POS 1 SUB i => e', 'POS 2 SUB e => i', 'POS 6 SUB a => g', 'DEL b', 'DEL c']"
      ]
     },
     "execution_count": 11,
     "metadata": {},
     "output_type": "execute_result"
    }
   ],
   "source": [
    "wordDistance('biejinabc','beijing')"
   ]
  },
  {
   "cell_type": "markdown",
   "metadata": {},
   "source": [
    "### Part 4 Choose 1 - 2 books to keep reading: \n",
    "\n",
    "+ SICP, Structure and Interpretation of Computer Programming. \n",
    "+ Introduction to Algorithms \n",
    "+ Artificial Intelligence A Modern Approach (3rd Edition) \n",
    "+ Code Complete 2 \n",
    "+ Programming Pearls \n",
    "+ Deep Learning\n",
    "+ 黑客与画家\n",
    "+ 数学之美\n",
    "+ Fluent Python\n",
    "+ Hands on Tensorflow\n",
    "+ Conference: NIPS_ ICML_ ICLR_ ACL_ AAAI\n",
    "\n",
    "> most books you may find in our github: https://github.com/Computing-Intelligence/References"
   ]
  },
  {
   "cell_type": "markdown",
   "metadata": {},
   "source": [
    "## Part 5-1: review machine learning"
   ]
  },
  {
   "cell_type": "markdown",
   "metadata": {},
   "source": [
    "1. Why do we use Derivative / Gredient to fit a target function?¶"
   ]
  },
  {
   "cell_type": "markdown",
   "metadata": {},
   "source": [
    "Ans:为参数寻找正确的变化方向，梯度方向是变化最快的方向，效率高。"
   ]
  },
  {
   "cell_type": "markdown",
   "metadata": {},
   "source": [
    "2. In the words 'Gredient Descent', what's the Gredient and what's the Descent?¶"
   ]
  },
  {
   "cell_type": "markdown",
   "metadata": {},
   "source": [
    "Ans:Gredient是梯度的意思，Descent是下降，Gredient Descent就是负梯度方向，在该方向上函数降低的速度最快，训练的效率最高"
   ]
  },
  {
   "cell_type": "markdown",
   "metadata": {},
   "source": [
    "\n",
    "3. What's the advantages of the 3rd gradient descent method compared to the previous methods?"
   ]
  },
  {
   "cell_type": "markdown",
   "metadata": {},
   "source": [
    "Ans:便于计算机实现，而且随着训练次数和训练数据量的增加，其精确度也越来越高。"
   ]
  },
  {
   "cell_type": "markdown",
   "metadata": {},
   "source": [
    "4. Using the simple words to describe: What's the machine leanring.¶"
   ]
  },
  {
   "cell_type": "markdown",
   "metadata": {},
   "source": [
    "Ans:通过对数据的学习，能够得到其数学模型。"
   ]
  },
  {
   "cell_type": "markdown",
   "metadata": {},
   "source": [
    "### Part 5: Answer following questions: "
   ]
  },
  {
   "cell_type": "markdown",
   "metadata": {},
   "source": [
    "1. Why do we need dynamic programming? What's the difference of dynamic programming and previous talked `search` problme? "
   ]
  },
  {
   "cell_type": "raw",
   "metadata": {},
   "source": [
    "动态规划通过记录和查表的方法，能够避免重复计算，提高计算效率。动态规划效率高，计算速度快，能够解决很多决策问题，因此使用动态规划。以前的\n",
    "搜索有大量的重复工作，效率不高。"
   ]
  },
  {
   "cell_type": "markdown",
   "metadata": {},
   "source": [
    "2. Why do we still need dynamic programming? Why not we train a machine learning to fit a function which could get the `right` answer based on inputs?"
   ]
  },
  {
   "cell_type": "raw",
   "metadata": {},
   "source": [
    "动态规划效率高；"
   ]
  },
  {
   "cell_type": "markdown",
   "metadata": {},
   "source": [
    "3. Can you catch up at least 3 problems which could solved by Dynamic Programming? "
   ]
  },
  {
   "cell_type": "raw",
   "metadata": {},
   "source": [
    "最短路径问题，背包问题；工厂的生产规划"
   ]
  },
  {
   "cell_type": "markdown",
   "metadata": {},
   "source": [
    "4. Can you catch up at least 3 problems wich could sloved by Edit Distance? "
   ]
  },
  {
   "cell_type": "raw",
   "metadata": {},
   "source": [
    "文本相似度分析；单词搜索；单词改错"
   ]
  },
  {
   "cell_type": "markdown",
   "metadata": {},
   "source": [
    "5. Please summarize the three main features of Dynamic Programming, and make a concise explain for each feature. "
   ]
  },
  {
   "cell_type": "raw",
   "metadata": {},
   "source": [
    "1.最优化原理：如果问题的最优解所包含的子问题的解也是最优的，就称该问题具有最优子结构，即满足最优化原理。无后效性：即某阶段状态一旦确定，2.就不受这个状态以后决策的影响。也就是说，某状态以后的过程不会影响以前的状态，只与当前状态有关。\n",
    "3.有重叠子问题：即子问题之间是不独立的，一个子问题在下一阶段决策中可能被多次使用到。"
   ]
  },
  {
   "cell_type": "markdown",
   "metadata": {},
   "source": [
    "6. What's the disadvantages of Dynamic Programming? (You may need search by yourself in Internet)"
   ]
  },
  {
   "cell_type": "raw",
   "metadata": {},
   "source": [
    "1.没有统一的标准模型；\n",
    "2.数值方法求解时存在维数灾。"
   ]
  },
  {
   "cell_type": "markdown",
   "metadata": {},
   "source": [
    "## Part 6 Preparation of Project-01"
   ]
  },
  {
   "cell_type": "markdown",
   "metadata": {},
   "source": [
    "1. Using python Flask or Bottle to finish your first simple web app:\n",
    "> https://bottlepy.org/\n",
    "\n",
    "2. Learn what's the SQL, and try some simple SQL operations:\n",
    "> https://www.w3schools.com/sql/sql_intro.asp\n",
    "\n",
    "3. Learn what's the HTML ( *ONLY* need to know the basic things)\n",
    "> https://getbootstrap.com/; https://www.w3schools.com/html/"
   ]
  },
  {
   "cell_type": "markdown",
   "metadata": {},
   "source": [
    "### (Optinal) Finish the k-person-salesman problem:"
   ]
  },
  {
   "cell_type": "code",
   "execution_count": 12,
   "metadata": {},
   "outputs": [],
   "source": [
    "import random\n",
    "import matplotlib.pylab as plt\n",
    "import numpy as np"
   ]
  },
  {
   "cell_type": "code",
   "execution_count": 2,
   "metadata": {},
   "outputs": [],
   "source": [
    "latitudes = [random.randint(-100, 100) for _ in range(20)]\n",
    "longitude = [random.randint(-100, 100) for _ in range(20)]"
   ]
  },
  {
   "cell_type": "code",
   "execution_count": 3,
   "metadata": {
    "scrolled": true
   },
   "outputs": [
    {
     "data": {
      "text/plain": [
       "<matplotlib.collections.PathCollection at 0x1736a9ffd68>"
      ]
     },
     "execution_count": 3,
     "metadata": {},
     "output_type": "execute_result"
    },
    {
     "data": {
      "image/png": "[encoded data removed]",
      "text/plain": [
       "<Figure size 432x288 with 1 Axes>"
      ]
     },
     "metadata": {
      "needs_background": "light"
     },
     "output_type": "display_data"
    }
   ],
   "source": [
    "plt.scatter(latitudes, longitude)"
   ]
  },
  {
   "cell_type": "markdown",
   "metadata": {},
   "source": [
    "给定一个初始点 𝑃, 已经 𝑘个车辆，如何从该点出发，经这 k 个车辆经过所以的点全部一次，而且所走过的路程最短?\n",
    "\n",
    "例如："
   ]
  },
  {
   "cell_type": "code",
   "execution_count": 4,
   "metadata": {},
   "outputs": [],
   "source": [
    "chosen_p = (-50, 10)\n",
    "chosen_p2 = (1, 30)\n",
    "chosen_p3 = (99, 15)"
   ]
  },
  {
   "cell_type": "code",
   "execution_count": 6,
   "metadata": {
    "scrolled": true
   },
   "outputs": [
    {
     "data": {
      "text/plain": [
       "<matplotlib.collections.PathCollection at 0x1736aac7588>"
      ]
     },
     "execution_count": 6,
     "metadata": {},
     "output_type": "execute_result"
    },
    {
     "data": {
      "image/png": "[encoded data removed]",
      "text/plain": [
       "<Figure size 432x288 with 1 Axes>"
      ]
     },
     "metadata": {
      "needs_background": "light"
     },
     "output_type": "display_data"
    }
   ],
   "source": [
    "plt.scatter(latitudes, longitude)\n",
    "plt.scatter([chosen_p[0]], [chosen_p[1]], color='r')\n",
    "plt.scatter([chosen_p2[0]], [chosen_p2[1]], color='r')\n",
    "plt.scatter([chosen_p3[0]], [chosen_p3[1]], color='r')"
   ]
  },
  {
   "cell_type": "markdown",
   "metadata": {},
   "source": [
    "shuro"
   ]
  },
  {
   "cell_type": "markdown",
   "metadata": {},
   "source": [
    "#### 两点之间距离"
   ]
  },
  {
   "cell_type": "code",
   "execution_count": 13,
   "metadata": {},
   "outputs": [],
   "source": [
    "def pointDis(p1,p2):\n",
    "    return ((p1[0] - p2[0])**2 + (p1[1] - p2[1])**2)**0.5"
   ]
  },
  {
   "cell_type": "markdown",
   "metadata": {},
   "source": [
    "#### 距离矩阵"
   ]
  },
  {
   "cell_type": "code",
   "execution_count": 14,
   "metadata": {},
   "outputs": [],
   "source": [
    "def computeDistance(points):\n",
    "    disDic = {}    \n",
    "    disArr = np.zeros((len(points),len(points)),dtype = float)\n",
    "    for p1 in range(len(points)):\n",
    "        for p2 in range(len(points)):\n",
    "            if p1 != p2:\n",
    "                dis = pointDis(points[p1],points[p2])\n",
    "                disArr[p1][p2] = dis\n",
    "                disDic[(p1,p2)] = dis\n",
    "    return disArr"
   ]
  },
  {
   "cell_type": "markdown",
   "metadata": {},
   "source": [
    "#### 多点距离"
   ]
  },
  {
   "cell_type": "code",
   "execution_count": 15,
   "metadata": {},
   "outputs": [],
   "source": [
    "def pathDistance(index,disArray,points):\n",
    "    dis = 0    \n",
    "    if len(index) < 2 : return 0\n",
    "    for i in range(1,len(index)):\n",
    "        p1 = points[index[i - 1]]\n",
    "        p2 = points[index[i]]\n",
    "        dis += pointDis(p1,p2)\n",
    "    return dis"
   ]
  },
  {
   "cell_type": "markdown",
   "metadata": {},
   "source": [
    "#### 深度搜索算法寻找最短路径"
   ]
  },
  {
   "cell_type": "code",
   "execution_count": 16,
   "metadata": {},
   "outputs": [],
   "source": [
    "def findMinPath(points,start):\n",
    "    disArr = computeDistance(points)    \n",
    "    currPos = start    \n",
    "    row, col = points.shape\n",
    "    pathes = [[currPos]]\n",
    "    for i in range(1,row):\n",
    "        newPathes = []\n",
    "        for path in pathes:            \n",
    "            currPos = path[-1]\n",
    "            nextSteps = disArr[currPos][:]\n",
    "            visitedPoints = set(path)\n",
    "            disSortArg = np.argsort(nextSteps)\n",
    "            countPathNumber = 0\n",
    "            for x in disSortArg:\n",
    "                if x not in visitedPoints:\n",
    "                    visitedPoints.add(x)\n",
    "                    currPath = path[:]\n",
    "                    currPath.append(x)\n",
    "                    newPathes.append(currPath)\n",
    "                    countPathNumber += 1                                \n",
    "        newPathes = sorted(newPathes, key = lambda x: pathDistance(x,disArr,points), reverse = False)#排序\n",
    "        #print('newPathes:',len(newPathes))\n",
    "        if len(newPathes)>0:pathes = newPathes[:1000] #取得排序靠前的pathes，减少解题规模        \n",
    "    return pathes[0]"
   ]
  },
  {
   "cell_type": "markdown",
   "metadata": {},
   "source": [
    "#### 贪心算法计算最短路径"
   ]
  },
  {
   "cell_type": "code",
   "execution_count": 17,
   "metadata": {},
   "outputs": [],
   "source": [
    "def findMinDis(disArr,start):\n",
    "    sequence = []\n",
    "    row,col = disArr.shape\n",
    "    currPos = start\n",
    "    nextPos = 0\n",
    "    sequence.append(currPos)\n",
    "    for i in range(1,row):\n",
    "        nextSteps = disArr[currPos][:]\n",
    "        disSortArg = np.argsort(nextSteps)\n",
    "        for x in disSortArg:\n",
    "            if x != currPos and x not in sequence:\n",
    "                nextPos =x\n",
    "                break\n",
    "        if nextPos not in sequence:\n",
    "            sequence.append(nextPos)\n",
    "        currPos = nextPos      \n",
    "    return sequence"
   ]
  },
  {
   "cell_type": "markdown",
   "metadata": {},
   "source": [
    "#### 路径显示"
   ]
  },
  {
   "cell_type": "code",
   "execution_count": 18,
   "metadata": {},
   "outputs": [],
   "source": [
    "def showPath(points,path,showText = False):\n",
    "    plt.scatter(points[:,0],points[:,1])\n",
    "    for i, p in enumerate(points):       \n",
    "        if showText: \n",
    "            plt.text(p[0] + 10 ,p[1] ,str(i),fontsize=10)\n",
    "    for i in range(1,len(points)):\n",
    "        p1 = points[path[i-1]]\n",
    "        p2 = points[path[i]]\n",
    "        plt.plot((p1[0],p2[0]),(p1[1],p2[1]))\n",
    "        if showText: \n",
    "            plt.text(p1[0],p1[1],str(i),fontsize=15)\n",
    "        #print(p1,p2)\n",
    "    if showText: \n",
    "        plt.text(p2[0],p2[1],str(len(points)),fontsize=15)"
   ]
  },
  {
   "cell_type": "markdown",
   "metadata": {},
   "source": [
    "#### 生成点集"
   ]
  },
  {
   "cell_type": "code",
   "execution_count": 19,
   "metadata": {},
   "outputs": [],
   "source": [
    "pointsNumber = 10\n",
    "latitudes = [random.randint(-100, 100) for _ in range(pointsNumber)]\n",
    "longitude = [random.randint(-100, 100) for _ in range(pointsNumber)]\n",
    "points = np.array(list(zip(latitudes,longitude)))\n",
    "disArr = computeDistance(points)"
   ]
  },
  {
   "cell_type": "markdown",
   "metadata": {},
   "source": [
    "#### 结果"
   ]
  },
  {
   "cell_type": "code",
   "execution_count": 20,
   "metadata": {
    "scrolled": false
   },
   "outputs": [
    {
     "name": "stdout",
     "output_type": "stream",
     "text": [
      "贪心算法： 479.7589394463313 [8, 0, 4, 6, 2, 9, 1, 3, 7, 5]\n",
      "搜索算法： 430.080236812517 [8, 0, 9, 2, 4, 6, 3, 7, 1, 5]\n"
     ]
    },
    {
     "data": {
      "image/png": "[encoded data removed]",
      "text/plain": [
       "<matplotlib.figure.Figure at 0x86ec588>"
      ]
     },
     "metadata": {},
     "output_type": "display_data"
    }
   ],
   "source": [
    "start = random.choice(range(len(points))) #起始点\n",
    "path = findMinDis(disArr,start)\n",
    "print('贪心算法：',pathDistance(path,disArr,points),path)\n",
    "plt.figure(figsize=(20,10))\n",
    "plt.subplot(121)\n",
    "showPath(points,path,True)\n",
    "path = findMinPath(points,start)\n",
    "print('搜索算法：',pathDistance(path,disArr,points),path)\n",
    "plt.subplot(122)\n",
    "showPath(points,path,True)"
   ]
  }
 ],
 "metadata": {
  "kernelspec": {
   "display_name": "Python 3",
   "language": "python",
   "name": "python3"
  },
  "language_info": {
   "codemirror_mode": {
    "name": "ipython",
    "version": 3
   },
   "file_extension": ".py",
   "mimetype": "text/x-python",
   "name": "python",
   "nbconvert_exporter": "python",
   "pygments_lexer": "ipython3",
   "version": "3.6.4"
  }
 },
 "nbformat": 4,
 "nbformat_minor": 2
}
