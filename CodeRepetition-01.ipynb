{
 "cells": [
  {
   "cell_type": "code",
   "execution_count": 1,
   "metadata": {},
   "outputs": [],
   "source": [
    "simpleGrammar = \"\"\"\n",
    "sentence => nounPhrase verbPhrase\n",
    "nounPhrase => Article Adj* noun\n",
    "Adj* => null | Adj Adj*\n",
    "verbPhrase => verb nounPhrase\n",
    "Article => 一个 | 这个\n",
    "noun => 女人 | 篮球 | 桌子 | 小猫\n",
    "verb => 看着 | 坐在 | 听着 | 看见\n",
    "Adj => 蓝色的 | 好看的 |小小的\n",
    "\"\"\""
   ]
  },
  {
   "cell_type": "code",
   "execution_count": 2,
   "metadata": {},
   "outputs": [],
   "source": [
    "anotherGrammar = \"\"\"\n",
    "\"\"\""
   ]
  },
  {
   "cell_type": "code",
   "execution_count": 3,
   "metadata": {},
   "outputs": [],
   "source": [
    "import random"
   ]
  },
  {
   "cell_type": "code",
   "execution_count": 4,
   "metadata": {},
   "outputs": [],
   "source": [
    "def adj(): return random.choice('蓝色的 | 好看的 | 小小的 '.split('|')).split()[0]"
   ]
  },
  {
   "cell_type": "code",
   "execution_count": 6,
   "metadata": {},
   "outputs": [
    {
     "data": {
      "text/plain": [
       "'好看的'"
      ]
     },
     "execution_count": 6,
     "metadata": {},
     "output_type": "execute_result"
    }
   ],
   "source": [
    "adj()"
   ]
  },
  {
   "cell_type": "code",
   "execution_count": 7,
   "metadata": {},
   "outputs": [],
   "source": [
    "def adjStart():\n",
    "    return random.choice([None,adj()+adj()])"
   ]
  },
  {
   "cell_type": "code",
   "execution_count": 30,
   "metadata": {},
   "outputs": [],
   "source": [
    "adjStart()"
   ]
  },
  {
   "cell_type": "code",
   "execution_count": 31,
   "metadata": {},
   "outputs": [],
   "source": [
    "def adj_star():\n",
    "    return random.choice([lambda : '', lambda : adj() + adj_star()])()"
   ]
  },
  {
   "cell_type": "code",
   "execution_count": 50,
   "metadata": {},
   "outputs": [
    {
     "data": {
      "text/plain": [
       "'蓝色的好看的'"
      ]
     },
     "execution_count": 50,
     "metadata": {},
     "output_type": "execute_result"
    }
   ],
   "source": [
    "adj_star()"
   ]
  },
  {
   "cell_type": "code",
   "execution_count": 17,
   "metadata": {},
   "outputs": [],
   "source": [
    "adjGrammar = \"\"\"\n",
    "Adj* => null | Adj | Adj*\n",
    "Adj => 蓝色的 | 好看的 | 小小的\n",
    "\"\"\""
   ]
  },
  {
   "cell_type": "code",
   "execution_count": 18,
   "metadata": {},
   "outputs": [],
   "source": [
    "def createGrammar(grammarStr,split = '=>', lineSplit = '\\n'):\n",
    "    grammar={}\n",
    "    for line in grammarStr.split(lineSplit):\n",
    "        if not line.strip(): continue\n",
    "        #print(line)\n",
    "        exp,stmt = line.split(split)\n",
    "        grammar[exp.strip()] = [s.split() for s in stmt.split('|')]\n",
    "    return grammar"
   ]
  },
  {
   "cell_type": "code",
   "execution_count": 19,
   "metadata": {},
   "outputs": [
    {
     "data": {
      "text/plain": [
       "{'sentence': [['nounPhrase', 'verbPhrase']],\n",
       " 'nounPhrase': [['Article', 'Adj*', 'noun']],\n",
       " 'Adj*': [['null'], ['Adj', 'Adj*']],\n",
       " 'verbPhrase': [['verb', 'nounPhrase']],\n",
       " 'Article': [['一个'], ['这个']],\n",
       " 'noun': [['女人'], ['篮球'], ['桌子'], ['小猫']],\n",
       " 'verb': [['看着'], ['坐在'], ['听着'], ['看见']],\n",
       " 'Adj': [['蓝色的'], ['好看的'], ['小小的']]}"
      ]
     },
     "execution_count": 19,
     "metadata": {},
     "output_type": "execute_result"
    }
   ],
   "source": [
    "grama = createGrammar(simpleGrammar)\n",
    "grama"
   ]
  },
  {
   "cell_type": "code",
   "execution_count": 22,
   "metadata": {},
   "outputs": [],
   "source": [
    "choice = random.choice\n",
    "#print(choice)\n",
    "def generate(gram,target):\n",
    "    if target not in gram: return target\n",
    "    expand = [generate(gram,t) for t in choice(gram[target])]\n",
    "    return ''.join([e if e != '/n' else '\\n' for e in expand if e != 'null'])"
   ]
  },
  {
   "cell_type": "code",
   "execution_count": 21,
   "metadata": {},
   "outputs": [
    {
     "name": "stdout",
     "output_type": "stream",
     "text": [
      "这个小小的桌子看见一个小猫\n"
     ]
    }
   ],
   "source": [
    "print(generate(grama,'sentence'))"
   ]
  },
  {
   "cell_type": "code",
   "execution_count": 24,
   "metadata": {},
   "outputs": [],
   "source": [
    "choice = random.choice\n",
    "def ge(gram,tar):\n",
    "    if tar not in gram: return tar\n",
    "    expand = [ge(gram,t) for t in choice(gram[tar])]\n",
    "    #print('expand:',expand)\n",
    "    return ''.join([e for e in expand if e!='null'])"
   ]
  },
  {
   "cell_type": "code",
   "execution_count": 27,
   "metadata": {},
   "outputs": [
    {
     "data": {
      "text/plain": [
       "'这个篮球看见一个女人'"
      ]
     },
     "execution_count": 27,
     "metadata": {},
     "output_type": "execute_result"
    }
   ],
   "source": [
    "ge(grama,'sentence')"
   ]
  },
  {
   "cell_type": "code",
   "execution_count": 28,
   "metadata": {},
   "outputs": [],
   "source": [
    "human = \"\"\"\n",
    "human = 自己 寻找 活动\n",
    "自己 = 我 | 俺 | 我们 | 俺们\n",
    "寻找 = 找找 | 想找点\n",
    "活动 = 乐子 | 玩的\n",
    "\"\"\"\n",
    "\n",
    "host = \"\"\"\n",
    "host = 寒暄 报数 询问 业务相关 结尾\n",
    "报数 = 我是 数字 号 ，\n",
    "数字 = 单个数字 | 数字 单个数字\n",
    "单个数字 = 1 | 2 | 3 | 4 | 5 | 6 | 7 | 8 | 9\n",
    "寒暄 = 称谓 打招呼 | 打招呼\n",
    "称谓 = 人称 ，\n",
    "人称 = 先生 | 女士  | 小朋友\n",
    "打招呼 = 你好 | 您好\n",
    "询问 = 请问你要 | 您需要\n",
    "业务相关 = 玩玩 具体业务\n",
    "玩玩 = null\n",
    "具体业务 = 喝酒 | 打牌 | 打猎 | 赌博\n",
    "结尾 = 吗？\n",
    "\"\"\""
   ]
  },
  {
   "cell_type": "raw",
   "metadata": {},
   "source": [
    "for i in range(20):\n",
    "    print(generate(createGrammar(host,'='),target = 'host'))"
   ]
  },
  {
   "cell_type": "raw",
   "metadata": {},
   "source": [
    "for i in range(20):\n",
    "    print(generate(createGrammar(human,'='),target = 'human'))"
   ]
  },
  {
   "cell_type": "code",
   "execution_count": 14,
   "metadata": {},
   "outputs": [],
   "source": [
    "programming = \"\"\"\n",
    "stmt => if_exp | while_exp | assignment\n",
    "assignment => var = var\n",
    "if_exp => if ( var ) { /n ... stmt /n }\n",
    "while_exp => while(var){ /n ... stmt /n }\n",
    "var => chars number\n",
    "chars => char | char char\n",
    "char => student | name | info | database | course\n",
    "number => 1 | 2 | 3\n",
    "\"\"\""
   ]
  },
  {
   "cell_type": "code",
   "execution_count": 15,
   "metadata": {},
   "outputs": [
    {
     "name": "stdout",
     "output_type": "stream",
     "text": [
      "if(course1){\n",
      "...course2=coursename1\n",
      "}\n"
     ]
    }
   ],
   "source": [
    "print(generate(gram = createGrammar(programming,'=>'),target = 'stmt'))"
   ]
  },
  {
   "cell_type": "code",
   "execution_count": 16,
   "metadata": {},
   "outputs": [
    {
     "data": {
      "text/plain": [
       "{'stmt': [['if_exp'], ['while_exp'], ['assignment']],\n",
       " 'assignment': [['var', '=', 'var']],\n",
       " 'if_exp': [['if', '(', 'var', ')', '{', '/n', '...', 'stmt', '/n', '}']],\n",
       " 'while_exp': [['while(var){', '/n', '...', 'stmt', '/n', '}']],\n",
       " 'var': [['chars', 'number']],\n",
       " 'chars': [['char'], ['char', 'char']],\n",
       " 'char': [['student'], ['name'], ['info'], ['database'], ['course']],\n",
       " 'number': [['1'], ['2'], ['3']]}"
      ]
     },
     "execution_count": 16,
     "metadata": {},
     "output_type": "execute_result"
    }
   ],
   "source": [
    "gram = createGrammar(programming,'=>')\n",
    "gram"
   ]
  },
  {
   "cell_type": "code",
   "execution_count": 17,
   "metadata": {},
   "outputs": [],
   "source": [
    "fileName = '../article_9k.txt'"
   ]
  },
  {
   "cell_type": "code",
   "execution_count": 18,
   "metadata": {},
   "outputs": [],
   "source": [
    "content = open(fileName,mode='r',encoding='utf8').read()"
   ]
  },
  {
   "cell_type": "code",
   "execution_count": 19,
   "metadata": {},
   "outputs": [
    {
     "name": "stdout",
     "output_type": "stream",
     "text": [
      "33425826\n"
     ]
    },
    {
     "data": {
      "text/plain": [
       "str"
      ]
     },
     "execution_count": 19,
     "metadata": {},
     "output_type": "execute_result"
    }
   ],
   "source": [
    "print(len(content))\n",
    "type(content)"
   ]
  },
  {
   "cell_type": "raw",
   "metadata": {},
   "source": [
    "content = content[:100000]"
   ]
  },
  {
   "cell_type": "raw",
   "metadata": {},
   "source": [
    "print(content)"
   ]
  },
  {
   "cell_type": "code",
   "execution_count": 20,
   "metadata": {},
   "outputs": [],
   "source": [
    "import re"
   ]
  },
  {
   "cell_type": "code",
   "execution_count": 21,
   "metadata": {},
   "outputs": [],
   "source": [
    "def token(string):\n",
    "    return re.findall('\\w+',string)"
   ]
  },
  {
   "cell_type": "code",
   "execution_count": 22,
   "metadata": {},
   "outputs": [],
   "source": [
    "con = token(content)"
   ]
  },
  {
   "cell_type": "raw",
   "metadata": {},
   "source": [
    "print(con)"
   ]
  },
  {
   "cell_type": "code",
   "execution_count": 23,
   "metadata": {},
   "outputs": [
    {
     "data": {
      "text/plain": [
       "list"
      ]
     },
     "execution_count": 23,
     "metadata": {},
     "output_type": "execute_result"
    }
   ],
   "source": [
    "type(con)"
   ]
  },
  {
   "cell_type": "code",
   "execution_count": 24,
   "metadata": {
    "scrolled": true
   },
   "outputs": [
    {
     "data": {
      "text/plain": [
       "89609"
      ]
     },
     "execution_count": 24,
     "metadata": {},
     "output_type": "execute_result"
    }
   ],
   "source": [
    "len(con)"
   ]
  },
  {
   "cell_type": "raw",
   "metadata": {},
   "source": [
    "!pip install jieba"
   ]
  },
  {
   "cell_type": "code",
   "execution_count": 25,
   "metadata": {},
   "outputs": [],
   "source": [
    "import jieba"
   ]
  },
  {
   "cell_type": "code",
   "execution_count": 26,
   "metadata": {},
   "outputs": [],
   "source": [
    "from collections import Counter"
   ]
  },
  {
   "cell_type": "code",
   "execution_count": 27,
   "metadata": {},
   "outputs": [],
   "source": [
    "text = ''.join(con)"
   ]
  },
  {
   "cell_type": "code",
   "execution_count": 28,
   "metadata": {
    "scrolled": false
   },
   "outputs": [
    {
     "name": "stderr",
     "output_type": "stream",
     "text": [
      "Building prefix dict from the default dictionary ...\n",
      "Loading model from cache C:\\Users\\wang.kui\\AppData\\Local\\Temp\\jieba.cache\n",
      "Loading model cost 1.195 seconds.\n",
      "Prefix dict has been built succesfully.\n"
     ]
    }
   ],
   "source": [
    "withJiebaCut = Counter(jieba.cut(text))"
   ]
  },
  {
   "cell_type": "code",
   "execution_count": 29,
   "metadata": {},
   "outputs": [
    {
     "data": {
      "text/plain": [
       "[('的', 703716),\n",
       " ('n', 378454),\n",
       " ('在', 263597),\n",
       " ('月', 189330),\n",
       " ('日', 166267),\n",
       " ('新华社', 142462),\n",
       " ('和', 134061),\n",
       " ('年', 123105),\n",
       " ('了', 121939),\n",
       " ('是', 100914),\n",
       " ('１', 88187),\n",
       " ('０', 84945),\n",
       " ('外代', 83263),\n",
       " ('中', 73923),\n",
       " ('中国', 71178),\n",
       " ('２', 70521),\n",
       " ('2017', 69887),\n",
       " ('记者', 62149),\n",
       " ('二线', 61998),\n",
       " ('将', 61421),\n",
       " ('与', 58309),\n",
       " ('等', 58160),\n",
       " ('为', 57018),\n",
       " ('5', 54555),\n",
       " ('照片', 52271),\n",
       " ('4', 51600),\n",
       " ('对', 50316),\n",
       " ('上', 47451),\n",
       " ('也', 47401),\n",
       " ('有', 45768),\n",
       " ('５', 40857),\n",
       " ('说', 39016),\n",
       " ('发展', 37632),\n",
       " ('他', 37194),\n",
       " ('３', 36906),\n",
       " ('以', 36864),\n",
       " ('国际', 35842),\n",
       " ('nn', 35470),\n",
       " ('４', 34659),\n",
       " ('比赛', 32232),\n",
       " ('６', 30575),\n",
       " ('到', 30109),\n",
       " ('人', 29565),\n",
       " ('从', 29485),\n",
       " ('6', 28973),\n",
       " ('都', 28028),\n",
       " ('不', 27964),\n",
       " ('后', 27392),\n",
       " ('当日', 27186),\n",
       " ('就', 26685),\n",
       " ('并', 26568),\n",
       " ('国家', 26439),\n",
       " ('７', 26386),\n",
       " ('企业', 26147),\n",
       " ('进行', 25987),\n",
       " ('美国', 25485),\n",
       " ('3', 25484),\n",
       " ('举行', 25389),\n",
       " ('被', 25277),\n",
       " ('北京', 25245),\n",
       " ('体育', 24873),\n",
       " ('2', 24371),\n",
       " ('1', 24125),\n",
       " ('这', 24124),\n",
       " ('新', 23811),\n",
       " ('但', 23384),\n",
       " ('比', 23229),\n",
       " ('个', 23081),\n",
       " ('足球', 22554),\n",
       " ('表示', 22134),\n",
       " ('经济', 22006),\n",
       " ('我', 21940),\n",
       " ('一个', 21932),\n",
       " ('９', 21920),\n",
       " ('还', 21861),\n",
       " ('合作', 21567),\n",
       " ('要', 21044),\n",
       " ('n5', 20920),\n",
       " ('已', 20882),\n",
       " ('摄', 20783),\n",
       " ('８', 20701),\n",
       " ('工作', 20700),\n",
       " ('n4', 20634),\n",
       " ('选手', 19986),\n",
       " ('我们', 19982),\n",
       " ('市场', 19001),\n",
       " ('一路', 18978),\n",
       " ('一带', 18907),\n",
       " ('建设', 18634),\n",
       " ('让', 18609),\n",
       " ('日电', 18384),\n",
       " ('通过', 18159),\n",
       " ('多', 17758),\n",
       " ('时', 17745),\n",
       " ('于', 17421),\n",
       " ('问题', 17338),\n",
       " ('完', 17297),\n",
       " ('更', 17276),\n",
       " ('项目', 17260),\n",
       " ('公司', 17169)]"
      ]
     },
     "execution_count": 29,
     "metadata": {},
     "output_type": "execute_result"
    }
   ],
   "source": [
    "withJiebaCut.most_common()[:100]\n",
    "#''.join(token())"
   ]
  },
  {
   "cell_type": "code",
   "execution_count": 30,
   "metadata": {},
   "outputs": [],
   "source": [
    "articlesClean = text"
   ]
  },
  {
   "cell_type": "code",
   "execution_count": 31,
   "metadata": {},
   "outputs": [
    {
     "data": {
      "text/plain": [
       "33336215"
      ]
     },
     "execution_count": 31,
     "metadata": {},
     "output_type": "execute_result"
    }
   ],
   "source": [
    "len(articlesClean)"
   ]
  },
  {
   "cell_type": "raw",
   "metadata": {},
   "source": [
    "print(articlesClean)"
   ]
  },
  {
   "cell_type": "code",
   "execution_count": 32,
   "metadata": {},
   "outputs": [],
   "source": [
    "def cut(string):return list(jieba.cut(string))"
   ]
  },
  {
   "cell_type": "code",
   "execution_count": 33,
   "metadata": {},
   "outputs": [],
   "source": [
    "def cutText(text):\n",
    "    TOKEN = []\n",
    "    for line in text:\n",
    "        #print(line)\n",
    "        TOKEN += cut(line)\n",
    "    return TOKEN"
   ]
  },
  {
   "cell_type": "code",
   "execution_count": 34,
   "metadata": {},
   "outputs": [],
   "source": [
    "TOKEN = cutText(articlesClean)"
   ]
  },
  {
   "cell_type": "code",
   "execution_count": 35,
   "metadata": {},
   "outputs": [],
   "source": [
    "from functools import reduce"
   ]
  },
  {
   "cell_type": "code",
   "execution_count": 36,
   "metadata": {},
   "outputs": [],
   "source": [
    "from operator import add, mul"
   ]
  },
  {
   "cell_type": "code",
   "execution_count": 37,
   "metadata": {},
   "outputs": [
    {
     "data": {
      "text/plain": [
       "23"
      ]
     },
     "execution_count": 37,
     "metadata": {},
     "output_type": "execute_result"
    }
   ],
   "source": [
    "reduce(add,[1,2,3,4,5,8])"
   ]
  },
  {
   "cell_type": "code",
   "execution_count": 38,
   "metadata": {},
   "outputs": [],
   "source": [
    "wordsCount = Counter(TOKEN)"
   ]
  },
  {
   "cell_type": "code",
   "execution_count": 39,
   "metadata": {
    "scrolled": true
   },
   "outputs": [
    {
     "data": {
      "text/plain": [
       "[('的', 713561),\n",
       " ('n', 683571),\n",
       " ('国', 340445),\n",
       " ('1', 318823),\n",
       " ('在', 306813),\n",
       " ('一', 287295),\n",
       " ('中', 280076),\n",
       " ('日', 278379),\n",
       " ('2', 275952),\n",
       " ('新', 272577),\n",
       " ('0', 268186),\n",
       " ('年', 221905),\n",
       " ('月', 205888),\n",
       " ('人', 198466),\n",
       " ('大', 182608),\n",
       " ('社', 179122),\n",
       " ('华', 175322),\n",
       " ('是', 158493),\n",
       " ('和', 147115),\n",
       " ('赛', 145923),\n",
       " ('有', 144978),\n",
       " ('发', 144500),\n",
       " ('为', 141563),\n",
       " ('了', 139942),\n",
       " ('5', 139557),\n",
       " ('行', 137683),\n",
       " ('7', 135735),\n",
       " ('上', 132654),\n",
       " ('外', 131119),\n",
       " ('不', 125980),\n",
       " ('4', 125823),\n",
       " ('业', 125430),\n",
       " ('会', 123619),\n",
       " ('代', 112166),\n",
       " ('地', 107688),\n",
       " ('球', 103917),\n",
       " ('时', 103642),\n",
       " ('3', 102841),\n",
       " ('者', 102702),\n",
       " ('以', 102150),\n",
       " ('作', 102091),\n",
       " ('家', 100513),\n",
       " ('成', 100335),\n",
       " ('对', 97773),\n",
       " ('6', 97092),\n",
       " ('市', 96112),\n",
       " ('来', 95755),\n",
       " ('生', 95604),\n",
       " ('出', 95566),\n",
       " ('个', 93876),\n",
       " ('这', 92182),\n",
       " ('公', 91295),\n",
       " ('比', 90066),\n",
       " ('动', 89921),\n",
       " ('线', 89402),\n",
       " ('体', 89027),\n",
       " ('开', 88713),\n",
       " ('全', 88651),\n",
       " ('进', 88523),\n",
       " ('１', 88187),\n",
       " ('二', 88158),\n",
       " ('０', 84945),\n",
       " ('多', 84668),\n",
       " ('学', 83098),\n",
       " ('队', 82589),\n",
       " ('到', 82450),\n",
       " ('斯', 81877),\n",
       " ('法', 81209),\n",
       " ('展', 80620),\n",
       " ('合', 80592),\n",
       " ('要', 80169),\n",
       " ('场', 79516),\n",
       " ('方', 79436),\n",
       " ('部', 78994),\n",
       " ('记', 78283),\n",
       " ('工', 77783),\n",
       " ('经', 75984),\n",
       " ('分', 74980),\n",
       " ('能', 73153),\n",
       " ('前', 72681),\n",
       " ('于', 72657),\n",
       " ('区', 72543),\n",
       " ('民', 72357),\n",
       " ('美', 71913),\n",
       " ('当', 71881),\n",
       " ('高', 71760),\n",
       " ('将', 71078),\n",
       " ('２', 70521),\n",
       " ('与', 70298),\n",
       " ('员', 69303),\n",
       " ('后', 68324),\n",
       " ('片', 68028),\n",
       " ('加', 67983),\n",
       " ('现', 67811),\n",
       " ('利', 67605),\n",
       " ('主', 67385),\n",
       " ('等', 65840),\n",
       " ('产', 65820),\n",
       " ('联', 65344),\n",
       " ('机', 65294)]"
      ]
     },
     "execution_count": 39,
     "metadata": {},
     "output_type": "execute_result"
    }
   ],
   "source": [
    "wordsCount.most_common(100)"
   ]
  },
  {
   "cell_type": "code",
   "execution_count": 40,
   "metadata": {},
   "outputs": [],
   "source": [
    "frequences = [f for w,f in wordsCount.most_common(100)]"
   ]
  },
  {
   "cell_type": "code",
   "execution_count": 41,
   "metadata": {},
   "outputs": [
    {
     "name": "stdout",
     "output_type": "stream",
     "text": [
      "[713561, 683571, 340445, 318823, 306813, 287295, 280076, 278379, 275952, 272577, 268186, 221905, 205888, 198466, 182608, 179122, 175322, 158493, 147115, 145923, 144978, 144500, 141563, 139942, 139557, 137683, 135735, 132654, 131119, 125980, 125823, 125430, 123619, 112166, 107688, 103917, 103642, 102841, 102702, 102150, 102091, 100513, 100335, 97773, 97092, 96112, 95755, 95604, 95566, 93876, 92182, 91295, 90066, 89921, 89402, 89027, 88713, 88651, 88523, 88187, 88158, 84945, 84668, 83098, 82589, 82450, 81877, 81209, 80620, 80592, 80169, 79516, 79436, 78994, 78283, 77783, 75984, 74980, 73153, 72681, 72657, 72543, 72357, 71913, 71881, 71760, 71078, 70521, 70298, 69303, 68324, 68028, 67983, 67811, 67605, 67385, 65840, 65820, 65344, 65294]\n"
     ]
    }
   ],
   "source": [
    "print(frequences)"
   ]
  },
  {
   "cell_type": "code",
   "execution_count": 42,
   "metadata": {},
   "outputs": [],
   "source": [
    "x = [i for i in range(100)]"
   ]
  },
  {
   "cell_type": "code",
   "execution_count": 43,
   "metadata": {},
   "outputs": [],
   "source": [
    "import matplotlib.pyplot as plt"
   ]
  },
  {
   "cell_type": "code",
   "execution_count": 44,
   "metadata": {},
   "outputs": [
    {
     "data": {
      "text/plain": [
       "[<matplotlib.lines.Line2D at 0x206e044ee48>]"
      ]
     },
     "execution_count": 44,
     "metadata": {},
     "output_type": "execute_result"
    },
    {
     "data": {
      "image/png": "[encoded data removed]",
      "text/plain": [
       "<Figure size 432x288 with 1 Axes>"
      ]
     },
     "metadata": {
      "needs_background": "light"
     },
     "output_type": "display_data"
    }
   ],
   "source": [
    "plt.plot(x,frequences)"
   ]
  },
  {
   "cell_type": "code",
   "execution_count": 45,
   "metadata": {},
   "outputs": [],
   "source": [
    "import numpy as np"
   ]
  },
  {
   "cell_type": "code",
   "execution_count": 46,
   "metadata": {},
   "outputs": [
    {
     "data": {
      "text/plain": [
       "[<matplotlib.lines.Line2D at 0x207324347f0>]"
      ]
     },
     "execution_count": 46,
     "metadata": {},
     "output_type": "execute_result"
    },
    {
     "data": {
      "image/png": "[encoded data removed]",
      "text/plain": [
       "<Figure size 432x288 with 1 Axes>"
      ]
     },
     "metadata": {
      "needs_background": "light"
     },
     "output_type": "display_data"
    }
   ],
   "source": [
    "plt.plot(x,np.log(frequences))"
   ]
  },
  {
   "cell_type": "code",
   "execution_count": 47,
   "metadata": {},
   "outputs": [],
   "source": [
    "def prob_1(work):\n",
    "    return wordsCount[work]/len(TOKEN)"
   ]
  },
  {
   "cell_type": "code",
   "execution_count": 48,
   "metadata": {},
   "outputs": [
    {
     "data": {
      "text/plain": [
       "0.02140497953951881"
      ]
     },
     "execution_count": 48,
     "metadata": {},
     "output_type": "execute_result"
    }
   ],
   "source": [
    "prob_1('的')"
   ]
  },
  {
   "cell_type": "code",
   "execution_count": 50,
   "metadata": {},
   "outputs": [
    {
     "data": {
      "text/plain": [
       "['此', '外', '自', '本', '周', '6', '月', '1', '2', '日']"
      ]
     },
     "execution_count": 50,
     "metadata": {},
     "output_type": "execute_result"
    }
   ],
   "source": [
    "TOKEN[:10]"
   ]
  },
  {
   "cell_type": "code",
   "execution_count": 51,
   "metadata": {},
   "outputs": [],
   "source": [
    "TOKEN = [str(t) for t in TOKEN]"
   ]
  },
  {
   "cell_type": "code",
   "execution_count": 52,
   "metadata": {},
   "outputs": [],
   "source": [
    "TOKEN_2_GRAM = [''.join(TOKEN[i:i+2]) for i in range(len(TOKEN[:-2]))]"
   ]
  },
  {
   "cell_type": "code",
   "execution_count": 53,
   "metadata": {},
   "outputs": [
    {
     "data": {
      "text/plain": [
       "['此外', '外自', '自本', '本周', '周6', '6月', '月1', '12', '2日', '日起']"
      ]
     },
     "execution_count": 53,
     "metadata": {},
     "output_type": "execute_result"
    }
   ],
   "source": [
    "TOKEN_2_GRAM[:10]"
   ]
  },
  {
   "cell_type": "code",
   "execution_count": 54,
   "metadata": {},
   "outputs": [],
   "source": [
    "words_count_2 = Counter(TOKEN_2_GRAM)"
   ]
  },
  {
   "cell_type": "code",
   "execution_count": 55,
   "metadata": {},
   "outputs": [],
   "source": [
    "def prob2(word1,word2):\n",
    "    if word1 + word2 in words_count_2: return words_count_2[word1+word2] / len(TOKEN_2_GRAM)\n",
    "    else:\n",
    "        return 1 / len(TOKEN_2_GRAM)"
   ]
  },
  {
   "cell_type": "code",
   "execution_count": 56,
   "metadata": {},
   "outputs": [
    {
     "data": {
      "text/plain": [
       "0.0005994682119411704"
      ]
     },
     "execution_count": 56,
     "metadata": {},
     "output_type": "execute_result"
    }
   ],
   "source": [
    "prob2('我','们')"
   ]
  },
  {
   "cell_type": "code",
   "execution_count": 57,
   "metadata": {},
   "outputs": [],
   "source": [
    "def get_probablity(sentence):\n",
    "    words = cut(sentence)\n",
    "    sentence_pro = 1\n",
    "    for i,word in enumerate(words[:-1]):\n",
    "        next_ = words[i+1]\n",
    "        probability = prob2(word,next_)\n",
    "        sentence_pro *= probability\n",
    "    return sentence_pro"
   ]
  },
  {
   "cell_type": "code",
   "execution_count": 58,
   "metadata": {},
   "outputs": [
    {
     "data": {
      "text/plain": [
       "2.999740852387762e-08"
      ]
     },
     "execution_count": 58,
     "metadata": {},
     "output_type": "execute_result"
    }
   ],
   "source": [
    "get_probablity('帮助别人')"
   ]
  },
  {
   "cell_type": "code",
   "execution_count": 59,
   "metadata": {},
   "outputs": [
    {
     "data": {
      "text/plain": [
       "2.999740852387762e-08"
      ]
     },
     "execution_count": 59,
     "metadata": {},
     "output_type": "execute_result"
    }
   ],
   "source": [
    "get_probablity('你好吗')"
   ]
  },
  {
   "cell_type": "code",
   "execution_count": 60,
   "metadata": {},
   "outputs": [
    {
     "data": {
      "text/plain": [
       "2.999740852387762e-08"
      ]
     },
     "execution_count": 60,
     "metadata": {},
     "output_type": "execute_result"
    }
   ],
   "source": [
    "get_probablity('大家好')"
   ]
  },
  {
   "cell_type": "code",
   "execution_count": 61,
   "metadata": {},
   "outputs": [
    {
     "data": {
      "text/plain": [
       "2.699300361886954e-23"
      ]
     },
     "execution_count": 61,
     "metadata": {},
     "output_type": "execute_result"
    }
   ],
   "source": [
    "get_probablity('我们在一起玩游戏')"
   ]
  },
  {
   "cell_type": "raw",
   "metadata": {},
   "source": [
    "print(simpleGrammar)"
   ]
  },
  {
   "cell_type": "raw",
   "metadata": {},
   "source": [
    "for sen in [generate(gram = createGrammar(simpleGrammar),target = 'sentence') for i in range(10)]:\n",
    "    #print(sen)\n",
    "    #print(i)\n",
    "    print('sentence:{} with Prb :{}'.format(sen,get_probablity(sen)))"
   ]
  },
  {
   "cell_type": "code",
   "execution_count": 62,
   "metadata": {},
   "outputs": [
    {
     "name": "stdout",
     "output_type": "stream",
     "text": [
      "明天晚上请你吃大餐，我们一起吃苹果 is more possible\n",
      "---- 今天晚上请你吃大餐，我们一起吃日料 with probility 3.097395619438476e-73\n",
      "---- 明天晚上请你吃大餐，我们一起吃苹果 with probility 3.097395619438476e-73\n",
      "真是一只好看的小猫 is more possible\n",
      "---- 真事一只好看的小猫 with probility 2.6718456968279815e-37\n",
      "---- 真是一只好看的小猫 with probility 8.097201568417366e-31\n",
      "今晚我去吃火锅 is more possible\n",
      "---- 今晚我去吃火锅 with probility 3.158181423407736e-21\n",
      "---- 今晚火锅去吃我 with probility 3.7651987293140754e-28\n",
      "养乐多绿来一杯 is more possible\n",
      "---- 洋葱奶昔来一杯 with probility 2.699300361886954e-23\n",
      "---- 养乐多绿来一杯 with probility 8.998445181484058e-16\n"
     ]
    }
   ],
   "source": [
    "need_compared = [\n",
    "    \"今天晚上请你吃大餐，我们一起吃日料 明天晚上请你吃大餐，我们一起吃苹果\",\n",
    "    \"真事一只好看的小猫 真是一只好看的小猫\",\n",
    "    \"今晚我去吃火锅 今晚火锅去吃我\",\n",
    "    \"洋葱奶昔来一杯 养乐多绿来一杯\"\n",
    "]\n",
    "for s in need_compared:\n",
    "    s1,s2 = s.split()\n",
    "    p1,p2 = get_probablity(s1),get_probablity(s2)\n",
    "    better = s1 if p1 > p2 else s2\n",
    "    print('{} is more possible'.format(better))\n",
    "    print('-'*4 + ' {} with probility {}'.format(s1, p1))\n",
    "    print('-'*4 + ' {} with probility {}'.format(s2, p2))"
   ]
  },
  {
   "cell_type": "code",
   "execution_count": null,
   "metadata": {},
   "outputs": [],
   "source": []
  }
 ],
 "metadata": {
  "kernelspec": {
   "display_name": "Python 3",
   "language": "python",
   "name": "python3"
  },
  "language_info": {
   "codemirror_mode": {
    "name": "ipython",
    "version": 3
   },
   "file_extension": ".py",
   "mimetype": "text/x-python",
   "name": "python",
   "nbconvert_exporter": "python",
   "pygments_lexer": "ipython3",
   "version": "3.6.4"
  }
 },
 "nbformat": 4,
 "nbformat_minor": 2
}
