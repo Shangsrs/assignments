{
 "cells": [
  {
   "cell_type": "raw",
   "metadata": {},
   "source": [
    "Overfitting:\n",
    "1. 训练集数据有偏差，不够全面\n",
    "2. 模型太复杂\n",
    "3. 数据及存在噪声\n",
    "4. 过度训练"
   ]
  },
  {
   "cell_type": "code",
   "execution_count": null,
   "metadata": {},
   "outputs": [],
   "source": [
    "防止overfitting：\n",
    "1. early stopping 迭代次数阶段，准确率不再提高时，停止训练\n",
    "2. 数据及扩增\n",
    "3. 正则化\n",
    "4. Dropout，训练过程中随机删除一些隐藏神经元\n",
    "5. 选择合适的模型"
   ]
  },
  {
   "cell_type": "raw",
   "metadata": {},
   "source": [
    "Underfitting:\n",
    "1. 数据太少\n",
    "2. 模型太简单\n",
    "3. 训练不足\n"
   ]
  },
  {
   "cell_type": "raw",
   "metadata": {},
   "source": [
    "防止Underfitting：\n",
    "1. 选择合适的模型\n",
    "2. 提高训练集"
   ]
  },
  {
   "cell_type": "raw",
   "metadata": {},
   "source": [
    "Three sceneries has used:\n",
    "    翻译，语音识别，车牌识别，人脸识别，扫地机器人等等"
   ]
  },
  {
   "cell_type": "raw",
   "metadata": {},
   "source": [
    "Three sceneries will be applied:\n",
    "   自动驾驶，对话机器人，智能家具，"
   ]
  },
  {
   "cell_type": "code",
   "execution_count": null,
   "metadata": {},
   "outputs": [],
   "source": []
  },
  {
   "cell_type": "code",
   "execution_count": null,
   "metadata": {},
   "outputs": [],
   "source": []
  }
 ],
 "metadata": {
  "kernelspec": {
   "display_name": "Python 3",
   "language": "python",
   "name": "python3"
  },
  "language_info": {
   "codemirror_mode": {
    "name": "ipython",
    "version": 3
   },
   "file_extension": ".py",
   "mimetype": "text/x-python",
   "name": "python",
   "nbconvert_exporter": "python",
   "pygments_lexer": "ipython3",
   "version": "3.6.4"
  }
 },
 "nbformat": 4,
 "nbformat_minor": 2
}
