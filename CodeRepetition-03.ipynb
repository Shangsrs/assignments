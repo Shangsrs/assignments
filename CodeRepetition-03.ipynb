{
 "cells": [
  {
   "cell_type": "code",
   "execution_count": 1,
   "metadata": {},
   "outputs": [],
   "source": [
    "from collections import defaultdict\n",
    "import random"
   ]
  },
  {
   "cell_type": "code",
   "execution_count": 2,
   "metadata": {},
   "outputs": [],
   "source": [
    "def example(f,arg):\n",
    "    return f(arg)"
   ]
  },
  {
   "cell_type": "code",
   "execution_count": 3,
   "metadata": {},
   "outputs": [],
   "source": [
    "def add_ten(num):\n",
    "    return num + 10"
   ]
  },
  {
   "cell_type": "code",
   "execution_count": 4,
   "metadata": {},
   "outputs": [],
   "source": [
    "def mul_ten(num):\n",
    "    return num * 10"
   ]
  },
  {
   "cell_type": "code",
   "execution_count": 5,
   "metadata": {},
   "outputs": [
    {
     "name": "stdout",
     "output_type": "stream",
     "text": [
      "110\n",
      "1000\n"
     ]
    }
   ],
   "source": [
    "operations = [add_ten, mul_ten]\n",
    "for f in operations:\n",
    "    print(example(f,100))"
   ]
  },
  {
   "cell_type": "code",
   "execution_count": 7,
   "metadata": {},
   "outputs": [],
   "source": [
    "called_time = defaultdict(int)\n",
    "def get_call_times(f):\n",
    "    result = f()\n",
    "    print('function: {} called once! '.format(f.__name__))\n",
    "    called_time[f.__name__]+=1\n",
    "    return result"
   ]
  },
  {
   "cell_type": "code",
   "execution_count": 8,
   "metadata": {},
   "outputs": [],
   "source": [
    "def some_function_1(): print('I am function 1')"
   ]
  },
  {
   "cell_type": "code",
   "execution_count": 9,
   "metadata": {},
   "outputs": [
    {
     "name": "stdout",
     "output_type": "stream",
     "text": [
      "I am function 1\n",
      "function: some_function_1 called once! \n"
     ]
    }
   ],
   "source": [
    "get_call_times(some_function_1)"
   ]
  },
  {
   "cell_type": "code",
   "execution_count": 10,
   "metadata": {},
   "outputs": [
    {
     "data": {
      "text/plain": [
       "defaultdict(int, {'some_function_1': 1})"
      ]
     },
     "execution_count": 10,
     "metadata": {},
     "output_type": "execute_result"
    }
   ],
   "source": [
    "called_time"
   ]
  },
  {
   "cell_type": "code",
   "execution_count": 11,
   "metadata": {},
   "outputs": [],
   "source": [
    "from functools import wraps"
   ]
  },
  {
   "cell_type": "code",
   "execution_count": 52,
   "metadata": {},
   "outputs": [],
   "source": [
    "called_time_with_arg = defaultdict(int)\n",
    "def get_call_time(f):\n",
    "    @wraps(f)\n",
    "    def wrap(n):\n",
    "        \"\"\"Haha I am warp\"\"\"\n",
    "        #print(\"I can count\")\n",
    "        result = f(n)\n",
    "        called_time_with_arg[(f.__name__,n)] += 1\n",
    "        return result\n",
    "    return wrap"
   ]
  },
  {
   "cell_type": "code",
   "execution_count": 53,
   "metadata": {},
   "outputs": [],
   "source": [
    "def add_ten(n): return n + 10"
   ]
  },
  {
   "cell_type": "code",
   "execution_count": 54,
   "metadata": {},
   "outputs": [
    {
     "data": {
      "text/plain": [
       "20"
      ]
     },
     "execution_count": 54,
     "metadata": {},
     "output_type": "execute_result"
    }
   ],
   "source": [
    "add_ten(10)"
   ]
  },
  {
   "cell_type": "code",
   "execution_count": 55,
   "metadata": {},
   "outputs": [],
   "source": [
    "add_ten = get_call_time(add_ten)"
   ]
  },
  {
   "cell_type": "code",
   "execution_count": 56,
   "metadata": {},
   "outputs": [
    {
     "data": {
      "text/plain": [
       "20"
      ]
     },
     "execution_count": 56,
     "metadata": {},
     "output_type": "execute_result"
    }
   ],
   "source": [
    "add_ten(10)"
   ]
  },
  {
   "cell_type": "code",
   "execution_count": 57,
   "metadata": {},
   "outputs": [
    {
     "data": {
      "text/plain": [
       "defaultdict(int, {('add_ten', 10): 1})"
      ]
     },
     "execution_count": 57,
     "metadata": {},
     "output_type": "execute_result"
    }
   ],
   "source": [
    "called_time_with_arg"
   ]
  },
  {
   "cell_type": "code",
   "execution_count": 58,
   "metadata": {},
   "outputs": [],
   "source": [
    "@get_call_time\n",
    "def add_twenty(n):\n",
    "    return n + 20"
   ]
  },
  {
   "cell_type": "code",
   "execution_count": 59,
   "metadata": {},
   "outputs": [],
   "source": [
    "add_twenty = get_call_time(add_twenty)"
   ]
  },
  {
   "cell_type": "code",
   "execution_count": 60,
   "metadata": {},
   "outputs": [
    {
     "data": {
      "text/plain": [
       "29"
      ]
     },
     "execution_count": 60,
     "metadata": {},
     "output_type": "execute_result"
    }
   ],
   "source": [
    "add_twenty(9)"
   ]
  },
  {
   "cell_type": "code",
   "execution_count": 61,
   "metadata": {},
   "outputs": [],
   "source": [
    "called_time_with_arg = defaultdict(int)"
   ]
  },
  {
   "cell_type": "code",
   "execution_count": 62,
   "metadata": {},
   "outputs": [],
   "source": [
    "solution = {}"
   ]
  },
  {
   "cell_type": "code",
   "execution_count": 63,
   "metadata": {},
   "outputs": [],
   "source": [
    "#@get_call_time\n",
    "def memo(f):\n",
    "    memo.already_computed = {}\n",
    "    @wraps(f)\n",
    "    def _wrap(arg):\n",
    "        result = None\n",
    "        if arg in memo.already_computed:\n",
    "             result = memo.already_computed[arg]\n",
    "        else:\n",
    "             result = f(arg)\n",
    "             memo.already_computed[arg] = result\n",
    "        return result\n",
    "    return _wrap"
   ]
  },
  {
   "cell_type": "code",
   "execution_count": 64,
   "metadata": {},
   "outputs": [],
   "source": [
    "memo.already_computed = {}"
   ]
  },
  {
   "cell_type": "code",
   "execution_count": 65,
   "metadata": {
    "scrolled": true
   },
   "outputs": [
    {
     "data": {
      "text/plain": [
       "defaultdict(int,\n",
       "            {1: 1,\n",
       "             2: 3,\n",
       "             3: 4,\n",
       "             4: 12,\n",
       "             5: 14,\n",
       "             6: 26,\n",
       "             7: 27,\n",
       "             8: 30,\n",
       "             9: 34,\n",
       "             10: 38})"
      ]
     },
     "execution_count": 65,
     "metadata": {},
     "output_type": "execute_result"
    }
   ],
   "source": [
    "price = defaultdict(int)\n",
    "\n",
    "p = []\n",
    "for i in range(10):\n",
    "    c = random.randint(1,40)\n",
    "    while c in p: \n",
    "        c = random.randint(1,40)\n",
    "    p.append(c)\n",
    "p = sorted(p)\n",
    "\n",
    "for i,j in enumerate(p):    \n",
    "    price[i+1] = j\n",
    "price"
   ]
  },
  {
   "cell_type": "code",
   "execution_count": 66,
   "metadata": {},
   "outputs": [],
   "source": [
    "@get_call_time\n",
    "@memo\n",
    "def r(n):\n",
    "    return max([price[n]] + [r(i) + r(n-i) for i in range(1,n)])"
   ]
  },
  {
   "cell_type": "code",
   "execution_count": 67,
   "metadata": {},
   "outputs": [
    {
     "data": {
      "text/plain": [
       "1054"
      ]
     },
     "execution_count": 67,
     "metadata": {},
     "output_type": "execute_result"
    }
   ],
   "source": [
    "r(245)"
   ]
  },
  {
   "cell_type": "code",
   "execution_count": 68,
   "metadata": {},
   "outputs": [
    {
     "data": {
      "text/plain": [
       "<function __main__.r>"
      ]
     },
     "execution_count": 68,
     "metadata": {},
     "output_type": "execute_result"
    }
   ],
   "source": [
    "r"
   ]
  },
  {
   "cell_type": "code",
   "execution_count": 71,
   "metadata": {},
   "outputs": [
    {
     "data": {
      "text/plain": [
       "defaultdict(int,\n",
       "            {('r', 1): 488,\n",
       "             ('r', 2): 486,\n",
       "             ('r', 3): 484,\n",
       "             ('r', 4): 482,\n",
       "             ('r', 5): 480,\n",
       "             ('r', 6): 478,\n",
       "             ('r', 7): 476,\n",
       "             ('r', 8): 474,\n",
       "             ('r', 9): 472,\n",
       "             ('r', 10): 470,\n",
       "             ('r', 11): 468,\n",
       "             ('r', 12): 466,\n",
       "             ('r', 13): 464,\n",
       "             ('r', 14): 462,\n",
       "             ('r', 15): 460,\n",
       "             ('r', 16): 458,\n",
       "             ('r', 17): 456,\n",
       "             ('r', 18): 454,\n",
       "             ('r', 19): 452,\n",
       "             ('r', 20): 450,\n",
       "             ('r', 21): 448,\n",
       "             ('r', 22): 446,\n",
       "             ('r', 23): 444,\n",
       "             ('r', 24): 442,\n",
       "             ('r', 25): 440,\n",
       "             ('r', 26): 438,\n",
       "             ('r', 27): 436,\n",
       "             ('r', 28): 434,\n",
       "             ('r', 29): 432,\n",
       "             ('r', 30): 430,\n",
       "             ('r', 31): 428,\n",
       "             ('r', 32): 426,\n",
       "             ('r', 33): 424,\n",
       "             ('r', 34): 422,\n",
       "             ('r', 35): 420,\n",
       "             ('r', 36): 418,\n",
       "             ('r', 37): 416,\n",
       "             ('r', 38): 414,\n",
       "             ('r', 39): 412,\n",
       "             ('r', 40): 410,\n",
       "             ('r', 41): 408,\n",
       "             ('r', 42): 406,\n",
       "             ('r', 43): 404,\n",
       "             ('r', 44): 402,\n",
       "             ('r', 45): 400,\n",
       "             ('r', 46): 398,\n",
       "             ('r', 47): 396,\n",
       "             ('r', 48): 394,\n",
       "             ('r', 49): 392,\n",
       "             ('r', 50): 390,\n",
       "             ('r', 51): 388,\n",
       "             ('r', 52): 386,\n",
       "             ('r', 53): 384,\n",
       "             ('r', 54): 382,\n",
       "             ('r', 55): 380,\n",
       "             ('r', 56): 378,\n",
       "             ('r', 57): 376,\n",
       "             ('r', 58): 374,\n",
       "             ('r', 59): 372,\n",
       "             ('r', 60): 370,\n",
       "             ('r', 61): 368,\n",
       "             ('r', 62): 366,\n",
       "             ('r', 63): 364,\n",
       "             ('r', 64): 362,\n",
       "             ('r', 65): 360,\n",
       "             ('r', 66): 358,\n",
       "             ('r', 67): 356,\n",
       "             ('r', 68): 354,\n",
       "             ('r', 69): 352,\n",
       "             ('r', 70): 350,\n",
       "             ('r', 71): 348,\n",
       "             ('r', 72): 346,\n",
       "             ('r', 73): 344,\n",
       "             ('r', 74): 342,\n",
       "             ('r', 75): 340,\n",
       "             ('r', 76): 338,\n",
       "             ('r', 77): 336,\n",
       "             ('r', 78): 334,\n",
       "             ('r', 79): 332,\n",
       "             ('r', 80): 330,\n",
       "             ('r', 81): 328,\n",
       "             ('r', 82): 326,\n",
       "             ('r', 83): 324,\n",
       "             ('r', 84): 322,\n",
       "             ('r', 85): 320,\n",
       "             ('r', 86): 318,\n",
       "             ('r', 87): 316,\n",
       "             ('r', 88): 314,\n",
       "             ('r', 89): 312,\n",
       "             ('r', 90): 310,\n",
       "             ('r', 91): 308,\n",
       "             ('r', 92): 306,\n",
       "             ('r', 93): 304,\n",
       "             ('r', 94): 302,\n",
       "             ('r', 95): 300,\n",
       "             ('r', 96): 298,\n",
       "             ('r', 97): 296,\n",
       "             ('r', 98): 294,\n",
       "             ('r', 99): 292,\n",
       "             ('r', 100): 290,\n",
       "             ('r', 101): 288,\n",
       "             ('r', 102): 286,\n",
       "             ('r', 103): 284,\n",
       "             ('r', 104): 282,\n",
       "             ('r', 105): 280,\n",
       "             ('r', 106): 278,\n",
       "             ('r', 107): 276,\n",
       "             ('r', 108): 274,\n",
       "             ('r', 109): 272,\n",
       "             ('r', 110): 270,\n",
       "             ('r', 111): 268,\n",
       "             ('r', 112): 266,\n",
       "             ('r', 113): 264,\n",
       "             ('r', 114): 262,\n",
       "             ('r', 115): 260,\n",
       "             ('r', 116): 258,\n",
       "             ('r', 117): 256,\n",
       "             ('r', 118): 254,\n",
       "             ('r', 119): 252,\n",
       "             ('r', 120): 250,\n",
       "             ('r', 121): 248,\n",
       "             ('r', 122): 246,\n",
       "             ('r', 123): 244,\n",
       "             ('r', 124): 242,\n",
       "             ('r', 125): 240,\n",
       "             ('r', 126): 238,\n",
       "             ('r', 127): 236,\n",
       "             ('r', 128): 234,\n",
       "             ('r', 129): 232,\n",
       "             ('r', 130): 230,\n",
       "             ('r', 131): 228,\n",
       "             ('r', 132): 226,\n",
       "             ('r', 133): 224,\n",
       "             ('r', 134): 222,\n",
       "             ('r', 135): 220,\n",
       "             ('r', 136): 218,\n",
       "             ('r', 137): 216,\n",
       "             ('r', 138): 214,\n",
       "             ('r', 139): 212,\n",
       "             ('r', 140): 210,\n",
       "             ('r', 141): 208,\n",
       "             ('r', 142): 206,\n",
       "             ('r', 143): 204,\n",
       "             ('r', 144): 202,\n",
       "             ('r', 145): 200,\n",
       "             ('r', 146): 198,\n",
       "             ('r', 147): 196,\n",
       "             ('r', 148): 194,\n",
       "             ('r', 149): 192,\n",
       "             ('r', 150): 190,\n",
       "             ('r', 151): 188,\n",
       "             ('r', 152): 186,\n",
       "             ('r', 153): 184,\n",
       "             ('r', 154): 182,\n",
       "             ('r', 155): 180,\n",
       "             ('r', 156): 178,\n",
       "             ('r', 157): 176,\n",
       "             ('r', 158): 174,\n",
       "             ('r', 159): 172,\n",
       "             ('r', 160): 170,\n",
       "             ('r', 161): 168,\n",
       "             ('r', 162): 166,\n",
       "             ('r', 163): 164,\n",
       "             ('r', 164): 162,\n",
       "             ('r', 165): 160,\n",
       "             ('r', 166): 158,\n",
       "             ('r', 167): 156,\n",
       "             ('r', 168): 154,\n",
       "             ('r', 169): 152,\n",
       "             ('r', 170): 150,\n",
       "             ('r', 171): 148,\n",
       "             ('r', 172): 146,\n",
       "             ('r', 173): 144,\n",
       "             ('r', 174): 142,\n",
       "             ('r', 175): 140,\n",
       "             ('r', 176): 138,\n",
       "             ('r', 177): 136,\n",
       "             ('r', 178): 134,\n",
       "             ('r', 179): 132,\n",
       "             ('r', 180): 130,\n",
       "             ('r', 181): 128,\n",
       "             ('r', 182): 126,\n",
       "             ('r', 183): 124,\n",
       "             ('r', 184): 122,\n",
       "             ('r', 185): 120,\n",
       "             ('r', 186): 118,\n",
       "             ('r', 187): 116,\n",
       "             ('r', 188): 114,\n",
       "             ('r', 189): 112,\n",
       "             ('r', 190): 110,\n",
       "             ('r', 191): 108,\n",
       "             ('r', 192): 106,\n",
       "             ('r', 193): 104,\n",
       "             ('r', 194): 102,\n",
       "             ('r', 195): 100,\n",
       "             ('r', 196): 98,\n",
       "             ('r', 197): 96,\n",
       "             ('r', 198): 94,\n",
       "             ('r', 199): 92,\n",
       "             ('r', 200): 90,\n",
       "             ('r', 201): 88,\n",
       "             ('r', 202): 86,\n",
       "             ('r', 203): 84,\n",
       "             ('r', 204): 82,\n",
       "             ('r', 205): 80,\n",
       "             ('r', 206): 78,\n",
       "             ('r', 207): 76,\n",
       "             ('r', 208): 74,\n",
       "             ('r', 209): 72,\n",
       "             ('r', 210): 70,\n",
       "             ('r', 211): 68,\n",
       "             ('r', 212): 66,\n",
       "             ('r', 213): 64,\n",
       "             ('r', 214): 62,\n",
       "             ('r', 215): 60,\n",
       "             ('r', 216): 58,\n",
       "             ('r', 217): 56,\n",
       "             ('r', 218): 54,\n",
       "             ('r', 219): 52,\n",
       "             ('r', 220): 50,\n",
       "             ('r', 221): 48,\n",
       "             ('r', 222): 46,\n",
       "             ('r', 223): 44,\n",
       "             ('r', 224): 42,\n",
       "             ('r', 225): 40,\n",
       "             ('r', 226): 38,\n",
       "             ('r', 227): 36,\n",
       "             ('r', 228): 34,\n",
       "             ('r', 229): 32,\n",
       "             ('r', 230): 30,\n",
       "             ('r', 231): 28,\n",
       "             ('r', 232): 26,\n",
       "             ('r', 233): 24,\n",
       "             ('r', 234): 22,\n",
       "             ('r', 235): 20,\n",
       "             ('r', 236): 18,\n",
       "             ('r', 237): 16,\n",
       "             ('r', 238): 14,\n",
       "             ('r', 239): 12,\n",
       "             ('r', 240): 10,\n",
       "             ('r', 241): 8,\n",
       "             ('r', 242): 6,\n",
       "             ('r', 243): 4,\n",
       "             ('r', 244): 2,\n",
       "             ('r', 245): 1})"
      ]
     },
     "execution_count": 71,
     "metadata": {},
     "output_type": "execute_result"
    }
   ],
   "source": [
    "called_time_with_arg"
   ]
  },
  {
   "cell_type": "raw",
   "metadata": {},
   "source": [
    "for arg in called_time_with_arg:\n",
    "    print(arg,':',called_time_with_arg[arg])"
   ]
  },
  {
   "cell_type": "code",
   "execution_count": 74,
   "metadata": {},
   "outputs": [],
   "source": [
    "memo.already_computed = {}"
   ]
  },
  {
   "cell_type": "code",
   "execution_count": 76,
   "metadata": {},
   "outputs": [],
   "source": [
    "solution = {}\n",
    "\n",
    "@memo\n",
    "def r(n):\n",
    "    \"\"\"\n",
    "    Args: n is the iron length\n",
    "    Return: the max revenue\n",
    "    \"\"\"\n",
    "    max_price, max_split = max(\n",
    "        [(price[n],0)] + [(r(i) + r(n-i), i) for i in range(1,n)],key = lambda x:x[0]\n",
    "        )\n",
    "    solution[n] = (n - max_split, max_split)\n",
    "    return max_price"
   ]
  },
  {
   "cell_type": "code",
   "execution_count": 77,
   "metadata": {},
   "outputs": [
    {
     "data": {
      "text/plain": [
       "160"
      ]
     },
     "execution_count": 77,
     "metadata": {},
     "output_type": "execute_result"
    }
   ],
   "source": [
    "r(38)"
   ]
  },
  {
   "cell_type": "code",
   "execution_count": 78,
   "metadata": {},
   "outputs": [
    {
     "data": {
      "text/plain": [
       "{1: (1, 0),\n",
       " 2: (2, 0),\n",
       " 3: (3, 0),\n",
       " 4: (4, 0),\n",
       " 5: (5, 0),\n",
       " 6: (6, 0),\n",
       " 7: (7, 0),\n",
       " 8: (8, 0),\n",
       " 9: (9, 0),\n",
       " 10: (10, 0),\n",
       " 11: (6, 5),\n",
       " 12: (6, 6),\n",
       " 13: (12, 1),\n",
       " 14: (8, 6),\n",
       " 15: (9, 6),\n",
       " 16: (12, 4),\n",
       " 17: (12, 5),\n",
       " 18: (12, 6),\n",
       " 19: (18, 1),\n",
       " 20: (14, 6),\n",
       " 21: (15, 6),\n",
       " 22: (18, 4),\n",
       " 23: (18, 5),\n",
       " 24: (18, 6),\n",
       " 25: (24, 1),\n",
       " 26: (20, 6),\n",
       " 27: (21, 6),\n",
       " 28: (24, 4),\n",
       " 29: (24, 5),\n",
       " 30: (24, 6),\n",
       " 31: (30, 1),\n",
       " 32: (26, 6),\n",
       " 33: (27, 6),\n",
       " 34: (30, 4),\n",
       " 35: (30, 5),\n",
       " 36: (30, 6),\n",
       " 37: (36, 1),\n",
       " 38: (32, 6)}"
      ]
     },
     "execution_count": 78,
     "metadata": {},
     "output_type": "execute_result"
    }
   ],
   "source": [
    "solution"
   ]
  },
  {
   "cell_type": "code",
   "execution_count": null,
   "metadata": {},
   "outputs": [],
   "source": [
    "\n"
   ]
  },
  {
   "cell_type": "code",
   "execution_count": null,
   "metadata": {},
   "outputs": [],
   "source": []
  }
 ],
 "metadata": {
  "kernelspec": {
   "display_name": "Python 3",
   "language": "python",
   "name": "python3"
  },
  "language_info": {
   "codemirror_mode": {
    "name": "ipython",
    "version": 3
   },
   "file_extension": ".py",
   "mimetype": "text/x-python",
   "name": "python",
   "nbconvert_exporter": "python",
   "pygments_lexer": "ipython3",
   "version": "3.6.4"
  }
 },
 "nbformat": 4,
 "nbformat_minor": 2
}
