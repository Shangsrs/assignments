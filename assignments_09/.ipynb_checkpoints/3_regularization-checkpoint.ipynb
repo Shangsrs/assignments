{
 "cells": [
  {
   "cell_type": "markdown",
   "metadata": {
    "colab_type": "text",
    "id": "kR-4eNdK6lYS"
   },
   "source": [
    "Deep Learning\n",
    "=============\n",
    "\n",
    "Assignment 3\n",
    "------------\n",
    "\n",
    "Previously in `2_fullyconnected.ipynb`, you trained a logistic regression and a neural network model.\n",
    "\n",
    "The goal of this assignment is to explore regularization techniques."
   ]
  },
  {
   "cell_type": "code",
   "execution_count": 1,
   "metadata": {
    "cellView": "both",
    "colab": {
     "autoexec": {
      "startup": false,
      "wait_interval": 0
     }
    },
    "colab_type": "code",
    "id": "JLpLa8Jt7Vu4",
    "scrolled": true
   },
   "outputs": [
    {
     "name": "stderr",
     "output_type": "stream",
     "text": [
      "D:\\ProgramData\\Anaconda3\\lib\\site-packages\\tensorflow\\python\\framework\\dtypes.py:516: FutureWarning: Passing (type, 1) or '1type' as a synonym of type is deprecated; in a future version of numpy, it will be understood as (type, (1,)) / '(1,)type'.\n",
      "  _np_qint8 = np.dtype([(\"qint8\", np.int8, 1)])\n",
      "D:\\ProgramData\\Anaconda3\\lib\\site-packages\\tensorflow\\python\\framework\\dtypes.py:517: FutureWarning: Passing (type, 1) or '1type' as a synonym of type is deprecated; in a future version of numpy, it will be understood as (type, (1,)) / '(1,)type'.\n",
      "  _np_quint8 = np.dtype([(\"quint8\", np.uint8, 1)])\n",
      "D:\\ProgramData\\Anaconda3\\lib\\site-packages\\tensorflow\\python\\framework\\dtypes.py:518: FutureWarning: Passing (type, 1) or '1type' as a synonym of type is deprecated; in a future version of numpy, it will be understood as (type, (1,)) / '(1,)type'.\n",
      "  _np_qint16 = np.dtype([(\"qint16\", np.int16, 1)])\n",
      "D:\\ProgramData\\Anaconda3\\lib\\site-packages\\tensorflow\\python\\framework\\dtypes.py:519: FutureWarning: Passing (type, 1) or '1type' as a synonym of type is deprecated; in a future version of numpy, it will be understood as (type, (1,)) / '(1,)type'.\n",
      "  _np_quint16 = np.dtype([(\"quint16\", np.uint16, 1)])\n",
      "D:\\ProgramData\\Anaconda3\\lib\\site-packages\\tensorflow\\python\\framework\\dtypes.py:520: FutureWarning: Passing (type, 1) or '1type' as a synonym of type is deprecated; in a future version of numpy, it will be understood as (type, (1,)) / '(1,)type'.\n",
      "  _np_qint32 = np.dtype([(\"qint32\", np.int32, 1)])\n",
      "D:\\ProgramData\\Anaconda3\\lib\\site-packages\\tensorflow\\python\\framework\\dtypes.py:525: FutureWarning: Passing (type, 1) or '1type' as a synonym of type is deprecated; in a future version of numpy, it will be understood as (type, (1,)) / '(1,)type'.\n",
      "  np_resource = np.dtype([(\"resource\", np.ubyte, 1)])\n",
      "D:\\ProgramData\\Anaconda3\\lib\\site-packages\\h5py\\__init__.py:36: FutureWarning: Conversion of the second argument of issubdtype from `float` to `np.floating` is deprecated. In future, it will be treated as `np.float64 == np.dtype(float).type`.\n",
      "  from ._conv import register_converters as _register_converters\n",
      "D:\\ProgramData\\Anaconda3\\lib\\site-packages\\tensorboard\\compat\\tensorflow_stub\\dtypes.py:541: FutureWarning: Passing (type, 1) or '1type' as a synonym of type is deprecated; in a future version of numpy, it will be understood as (type, (1,)) / '(1,)type'.\n",
      "  _np_qint8 = np.dtype([(\"qint8\", np.int8, 1)])\n",
      "D:\\ProgramData\\Anaconda3\\lib\\site-packages\\tensorboard\\compat\\tensorflow_stub\\dtypes.py:542: FutureWarning: Passing (type, 1) or '1type' as a synonym of type is deprecated; in a future version of numpy, it will be understood as (type, (1,)) / '(1,)type'.\n",
      "  _np_quint8 = np.dtype([(\"quint8\", np.uint8, 1)])\n",
      "D:\\ProgramData\\Anaconda3\\lib\\site-packages\\tensorboard\\compat\\tensorflow_stub\\dtypes.py:543: FutureWarning: Passing (type, 1) or '1type' as a synonym of type is deprecated; in a future version of numpy, it will be understood as (type, (1,)) / '(1,)type'.\n",
      "  _np_qint16 = np.dtype([(\"qint16\", np.int16, 1)])\n",
      "D:\\ProgramData\\Anaconda3\\lib\\site-packages\\tensorboard\\compat\\tensorflow_stub\\dtypes.py:544: FutureWarning: Passing (type, 1) or '1type' as a synonym of type is deprecated; in a future version of numpy, it will be understood as (type, (1,)) / '(1,)type'.\n",
      "  _np_quint16 = np.dtype([(\"quint16\", np.uint16, 1)])\n",
      "D:\\ProgramData\\Anaconda3\\lib\\site-packages\\tensorboard\\compat\\tensorflow_stub\\dtypes.py:545: FutureWarning: Passing (type, 1) or '1type' as a synonym of type is deprecated; in a future version of numpy, it will be understood as (type, (1,)) / '(1,)type'.\n",
      "  _np_qint32 = np.dtype([(\"qint32\", np.int32, 1)])\n",
      "D:\\ProgramData\\Anaconda3\\lib\\site-packages\\tensorboard\\compat\\tensorflow_stub\\dtypes.py:550: FutureWarning: Passing (type, 1) or '1type' as a synonym of type is deprecated; in a future version of numpy, it will be understood as (type, (1,)) / '(1,)type'.\n",
      "  np_resource = np.dtype([(\"resource\", np.ubyte, 1)])\n"
     ]
    }
   ],
   "source": [
    "# These are all the modules we'll be using later. Make sure you can import them\n",
    "# before proceeding further.\n",
    "from __future__ import print_function\n",
    "import numpy as np\n",
    "import tensorflow as tf\n",
    "from six.moves import cPickle as pickle"
   ]
  },
  {
   "cell_type": "markdown",
   "metadata": {
    "colab_type": "text",
    "id": "1HrCK6e17WzV"
   },
   "source": [
    "First reload the data we generated in `1_notmnist.ipynb`."
   ]
  },
  {
   "cell_type": "code",
   "execution_count": 5,
   "metadata": {
    "cellView": "both",
    "colab": {
     "autoexec": {
      "startup": false,
      "wait_interval": 0
     },
     "output_extras": [
      {
       "item_id": 1
      }
     ]
    },
    "colab_type": "code",
    "executionInfo": {
     "elapsed": 11777,
     "status": "ok",
     "timestamp": 1449849322348,
     "user": {
      "color": "",
      "displayName": "",
      "isAnonymous": false,
      "isMe": true,
      "permissionId": "",
      "photoUrl": "",
      "sessionId": "0",
      "userId": ""
     },
     "user_tz": 480
    },
    "id": "y3-cj1bpmuxc",
    "outputId": "e03576f1-ebbe-4838-c388-f1777bcc9873"
   },
   "outputs": [
    {
     "name": "stdout",
     "output_type": "stream",
     "text": [
      "Training set (200000, 28, 28) (200000,)\n",
      "Validation set (10000, 28, 28) (10000,)\n",
      "Test set (10000, 28, 28) (10000,)\n"
     ]
    }
   ],
   "source": [
    "pickle_file = 'D:\\\\python\\\\datasource\\\\Lession_09\\\\notMNIST.pickle'\n",
    "\n",
    "with open(pickle_file, 'rb') as f:\n",
    "  save = pickle.load(f)\n",
    "  train_dataset = save['train_dataset']\n",
    "  train_labels = save['train_labels']\n",
    "  valid_dataset = save['valid_dataset']\n",
    "  valid_labels = save['valid_labels']\n",
    "  test_dataset = save['test_dataset']\n",
    "  test_labels = save['test_labels']\n",
    "  del save  # hint to help gc free up memory\n",
    "  print('Training set', train_dataset.shape, train_labels.shape)\n",
    "  print('Validation set', valid_dataset.shape, valid_labels.shape)\n",
    "  print('Test set', test_dataset.shape, test_labels.shape)"
   ]
  },
  {
   "cell_type": "markdown",
   "metadata": {
    "colab_type": "text",
    "id": "L7aHrm6nGDMB"
   },
   "source": [
    "Reformat into a shape that's more adapted to the models we're going to train:\n",
    "- data as a flat matrix,\n",
    "- labels as float 1-hot encodings."
   ]
  },
  {
   "cell_type": "code",
   "execution_count": 6,
   "metadata": {
    "cellView": "both",
    "colab": {
     "autoexec": {
      "startup": false,
      "wait_interval": 0
     },
     "output_extras": [
      {
       "item_id": 1
      }
     ]
    },
    "colab_type": "code",
    "executionInfo": {
     "elapsed": 11728,
     "status": "ok",
     "timestamp": 1449849322356,
     "user": {
      "color": "",
      "displayName": "",
      "isAnonymous": false,
      "isMe": true,
      "permissionId": "",
      "photoUrl": "",
      "sessionId": "0",
      "userId": ""
     },
     "user_tz": 480
    },
    "id": "IRSyYiIIGIzS",
    "outputId": "3f8996ee-3574-4f44-c953-5c8a04636582"
   },
   "outputs": [
    {
     "name": "stdout",
     "output_type": "stream",
     "text": [
      "Training set (200000, 784) (200000, 10)\n",
      "Validation set (10000, 784) (10000, 10)\n",
      "Test set (10000, 784) (10000, 10)\n"
     ]
    }
   ],
   "source": [
    "image_size = 28\n",
    "num_labels = 10\n",
    "\n",
    "def reformat(dataset, labels):\n",
    "  dataset = dataset.reshape((-1, image_size * image_size)).astype(np.float32)\n",
    "  # Map 1 to [0.0, 1.0, 0.0 ...], 2 to [0.0, 0.0, 1.0 ...]\n",
    "  labels = (np.arange(num_labels) == labels[:,None]).astype(np.float32)\n",
    "  return dataset, labels\n",
    "train_dataset, train_labels = reformat(train_dataset, train_labels)\n",
    "valid_dataset, valid_labels = reformat(valid_dataset, valid_labels)\n",
    "test_dataset, test_labels = reformat(test_dataset, test_labels)\n",
    "print('Training set', train_dataset.shape, train_labels.shape)\n",
    "print('Validation set', valid_dataset.shape, valid_labels.shape)\n",
    "print('Test set', test_dataset.shape, test_labels.shape)"
   ]
  },
  {
   "cell_type": "code",
   "execution_count": 7,
   "metadata": {
    "cellView": "both",
    "colab": {
     "autoexec": {
      "startup": false,
      "wait_interval": 0
     }
    },
    "colab_type": "code",
    "id": "RajPLaL_ZW6w"
   },
   "outputs": [],
   "source": [
    "def accuracy(predictions, labels):\n",
    "  return (100.0 * np.sum(np.argmax(predictions, 1) == np.argmax(labels, 1))\n",
    "          / predictions.shape[0])"
   ]
  },
  {
   "cell_type": "markdown",
   "metadata": {
    "colab_type": "text",
    "id": "sgLbUAQ1CW-1"
   },
   "source": [
    "---\n",
    "Problem 1\n",
    "---------\n",
    "\n",
    "Introduce and tune L2 regularization for both logistic and neural network models. Remember that L2 amounts to adding a penalty on the norm of the weights to the loss. In TensorFlow, you can compute the L2 loss for a tensor `t` using `nn.l2_loss(t)`. The right amount of regularization should improve your validation / test accuracy.\n",
    "\n",
    "---"
   ]
  },
  {
   "cell_type": "markdown",
   "metadata": {},
   "source": [
    "#### Logistic"
   ]
  },
  {
   "cell_type": "code",
   "execution_count": 62,
   "metadata": {},
   "outputs": [],
   "source": [
    "batch_size = 128\n",
    "\n",
    "graph = tf.Graph()\n",
    "with graph.as_default():\n",
    "\n",
    "  # Input data. For the training data, we use a placeholder that will be fed\n",
    "  # at run time with a training minibatch.\n",
    "  tf_train_dataset = tf.placeholder(tf.float32,\n",
    "                                    shape=(batch_size, image_size * image_size))\n",
    "  tf_train_labels = tf.placeholder(tf.float32, shape=(batch_size, num_labels))\n",
    "  tf_valid_dataset = tf.constant(valid_dataset)\n",
    "  tf_test_dataset = tf.constant(test_dataset)\n",
    "  \n",
    "  # Variables.\n",
    "  weights = tf.Variable(\n",
    "    tf.truncated_normal([image_size * image_size, num_labels]))\n",
    "  biases = tf.Variable(tf.zeros([num_labels]))\n",
    "  \n",
    "  # Training computation.\n",
    "  logits = tf.matmul(tf_train_dataset, weights) + biases\n",
    "  loss_pre = tf.reduce_mean(\n",
    "    tf.nn.softmax_cross_entropy_with_logits(labels=tf_train_labels, logits=logits) )\n",
    "  \n",
    "  loss = loss_pre +  tf.nn.l2_loss(loss_pre)\n",
    "  # Optimizer.\n",
    "  optimizer = tf.train.GradientDescentOptimizer(0.5).minimize(loss)\n",
    "  \n",
    "  # Predictions for the training, validation, and test data.\n",
    "  train_prediction = tf.nn.softmax(logits)\n",
    "  valid_prediction = tf.nn.softmax(\n",
    "    tf.matmul(tf_valid_dataset, weights) + biases)\n",
    "  test_prediction = tf.nn.softmax(tf.matmul(tf_test_dataset, weights) + biases)"
   ]
  },
  {
   "cell_type": "code",
   "execution_count": 63,
   "metadata": {},
   "outputs": [
    {
     "name": "stdout",
     "output_type": "stream",
     "text": [
      "Initialized\n",
      "Minibatch loss at step 0: 220.994385\n",
      "Minibatch accuracy: 14.8%\n",
      "Validation accuracy: 34.3%\n",
      "Minibatch loss at step 500: 7.610212\n",
      "Minibatch accuracy: 82.0%\n",
      "Validation accuracy: 78.6%\n",
      "Minibatch loss at step 1000: 8.154613\n",
      "Minibatch accuracy: 79.7%\n",
      "Validation accuracy: 77.9%\n",
      "Minibatch loss at step 1500: 2.031190\n",
      "Minibatch accuracy: 84.4%\n",
      "Validation accuracy: 78.4%\n",
      "Minibatch loss at step 2000: 1.906513\n",
      "Minibatch accuracy: 82.0%\n",
      "Validation accuracy: 77.4%\n",
      "Minibatch loss at step 2500: 1.514437\n",
      "Minibatch accuracy: 77.3%\n",
      "Validation accuracy: 78.7%\n",
      "Minibatch loss at step 3000: 2.210054\n",
      "Minibatch accuracy: 76.6%\n",
      "Validation accuracy: 78.8%\n",
      "Test accuracy: 85.7%\n"
     ]
    }
   ],
   "source": [
    "num_steps = 3001\n",
    "\n",
    "with tf.Session(graph=graph) as session:\n",
    "  tf.global_variables_initializer().run()\n",
    "  print(\"Initialized\")\n",
    "  for step in range(num_steps):\n",
    "    # Pick an offset within the training data, which has been randomized.\n",
    "    # Note: we could use better randomization across epochs.\n",
    "    offset = (step * batch_size) % (train_labels.shape[0] - batch_size)\n",
    "    # Generate a minibatch.\n",
    "    batch_data = train_dataset[offset:(offset + batch_size), :]\n",
    "    batch_labels = train_labels[offset:(offset + batch_size), :]\n",
    "    # Prepare a dictionary telling the session where to feed the minibatch.\n",
    "    # The key of the dictionary is the placeholder node of the graph to be fed,\n",
    "    # and the value is the numpy array to feed to it.\n",
    "    feed_dict = {tf_train_dataset : batch_data, tf_train_labels : batch_labels}\n",
    "    _, l, predictions = session.run(\n",
    "      [optimizer, loss, train_prediction], feed_dict=feed_dict)\n",
    "    if (step % 500 == 0):\n",
    "      print(\"Minibatch loss at step %d: %f\" % (step, l))\n",
    "      print(\"Minibatch accuracy: %.1f%%\" % accuracy(predictions, batch_labels))\n",
    "      print(\"Validation accuracy: %.1f%%\" % accuracy(\n",
    "        valid_prediction.eval(), valid_labels))\n",
    "  print(\"Test accuracy: %.1f%%\" % accuracy(test_prediction.eval(), test_labels))\n",
    "  session.close()"
   ]
  },
  {
   "cell_type": "markdown",
   "metadata": {},
   "source": [
    "#### Neural Network"
   ]
  },
  {
   "cell_type": "code",
   "execution_count": 55,
   "metadata": {},
   "outputs": [],
   "source": [
    "import random\n",
    "import time"
   ]
  },
  {
   "cell_type": "code",
   "execution_count": 66,
   "metadata": {},
   "outputs": [],
   "source": [
    "tf.nn.softmax_cross_entropy_with_logits?"
   ]
  },
  {
   "cell_type": "code",
   "execution_count": 94,
   "metadata": {
    "scrolled": true
   },
   "outputs": [
    {
     "name": "stdout",
     "output_type": "stream",
     "text": [
      "Minibatch loss at step 0: 46274.878906\n",
      "Minibatch accuracy: 10.2%\n",
      "Minibatch loss at step 500: 639474048.000000\n",
      "Minibatch accuracy: 80.5%\n",
      "Minibatch loss at step 1000: 324217888.000000\n",
      "Minibatch accuracy: 78.1%\n",
      "Minibatch loss at step 1500: 21079476.000000\n",
      "Minibatch accuracy: 81.2%\n",
      "Minibatch loss at step 2000: 14936960.000000\n",
      "Minibatch accuracy: 87.5%\n",
      "Minibatch loss at step 2500: 17980528.000000\n",
      "Minibatch accuracy: 78.1%\n",
      "Minibatch loss at step 3000: 15759144.000000\n",
      "Minibatch accuracy: 71.1%\n",
      "Minibatch loss at step 3500: 9738572.000000\n",
      "Minibatch accuracy: 76.6%\n",
      "Minibatch loss at step 4000: 14954019.000000\n",
      "Minibatch accuracy: 81.2%\n",
      "Test accuracy: 84.9%\n",
      "time:  33.00663103543593\n"
     ]
    }
   ],
   "source": [
    "batch_size = 128\n",
    "hidden_nodes = 1024\n",
    "#Graph define\n",
    "graph = tf.Graph()\n",
    "with graph.as_default():\n",
    "    #Input Data placeholder\n",
    "    tf_dataset = tf.placeholder(dtype=tf.float32, shape=[None, image_size*image_size])\n",
    "    tf_labels = tf.placeholder(dtype=tf.float32, shape=[None, num_labels])    \n",
    "    #Hidden layer\n",
    "    tf_hidden_weights = tf.Variable(tf.truncated_normal(dtype=tf.float32, shape=[image_size*image_size, hidden_nodes]))\n",
    "    tf_hidden_bias = tf.Variable(tf.zeros(dtype=tf.float32, shape=[hidden_nodes]))\n",
    "    tf_hidden_in = tf.matmul(tf_dataset, tf_hidden_weights) + tf_hidden_bias\n",
    "    tf_hidden_out =tf.nn.relu(tf_hidden_in)\n",
    "    #Outpu layer\n",
    "    tf_out_weights = tf.Variable(tf.truncated_normal(dtype=tf.float32, shape=[hidden_nodes, num_labels]))\n",
    "    tf_out_bias = tf.Variable(tf.zeros(dtype=tf.float32, shape=[num_labels]))\n",
    "    tf_out_in = tf.matmul(tf_hidden_out, tf_out_weights) + tf_out_bias \n",
    "    #Loss, Optimizer and Predictin\n",
    "    loss_pre = tf.reduce_mean(tf.nn.softmax_cross_entropy_with_logits(labels=tf_labels, logits=tf_out_in))\n",
    "    loss = loss_pre + tf.nn.l2_loss(loss_pre)\n",
    "    optimizer = tf.train.AdagradOptimizer(10).minimize(loss)    \n",
    "    prediction = tf.nn.softmax(tf_out_in)      \n",
    "    \n",
    "#Train and Test\n",
    "t1 = time.clock()\n",
    "num_steps = 4001\n",
    "train_data_length = len(train_dataset)\n",
    "with tf.Session(graph = graph) as session:\n",
    "    tf.global_variables_initializer().run()\n",
    "    for step in range(num_steps):\n",
    "#         index = random.choices(range(train_data_length), k=batch_size)           \n",
    "#         batch_data = [train_dataset[i] for i in index]\n",
    "#         batch_labels = [train_labels[i] for i in index]\n",
    "        #Train Data\n",
    "        offset = (step * batch_size) % (train_labels.shape[0] - batch_size)    \n",
    "        batch_data = train_dataset[offset:(offset + batch_size), :]\n",
    "        batch_labels = train_labels[offset:(offset + batch_size), :]\n",
    "        \n",
    "        train_feed = {tf_dataset : batch_data, tf_labels : batch_labels}\n",
    "        #Train\n",
    "        _, train_loss, train_predictions = session.run([optimizer, loss, prediction], feed_dict = train_feed)\n",
    "        if step%500 == 0:           \n",
    "            print(\"Minibatch loss at step %d: %f\" % (step, train_loss))            \n",
    "            print(\"Minibatch accuracy: %.1f%%\" % accuracy(train_predictions, batch_labels))\n",
    "            #Valid\n",
    "#             valid_feed = {tf_dataset : valid_dataset, tf_labels : valid_labels}\n",
    "#             valid_predictions = session.run(prediction, feed_dict = valid_feed)            \n",
    "#             print(\"Validation accuracy: %.1f%%\" % accuracy(valid_predictions, valid_labels))\n",
    "    #Test\n",
    "    test_feed = {tf_dataset : test_dataset, tf_labels : test_labels}\n",
    "    test_predictions = session.run(prediction, feed_dict = test_feed)\n",
    "    print(\"Test accuracy: %.1f%%\" % accuracy(test_predictions, test_labels))\n",
    "t2 = time.clock()\n",
    "print('time: ', str(t2-t1))"
   ]
  },
  {
   "cell_type": "markdown",
   "metadata": {
    "colab_type": "text",
    "id": "na8xX2yHZzNF"
   },
   "source": [
    "---\n",
    "Problem 2\n",
    "---------\n",
    "Let's demonstrate an extreme case of overfitting. Restrict your training data to just a few batches. What happens?\n",
    "\n",
    "---"
   ]
  },
  {
   "cell_type": "code",
   "execution_count": 97,
   "metadata": {
    "scrolled": false
   },
   "outputs": [
    {
     "name": "stdout",
     "output_type": "stream",
     "text": [
      "Minibatch loss at step 0: 42003.347656\n",
      "Minibatch accuracy: 10.9%\n",
      "Validation accuracy: 17.7%\n",
      "Minibatch loss at step 500: 231895312.000000\n",
      "Minibatch accuracy: 88.3%\n",
      "Validation accuracy: 64.2%\n",
      "Minibatch loss at step 1000: 104798976.000000\n",
      "Minibatch accuracy: 89.1%\n",
      "Validation accuracy: 65.1%\n",
      "Minibatch loss at step 1500: 61746216.000000\n",
      "Minibatch accuracy: 91.4%\n",
      "Validation accuracy: 65.8%\n",
      "Minibatch loss at step 2000: 41005012.000000\n",
      "Minibatch accuracy: 91.4%\n",
      "Validation accuracy: 65.8%\n",
      "Minibatch loss at step 2500: 28767552.000000\n",
      "Minibatch accuracy: 93.0%\n",
      "Validation accuracy: 65.8%\n",
      "Minibatch loss at step 3000: 20901426.000000\n",
      "Minibatch accuracy: 92.2%\n",
      "Validation accuracy: 65.8%\n",
      "Minibatch loss at step 3500: 15767896.000000\n",
      "Minibatch accuracy: 92.2%\n",
      "Validation accuracy: 65.7%\n",
      "Minibatch loss at step 4000: 12168133.000000\n",
      "Minibatch accuracy: 92.2%\n",
      "Validation accuracy: 65.7%\n",
      "Test accuracy: 72.9%\n",
      "time:  31.534892691492132\n"
     ]
    }
   ],
   "source": [
    "batch_size = 128\n",
    "hidden_nodes = 1024\n",
    "#Graph define\n",
    "graph = tf.Graph()\n",
    "with graph.as_default():\n",
    "    #Input Data placeholder\n",
    "    tf_dataset = tf.placeholder(dtype=tf.float32, shape=[None, image_size*image_size])\n",
    "    tf_labels = tf.placeholder(dtype=tf.float32, shape=[None, num_labels])    \n",
    "    #Hidden layer\n",
    "    tf_hidden_weights = tf.Variable(tf.truncated_normal(dtype=tf.float32, shape=[image_size*image_size, hidden_nodes]))\n",
    "    tf_hidden_bias = tf.Variable(tf.zeros(dtype=tf.float32, shape=[hidden_nodes]))\n",
    "    tf_hidden_in = tf.matmul(tf_dataset, tf_hidden_weights) + tf_hidden_bias\n",
    "    tf_hidden_out =tf.nn.relu(tf_hidden_in)\n",
    "    #Outpu layer\n",
    "    tf_out_weights = tf.Variable(tf.truncated_normal(dtype=tf.float32, shape=[hidden_nodes, num_labels]))\n",
    "    tf_out_bias = tf.Variable(tf.zeros(dtype=tf.float32, shape=[num_labels]))\n",
    "    tf_out_in = tf.matmul(tf_hidden_out, tf_out_weights) + tf_out_bias \n",
    "    #Loss, Optimizer and Predictin\n",
    "    loss_pre = tf.reduce_mean(tf.nn.softmax_cross_entropy_with_logits(labels=tf_labels, logits=tf_out_in))\n",
    "    loss = loss_pre + tf.nn.l2_loss(loss_pre)\n",
    "    optimizer = tf.train.AdagradOptimizer(10).minimize(loss)    \n",
    "    prediction = tf.nn.softmax(tf_out_in)      \n",
    "    \n",
    "#Train and Test\n",
    "t1 = time.clock()\n",
    "num_steps = 4001\n",
    "train_data_length = len(train_dataset)\n",
    "with tf.Session(graph = graph) as session:\n",
    "    tf.global_variables_initializer().run()\n",
    "    for step in range(num_steps):\n",
    "#         index = random.choices(range(train_data_length), k=batch_size)           \n",
    "#         batch_data = [train_dataset[i] for i in index]\n",
    "#         batch_labels = [train_labels[i] for i in index]\n",
    "        #Train Data\n",
    "        offset = (step * batch_size) % (10 * batch_size)    \n",
    "        batch_data = train_dataset[offset:(offset + batch_size), :]\n",
    "        batch_labels = train_labels[offset:(offset + batch_size), :]\n",
    "        \n",
    "        train_feed = {tf_dataset : batch_data, tf_labels : batch_labels}\n",
    "        #Train\n",
    "        _, train_loss, train_predictions = session.run([optimizer, loss, prediction], feed_dict = train_feed)\n",
    "        if step%500 == 0:           \n",
    "            print(\"Minibatch loss at step %d: %f\" % (step, train_loss))            \n",
    "            print(\"Minibatch accuracy: %.1f%%\" % accuracy(train_predictions, batch_labels))\n",
    "            #Valid\n",
    "            valid_feed = {tf_dataset : valid_dataset, tf_labels : valid_labels}\n",
    "            valid_predictions = session.run(prediction, feed_dict = valid_feed)            \n",
    "            print(\"Validation accuracy: %.1f%%\" % accuracy(valid_predictions, valid_labels))\n",
    "    #Test\n",
    "    test_feed = {tf_dataset : test_dataset, tf_labels : test_labels}\n",
    "    test_predictions = session.run(prediction, feed_dict = test_feed)\n",
    "    print(\"Test accuracy: %.1f%%\" % accuracy(test_predictions, test_labels))\n",
    "t2 = time.clock()\n",
    "print('time: ', str(t2-t1))"
   ]
  },
  {
   "cell_type": "markdown",
   "metadata": {},
   "source": [
    " 会使得训练集准确率提高，但验证集合测试集准确率低"
   ]
  },
  {
   "cell_type": "markdown",
   "metadata": {
    "colab_type": "text",
    "id": "ww3SCBUdlkRc"
   },
   "source": [
    "---\n",
    "Problem 3\n",
    "---------\n",
    "Introduce Dropout on the hidden layer of the neural network. Remember: Dropout should only be introduced during training, not evaluation, otherwise your evaluation results would be stochastic as well. TensorFlow provides `nn.dropout()` for that, but you have to make sure it's only inserted during training.\n",
    "\n",
    "What happens to our extreme overfitting case?\n",
    "\n",
    "---"
   ]
  },
  {
   "cell_type": "code",
   "execution_count": 95,
   "metadata": {
    "scrolled": true
   },
   "outputs": [
    {
     "name": "stdout",
     "output_type": "stream",
     "text": [
      "Minibatch loss at step 0: 178490.046875\n",
      "Minibatch accuracy: 12.5%\n",
      "Minibatch loss at step 500: 1248370176.000000\n",
      "Minibatch accuracy: 78.9%\n",
      "Minibatch loss at step 1000: 661737536.000000\n",
      "Minibatch accuracy: 76.6%\n",
      "Minibatch loss at step 1500: 707554496.000000\n",
      "Minibatch accuracy: 77.3%\n",
      "Minibatch loss at step 2000: 699726336.000000\n",
      "Minibatch accuracy: 78.9%\n",
      "Minibatch loss at step 2500: 276453088.000000\n",
      "Minibatch accuracy: 71.9%\n",
      "Minibatch loss at step 3000: 230532704.000000\n",
      "Minibatch accuracy: 76.6%\n",
      "Minibatch loss at step 3500: 272643648.000000\n",
      "Minibatch accuracy: 80.5%\n",
      "Minibatch loss at step 4000: 395235424.000000\n",
      "Minibatch accuracy: 82.0%\n",
      "Test accuracy: 90.2%\n",
      "time:  33.78175785302665\n"
     ]
    }
   ],
   "source": [
    "batch_size = 128\n",
    "hidden_nodes = 1024\n",
    "#Graph define\n",
    "graph = tf.Graph()\n",
    "with graph.as_default():\n",
    "    #Input Data placeholder\n",
    "    tf_dataset = tf.placeholder(dtype=tf.float32, shape=[None, image_size*image_size])\n",
    "    tf_labels = tf.placeholder(dtype=tf.float32, shape=[None, num_labels])    \n",
    "    #Hidden layer\n",
    "    tf_hidden_weights = tf.Variable(tf.truncated_normal(dtype=tf.float32, shape=[image_size*image_size, hidden_nodes]))\n",
    "    tf_hidden_bias = tf.Variable(tf.zeros(dtype=tf.float32, shape=[hidden_nodes]))\n",
    "    tf_hidden_in = tf.matmul(tf_dataset, tf_hidden_weights) + tf_hidden_bias\n",
    "    keep_prob = tf.placeholder(dtype=tf.float32)\n",
    "    tf_hidden_dropout = tf.nn.dropout(tf_hidden_in, keep_prob=keep_prob)\n",
    "    tf_hidden_out =tf.nn.relu(tf_hidden_dropout)\n",
    "    #Outpu layer\n",
    "    tf_out_weights = tf.Variable(tf.truncated_normal(dtype=tf.float32, shape=[hidden_nodes, num_labels]))\n",
    "    tf_out_bias = tf.Variable(tf.zeros(dtype=tf.float32, shape=[num_labels]))\n",
    "    tf_out_in = tf.matmul(tf_hidden_out, tf_out_weights) + tf_out_bias \n",
    "    tf_out_dropout = tf.nn.dropout(tf_out_in, keep_prob=keep_prob)\n",
    "    #Loss, Optimizer and Predictin\n",
    "    loss_pre = tf.reduce_mean(tf.nn.softmax_cross_entropy_with_logits(labels=tf_labels, logits=tf_out_dropout))\n",
    "    loss = loss_pre + tf.nn.l2_loss(loss_pre)\n",
    "    optimizer = tf.train.AdagradOptimizer(10).minimize(loss)    \n",
    "    prediction = tf.nn.softmax(tf_out_in)      \n",
    "    \n",
    "#Train and Test\n",
    "t1 = time.clock()\n",
    "num_steps = 4001\n",
    "train_data_length = len(train_dataset)\n",
    "with tf.Session(graph = graph) as session:\n",
    "    tf.global_variables_initializer().run()\n",
    "    for step in range(num_steps):\n",
    "#         index = random.choices(range(train_data_length), k=batch_size)           \n",
    "#         batch_data = [train_dataset[i] for i in index]\n",
    "#         batch_labels = [train_labels[i] for i in index]\n",
    "        #Train Data\n",
    "        offset = (step * batch_size) % (train_labels.shape[0] - batch_size)    \n",
    "        batch_data = train_dataset[offset:(offset + batch_size), :]\n",
    "        batch_labels = train_labels[offset:(offset + batch_size), :]\n",
    "        \n",
    "        train_feed = {tf_dataset : batch_data, tf_labels : batch_labels, keep_prob : 0.5}\n",
    "        #Train\n",
    "        _, train_loss, train_predictions = session.run([optimizer, loss, prediction], feed_dict = train_feed)\n",
    "        if step%500 == 0:           \n",
    "            print(\"Minibatch loss at step %d: %f\" % (step, train_loss))            \n",
    "            print(\"Minibatch accuracy: %.1f%%\" % accuracy(train_predictions, batch_labels))\n",
    "            #Valid\n",
    "#             valid_feed = {tf_dataset : valid_dataset, tf_labels : valid_labels, keep_prob : 1}\n",
    "#             valid_predictions = session.run(prediction, feed_dict = valid_feed)            \n",
    "#             print(\"Validation accuracy: %.1f%%\" % accuracy(valid_predictions, valid_labels))\n",
    "    #Test\n",
    "    test_feed = {tf_dataset : test_dataset, tf_labels : test_labels, keep_prob : 1}\n",
    "    test_predictions = session.run(prediction, feed_dict = test_feed)\n",
    "    print(\"Test accuracy: %.1f%%\" % accuracy(test_predictions, test_labels))\n",
    "t2 = time.clock()\n",
    "print('time: ', str(t2-t1))"
   ]
  },
  {
   "cell_type": "code",
   "execution_count": null,
   "metadata": {},
   "outputs": [],
   "source": []
  },
  {
   "cell_type": "markdown",
   "metadata": {
    "colab_type": "text",
    "id": "-b1hTz3VWZjw"
   },
   "source": [
    "---\n",
    "Problem 4\n",
    "---------\n",
    "\n",
    "Try to get the best performance you can using a multi-layer model! The best reported test accuracy using a deep network is [97.1%](http://yaroslavvb.blogspot.com/2011/09/notmnist-dataset.html?showComment=1391023266211#c8758720086795711595).\n",
    "\n",
    "One avenue you can explore is to add multiple layers.\n",
    "\n",
    "Another one is to use learning rate decay:\n",
    "\n",
    "    global_step = tf.Variable(0)  # count the number of steps taken.\n",
    "    learning_rate = tf.train.exponential_decay(0.5, global_step, ...)\n",
    "    optimizer = tf.train.GradientDescentOptimizer(learning_rate).minimize(loss, global_step=global_step)\n",
    " \n",
    " ---\n"
   ]
  },
  {
   "cell_type": "code",
   "execution_count": null,
   "metadata": {},
   "outputs": [],
   "source": []
  }
 ],
 "metadata": {
  "colab": {
   "default_view": {},
   "name": "3_regularization.ipynb",
   "provenance": [],
   "toc_visible": true,
   "version": "0.3.2",
   "views": {}
  },
  "kernelspec": {
   "display_name": "Python 3",
   "language": "python",
   "name": "python3"
  },
  "language_info": {
   "codemirror_mode": {
    "name": "ipython",
    "version": 3
   },
   "file_extension": ".py",
   "mimetype": "text/x-python",
   "name": "python",
   "nbconvert_exporter": "python",
   "pygments_lexer": "ipython3",
   "version": "3.6.9"
  }
 },
 "nbformat": 4,
 "nbformat_minor": 1
}
