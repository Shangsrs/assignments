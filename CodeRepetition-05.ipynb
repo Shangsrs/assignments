{
 "cells": [
  {
   "cell_type": "code",
   "execution_count": 106,
   "metadata": {},
   "outputs": [],
   "source": [
    "import pandas as pd"
   ]
  },
  {
   "cell_type": "code",
   "execution_count": 107,
   "metadata": {},
   "outputs": [],
   "source": [
    "csv_path = 'D:\\python\\datasource\\Lesson_05\\sqlResult_1558435.csv'"
   ]
  },
  {
   "cell_type": "code",
   "execution_count": 108,
   "metadata": {},
   "outputs": [],
   "source": [
    "content_read = pd.read_csv(csv_path, encoding='gb18030')"
   ]
  },
  {
   "cell_type": "raw",
   "metadata": {},
   "source": [
    "for i in content_read:\n",
    "    print(i)"
   ]
  },
  {
   "cell_type": "raw",
   "metadata": {},
   "source": [
    "print(content_read['content'])"
   ]
  },
  {
   "cell_type": "raw",
   "metadata": {},
   "source": [
    "pd.read_csv?"
   ]
  },
  {
   "cell_type": "raw",
   "metadata": {},
   "source": [
    "pd.DataFrame?"
   ]
  },
  {
   "cell_type": "code",
   "execution_count": 109,
   "metadata": {},
   "outputs": [],
   "source": [
    "content = content_read.fillna(' ')"
   ]
  },
  {
   "cell_type": "raw",
   "metadata": {},
   "source": [
    "content_read.fillna?"
   ]
  },
  {
   "cell_type": "raw",
   "metadata": {},
   "source": [
    "content"
   ]
  },
  {
   "cell_type": "code",
   "execution_count": 11,
   "metadata": {},
   "outputs": [],
   "source": [
    "news_content = content['content'].tolist()"
   ]
  },
  {
   "cell_type": "raw",
   "metadata": {},
   "source": [
    "news_content"
   ]
  },
  {
   "cell_type": "code",
   "execution_count": 12,
   "metadata": {},
   "outputs": [],
   "source": [
    "import jieba"
   ]
  },
  {
   "cell_type": "code",
   "execution_count": 13,
   "metadata": {},
   "outputs": [],
   "source": [
    "def cut(string): return \" \".join(jieba.cut(string))"
   ]
  },
  {
   "cell_type": "raw",
   "metadata": {},
   "source": [
    "cut(\"这是一个测试\")"
   ]
  },
  {
   "cell_type": "code",
   "execution_count": 14,
   "metadata": {},
   "outputs": [],
   "source": [
    "import re"
   ]
  },
  {
   "cell_type": "code",
   "execution_count": 15,
   "metadata": {},
   "outputs": [],
   "source": [
    "def token(string):\n",
    "    return re.findall(r'[\\d|\\w]+', string)"
   ]
  },
  {
   "cell_type": "raw",
   "metadata": {},
   "source": [
    "token('这是一个测试\\n\\n\\nabcv545,\\t\\thello world')"
   ]
  },
  {
   "cell_type": "code",
   "execution_count": 16,
   "metadata": {},
   "outputs": [],
   "source": [
    "news_content = [token(n) for n in news_content]"
   ]
  },
  {
   "cell_type": "raw",
   "metadata": {},
   "source": [
    "news_content[0:2]"
   ]
  },
  {
   "cell_type": "code",
   "execution_count": 17,
   "metadata": {},
   "outputs": [],
   "source": [
    "news_content = [' '.join(n) for n in news_content]"
   ]
  },
  {
   "cell_type": "raw",
   "metadata": {},
   "source": [
    "news_content[0:2]"
   ]
  },
  {
   "cell_type": "code",
   "execution_count": 18,
   "metadata": {},
   "outputs": [
    {
     "name": "stderr",
     "output_type": "stream",
     "text": [
      "Building prefix dict from the default dictionary ...\n",
      "Loading model from cache C:\\Users\\ADMINI~1\\AppData\\Local\\Temp\\jieba.cache\n",
      "Loading model cost 0.947 seconds.\n",
      "Prefix dict has been built succesfully.\n"
     ]
    }
   ],
   "source": [
    "news_content = [cut(n) for n in news_content]"
   ]
  },
  {
   "cell_type": "code",
   "execution_count": 19,
   "metadata": {},
   "outputs": [],
   "source": [
    "cut_news_file = 'D:\\python\\datasource\\Lesson_05/news_sentences_cut.txt'"
   ]
  },
  {
   "cell_type": "raw",
   "metadata": {},
   "source": [
    "with open(cut_news_file, 'w') as f:\n",
    "    for n in news_content:\n",
    "        f.write(n + '\\n')"
   ]
  },
  {
   "cell_type": "code",
   "execution_count": 36,
   "metadata": {},
   "outputs": [],
   "source": [
    "news_content_bak = []"
   ]
  },
  {
   "cell_type": "code",
   "execution_count": 35,
   "metadata": {},
   "outputs": [],
   "source": [
    "news_content = []\n",
    "i = 0\n",
    "with open(cut_news_file, 'r') as f:\n",
    "    for line in f:\n",
    "        line = line.strip()\n",
    "        if not line: continue\n",
    "        news_content.append(line)\n",
    "        i+=1\n",
    "#         if i > 1000: break"
   ]
  },
  {
   "cell_type": "code",
   "execution_count": 34,
   "metadata": {},
   "outputs": [
    {
     "data": {
      "text/plain": [
       "'此外   自 本周   6 月 12 日   起   除 小米 手机 6 等 15 款 机型 外   其余 机型 已 暂停 更新 发布   含 开发 版   体验版 内测   稳定版 暂不受 影响   以 确保 工程师 可以 集中 全部 精力 进行 系统优化 工作   有人 猜测 这 也 是 将 精力 主要 用到 MIUI   9 的 研发 之中   MIUI   8 去年 5 月 发布   距今已有 一年 有余   也 是 时候 更新换代 了   当然   关于 MIUI   9 的 确切 信息   我们 还是 等待 官方消息'"
      ]
     },
     "execution_count": 34,
     "metadata": {},
     "output_type": "execute_result"
    }
   ],
   "source": [
    "news_content[0]"
   ]
  },
  {
   "cell_type": "code",
   "execution_count": 52,
   "metadata": {},
   "outputs": [
    {
     "name": "stderr",
     "output_type": "stream",
     "text": [
      "D:\\ProgramData\\Anaconda3\\lib\\site-packages\\gensim\\utils.py:1197: UserWarning: detected Windows; aliasing chunkize to chunkize_serial\n",
      "  warnings.warn(\"detected Windows; aliasing chunkize to chunkize_serial\")\n"
     ]
    }
   ],
   "source": [
    "from gensim.models import Word2Vec\n",
    "from gensim.models.word2vec import LineSentence"
   ]
  },
  {
   "cell_type": "code",
   "execution_count": 57,
   "metadata": {},
   "outputs": [],
   "source": [
    "cut_news = open(cut_news_file,'r', encoding = 'gb18030')\n",
    "news_word2vec = Word2Vec(LineSentence(cut_news), size = 35, workers = 2)"
   ]
  },
  {
   "cell_type": "code",
   "execution_count": 63,
   "metadata": {},
   "outputs": [],
   "source": [
    "news_model_file = 'D:\\python\\datasource\\Lesson_05/news_model.word2vec'"
   ]
  },
  {
   "cell_type": "code",
   "execution_count": 64,
   "metadata": {},
   "outputs": [
    {
     "name": "stderr",
     "output_type": "stream",
     "text": [
      "D:\\ProgramData\\Anaconda3\\lib\\site-packages\\smart_open\\smart_open_lib.py:398: UserWarning: This function is deprecated, use smart_open.open instead. See the migration notes for details: https://github.com/RaRe-Technologies/smart_open/blob/master/README.rst#migrating-to-the-new-open-function\n",
      "  'See the migration notes for details: %s' % _MIGRATION_NOTES_URL\n"
     ]
    }
   ],
   "source": [
    "news_word2vec.save(news_model_file)"
   ]
  },
  {
   "cell_type": "code",
   "execution_count": 65,
   "metadata": {
    "scrolled": false
   },
   "outputs": [
    {
     "name": "stderr",
     "output_type": "stream",
     "text": [
      "D:\\ProgramData\\Anaconda3\\lib\\site-packages\\ipykernel_launcher.py:1: DeprecationWarning: Call to deprecated `most_similar` (Method will be removed in 4.0.0, use self.wv.most_similar() instead).\n",
      "  \"\"\"Entry point for launching an IPython kernel.\n"
     ]
    },
    {
     "data": {
      "text/plain": [
       "[('意大利', 0.8607771992683411),\n",
       " ('捷克', 0.8349997997283936),\n",
       " ('乌拉圭', 0.8151769638061523),\n",
       " ('摩洛哥', 0.8095852732658386),\n",
       " ('西班牙', 0.8076673746109009),\n",
       " ('克罗地亚', 0.7976622581481934),\n",
       " ('奥地利', 0.7904369831085205),\n",
       " ('比利时', 0.7897443771362305),\n",
       " ('里斯本', 0.7868384122848511),\n",
       " ('瑞士', 0.7851325273513794),\n",
       " ('巴塞罗那', 0.7773646116256714),\n",
       " ('科特迪瓦', 0.7735579013824463),\n",
       " ('瑞典', 0.7710144519805908),\n",
       " ('拉脱维亚', 0.7656701803207397),\n",
       " ('保加利亚', 0.7585082650184631),\n",
       " ('罗马尼亚', 0.7573979496955872),\n",
       " ('中国香港', 0.7546412944793701),\n",
       " ('比什凯克', 0.753187358379364),\n",
       " ('塞内加尔', 0.7498558163642883),\n",
       " ('伊斯坦布尔', 0.7478160262107849)]"
      ]
     },
     "execution_count": 65,
     "metadata": {},
     "output_type": "execute_result"
    }
   ],
   "source": [
    "news_word2vec.most_similar('葡萄牙',topn = 20)"
   ]
  },
  {
   "cell_type": "code",
   "execution_count": 68,
   "metadata": {},
   "outputs": [
    {
     "name": "stderr",
     "output_type": "stream",
     "text": [
      "D:\\ProgramData\\Anaconda3\\lib\\site-packages\\ipykernel_launcher.py:1: DeprecationWarning: Call to deprecated `most_similar` (Method will be removed in 4.0.0, use self.wv.most_similar() instead).\n",
      "  \"\"\"Entry point for launching an IPython kernel.\n"
     ]
    },
    {
     "data": {
      "text/plain": [
       "[('表示', 0.9003854990005493),\n",
       " ('认为', 0.8808533549308777),\n",
       " ('指出', 0.854097306728363),\n",
       " ('坦言', 0.8283032178878784),\n",
       " ('看来', 0.8053152561187744),\n",
       " ('告诉', 0.8018031120300293),\n",
       " ('明说', 0.7765281796455383),\n",
       " ('透露', 0.7684462070465088),\n",
       " ('称', 0.7614436745643616),\n",
       " ('介绍', 0.7370367050170898),\n",
       " ('所说', 0.7213112711906433),\n",
       " ('强调', 0.7147173285484314),\n",
       " ('文说', 0.698815107345581),\n",
       " ('深有体会', 0.686731219291687),\n",
       " ('建议', 0.6643649339675903),\n",
       " ('特别强调', 0.6556874513626099),\n",
       " ('称赞', 0.6435617804527283),\n",
       " ('中说', 0.6281872391700745),\n",
       " ('时说', 0.6226491928100586),\n",
       " ('普遍认为', 0.6087743043899536),\n",
       " ('的话', 0.6058314442634583),\n",
       " ('提到', 0.6052500009536743),\n",
       " ('如是说', 0.5996004343032837),\n",
       " ('问', 0.581336498260498),\n",
       " ('相信', 0.5649849772453308),\n",
       " ('陈说', 0.5616301894187927),\n",
       " ('嚷嚷', 0.553462564945221),\n",
       " ('说道', 0.5520895719528198),\n",
       " ('资深', 0.5476036667823792),\n",
       " ('写道', 0.5435317754745483)]"
      ]
     },
     "execution_count": 68,
     "metadata": {},
     "output_type": "execute_result"
    }
   ],
   "source": [
    "news_word2vec.most_similar('说', topn = 30)"
   ]
  },
  {
   "cell_type": "code",
   "execution_count": 69,
   "metadata": {
    "collapsed": true
   },
   "outputs": [
    {
     "name": "stderr",
     "output_type": "stream",
     "text": [
      "D:\\ProgramData\\Anaconda3\\lib\\site-packages\\ipykernel_launcher.py:1: DeprecationWarning: Call to deprecated `most_similar` (Method will be removed in 4.0.0, use self.wv.most_similar() instead).\n",
      "  \"\"\"Entry point for launching an IPython kernel.\n"
     ]
    },
    {
     "data": {
      "text/plain": [
       "[('指出', 0.9250273108482361),\n",
       " ('表示', 0.9040745496749878),\n",
       " ('说', 0.8808533549308777),\n",
       " ('看来', 0.8412175178527832),\n",
       " ('坦言', 0.8115142583847046),\n",
       " ('称', 0.8002656102180481),\n",
       " ('普遍认为', 0.788804292678833),\n",
       " ('透露', 0.758671760559082),\n",
       " ('强调', 0.7420681118965149),\n",
       " ('建议', 0.7419277429580688),\n",
       " ('告诉', 0.698417603969574),\n",
       " ('所说', 0.6887749433517456),\n",
       " ('特别强调', 0.651387095451355),\n",
       " ('及其', 0.6277390122413635),\n",
       " ('介绍', 0.6244205236434937),\n",
       " ('呼吁', 0.622567892074585),\n",
       " ('观点', 0.618634819984436),\n",
       " ('提到', 0.6164605617523193),\n",
       " ('而言', 0.6159542202949524),\n",
       " ('声称', 0.6157487034797668),\n",
       " ('表明', 0.6153488755226135),\n",
       " ('对此', 0.6148720979690552),\n",
       " ('相信', 0.6079859137535095),\n",
       " ('明说', 0.6017995476722717),\n",
       " ('提及', 0.5938038229942322),\n",
       " ('中说', 0.59310382604599),\n",
       " ('质疑', 0.5823755264282227),\n",
       " ('直言', 0.581493616104126),\n",
       " ('所知', 0.579058051109314),\n",
       " ('电影界', 0.5775582790374756)]"
      ]
     },
     "execution_count": 69,
     "metadata": {},
     "output_type": "execute_result"
    }
   ],
   "source": [
    "news_word2vec.most_similar('认为', topn = 30)"
   ]
  },
  {
   "cell_type": "code",
   "execution_count": 70,
   "metadata": {},
   "outputs": [
    {
     "name": "stderr",
     "output_type": "stream",
     "text": [
      "D:\\ProgramData\\Anaconda3\\lib\\site-packages\\smart_open\\smart_open_lib.py:398: UserWarning: This function is deprecated, use smart_open.open instead. See the migration notes for details: https://github.com/RaRe-Technologies/smart_open/blob/master/README.rst#migrating-to-the-new-open-function\n",
      "  'See the migration notes for details: %s' % _MIGRATION_NOTES_URL\n"
     ]
    }
   ],
   "source": [
    "news_model = Word2Vec.load(news_model_file)"
   ]
  },
  {
   "cell_type": "code",
   "execution_count": 71,
   "metadata": {},
   "outputs": [],
   "source": [
    "from collections import defaultdict"
   ]
  },
  {
   "cell_type": "code",
   "execution_count": 73,
   "metadata": {},
   "outputs": [],
   "source": [
    "def get_related_words(initial_words, model):\n",
    "    unseen = initial_words\n",
    "    seen = defaultdict(int)\n",
    "    max_size = 500\n",
    "    while unseen and len(seen) < max_size:\n",
    "        if len(seen) % 50 == 0:\n",
    "            print('seen length : {}'.format(len(seen)))\n",
    "        node = unseen.pop(0)\n",
    "        new_expanding = [w for w, s in model.most_similar(node,topn=20)]\n",
    "        unseen += new_expanding\n",
    "        seen[node] += 1\n",
    "    return seen"
   ]
  },
  {
   "cell_type": "code",
   "execution_count": 74,
   "metadata": {},
   "outputs": [
    {
     "data": {
      "text/plain": [
       "97927"
      ]
     },
     "execution_count": 74,
     "metadata": {},
     "output_type": "execute_result"
    }
   ],
   "source": [
    "len(news_model.wv.vocab)"
   ]
  },
  {
   "cell_type": "code",
   "execution_count": 75,
   "metadata": {},
   "outputs": [
    {
     "name": "stdout",
     "output_type": "stream",
     "text": [
      "seen length : 0\n"
     ]
    },
    {
     "name": "stderr",
     "output_type": "stream",
     "text": [
      "D:\\ProgramData\\Anaconda3\\lib\\site-packages\\ipykernel_launcher.py:9: DeprecationWarning: Call to deprecated `most_similar` (Method will be removed in 4.0.0, use self.wv.most_similar() instead).\n",
      "  if __name__ == '__main__':\n"
     ]
    },
    {
     "name": "stdout",
     "output_type": "stream",
     "text": [
      "seen length : 50\n",
      "seen length : 100\n",
      "seen length : 150\n",
      "seen length : 150\n",
      "seen length : 200\n",
      "seen length : 200\n",
      "seen length : 250\n",
      "seen length : 300\n",
      "seen length : 350\n",
      "seen length : 350\n",
      "seen length : 350\n",
      "seen length : 400\n",
      "seen length : 450\n",
      "seen length : 450\n"
     ]
    }
   ],
   "source": [
    "related_words = get_related_words(['说', '表示'], news_model)"
   ]
  },
  {
   "cell_type": "code",
   "execution_count": 79,
   "metadata": {
    "collapsed": true
   },
   "outputs": [
    {
     "data": {
      "text/plain": [
       "defaultdict(int,\n",
       "            {0: 0,\n",
       "             2: 0,\n",
       "             'SGR': 1,\n",
       "             'xhszzb': 1,\n",
       "             '一定': 1,\n",
       "             '一峰': 6,\n",
       "             '一方面': 2,\n",
       "             '一点': 1,\n",
       "             '一目了然': 1,\n",
       "             '一篇': 4,\n",
       "             '一贯': 7,\n",
       "             '万钢': 4,\n",
       "             '三军': 4,\n",
       "             '上作': 4,\n",
       "             '上称': 4,\n",
       "             '不在意': 5,\n",
       "             '不已': 1,\n",
       "             '不禁': 1,\n",
       "             '不能容忍': 4,\n",
       "             '不见踪影': 1,\n",
       "             '不难理解': 7,\n",
       "             '专家建议': 5,\n",
       "             '专程到': 1,\n",
       "             '专访': 3,\n",
       "             '严格遵守': 1,\n",
       "             '中山大学': 7,\n",
       "             '中称': 18,\n",
       "             '中说': 39,\n",
       "             '为什么': 1,\n",
       "             '主张': 4,\n",
       "             '之所以': 1,\n",
       "             '也': 1,\n",
       "             '了不起': 1,\n",
       "             '了然于心': 1,\n",
       "             '了解': 7,\n",
       "             '事实上': 2,\n",
       "             '亲眼所见': 2,\n",
       "             '亲眼看到': 2,\n",
       "             '介绍': 56,\n",
       "             '从没': 1,\n",
       "             '以及': 1,\n",
       "             '任军': 1,\n",
       "             '伊原': 4,\n",
       "             '似乎': 2,\n",
       "             '但': 3,\n",
       "             '但是': 3,\n",
       "             '体现': 1,\n",
       "             '作出': 1,\n",
       "             '保全': 1,\n",
       "             '保护法': 1,\n",
       "             '修订': 1,\n",
       "             '倍感': 1,\n",
       "             '假新闻': 6,\n",
       "             '做法': 6,\n",
       "             '充分说明': 7,\n",
       "             '八面玲珑': 6,\n",
       "             '公开场合': 3,\n",
       "             '共见': 1,\n",
       "             '关心': 1,\n",
       "             '关注': 7,\n",
       "             '其实': 3,\n",
       "             '具名': 8,\n",
       "             '写信给': 12,\n",
       "             '写入': 1,\n",
       "             '写道': 16,\n",
       "             '农办': 4,\n",
       "             '农艺师': 6,\n",
       "             '冯武': 1,\n",
       "             '决定权': 1,\n",
       "             '几点': 1,\n",
       "             '出台': 1,\n",
       "             '出身': 1,\n",
       "             '出面': 1,\n",
       "             '列举': 14,\n",
       "             '刘': 6,\n",
       "             '刘帅': 2,\n",
       "             '刘心伟开': 1,\n",
       "             '判断': 1,\n",
       "             '利用': 1,\n",
       "             '制定': 1,\n",
       "             '制订': 1,\n",
       "             '削弱': 6,\n",
       "             '副': 7,\n",
       "             '劝': 1,\n",
       "             '动向': 6,\n",
       "             '动用': 1,\n",
       "             '努钦称': 4,\n",
       "             '勾结': 1,\n",
       "             '十分重视': 7,\n",
       "             '单方面': 1,\n",
       "             '单纯': 1,\n",
       "             '南方周末': 1,\n",
       "             '南方日报': 8,\n",
       "             '印证': 1,\n",
       "             '历史课': 7,\n",
       "             '原话': 11,\n",
       "             '去过': 1,\n",
       "             '及': 1,\n",
       "             '及其': 7,\n",
       "             '反复强调': 7,\n",
       "             '反对': 4,\n",
       "             '反映': 7,\n",
       "             '反问': 1,\n",
       "             '反驳': 7,\n",
       "             '发现': 1,\n",
       "             '发表': 4,\n",
       "             '发问': 1,\n",
       "             '变化': 1,\n",
       "             '口中': 3,\n",
       "             '另一方面': 2,\n",
       "             '可是': 1,\n",
       "             '后顾之忧': 5,\n",
       "             '吕': 3,\n",
       "             '吗': 1,\n",
       "             '否认': 1,\n",
       "             '听到': 2,\n",
       "             '听见': 2,\n",
       "             '听说': 2,\n",
       "             '听闻': 1,\n",
       "             '吴晓颖': 1,\n",
       "             '告诉': 59,\n",
       "             '呼吁': 36,\n",
       "             '和': 1,\n",
       "             '咨询': 12,\n",
       "             '咱们': 1,\n",
       "             '唱衰': 6,\n",
       "             '商报讯': 1,\n",
       "             '啸虎': 7,\n",
       "             '喊': 1,\n",
       "             '回忆起': 1,\n",
       "             '回答': 13,\n",
       "             '因斯': 4,\n",
       "             '因此': 2,\n",
       "             '国务院发展研究中心': 4,\n",
       "             '国土报': 3,\n",
       "             '国家航天局': 4,\n",
       "             '国际主义': 1,\n",
       "             '国际关系学院': 4,\n",
       "             '国际金融报': 1,\n",
       "             '地说': 12,\n",
       "             '坚信': 8,\n",
       "             '坚持': 7,\n",
       "             '坚持原则': 7,\n",
       "             '坚称': 1,\n",
       "             '坦白': 1,\n",
       "             '坦言': 102,\n",
       "             '基本上': 1,\n",
       "             '声称': 29,\n",
       "             '夏奕': 1,\n",
       "             '多谈': 3,\n",
       "             '大夫': 3,\n",
       "             '大河网': 4,\n",
       "             '奥米': 3,\n",
       "             '好事': 1,\n",
       "             '如是说': 13,\n",
       "             '妈': 1,\n",
       "             '姜克红': 1,\n",
       "             '娓娓': 1,\n",
       "             '孙': 3,\n",
       "             '安晓萌': 1,\n",
       "             '宏观': 1,\n",
       "             '实习生': 1,\n",
       "             '实施': 1,\n",
       "             '实际上': 2,\n",
       "             '客观': 1,\n",
       "             '宣示': 7,\n",
       "             '宣称': 7,\n",
       "             '家喻户晓': 1,\n",
       "             '对': 1,\n",
       "             '对准': 1,\n",
       "             '对此': 6,\n",
       "             '寻觅': 1,\n",
       "             '将来': 1,\n",
       "             '小林': 3,\n",
       "             '就此': 3,\n",
       "             '希望': 1,\n",
       "             '帕切': 2,\n",
       "             '带': 2,\n",
       "             '常务': 7,\n",
       "             '常务副': 4,\n",
       "             '常说': 1,\n",
       "             '干涉': 5,\n",
       "             '并称': 1,\n",
       "             '庆幸': 1,\n",
       "             '应该': 2,\n",
       "             '建议': 40,\n",
       "             '开玩笑': 1,\n",
       "             '引用': 16,\n",
       "             '弗兰克': 3,\n",
       "             '弗雷泽': 4,\n",
       "             '张伟': 7,\n",
       "             '张晓明': 4,\n",
       "             '张继业': 1,\n",
       "             '张隽玮': 7,\n",
       "             '张雪飞': 1,\n",
       "             '强调': 59,\n",
       "             '强迫': 1,\n",
       "             '归咎于': 6,\n",
       "             '当有': 1,\n",
       "             '当然': 6,\n",
       "             '当过': 4,\n",
       "             '形容': 7,\n",
       "             '彭卓': 1,\n",
       "             '往事': 1,\n",
       "             '得知': 1,\n",
       "             '心中': 1,\n",
       "             '心里': 1,\n",
       "             '态度': 1,\n",
       "             '总是': 1,\n",
       "             '怼': 3,\n",
       "             '恪守': 7,\n",
       "             '情结': 1,\n",
       "             '情缘': 1,\n",
       "             '惊叹': 3,\n",
       "             '惋惜': 3,\n",
       "             '想到': 2,\n",
       "             '想必': 2,\n",
       "             '想法': 1,\n",
       "             '想起': 1,\n",
       "             '意料': 2,\n",
       "             '意见建议': 5,\n",
       "             '感兴趣': 3,\n",
       "             '感到高兴': 1,\n",
       "             '感叹': 5,\n",
       "             '感慨': 6,\n",
       "             '感激': 1,\n",
       "             '感觉': 1,\n",
       "             '感触': 1,\n",
       "             '感谢': 3,\n",
       "             '愿同': 4,\n",
       "             '慎重': 5,\n",
       "             '或许': 2,\n",
       "             '所以': 2,\n",
       "             '所作': 7,\n",
       "             '所在位置': 2,\n",
       "             '所属': 1,\n",
       "             '所指': 7,\n",
       "             '所说': 92,\n",
       "             '打定主意': 1,\n",
       "             '批判': 3,\n",
       "             '批评': 11,\n",
       "             '找到': 1,\n",
       "             '承认': 1,\n",
       "             '抛出': 5,\n",
       "             '抨击': 7,\n",
       "             '抵住': 1,\n",
       "             '抵制': 4,\n",
       "             '拉普': 4,\n",
       "             '拒绝': 1,\n",
       "             '拜访': 1,\n",
       "             '拟定': 1,\n",
       "             '指出': 100,\n",
       "             '指望': 1,\n",
       "             '指认': 1,\n",
       "             '指责': 5,\n",
       "             '挑衅': 4,\n",
       "             '挤满': 1,\n",
       "             '挺': 1,\n",
       "             '捕捉到': 1,\n",
       "             '掌管': 1,\n",
       "             '推翻': 1,\n",
       "             '推行': 1,\n",
       "             '措辞': 1,\n",
       "             '描述': 12,\n",
       "             '提交': 1,\n",
       "             '提出': 14,\n",
       "             '提到': 66,\n",
       "             '提及': 14,\n",
       "             '提醒': 9,\n",
       "             '提问': 1,\n",
       "             '援外': 7,\n",
       "             '援引': 6,\n",
       "             '摄影记者': 1,\n",
       "             '撰写': 5,\n",
       "             '政务司': 4,\n",
       "             '效法': 1,\n",
       "             '敦促': 11,\n",
       "             '文章': 1,\n",
       "             '文说': 45,\n",
       "             '施压': 4,\n",
       "             '无不': 1,\n",
       "             '无国籍': 1,\n",
       "             '无疑': 2,\n",
       "             '无论': 1,\n",
       "             '日美': 4,\n",
       "             '时称': 8,\n",
       "             '时说': 19,\n",
       "             '明白': 1,\n",
       "             '明确': 1,\n",
       "             '明确指出': 6,\n",
       "             '明确提出': 1,\n",
       "             '明说': 48,\n",
       "             '是不是': 1,\n",
       "             '显然': 4,\n",
       "             '普遍认为': 52,\n",
       "             '暗示': 7,\n",
       "             '有失': 2,\n",
       "             '朝核问题': 4,\n",
       "             '期待': 1,\n",
       "             '期望': 1,\n",
       "             '未必': 1,\n",
       "             '本报讯': 1,\n",
       "             '本来': 2,\n",
       "             '本身': 3,\n",
       "             '李晓渝': 1,\n",
       "             '李秀明': 1,\n",
       "             '李达康': 1,\n",
       "             '李骥志': 1,\n",
       "             '来看': 4,\n",
       "             '来讲': 3,\n",
       "             '来说': 8,\n",
       "             '杨汀': 1,\n",
       "             '极力推荐': 1,\n",
       "             '林晓蔚': 1,\n",
       "             '某元': 3,\n",
       "             '柳丝': 1,\n",
       "             '梳理': 1,\n",
       "             '正如': 7,\n",
       "             '正说': 6,\n",
       "             '正面': 1,\n",
       "             '此外': 5,\n",
       "             '武说': 10,\n",
       "             '每经': 1,\n",
       "             '毕竟': 3,\n",
       "             '毫不': 2,\n",
       "             '汪强': 1,\n",
       "             '没什么': 1,\n",
       "             '法制晚报': 1,\n",
       "             '波普尔': 1,\n",
       "             '注定': 2,\n",
       "             '注意': 1,\n",
       "             '浮现': 1,\n",
       "             '深感': 2,\n",
       "             '深有体会': 32,\n",
       "             '深有感触': 9,\n",
       "             '溢于言表': 1,\n",
       "             '满意': 1,\n",
       "             '潘革平': 7,\n",
       "             '热罗姆': 7,\n",
       "             '热议': 6,\n",
       "             '煽动性': 1,\n",
       "             '爱上': 1,\n",
       "             '特别强调': 60,\n",
       "             '特别感谢': 4,\n",
       "             '状告': 1,\n",
       "             '猜测': 12,\n",
       "             '王可佳': 3,\n",
       "             '王平': 7,\n",
       "             '王羽': 1,\n",
       "             '现阶段': 8,\n",
       "             '理解': 2,\n",
       "             '甘春': 1,\n",
       "             '由衷': 4,\n",
       "             '留意': 1,\n",
       "             '留意到': 6,\n",
       "             '略显': 2,\n",
       "             '疑问': 1,\n",
       "             '的确': 1,\n",
       "             '的话': 6,\n",
       "             '盛赞': 6,\n",
       "             '目睹': 2,\n",
       "             '直言': 20,\n",
       "             '相信': 8,\n",
       "             '看': 1,\n",
       "             '看出': 1,\n",
       "             '看到': 7,\n",
       "             '看来': 73,\n",
       "             '看法': 6,\n",
       "             '看见': 2,\n",
       "             '看重': 3,\n",
       "             '真是': 1,\n",
       "             '眼中': 9,\n",
       "             '眼里': 2,\n",
       "             '知情': 14,\n",
       "             '知晓': 1,\n",
       "             '知道': 5,\n",
       "             '短浅': 1,\n",
       "             '研究室': 4,\n",
       "             '确信': 10,\n",
       "             '确实': 1,\n",
       "             '确立': 1,\n",
       "             '社会活动家': 1,\n",
       "             '称': 56,\n",
       "             '称之为': 1,\n",
       "             '称赞': 29,\n",
       "             '立场': 1,\n",
       "             '立法': 1,\n",
       "             '童岚': 6,\n",
       "             '竭尽': 7,\n",
       "             '答案': 1,\n",
       "             '筹划': 1,\n",
       "             '算是': 1,\n",
       "             '紫砂': 1,\n",
       "             '纠结': 2,\n",
       "             '红霞': 6,\n",
       "             '给出': 5,\n",
       "             '罗鑫': 1,\n",
       "             '考量': 1,\n",
       "             '而且': 1,\n",
       "             '而言': 14,\n",
       "             '聊起': 8,\n",
       "             '联访': 3,\n",
       "             '肖娟': 6,\n",
       "             '肯定': 7,\n",
       "             '背书': 7,\n",
       "             '脑海中': 1,\n",
       "             '腼腆': 1,\n",
       "             '自称为': 1,\n",
       "             '荣幸': 1,\n",
       "             '获悉': 7,\n",
       "             '蒋': 3,\n",
       "             '表态': 1,\n",
       "             '表明': 9,\n",
       "             '表示': 92,\n",
       "             '表述': 1,\n",
       "             '袁梦晨': 1,\n",
       "             '西万': 6,\n",
       "             '要求': 5,\n",
       "             '要防': 3,\n",
       "             '见到': 7,\n",
       "             '观点': 7,\n",
       "             '觉得': 12,\n",
       "             '解释': 19,\n",
       "             '解雇': 2,\n",
       "             '言': 5,\n",
       "             '认为': 81,\n",
       "             '认同': 1,\n",
       "             '认识': 1,\n",
       "             '让': 1,\n",
       "             '记得': 2,\n",
       "             '讽刺': 3,\n",
       "             '证实': 14,\n",
       "             '评论': 1,\n",
       "             '说': 101,\n",
       "             '说出': 8,\n",
       "             '说完': 1,\n",
       "             '说明': 1,\n",
       "             '说法': 6,\n",
       "             '说起': 1,\n",
       "             '说道': 24,\n",
       "             '请问': 1,\n",
       "             '谈': 1,\n",
       "             '谈论': 4,\n",
       "             '谈谈': 16,\n",
       "             '谈起': 1,\n",
       "             '谢': 3,\n",
       "             '谴责': 4,\n",
       "             '财政司': 4,\n",
       "             '质疑': 6,\n",
       "             '赞同': 1,\n",
       "             '赞扬': 3,\n",
       "             '赞美': 3,\n",
       "             '走入': 1,\n",
       "             '起草': 1,\n",
       "             '跟随': 1,\n",
       "             '踏出': 1,\n",
       "             '身在': 1,\n",
       "             '转发给': 1,\n",
       "             '转述': 1,\n",
       "             '辛苦': 1,\n",
       "             '过世': 1,\n",
       "             '还是': 1,\n",
       "             '还称': 19,\n",
       "             '这使': 1,\n",
       "             '这方面': 1,\n",
       "             '这样': 1,\n",
       "             '这番话': 3,\n",
       "             '这篇大': 7,\n",
       "             '迷上': 2,\n",
       "             '追问': 1,\n",
       "             '透露': 76,\n",
       "             '通讯员': 1,\n",
       "             '通读': 1,\n",
       "             '逻辑': 1,\n",
       "             '遗憾': 2,\n",
       "             '那位': 2,\n",
       "             '邱': 3,\n",
       "             '郭': 9,\n",
       "             '采纳': 1,\n",
       "             '重申': 12,\n",
       "             '针对': 1,\n",
       "             '钟忠': 1,\n",
       "             '钟爱': 1,\n",
       "             '长跪': 1,\n",
       "             '问': 6,\n",
       "             '问道': 7,\n",
       "             '阎向': 1,\n",
       "             '阐述': 20,\n",
       "             '陆': 6,\n",
       "             '陈说': 6,\n",
       "             '非常感谢': 1,\n",
       "             '非常高兴': 5,\n",
       "             '韩茜': 2,\n",
       "             '顾虑': 1,\n",
       "             '预想': 1,\n",
       "             '高度赞扬': 3,\n",
       "             '高度重视': 7,\n",
       "             '高蓓摄': 1,\n",
       "             '鲁金博': 6,\n",
       "             '黄和逊': 1,\n",
       "             '黄进': 3,\n",
       "             '鼓励': 5})"
      ]
     },
     "execution_count": 79,
     "metadata": {},
     "output_type": "execute_result"
    }
   ],
   "source": [
    "related_words"
   ]
  },
  {
   "cell_type": "code",
   "execution_count": 80,
   "metadata": {
    "collapsed": true
   },
   "outputs": [
    {
     "data": {
      "text/plain": [
       "[('坦言', 102),\n",
       " ('说', 101),\n",
       " ('指出', 100),\n",
       " ('表示', 92),\n",
       " ('所说', 92),\n",
       " ('认为', 81),\n",
       " ('透露', 76),\n",
       " ('看来', 73),\n",
       " ('提到', 66),\n",
       " ('特别强调', 60),\n",
       " ('告诉', 59),\n",
       " ('强调', 59),\n",
       " ('称', 56),\n",
       " ('介绍', 56),\n",
       " ('普遍认为', 52),\n",
       " ('明说', 48),\n",
       " ('文说', 45),\n",
       " ('建议', 40),\n",
       " ('中说', 39),\n",
       " ('呼吁', 36),\n",
       " ('深有体会', 32),\n",
       " ('称赞', 29),\n",
       " ('声称', 29),\n",
       " ('说道', 24),\n",
       " ('直言', 20),\n",
       " ('阐述', 20),\n",
       " ('时说', 19),\n",
       " ('还称', 19),\n",
       " ('解释', 19),\n",
       " ('中称', 18),\n",
       " ('写道', 16),\n",
       " ('引用', 16),\n",
       " ('谈谈', 16),\n",
       " ('而言', 14),\n",
       " ('提出', 14),\n",
       " ('提及', 14),\n",
       " ('知情', 14),\n",
       " ('证实', 14),\n",
       " ('列举', 14),\n",
       " ('如是说', 13),\n",
       " ('回答', 13),\n",
       " ('地说', 12),\n",
       " ('写信给', 12),\n",
       " ('觉得', 12),\n",
       " ('猜测', 12),\n",
       " ('咨询', 12),\n",
       " ('描述', 12),\n",
       " ('重申', 12),\n",
       " ('原话', 11),\n",
       " ('敦促', 11),\n",
       " ('批评', 11),\n",
       " ('武说', 10),\n",
       " ('确信', 10),\n",
       " ('眼中', 9),\n",
       " ('郭', 9),\n",
       " ('深有感触', 9),\n",
       " ('提醒', 9),\n",
       " ('表明', 9),\n",
       " ('来说', 8),\n",
       " ('相信', 8),\n",
       " ('南方日报', 8),\n",
       " ('聊起', 8),\n",
       " ('具名', 8),\n",
       " ('说出', 8),\n",
       " ('坚信', 8),\n",
       " ('时称', 8),\n",
       " ('现阶段', 8),\n",
       " ('及其', 7),\n",
       " ('观点', 7),\n",
       " ('反映', 7),\n",
       " ('肯定', 7),\n",
       " ('看到', 7),\n",
       " ('见到', 7),\n",
       " ('潘革平', 7),\n",
       " ('张隽玮', 7),\n",
       " ('宣称', 7),\n",
       " ('了解', 7),\n",
       " ('获悉', 7),\n",
       " ('王平', 7),\n",
       " ('中山大学', 7),\n",
       " ('热罗姆', 7),\n",
       " ('援外', 7),\n",
       " ('常务', 7),\n",
       " ('副', 7),\n",
       " ('问道', 7),\n",
       " ('所指', 7),\n",
       " ('形容', 7),\n",
       " ('历史课', 7),\n",
       " ('反驳', 7),\n",
       " ('一贯', 7),\n",
       " ('高度重视', 7),\n",
       " ('所作', 7),\n",
       " ('宣示', 7),\n",
       " ('恪守', 7),\n",
       " ('坚持', 7),\n",
       " ('啸虎', 7),\n",
       " ('张伟', 7),\n",
       " ('这篇大', 7),\n",
       " ('反复强调', 7),\n",
       " ('充分说明', 7),\n",
       " ('坚持原则', 7),\n",
       " ('竭尽', 7),\n",
       " ('背书', 7),\n",
       " ('正如', 7),\n",
       " ('不难理解', 7),\n",
       " ('十分重视', 7),\n",
       " ('关注', 7),\n",
       " ('抨击', 7),\n",
       " ('暗示', 7),\n",
       " ('问', 6),\n",
       " ('留意到', 6),\n",
       " ('鲁金博', 6),\n",
       " ('肖娟', 6),\n",
       " ('童岚', 6),\n",
       " ('八面玲珑', 6),\n",
       " ('西万', 6),\n",
       " ('农艺师', 6),\n",
       " ('一峰', 6),\n",
       " ('陈说', 6),\n",
       " ('刘', 6),\n",
       " ('陆', 6),\n",
       " ('红霞', 6),\n",
       " ('正说', 6),\n",
       " ('说法', 6),\n",
       " ('假新闻', 6),\n",
       " ('援引', 6),\n",
       " ('的话', 6),\n",
       " ('感慨', 6),\n",
       " ('明确指出', 6),\n",
       " ('做法', 6),\n",
       " ('盛赞', 6),\n",
       " ('对此', 6),\n",
       " ('质疑', 6),\n",
       " ('归咎于', 6),\n",
       " ('削弱', 6),\n",
       " ('唱衰', 6),\n",
       " ('热议', 6),\n",
       " ('动向', 6),\n",
       " ('看法', 6),\n",
       " ('当然', 6),\n",
       " ('要求', 5),\n",
       " ('意见建议', 5),\n",
       " ('此外', 5),\n",
       " ('后顾之忧', 5),\n",
       " ('鼓励', 5),\n",
       " ('专家建议', 5),\n",
       " ('慎重', 5),\n",
       " ('非常高兴', 5),\n",
       " ('指责', 5),\n",
       " ('干涉', 5),\n",
       " ('给出', 5),\n",
       " ('不在意', 5),\n",
       " ('撰写', 5),\n",
       " ('抛出', 5),\n",
       " ('知道', 5),\n",
       " ('言', 5),\n",
       " ('感叹', 5),\n",
       " ('因斯', 4),\n",
       " ('万钢', 4),\n",
       " ('张晓明', 4),\n",
       " ('常务副', 4),\n",
       " ('弗雷泽', 4),\n",
       " ('国际关系学院', 4),\n",
       " ('财政司', 4),\n",
       " ('研究室', 4),\n",
       " ('三军', 4),\n",
       " ('政务司', 4),\n",
       " ('农办', 4),\n",
       " ('国家航天局', 4),\n",
       " ('国务院发展研究中心', 4),\n",
       " ('当过', 4),\n",
       " ('特别感谢', 4),\n",
       " ('大河网', 4),\n",
       " ('由衷', 4),\n",
       " ('上称', 4),\n",
       " ('伊原', 4),\n",
       " ('努钦称', 4),\n",
       " ('发表', 4),\n",
       " ('拉普', 4),\n",
       " ('上作', 4),\n",
       " ('一篇', 4),\n",
       " ('主张', 4),\n",
       " ('反对', 4),\n",
       " ('施压', 4),\n",
       " ('日美', 4),\n",
       " ('挑衅', 4),\n",
       " ('抵制', 4),\n",
       " ('谴责', 4),\n",
       " ('愿同', 4),\n",
       " ('朝核问题', 4),\n",
       " ('不能容忍', 4),\n",
       " ('显然', 4),\n",
       " ('来看', 4),\n",
       " ('谈论', 4),\n",
       " ('黄进', 3),\n",
       " ('大夫', 3),\n",
       " ('吕', 3),\n",
       " ('某元', 3),\n",
       " ('谢', 3),\n",
       " ('小林', 3),\n",
       " ('邱', 3),\n",
       " ('蒋', 3),\n",
       " ('孙', 3),\n",
       " ('高度赞扬', 3),\n",
       " ('赞扬', 3),\n",
       " ('感谢', 3),\n",
       " ('这番话', 3),\n",
       " ('奥米', 3),\n",
       " ('赞美', 3),\n",
       " ('批判', 3),\n",
       " ('惊叹', 3),\n",
       " ('讽刺', 3),\n",
       " ('弗兰克', 3),\n",
       " ('惋惜', 3),\n",
       " ('联访', 3),\n",
       " ('要防', 3),\n",
       " ('专访', 3),\n",
       " ('就此', 3),\n",
       " ('公开场合', 3),\n",
       " ('王可佳', 3),\n",
       " ('国土报', 3),\n",
       " ('多谈', 3),\n",
       " ('来讲', 3),\n",
       " ('看重', 3),\n",
       " ('本身', 3),\n",
       " ('其实', 3),\n",
       " ('但是', 3),\n",
       " ('感兴趣', 3),\n",
       " ('但', 3),\n",
       " ('怼', 3),\n",
       " ('口中', 3),\n",
       " ('毕竟', 3),\n",
       " ('理解', 2),\n",
       " ('实际上', 2),\n",
       " ('事实上', 2),\n",
       " ('另一方面', 2),\n",
       " ('一方面', 2),\n",
       " ('因此', 2),\n",
       " ('无疑', 2),\n",
       " ('应该', 2),\n",
       " ('想必', 2),\n",
       " ('亲眼所见', 2),\n",
       " ('意料', 2),\n",
       " ('解雇', 2),\n",
       " ('毫不', 2),\n",
       " ('帕切', 2),\n",
       " ('深感', 2),\n",
       " ('有失', 2),\n",
       " ('纠结', 2),\n",
       " ('略显', 2),\n",
       " ('似乎', 2),\n",
       " ('遗憾', 2),\n",
       " ('注定', 2),\n",
       " ('那位', 2),\n",
       " ('眼里', 2),\n",
       " ('听说', 2),\n",
       " ('迷上', 2),\n",
       " ('记得', 2),\n",
       " ('本来', 2),\n",
       " ('所以', 2),\n",
       " ('或许', 2),\n",
       " ('亲眼看到', 2),\n",
       " ('看见', 2),\n",
       " ('听到', 2),\n",
       " ('目睹', 2),\n",
       " ('听见', 2),\n",
       " ('想到', 2),\n",
       " ('所在位置', 2),\n",
       " ('带', 2),\n",
       " ('刘帅', 2),\n",
       " ('韩茜', 2),\n",
       " ('和', 1),\n",
       " ('利用', 1),\n",
       " ('以及', 1),\n",
       " ('及', 1),\n",
       " ('对', 1),\n",
       " ('勾结', 1),\n",
       " ('所属', 1),\n",
       " ('保护法', 1),\n",
       " ('保全', 1),\n",
       " ('无国籍', 1),\n",
       " ('针对', 1),\n",
       " ('状告', 1),\n",
       " ('SGR', 1),\n",
       " ('掌管', 1),\n",
       " ('强迫', 1),\n",
       " ('严格遵守', 1),\n",
       " ('这使', 1),\n",
       " ('评论', 1),\n",
       " ('态度', 1),\n",
       " ('逻辑', 1),\n",
       " ('表述', 1),\n",
       " ('正面', 1),\n",
       " ('措辞', 1),\n",
       " ('立场', 1),\n",
       " ('文章', 1),\n",
       " ('波普尔', 1),\n",
       " ('赞同', 1),\n",
       " ('判断', 1),\n",
       " ('客观', 1),\n",
       " ('表态', 1),\n",
       " ('宏观', 1),\n",
       " ('答案', 1),\n",
       " ('考量', 1),\n",
       " ('承认', 1),\n",
       " ('坚称', 1),\n",
       " ('并称', 1),\n",
       " ('否认', 1),\n",
       " ('指认', 1),\n",
       " ('拒绝', 1),\n",
       " ('推翻', 1),\n",
       " ('单方面', 1),\n",
       " ('效法', 1),\n",
       " ('出面', 1),\n",
       " ('动用', 1),\n",
       " ('决定权', 1),\n",
       " ('明确提出', 1),\n",
       " ('制定', 1),\n",
       " ('制订', 1),\n",
       " ('明确', 1),\n",
       " ('出台', 1),\n",
       " ('起草', 1),\n",
       " ('作出', 1),\n",
       " ('提交', 1),\n",
       " ('写入', 1),\n",
       " ('修订', 1),\n",
       " ('确立', 1),\n",
       " ('实施', 1),\n",
       " ('立法', 1),\n",
       " ('推行', 1),\n",
       " ('筹划', 1),\n",
       " ('拟定', 1),\n",
       " ('说明', 1),\n",
       " ('认识', 1),\n",
       " ('印证', 1),\n",
       " ('梳理', 1),\n",
       " ('体现', 1),\n",
       " ('发现', 1),\n",
       " ('一目了然', 1),\n",
       " ('变化', 1),\n",
       " ('煽动性', 1),\n",
       " ('采纳', 1),\n",
       " ('看', 1),\n",
       " ('关心', 1),\n",
       " ('感激', 1),\n",
       " ('谈起', 1),\n",
       " ('溢于言表', 1),\n",
       " ('说起', 1),\n",
       " ('倍感', 1),\n",
       " ('不已', 1),\n",
       " ('感触', 1),\n",
       " ('往事', 1),\n",
       " ('心里', 1),\n",
       " ('李达康', 1),\n",
       " ('不禁', 1),\n",
       " ('总是', 1),\n",
       " ('拜访', 1),\n",
       " ('得知', 1),\n",
       " ('身在', 1),\n",
       " ('劝', 1),\n",
       " ('过世', 1),\n",
       " ('去过', 1),\n",
       " ('极力推荐', 1),\n",
       " ('了然于心', 1),\n",
       " ('专程到', 1),\n",
       " ('打定主意', 1),\n",
       " ('妈', 1),\n",
       " ('说完', 1),\n",
       " ('腼腆', 1),\n",
       " ('自称为', 1),\n",
       " ('喊', 1),\n",
       " ('长跪', 1),\n",
       " ('开玩笑', 1),\n",
       " ('想起', 1),\n",
       " ('了不起', 1),\n",
       " ('可是', 1),\n",
       " ('从没', 1),\n",
       " ('挺', 1),\n",
       " ('明白', 1),\n",
       " ('是不是', 1),\n",
       " ('没什么', 1),\n",
       " ('辛苦', 1),\n",
       " ('好事', 1),\n",
       " ('一点', 1),\n",
       " ('真是', 1),\n",
       " ('咱们', 1),\n",
       " ('庆幸', 1),\n",
       " ('感觉', 1),\n",
       " ('算是', 1),\n",
       " ('未必', 1),\n",
       " ('还是', 1),\n",
       " ('而且', 1),\n",
       " ('基本上', 1),\n",
       " ('无论', 1),\n",
       " ('单纯', 1),\n",
       " ('常说', 1),\n",
       " ('心中', 1),\n",
       " ('钟爱', 1),\n",
       " ('出身', 1),\n",
       " ('爱上', 1),\n",
       " ('情缘', 1),\n",
       " ('称之为', 1),\n",
       " ('家喻户晓', 1),\n",
       " ('脑海中', 1),\n",
       " ('情结', 1),\n",
       " ('紫砂', 1),\n",
       " ('国际主义', 1),\n",
       " ('无不', 1),\n",
       " ('确实', 1),\n",
       " ('之所以', 1),\n",
       " ('也', 1),\n",
       " ('一定', 1),\n",
       " ('这样', 1),\n",
       " ('这方面', 1),\n",
       " ('满意', 1),\n",
       " ('顾虑', 1),\n",
       " ('预想', 1),\n",
       " ('荣幸', 1),\n",
       " ('短浅', 1),\n",
       " ('的确', 1),\n",
       " ('希望', 1),\n",
       " ('期待', 1),\n",
       " ('期望', 1),\n",
       " ('将来', 1),\n",
       " ('让', 1),\n",
       " ('指望', 1),\n",
       " ('感到高兴', 1),\n",
       " ('非常感谢', 1),\n",
       " ('想法', 1),\n",
       " ('知晓', 1),\n",
       " ('认同', 1),\n",
       " ('请问', 1),\n",
       " ('注意', 1),\n",
       " ('反问', 1),\n",
       " ('吗', 1),\n",
       " ('提问', 1),\n",
       " ('追问', 1),\n",
       " ('疑问', 1),\n",
       " ('发问', 1),\n",
       " ('冯武', 1),\n",
       " ('谈', 1),\n",
       " ('几点', 1),\n",
       " ('共见', 1),\n",
       " ('高蓓摄', 1),\n",
       " ('为什么', 1),\n",
       " ('找到', 1),\n",
       " ('刘心伟开', 1),\n",
       " ('捕捉到', 1),\n",
       " ('走入', 1),\n",
       " ('看出', 1),\n",
       " ('留意', 1),\n",
       " ('挤满', 1),\n",
       " ('抵住', 1),\n",
       " ('李秀明', 1),\n",
       " ('黄和逊', 1),\n",
       " ('转述', 1),\n",
       " ('法制晚报', 1),\n",
       " ('转发给', 1),\n",
       " ('xhszzb', 1),\n",
       " ('摄影记者', 1),\n",
       " ('商报讯', 1),\n",
       " ('南方周末', 1),\n",
       " ('当有', 1),\n",
       " ('姜克红', 1),\n",
       " ('吴晓颖', 1),\n",
       " ('夏奕', 1),\n",
       " ('通读', 1),\n",
       " ('罗鑫', 1),\n",
       " ('坦白', 1),\n",
       " ('彭卓', 1),\n",
       " ('国际金融报', 1),\n",
       " ('跟随', 1),\n",
       " ('听闻', 1),\n",
       " ('对准', 1),\n",
       " ('踏出', 1),\n",
       " ('寻觅', 1),\n",
       " ('不见踪影', 1),\n",
       " ('回忆起', 1),\n",
       " ('浮现', 1),\n",
       " ('安晓萌', 1),\n",
       " ('袁梦晨', 1),\n",
       " ('王羽', 1),\n",
       " ('汪强', 1),\n",
       " ('社会活动家', 1),\n",
       " ('任军', 1),\n",
       " ('杨汀', 1),\n",
       " ('甘春', 1),\n",
       " ('阎向', 1),\n",
       " ('张雪飞', 1),\n",
       " ('李晓渝', 1),\n",
       " ('李骥志', 1),\n",
       " ('钟忠', 1),\n",
       " ('林晓蔚', 1),\n",
       " ('柳丝', 1),\n",
       " ('娓娓', 1),\n",
       " ('张继业', 1),\n",
       " ('每经', 1),\n",
       " ('通讯员', 1),\n",
       " ('本报讯', 1),\n",
       " ('实习生', 1),\n",
       " (0, 0),\n",
       " (2, 0)]"
      ]
     },
     "execution_count": 80,
     "metadata": {},
     "output_type": "execute_result"
    }
   ],
   "source": [
    "sorted(related_words.items(), key = lambda x:x[1], reverse=True)"
   ]
  },
  {
   "cell_type": "markdown",
   "metadata": {},
   "source": [
    "## TFIDF key words"
   ]
  },
  {
   "cell_type": "code",
   "execution_count": 32,
   "metadata": {},
   "outputs": [
    {
     "data": {
      "text/plain": [
       "'此外   自 本周   6 月 12 日   起   除 小米 手机 6 等 15 款 机型 外   其余 机型 已 暂停 更新 发布   含 开发 版   体验版 内测   稳定版 暂不受 影响   以 确保 工程师 可以 集中 全部 精力 进行 系统优化 工作   有人 猜测 这 也 是 将 精力 主要 用到 MIUI   9 的 研发 之中   MIUI   8 去年 5 月 发布   距今已有 一年 有余   也 是 时候 更新换代 了   当然   关于 MIUI   9 的 确切 信息   我们 还是 等待 官方消息'"
      ]
     },
     "execution_count": 32,
     "metadata": {},
     "output_type": "execute_result"
    }
   ],
   "source": [
    "news_content[0]"
   ]
  },
  {
   "cell_type": "code",
   "execution_count": 33,
   "metadata": {},
   "outputs": [],
   "source": [
    "def document_frequency(word):\n",
    "    return sum(1 for n in news_content if word in n)"
   ]
  },
  {
   "cell_type": "code",
   "execution_count": 34,
   "metadata": {},
   "outputs": [
    {
     "data": {
      "text/plain": [
       "70342"
      ]
     },
     "execution_count": 34,
     "metadata": {},
     "output_type": "execute_result"
    }
   ],
   "source": [
    "document_frequency('的')"
   ]
  },
  {
   "cell_type": "code",
   "execution_count": 35,
   "metadata": {},
   "outputs": [],
   "source": [
    "import math"
   ]
  },
  {
   "cell_type": "code",
   "execution_count": 36,
   "metadata": {},
   "outputs": [],
   "source": [
    "def idf(word):\n",
    "    return math.log10(len(news_content) / document_frequency(word))"
   ]
  },
  {
   "cell_type": "code",
   "execution_count": 37,
   "metadata": {},
   "outputs": [
    {
     "data": {
      "text/plain": [
       "0.1051466115514474"
      ]
     },
     "execution_count": 37,
     "metadata": {},
     "output_type": "execute_result"
    }
   ],
   "source": [
    "idf('的')"
   ]
  },
  {
   "cell_type": "code",
   "execution_count": 38,
   "metadata": {},
   "outputs": [
    {
     "data": {
      "text/plain": [
       "2.948039950009831"
      ]
     },
     "execution_count": 38,
     "metadata": {},
     "output_type": "execute_result"
    }
   ],
   "source": [
    "idf('小米')"
   ]
  },
  {
   "cell_type": "code",
   "execution_count": 39,
   "metadata": {},
   "outputs": [],
   "source": [
    "def tf(word, document):\n",
    "    words = document.split()\n",
    "    return sum(1 for w in words if w == word)"
   ]
  },
  {
   "cell_type": "code",
   "execution_count": 40,
   "metadata": {
    "collapsed": true
   },
   "outputs": [
    {
     "data": {
      "text/plain": [
       "'?\\r\\n\\u3000\\u3000巨丰早评：市场将再次探底\\r\\n\\u3000\\u3000【巨丰观点】\\r\\n\\u3000\\u3000周四大盘冲高回落，2500余只个股下跌。上证50、沪深300指数顽强收红。早盘大盘低开高走，展开反弹，沪指冲破120日均线压力位；午后大盘跳水，个股普跌。盘面上，保险、电力、银行、民航机场、券商、房地产、人工智能、迪士尼、网络安全等板块涨幅居前。雄安新区、福州新区、医疗器械、丝绸之路等跌幅居前。\\r\\n\\u3000\\u3000金融股全线大涨：保险板块涨3%：新华保险、中国太保、中国人寿涨4%，中国平安涨2%；西水股份、天茂集团盘中大涨7%以上。银行板块涨2%：招商银行大涨8%，贵阳银行、兴业银行、浦发银行、兴业银行等涨幅居前。金融股是A股纳入MSCI指数的受益者，后市可以逢低关注。\\r\\n\\u3000\\u3000盘中万达电影、复星医药等白马股闪崩，导致午后市场出现大幅跳水。盘后消息，银监会于6月中旬要求各家银行排查包括万达、海航集团、复星、浙江罗森内里在内数家企业的授信及风险分析，排查对象多是近年来海外投资比较凶猛、在银行业敞口较大的民营企业集团。\\r\\n\\u3000\\u3000巨丰投顾认为自5月以来，大盘已经走出了3重底的走势，并开启中级反弹行情。沪指在上证50及白马股推动下率先反弹，但遭遇60日、120日均线强压力而出现调整。MSCI纳入A股后，沪深300指数创17个月新高，但2500余股下跌，市场分化明显。随着6月末市场流动性紧张的可能出现，市场将再次出现探底。建议投资者重点关注半年报大幅预增的错杀股和具备估值优势的大蓝筹。\\r\\n\\u3000\\u3000天信投资：尾盘跳水原因揭秘 伏击的品种曝光\\r\\n\\u3000\\u3000周四市场点评：\\r\\n\\u3000\\u3000沪深两市早盘纷纷低开，但是开盘之后权重板块崛起，其中保险和银行表现尤其明显，低矮动股指快速拉升，并顺势突破了60日均线和半年线的束缚；在主板拉升的过程中，市场的分化格局也较明显，题材板块和创业板表现相对较弱。不过虽然市场在早盘的上攻，但是成交量萎缩明教明显，所以这种上涨比较虚。果不其然，午后个股再度纷纷杀跌，同时股指也是顺势回落，沪市的半年线得而复失，形成长长的上影线；而创业板股指在回落的过程中失守5日均线的支撑。整体上周四市场全天保持宽幅震荡走势，尤其是沪市冲高回落。保险、银行、中字头、举牌等品种涨幅居前；钛金属、区块链、雄安新区、民营医院等品种领跌。\\r\\n\\u3000\\u3000今日市场预测：\\r\\n\\u3000\\u3000在周三收市的评论中，我们指出周四市场会出现阶段性的普涨行情，而周四早盘三大股指齐齐上涨，即使创业板股指涨幅较小，但是市场确实也给我们呈现的普涨格局。但是午后的跳水，包括创业板股指先下跌，随后沪指尾盘的快速下杀，使得市场从普涨瞬间到普跌，市场的大起大落来的非常刺激。从三大股指周四呈现给大家的K线组合来看，预计今日市场齐跌的概率较大，不过创业板合格题材板块或具备一定的抗跌性。\\r\\n\\u3000\\u3000短期行情判断：\\r\\n\\u3000\\u3000从大的环境上来看，市场目前本身不具备大面积和大空间的反弹基础，因为目前无论是从宏观面、货币基本面或者从国际经济和政治的角度来看，都不具备这样的条件，所以反应到市场中来，只能是结构性、局部性的投机性机会。而最近半个月以来，市场的走势也确实符合局部性、结构性投机的走势。\\r\\n\\u3000\\u3000周四市场沪指形成带长长上影线的倒锤阴线；创业板股指形成的是跌破5日和10日均线的中阴线，这种类型的K线形态，几乎都是市场开始调整的先兆，所以短期市场而言，悲观的情绪或升温。\\r\\n\\u3000\\u3000后市投资建议：\\r\\n\\u3000\\u3000短期建议投资者一定要控制好自身的仓位。中期继续看好题材板块的崛起，特别是次新股、高送转、重组股等等可以不断的去伏击，依旧具备超跌反弹的性质。\\r\\n'"
      ]
     },
     "execution_count": 40,
     "metadata": {},
     "output_type": "execute_result"
    }
   ],
   "source": [
    "content['content'][11]"
   ]
  },
  {
   "cell_type": "code",
   "execution_count": 41,
   "metadata": {},
   "outputs": [
    {
     "data": {
      "text/plain": [
       "6"
      ]
     },
     "execution_count": 41,
     "metadata": {},
     "output_type": "execute_result"
    }
   ],
   "source": [
    "tf('银行',news_content[11])"
   ]
  },
  {
   "cell_type": "code",
   "execution_count": 42,
   "metadata": {},
   "outputs": [
    {
     "data": {
      "text/plain": [
       "6"
      ]
     },
     "execution_count": 42,
     "metadata": {},
     "output_type": "execute_result"
    }
   ],
   "source": [
    "tf('创业板',news_content[11])"
   ]
  },
  {
   "cell_type": "code",
   "execution_count": 43,
   "metadata": {
    "collapsed": true
   },
   "outputs": [
    {
     "data": {
      "text/plain": [
       "'巨丰 早评   市场 将 再次 探底   巨丰 观点   周四 大盘 冲高 回落   2500 余 只 个股 下跌   上证 50   沪 深 300 指数 顽强 收红   早盘 大盘 低开 高 走   展开 反弹   沪 指 冲破 120 日 均线 压力 位   午后 大盘 跳水   个股 普跌   盘面 上   保险   电力   银行   民航机场   券商   房地产   人工智能   迪士尼   网络安全 等 板块 涨幅 居前   雄安 新区   福州 新区   医疗器械   丝绸之路 等 跌幅 居前   金融股 全线 大涨   保险 板块 涨 3   新华 保险   中国 太保   中国 人寿 涨 4   中国 平安 涨 2   西水股份   天茂 集团 盘中 大涨 7   以上   银行 板块 涨 2   招商银行 大涨 8   贵阳 银行   兴业银行   浦发银行   兴业银行 等 涨幅 居前   金融股 是 A股 纳入 MSCI 指数 的 受益者   后市 可以 逢 低 关注   盘中 万达 电影   复星 医药 等 白马股 闪崩   导致 午后 市场 出现 大幅 跳水   盘后 消息   银监会 于 6 月 中旬 要求 各家 银行 排查 包括 万达   海航 集团   复星   浙江 罗森 内里 在内 数家 企业 的 授信 及 风险 分析   排查 对象 多 是 近年来 海外投资 比较 凶猛   在 银行业 敞口 较大 的 民营企业 集团   巨丰 投顾 认为 自 5 月 以来   大盘 已经 走出 了 3 重底 的 走势   并 开启 中级 反弹 行情   沪 指 在 上证 50 及 白马股 推动 下 率先 反弹   但 遭遇 60 日   120 日 均线 强 压力 而 出现 调整   MSCI 纳入 A股 后   沪 深 300 指数 创 17 个 月 新高   但 2500 余股 下跌   市场 分化 明显   随着 6 月末 市场 流动性 紧张 的 可能 出现   市场 将 再次出现 探底   建议 投资者 重点 关注 半年报 大幅 预增 的 错 杀 股 和 具备 估值 优势 的 大 蓝筹   天信 投资   尾盘 跳水 原因 揭秘   伏击 的 品种 曝光   周四 市场 点评   沪 深 两市 早盘 纷纷 低开   但是 开盘 之后 权重 板块 崛起   其中 保险 和 银行 表现 尤其 明显   低矮 动 股指 快速 拉升   并 顺势 突破 了 60 日 均线 和 半年线 的 束缚   在 主板 拉升 的 过程 中   市场 的 分化 格局 也 较 明显   题材 板块 和 创业板 表现 相对 较弱   不过 虽然 市场 在 早盘 的 上攻   但是 成交量 萎缩 明教 明显   所以 这种 上涨 比较 虚   果不其然   午后 个股 再度 纷纷 杀跌   同时 股指 也 是 顺势 回落   沪市 的 半年线 得而复失   形成 长长的 上影线   而 创业板 股指 在 回落 的 过程 中 失守 5 日 均线 的 支撑   整体 上周四 市场 全天 保持 宽幅 震荡 走势   尤其 是 沪市 冲高 回落   保险   银行   中 字头   举牌 等 品种 涨幅 居前   钛 金属   区块 链   雄安 新区   民营 医院 等 品种 领跌   今日 市场预测   在 周三 收市 的 评论 中   我们 指出 周四 市场 会 出现 阶段性 的 普涨 行情   而 周四 早盘 三大 股指 齐齐 上涨   即使 创业板 股指 涨幅 较 小   但是 市场 确实 也 给 我们 呈现 的 普涨 格局   但是 午后 的 跳水   包括 创业板 股指 先 下跌   随后 沪 指 尾盘 的 快速 下 杀   使得 市场 从 普涨 瞬间 到 普跌   市场 的 大起大落 来 的 非常 刺激   从三大 股指 周四 呈现 给 大家 的 K 线 组合 来看   预计 今日 市场 齐跌 的 概率 较大   不过 创业板 合格 题材 板块 或 具备 一定 的 抗跌性   短期 行情 判断   从 大 的 环境 上 来看   市场 目前 本身 不 具备 大面积 和 大 空间 的 反弹 基础   因为 目前 无论是 从 宏观 面   货币 基本面 或者 从 国际 经济 和 政治 的 角度 来看   都 不 具备 这样 的 条件   所以 反应 到 市场 中来   只能 是 结构性   局部性 的 投机性 机会   而 最近 半个 月 以来   市场 的 走势 也 确实 符合 局部性   结构性 投机 的 走势   周四 市场 沪 指 形成 带 长长 上影线 的 倒 锤 阴线   创业板 股指 形成 的 是 跌破 5 日 和 10 日 均线 的 中 阴线   这种 类型 的 K 线 形态   几乎 都 是 市场 开始 调整 的 先兆   所以 短期 市场 而言   悲观 的 情绪 或 升温   后市 投资 建议   短期 建议 投资者 一定 要 控制 好 自身 的 仓位   中期 继续 看好 题材 板块 的 崛起   特别 是 次新股   高送 转   重组股 等等 可以 不断 的 去 伏击   依旧 具备 超跌 反弹 的 性质'"
      ]
     },
     "execution_count": 43,
     "metadata": {},
     "output_type": "execute_result"
    }
   ],
   "source": [
    "news_content[11]"
   ]
  },
  {
   "cell_type": "code",
   "execution_count": 44,
   "metadata": {},
   "outputs": [
    {
     "data": {
      "text/plain": [
       "2.506757120518876"
      ]
     },
     "execution_count": 44,
     "metadata": {},
     "output_type": "execute_result"
    }
   ],
   "source": [
    "idf('创业板')"
   ]
  },
  {
   "cell_type": "code",
   "execution_count": 45,
   "metadata": {},
   "outputs": [
    {
     "data": {
      "text/plain": [
       "1.4550169427748936"
      ]
     },
     "execution_count": 45,
     "metadata": {},
     "output_type": "execute_result"
    }
   ],
   "source": [
    "idf('银行')"
   ]
  },
  {
   "cell_type": "code",
   "execution_count": 49,
   "metadata": {},
   "outputs": [
    {
     "data": {
      "text/plain": [
       "(1.9923664854640575, 3)"
      ]
     },
     "execution_count": 49,
     "metadata": {},
     "output_type": "execute_result"
    }
   ],
   "source": [
    "idf('短期'),tf('短期',news_content[11])"
   ]
  },
  {
   "cell_type": "code",
   "execution_count": 93,
   "metadata": {},
   "outputs": [],
   "source": [
    "def get_keywords_of_a_document(document):\n",
    "    words = set(document.split())\n",
    "    tfidf = [(w, tf(w, document)*idf(w)) for w in words]\n",
    "    tfidf = sorted(tfidf, key=lambda x:x[1], reverse=True)\n",
    "    return tfidf[:]"
   ]
  },
  {
   "cell_type": "code",
   "execution_count": 51,
   "metadata": {
    "collapsed": true
   },
   "outputs": [
    {
     "data": {
      "text/plain": [
       "'此外   自 本周   6 月 12 日   起   除 小米 手机 6 等 15 款 机型 外   其余 机型 已 暂停 更新 发布   含 开发 版   体验版 内测   稳定版 暂不受 影响   以 确保 工程师 可以 集中 全部 精力 进行 系统优化 工作   有人 猜测 这 也 是 将 精力 主要 用到 MIUI   9 的 研发 之中   MIUI   8 去年 5 月 发布   距今已有 一年 有余   也 是 时候 更新换代 了   当然   关于 MIUI   9 的 确切 信息   我们 还是 等待 官方消息'"
      ]
     },
     "execution_count": 51,
     "metadata": {},
     "output_type": "execute_result"
    }
   ],
   "source": [
    "news_content[0]"
   ]
  },
  {
   "cell_type": "code",
   "execution_count": 83,
   "metadata": {
    "collapsed": true
   },
   "outputs": [
    {
     "data": {
      "text/plain": [
       "'巨丰 早评   市场 将 再次 探底   巨丰 观点   周四 大盘 冲高 回落   2500 余 只 个股 下跌   上证 50   沪 深 300 指数 顽强 收红   早盘 大盘 低开 高 走   展开 反弹   沪 指 冲破 120 日 均线 压力 位   午后 大盘 跳水   个股 普跌   盘面 上   保险   电力   银行   民航机场   券商   房地产   人工智能   迪士尼   网络安全 等 板块 涨幅 居前   雄安 新区   福州 新区   医疗器械   丝绸之路 等 跌幅 居前   金融股 全线 大涨   保险 板块 涨 3   新华 保险   中国 太保   中国 人寿 涨 4   中国 平安 涨 2   西水股份   天茂 集团 盘中 大涨 7   以上   银行 板块 涨 2   招商银行 大涨 8   贵阳 银行   兴业银行   浦发银行   兴业银行 等 涨幅 居前   金融股 是 A股 纳入 MSCI 指数 的 受益者   后市 可以 逢 低 关注   盘中 万达 电影   复星 医药 等 白马股 闪崩   导致 午后 市场 出现 大幅 跳水   盘后 消息   银监会 于 6 月 中旬 要求 各家 银行 排查 包括 万达   海航 集团   复星   浙江 罗森 内里 在内 数家 企业 的 授信 及 风险 分析   排查 对象 多 是 近年来 海外投资 比较 凶猛   在 银行业 敞口 较大 的 民营企业 集团   巨丰 投顾 认为 自 5 月 以来   大盘 已经 走出 了 3 重底 的 走势   并 开启 中级 反弹 行情   沪 指 在 上证 50 及 白马股 推动 下 率先 反弹   但 遭遇 60 日   120 日 均线 强 压力 而 出现 调整   MSCI 纳入 A股 后   沪 深 300 指数 创 17 个 月 新高   但 2500 余股 下跌   市场 分化 明显   随着 6 月末 市场 流动性 紧张 的 可能 出现   市场 将 再次出现 探底   建议 投资者 重点 关注 半年报 大幅 预增 的 错 杀 股 和 具备 估值 优势 的 大 蓝筹   天信 投资   尾盘 跳水 原因 揭秘   伏击 的 品种 曝光   周四 市场 点评   沪 深 两市 早盘 纷纷 低开   但是 开盘 之后 权重 板块 崛起   其中 保险 和 银行 表现 尤其 明显   低矮 动 股指 快速 拉升   并 顺势 突破 了 60 日 均线 和 半年线 的 束缚   在 主板 拉升 的 过程 中   市场 的 分化 格局 也 较 明显   题材 板块 和 创业板 表现 相对 较弱   不过 虽然 市场 在 早盘 的 上攻   但是 成交量 萎缩 明教 明显   所以 这种 上涨 比较 虚   果不其然   午后 个股 再度 纷纷 杀跌   同时 股指 也 是 顺势 回落   沪市 的 半年线 得而复失   形成 长长的 上影线   而 创业板 股指 在 回落 的 过程 中 失守 5 日 均线 的 支撑   整体 上周四 市场 全天 保持 宽幅 震荡 走势   尤其 是 沪市 冲高 回落   保险   银行   中 字头   举牌 等 品种 涨幅 居前   钛 金属   区块 链   雄安 新区   民营 医院 等 品种 领跌   今日 市场预测   在 周三 收市 的 评论 中   我们 指出 周四 市场 会 出现 阶段性 的 普涨 行情   而 周四 早盘 三大 股指 齐齐 上涨   即使 创业板 股指 涨幅 较 小   但是 市场 确实 也 给 我们 呈现 的 普涨 格局   但是 午后 的 跳水   包括 创业板 股指 先 下跌   随后 沪 指 尾盘 的 快速 下 杀   使得 市场 从 普涨 瞬间 到 普跌   市场 的 大起大落 来 的 非常 刺激   从三大 股指 周四 呈现 给 大家 的 K 线 组合 来看   预计 今日 市场 齐跌 的 概率 较大   不过 创业板 合格 题材 板块 或 具备 一定 的 抗跌性   短期 行情 判断   从 大 的 环境 上 来看   市场 目前 本身 不 具备 大面积 和 大 空间 的 反弹 基础   因为 目前 无论是 从 宏观 面   货币 基本面 或者 从 国际 经济 和 政治 的 角度 来看   都 不 具备 这样 的 条件   所以 反应 到 市场 中来   只能 是 结构性   局部性 的 投机性 机会   而 最近 半个 月 以来   市场 的 走势 也 确实 符合 局部性   结构性 投机 的 走势   周四 市场 沪 指 形成 带 长长 上影线 的 倒 锤 阴线   创业板 股指 形成 的 是 跌破 5 日 和 10 日 均线 的 中 阴线   这种 类型 的 K 线 形态   几乎 都 是 市场 开始 调整 的 先兆   所以 短期 市场 而言   悲观 的 情绪 或 升温   后市 投资 建议   短期 建议 投资者 一定 要 控制 好 自身 的 仓位   中期 继续 看好 题材 板块 的 崛起   特别 是 次新股   高送 转   重组股 等等 可以 不断 的 去 伏击   依旧 具备 超跌 反弹 的 性质'"
      ]
     },
     "execution_count": 83,
     "metadata": {},
     "output_type": "execute_result"
    }
   ],
   "source": [
    "news_content[11]"
   ]
  },
  {
   "cell_type": "code",
   "execution_count": 53,
   "metadata": {
    "collapsed": true
   },
   "outputs": [
    {
     "data": {
      "text/plain": [
       "[('MIUI', 13.953993984385477),\n",
       " ('机型', 5.854110917055407),\n",
       " ('体验版', 4.9523613237924735),\n",
       " ('暂不受', 4.9523613237924735),\n",
       " ('稳定版', 4.9523613237924735),\n",
       " ('系统优化', 4.9523613237924735),\n",
       " ('精力', 4.865066660033509),\n",
       " ('内测', 4.17421007340883),\n",
       " ('官方消息', 3.9523613237924735),\n",
       " ('距今已有', 3.6301420290585544),\n",
       " ('更新换代', 3.433847383914586),\n",
       " ('用到', 3.339577467072738),\n",
       " ('确切', 3.139447967149618),\n",
       " ('有余', 3.0128420711738553),\n",
       " ('小米', 2.948039950009831),\n",
       " ('猜测', 2.6828483795745575),\n",
       " ('本周', 2.3069390544433817),\n",
       " ('其余', 2.2953054709353697),\n",
       " ('工程师', 2.2595144045152438),\n",
       " ('更新', 2.2143739974590426),\n",
       " ('暂停', 2.188933330229536),\n",
       " ('发布', 2.15877938610806),\n",
       " ('之中', 2.129539678489369),\n",
       " ('当然', 2.040139267260058),\n",
       " ('等待', 2.0327603000083627),\n",
       " ('有人', 1.7504182603908234),\n",
       " ('研发', 1.7322532357524185),\n",
       " ('手机', 1.7180971994136842),\n",
       " ('确保', 1.6071837072497697),\n",
       " ('含', 1.5902560044987006),\n",
       " ('集中', 1.558260021752429),\n",
       " ('时候', 1.5056688574209465),\n",
       " ('版', 1.4878717763585023),\n",
       " ('开发', 1.428354878235101),\n",
       " ('关于', 1.423958885838856),\n",
       " ('全部', 1.4222897549550955),\n",
       " ('一年', 1.4193523012969882),\n",
       " ('此外', 1.3910213823335724),\n",
       " ('还是', 1.385688186186357),\n",
       " ('也', 1.3571927305753895),\n",
       " ('款', 1.3211205435569644),\n",
       " ('去年', 1.2942544882860807),\n",
       " ('信息', 1.2461557819105031),\n",
       " ('9', 1.1922883791454768),\n",
       " ('影响', 1.1693157516777808),\n",
       " ('除', 1.117051322923411),\n",
       " ('主要', 1.1098144872974587),\n",
       " ('可以', 1.0866652638764032),\n",
       " ('我们', 1.0544045137855218),\n",
       " ('15', 0.9544509564457302),\n",
       " ('12', 0.9480829515923112),\n",
       " ('工作', 0.8755752902843944),\n",
       " ('是', 0.8138857280827148),\n",
       " ('6', 0.7622602583437212),\n",
       " ('进行', 0.7263804392128818),\n",
       " ('起', 0.7202295824958537),\n",
       " ('已', 0.6788276436411759),\n",
       " ('8', 0.5787505954795428),\n",
       " ('自', 0.55393517748699),\n",
       " ('等', 0.5441043941837564),\n",
       " ('将', 0.5152928533643126),\n",
       " ('这', 0.5000074536188772),\n",
       " ('了', 0.45883356820169324),\n",
       " ('外', 0.34818929079413613),\n",
       " ('以', 0.321953790905766),\n",
       " ('5', 0.27557629337326817),\n",
       " ('的', 0.2102932231028948),\n",
       " ('月', 0.06974313771994531),\n",
       " ('日', 0.02542752798959483)]"
      ]
     },
     "execution_count": 53,
     "metadata": {},
     "output_type": "execute_result"
    }
   ],
   "source": [
    "get_keywords_of_a_document(news_content[0])"
   ]
  },
  {
   "cell_type": "code",
   "execution_count": 54,
   "metadata": {},
   "outputs": [],
   "source": [
    "machine_new_keywords = get_keywords_of_a_document(news_content[10])"
   ]
  },
  {
   "cell_type": "code",
   "execution_count": 55,
   "metadata": {
    "collapsed": true
   },
   "outputs": [
    {
     "data": {
      "text/plain": [
       "[('蓝筹股', 8.663710003696664),\n",
       " ('私募', 5.837875136611048),\n",
       " ('成长', 5.366705316067451),\n",
       " ('行情', 4.6520419128348625),\n",
       " ('业绩', 4.383877680738523),\n",
       " ('股行情', 4.253391319456455),\n",
       " ('此消彼长', 3.838417971485637),\n",
       " ('王道', 3.806233288114236),\n",
       " ('stcn', 3.3841595997254785),\n",
       " ('强于', 3.3725777271756634),\n",
       " ('再起', 3.3612967167659744),\n",
       " ('成长性', 3.17421007340883),\n",
       " ('推动力', 3.126286521091647),\n",
       " ('证券时报', 3.1072632837782166),\n",
       " ('上证综指', 2.9885734964469184),\n",
       " ('一时间', 2.922977546107264),\n",
       " ('蓝筹', 2.7939988316972237),\n",
       " ('人士', 2.7918764048423768),\n",
       " ('www', 2.7676698929748746),\n",
       " ('切换', 2.7244746191788),\n",
       " ('上证', 2.628078868494781),\n",
       " ('com', 2.5475276071725355),\n",
       " ('估值', 2.5161986767517175),\n",
       " ('匹配', 2.513028629962211),\n",
       " ('创业板', 2.506757120518876),\n",
       " ('本轮', 2.381818383910576),\n",
       " ('看好', 2.347056277651364),\n",
       " ('日讯', 2.3385195019164042),\n",
       " ('绝对', 2.1613728487036576),\n",
       " ('多位', 2.107884148046792),\n",
       " ('月初', 2.0825431158131456),\n",
       " ('并非', 1.9589250932948619),\n",
       " ('06', 1.837416908079889),\n",
       " ('预期', 1.7988513344916361),\n",
       " ('指数', 1.7780107263130935),\n",
       " ('突出', 1.739907362752198),\n",
       " ('上涨', 1.73435128080811),\n",
       " ('上述', 1.7296448526448904),\n",
       " ('依然', 1.720636940463957),\n",
       " ('两年', 1.6603268877977373),\n",
       " ('明显', 1.4923660677450823),\n",
       " ('关于', 1.423958885838856),\n",
       " ('股', 1.3492169511722913),\n",
       " ('就是', 1.2374450757988886),\n",
       " ('报道', 1.1491091123620165),\n",
       " ('以来', 1.1343995192604797),\n",
       " ('才', 1.1139530452982869),\n",
       " ('23', 1.1108141585359204),\n",
       " ('主要', 1.1098144872974587),\n",
       " ('与', 0.9814855196769153),\n",
       " ('表示', 0.8634105895744374),\n",
       " ('但', 0.8197814761327366),\n",
       " ('网', 0.771089552233012),\n",
       " ('而', 0.7562680800549588),\n",
       " ('向', 0.7486215151586154),\n",
       " ('据', 0.6716236502877919),\n",
       " ('将', 0.5152928533643126),\n",
       " ('这', 0.5000074536188772),\n",
       " ('的', 0.4205864462057896),\n",
       " ('是', 0.4069428640413574),\n",
       " ('6', 0.3811301291718606),\n",
       " ('月', 0.034871568859972654)]"
      ]
     },
     "execution_count": 55,
     "metadata": {},
     "output_type": "execute_result"
    }
   ],
   "source": [
    "machine_new_keywords"
   ]
  },
  {
   "cell_type": "code",
   "execution_count": 57,
   "metadata": {
    "collapsed": true
   },
   "outputs": [
    {
     "data": {
      "text/plain": [
       "'中国 经济网 6 月 23 日讯   记者 刘瑾   日前   中国 机械 工业 百强 企业   汽车 三十 强 企业名单 出炉   在 由 中国 机械 工业 联合会   中国汽车工业协会 主办 的   中国 机械 工业 百强 企业   汽车 工业 三十 强 企业 信息 发布会   上   中国 机械 工业 联合会 会长 王瑞祥 指出   入围 企业 总体 呈现 了 持续增长 态势   2016 年 总 规模   平均 规模 均 创新 高   我国 机械 工业 总体 上 呈现 稳中 向 好 的 发展 态势   主要 经济指标 出现 恢复性 增长   同时   王瑞祥 也 表示   机械 工业 长期 积累 的 结构性 矛盾 还 没有 根本性 改变   新 的 发展 业态   发展 模式 远 未 形成   保持 平稳 健康 发展 的 基础 还 不 牢固   产业 升级   新旧 动能 转换   实现 由大 变强 任重道远   相关 数据 显示   2016 年 机械 百强 入围 企业 规模 是 15   4 亿元   比 上年 略 高   总 规模 达到 16992 亿元   平均 规模 169   92 亿元   两项 均 创新 高   相比 前 两年 的 前十强 排名   名单 基本 没有 什么 变化   只是 工程 机械行业 的 徐工   三一 和 中联重科 由于 之前 市场 环境 等 原因   整体 排位 后移 了 一 两位   但 仍 全部 在 十强 之 列   但 考虑 到 工程 机械行业 最近 以来 的 强烈 增长 态势   明年 该 行业 整体 恢复性 可能 较大   中机联 执行 副会长 陈斌 表示   机械 百强 的 年 换位 率 2005 年 曾 高达 32   此后 逐年 下降   2012 年降 至 6   不过 近几年 又 在 上升   2016 年 升至 22   说明 市场 动荡   不 确定 因素 增加   根据 中机联 公布 的 数据   2017 年 1 至 5 月 机械 增加值 增速 好于 去年 但 呈现 逐月 回落 的 态势   比如 1 至 5 月 增速 为 10   7   比 1 至 4 月 回落 0   2 点   此外 利润总额 也 出现 了 同样 的 走势   专家 分析   这是 由于 钢铁 等 原材料 价格 近期 出现 较大 增幅   使得 工业 企业 成本 压力 增大   产量 同比 增长 表现 抢眼 的 是 工程 机械类 产品   已经 有 8 个 月 保持高速 增长   同时   陈斌 也 表示 了 担忧   比如 价格指数 缓慢 回升 但远 低于 工业   原材料 指数   固定资产 投资 增速 仍 较 低迷   增速 在 多年 回落 之后 继续 在 低位 震荡 徘徊   他 表示   行业 经济运行 仍 面临 一定 的 下行 压力   机械行业 主要 服务 的 钢铁   煤炭   电力 及 石油   化工 等 行业 普遍 处于 产业结构 深度 调整期   其 装备 需求 短期 难以 大幅 增长   还有 经过 多年 的 高速 发展   各类 机械 产品 的 社会 保有量 均 达到 了 相当规模   对 现役 设备 的 更新改造 维护 已 成为 需求 中 的 重要 部分   这 增加 了 增量 回升 的 难度'"
      ]
     },
     "execution_count": 57,
     "metadata": {},
     "output_type": "execute_result"
    }
   ],
   "source": [
    "news_content[101]"
   ]
  },
  {
   "cell_type": "code",
   "execution_count": 60,
   "metadata": {
    "collapsed": true
   },
   "outputs": [
    {
     "data": {
      "text/plain": [
       "[('机械', 19.73268423154147),\n",
       " ('工业', 13.726799287798574),\n",
       " ('百强', 12.218936930008129),\n",
       " ('机械行业', 11.732905915902746),\n",
       " ('中机联', 9.904722647584947),\n",
       " ('王瑞祥', 9.904722647584947),\n",
       " ('增速', 8.057368905265053),\n",
       " ('态势', 7.971371787277902),\n",
       " ('恢复性', 6.867694767829172),\n",
       " ('规模', 6.861746056315247)]"
      ]
     },
     "execution_count": 60,
     "metadata": {},
     "output_type": "execute_result"
    }
   ],
   "source": [
    "get_keywords_of_a_document(news_content[101])"
   ]
  },
  {
   "cell_type": "markdown",
   "metadata": {},
   "source": [
    "### Wordcloud"
   ]
  },
  {
   "cell_type": "code",
   "execution_count": 62,
   "metadata": {},
   "outputs": [
    {
     "name": "stdout",
     "output_type": "stream",
     "text": [
      "Looking in indexes: https://pypi.tuna.tsinghua.edu.cn/simple/\n",
      "Collecting wordcloud\n",
      "  Downloading https://pypi.tuna.tsinghua.edu.cn/packages/dd/57/8fd38e31be7951f9164f4cb3a769159a0c2ef4af0f597ddf09a7e736593e/wordcloud-1.5.0-cp36-cp36m-win_amd64.whl (153kB)\n",
      "Requirement already satisfied: numpy>=1.6.1 in d:\\programdata\\anaconda3\\lib\\site-packages (from wordcloud) (1.14.2)\n",
      "Requirement already satisfied: pillow in d:\\programdata\\anaconda3\\lib\\site-packages (from wordcloud) (5.0.0)\n",
      "Installing collected packages: wordcloud\n",
      "Successfully installed wordcloud-1.5.0\n"
     ]
    },
    {
     "name": "stderr",
     "output_type": "stream",
     "text": [
      "WARNING: You are using pip version 19.1.1, however version 19.2.1 is available.\n",
      "You should consider upgrading via the 'python -m pip install --upgrade pip' command.\n"
     ]
    }
   ],
   "source": [
    "!pip install wordcloud"
   ]
  },
  {
   "cell_type": "code",
   "execution_count": 37,
   "metadata": {},
   "outputs": [],
   "source": [
    "import wordcloud"
   ]
  },
  {
   "cell_type": "code",
   "execution_count": 82,
   "metadata": {},
   "outputs": [],
   "source": [
    "font_files = 'D:\\python\\datasource\\Lesson_05\\SourceHanSerifSC-Regular.otf'"
   ]
  },
  {
   "cell_type": "code",
   "execution_count": 84,
   "metadata": {
    "collapsed": true
   },
   "outputs": [
    {
     "data": {
      "text/plain": [
       "'原 标题   44 岁 女子 跑 深圳 约会 网友 被 拒   暴雨 中 裸身 奔走   深圳 交警 微博称   昨日 清晨 交警 发现 有 一 女子 赤裸 上身   行走 在 南坪 快速 上   期间 还 起 了 轻生 年头   一辅警 发现 后 赶紧 为 其 披上 黄衣   并 一路 劝说 她   那么 事发 时   到底 都 发生 了 些 什么 呢   南 都 记者 带 您 一起 还原 现场   南 都 记者 在 龙岗 大队 坂田 中队 见到 了 辅警 刘青   发现 女生 的 辅警   一位 外表 高大 帅气   说话 略带 些 腼腆 的 90 后 青年   刘青 介绍   6 月 16 日 早上 7 时 36 分   他 正在 环城 南路 附近 值勤   接到 中队 关于 一位 女子 裸身 进入 机动车 可能 有 危险 的 警情   随后 骑着 小 铁骑 开始 沿路 寻找   大概 花 了 十多分钟 在 南坪 大道 坂田 出口 往 龙岗 方向 的 逆行 辅道 上 发现 该 女子   女子 身上 一丝不挂 地逆 车流 而行   时 走时 停   时 坐 时 躺   险象环生   刘青停 好 小 铁骑   和 另外 一名 巡防 员 追 了 上去   发现 女子 的 情绪 很 低落   话 不 多   刘青 尝试 和 女子 交流   劝说 女子 离开   可 女子 并 不 愿意 接受   继续 缓慢 地往 南坪 快速路 的 主干道 上 走 去   此时 路边 上 已经 聚集 了 很 市民 围观   为了 不 刺激 女子 的 情绪   刘青 和 巡防 员 一边 盯 着 女子 一边 驱赶 着 围观 的 群众   现场 还原   从 警方 提供 的 一份 视频 了解 到   16 日 早上 7 时 25 分   女子 出现 在 坂雪岗 大道 与 环城 南路 的 监控 视频 中   此时 女子 还 穿着 白色 的 内裤   正 沿着 坂雪岗 大道 往 南坪 快速 的 方向 缓慢 地 走 着   当时 正值 上班 高峰期   十字路口 的 车流 已经 排起 了 长队   当 女子 出现 时   路上 的 市民 纷纷 驻足 观望   不少 车辆 也 放慢 了 速度   但 女子 并 不 为 市民 观望 停下 脚步   依然 缓慢 走 着   当 女子 行进 到 十字路口 中间 时   一辆 大 货车 挡住 了 镜头   但是 当 女子 再次出现 镜头 时   可以 发现 女子 已经 没 穿 内裤 了   全身 裸露 继续 朝着 南坪 快速 方向 走 去   记者 发现   视频 中 女子 周围 并 没有 人 尾随 或者 上前 劝止 的 市民   一 大清早 路上 看到 这样 的 情况   恐怕 大家 都 没 办法 淡定   面对 这一 情况   刘青 表示   一 开始 根本 不敢 看 她   心里 挺 别扭   感觉 很 尴尬   但 当 刘青 跟随 女子 上 了 南坪 快速路 主干道 时   女子 作出 了 让 人 意想不到 的 举动   她 突然 靠近 护栏 要 从 上面 跳下去   刘青 赶忙 冲上去 拉住 了 女子 的 手   将 其 控制 住 并 远离 护栏   碍于 女子 没有 穿衣服   刘青递 上 衣服   女子 没 接受 还 把 衣服 扔 到 排水沟 里   继续 往前走   没 办法 刘青 只能 紧紧 拉 着 她 的 一只 手 跟 在 后面   刘青 一路上 耐心 地 开导 安慰 她   但 只 听到 她 不断 地 重复 着 一句 话   要是 你 也 遭遇 我 的 事   你 也 会 这样 的   期间 她 还 不时 试图 挣脱 刘青 的 手要 冲向 护栏 往下跳   就 这样   我 被 牵 着 走 了 大概 十多分钟   天 突然 下起 了 大暴雨   雨大 的 连 眼睛 都 睁不开   刘青 继续 说 着   瞬间 他们 就 被 雨 透 了   但 女子 依然 不 愿意 接受 刘青 的 帮助   就 继续 冒 着 大雨 往前走   大概 走 了 有 四十分钟 吧   女子 突然 停下 来说   我 想 回家 了   然后 女子 也 接受 了 刘青 递过来 的 小 黄衣   就 出现 了 深圳 微博上 的 照片   女子 披着 小 黄衣   刘青 小心翼翼 地 在 旁边 走 着 的 场景   从 南平 快速 下来 后   刘青 和 巡防 员 将 女子 带到 了 附近 的 坂田 派出所   那 姑娘 到底 是 遭遇 了 什么样 的 事情   才 会 说   要是 你 也 遭遇 我 的 事   你 也 会 这样   据 警方 透露   该 女子 姓 陈   系 湖北 人   今年 44 岁   据 家属 反映 其有 精神病 史   三天 前   陈某 从 老家 来 深圳 约会 网友   但 约会 受挫 导致 情绪 异常   女子 遂 产生 轻生 念头   目前   陈某 已经 被 送往 深圳 某 精神病 医院 进行 治疗   大大 君 只 希望 姑娘 能 早点 康复   其实 真爱 的 到来 并 不 存在 年龄 的 限制   你们 说 呢   因 善良 的 原因   一众 网友 纷纷 为   交警 暖 男点 ZAN   弓常 yan 桦   就 想 问 这个 小 哥哥 有 女票 吗   原谅 我 这 一辈子 浪荡 不羁 爱 萨摩耶   有 什么 过不去 的 要 轻生 嘛   想想 自己 的 家人   同时 也 感谢 交警 蜀黍   火心 聆听 心灵   点赞 交警   中華云盾   警察   警察 就是 群众 最 需时 申出 援手   Tomchlee   蜀黍 帅   SJ   李赫海 i   这个 交警 很 暖 有 木有   男子 迷奸 网友 拍 418 个 视频   女方 从 20 岁 到 50 岁 不 等   去年 6 月 7 号 上午   淮安市 涟水县 公安局 刑警大队 突然 接到 了 一个 奇怪 的 报警 电话   一名 女子 言语 不清   声称 自己 遭到 了 侵害   女子   被 侵害   言语 不清   几个 关键词 令 接到 电话 的 民警 瞬间 紧张 起来'"
      ]
     },
     "execution_count": 84,
     "metadata": {},
     "output_type": "execute_result"
    }
   ],
   "source": [
    "news_content[4]"
   ]
  },
  {
   "cell_type": "code",
   "execution_count": 86,
   "metadata": {},
   "outputs": [],
   "source": [
    "wc = wordcloud.WordCloud(font_files)"
   ]
  },
  {
   "cell_type": "code",
   "execution_count": 42,
   "metadata": {},
   "outputs": [],
   "source": [
    "import matplotlib.pyplot as plt"
   ]
  },
  {
   "cell_type": "code",
   "execution_count": 88,
   "metadata": {},
   "outputs": [],
   "source": [
    "wc.generate_from_frequencies?"
   ]
  },
  {
   "cell_type": "code",
   "execution_count": 89,
   "metadata": {},
   "outputs": [],
   "source": [
    "machine_new_keywords_dict = {w: score for w, score in machine_new_keywords}"
   ]
  },
  {
   "cell_type": "code",
   "execution_count": 90,
   "metadata": {},
   "outputs": [
    {
     "data": {
      "text/plain": [
       "<matplotlib.image.AxesImage at 0x1ed58ef0>"
      ]
     },
     "execution_count": 90,
     "metadata": {},
     "output_type": "execute_result"
    },
    {
     "data": {
      "image/png": "[encoded data removed]",
      "text/plain": [
       "<matplotlib.figure.Figure at 0x3204f0b8>"
      ]
     },
     "metadata": {},
     "output_type": "display_data"
    }
   ],
   "source": [
    "plt.imshow(wc.generate_from_frequencies(machine_new_keywords_dict))"
   ]
  },
  {
   "cell_type": "code",
   "execution_count": 95,
   "metadata": {},
   "outputs": [],
   "source": [
    "shenzhen_social_news = get_keywords_of_a_document(news_content[4])"
   ]
  },
  {
   "cell_type": "code",
   "execution_count": 96,
   "metadata": {
    "collapsed": true
   },
   "outputs": [
    {
     "data": {
      "text/plain": [
       "[('刘青', 67.12860103609216),\n",
       " ('女子', 49.805410612821845),\n",
       " ('南坪', 23.465811831805492),\n",
       " ('交警', 15.805787932978273),\n",
       " ('坂田', 13.953993984385477),\n",
       " ('黄衣', 13.050903997393533),\n",
       " ('巡防', 11.328810194210376),\n",
       " ('了', 11.012005636840637),\n",
       " ('轻生', 10.382998889874603),\n",
       " ('护栏', 9.32178985133465),\n",
       " ('裸身', 9.302662656256985),\n",
       " ('坂雪岗', 9.302662656256985),\n",
       " ('她', 9.285022817533253),\n",
       " ('约会', 9.267115391016052),\n",
       " ('深圳', 9.139285494790956),\n",
       " ('发现', 8.685059498920872),\n",
       " ('蜀黍', 8.214526567556433),\n",
       " ('网友', 8.126865289542744),\n",
       " ('突然', 8.047379355439626),\n",
       " ('十多分钟', 7.746360155489698),\n",
       " ('内裤', 7.746360155489698),\n",
       " ('着', 7.69376356788892),\n",
       " ('铁骑', 7.496482682273098),\n",
       " ('大概', 7.478906508099729),\n",
       " ('缓慢', 7.465405004419699),\n",
       " ('龙岗', 7.181266975549762),\n",
       " ('快速路', 7.108842630240872),\n",
       " ('大道', 6.863158044709045),\n",
       " ('环城', 6.816586558884396),\n",
       " ('辅警', 6.7921176460503725),\n",
       " ('往前走', 6.722593433531949),\n",
       " ('走', 6.658635364608071),\n",
       " ('视频', 6.65823837544899),\n",
       " ('市民', 6.50820380832565),\n",
       " ('精神病', 6.4895822953890745),\n",
       " ('主干道', 6.456170908383369),\n",
       " ('快速', 6.427950372933541),\n",
       " ('南路', 6.319939268588439),\n",
       " ('陈某', 6.319939268588439),\n",
       " ('情绪', 6.318072634988005),\n",
       " ('接到', 6.212930001065702),\n",
       " ('十字路口', 6.19005765472241),\n",
       " ('车流', 6.178076927344035),\n",
       " ('继续', 6.175118705343049),\n",
       " ('言语', 6.1662592081229946),\n",
       " ('劝说', 6.045884796156362),\n",
       " ('围观', 5.724912424706151),\n",
       " ('中队', 5.676835942971274),\n",
       " ('你', 5.665232674533076),\n",
       " ('停下', 5.6570193656507755),\n",
       " ('要是', 5.4856926184996855),\n",
       " ('还原', 5.475034951489551),\n",
       " ('遭遇', 5.428977234164574),\n",
       " ('这样', 5.38177119137673),\n",
       " ('观望', 5.281214925473439),\n",
       " ('不清', 5.170010805532909),\n",
       " ('接受', 5.151253446183707),\n",
       " ('侵害', 5.122852433378189),\n",
       " ('迷奸', 4.9523613237924735),\n",
       " ('镜头', 4.899868407616082),\n",
       " ('方向', 4.889185836300751),\n",
       " ('衣服', 4.826570449999394),\n",
       " ('也', 4.750174557013863),\n",
       " ('岁', 4.744091394164745),\n",
       " ('早上', 4.7270591963965325),\n",
       " ('此时', 4.696270541416007),\n",
       " ('姑娘', 4.662370084034877),\n",
       " ('ZAN', 4.651331328128492),\n",
       " ('劝止', 4.651331328128492),\n",
       " ('涟水县', 4.651331328128492),\n",
       " ('弓常', 4.651331328128492),\n",
       " ('申出', 4.651331328128492),\n",
       " ('地逆', 4.651331328128492),\n",
       " ('刘青递', 4.651331328128492),\n",
       " ('男点', 4.651331328128492),\n",
       " ('刘青停', 4.651331328128492),\n",
       " ('披着', 4.651331328128492),\n",
       " ('Tomchlee', 4.651331328128492),\n",
       " ('火心', 4.651331328128492),\n",
       " ('李赫海', 4.651331328128492),\n",
       " ('浪荡', 4.651331328128492),\n",
       " ('一辅警', 4.651331328128492),\n",
       " ('中華云盾', 4.651331328128492),\n",
       " ('萨摩耶', 4.651331328128492),\n",
       " ('女票', 4.651331328128492),\n",
       " ('需时', 4.475240069072811),\n",
       " ('SJ', 4.475240069072811),\n",
       " ('瞬间', 4.449640133527835),\n",
       " ('时', 4.428765345685334),\n",
       " ('一边', 4.413012257237489),\n",
       " ('四十分钟', 4.350301332464511),\n",
       " ('下起', 4.350301332464511),\n",
       " ('往下跳', 4.350301332464511),\n",
       " ('一丝不挂', 4.350301332464511),\n",
       " ('到底', 4.269591908465386),\n",
       " ('已经', 4.260101573573226),\n",
       " ('木有', 4.253391319456455),\n",
       " ('辅道', 4.253391319456455),\n",
       " ('睁不开', 4.253391319456455),\n",
       " ('并', 4.111278428408116),\n",
       " ('手要', 4.107263283778217),\n",
       " ('但', 4.098907380663682),\n",
       " ('跳下去', 4.04927133680053),\n",
       " ('大清早', 4.04927133680053),\n",
       " ('地往', 4.04927133680053),\n",
       " ('险象环生', 4.04927133680053),\n",
       " ('被', 4.033649542510729),\n",
       " ('路上', 4.002047609993112),\n",
       " ('拉住', 3.9981188143531488),\n",
       " ('雨大', 3.9523613237924735),\n",
       " ('排水沟', 3.9523613237924735),\n",
       " ('没', 3.9396278224389314),\n",
       " ('很', 3.931408900783627),\n",
       " ('我', 3.920203291368041),\n",
       " ('递过来', 3.9109686386342486),\n",
       " ('不羁', 3.9109686386342486),\n",
       " ('真爱', 3.9109686386342486),\n",
       " ('的', 3.890424627403554),\n",
       " ('微博称', 3.873180077744849),\n",
       " ('44', 3.8706559689873865),\n",
       " ('呢', 3.8573948111893603),\n",
       " ('刑警大队', 3.838417971485637),\n",
       " ('其有', 3.838417971485637),\n",
       " ('愿意', 3.804736933744662),\n",
       " ('警察', 3.800874815492734),\n",
       " ('值勤', 3.776270064736792),\n",
       " ('女方', 3.776270064736792),\n",
       " ('出现', 3.7560113879094406),\n",
       " ('过不去', 3.748241341136549),\n",
       " ('开导', 3.7219124024142),\n",
       " ('yan', 3.7219124024142),\n",
       " ('穿衣服', 3.7219124024142),\n",
       " ('赶忙', 3.6970888186891675),\n",
       " ('别扭', 3.6970888186891675),\n",
       " ('沿路', 3.6970888186891675),\n",
       " ('就', 3.6878522085808467),\n",
       " ('走时', 3.6736077228396447),\n",
       " ('纷纷', 3.6382837341199585),\n",
       " ('冲上去', 3.6301420290585544),\n",
       " ('办法', 3.611846377013398),\n",
       " ('逆行', 3.6099386429702673),\n",
       " ('挣脱', 3.5721500820808676),\n",
       " ('略带', 3.5721500820808676),\n",
       " ('暖', 3.567727680538882),\n",
       " ('碍于', 3.554421315120436),\n",
       " ('原谅', 3.5373879758216558),\n",
       " ('不', 3.5242870574887766),\n",
       " ('赤裸', 3.4752400690728114),\n",
       " ('尾随', 3.4752400690728114),\n",
       " ('警情', 3.4752400690728114),\n",
       " ('帅气', 3.4472113454725677),\n",
       " ('依然', 3.441273880927914),\n",
       " ('排起', 3.4208824067502186),\n",
       " ('418', 3.4208824067502186),\n",
       " ('低落', 3.408293279442198),\n",
       " ('警方', 3.4082855252047977),\n",
       " ('都', 3.4079467568281907),\n",
       " ('电话', 3.3864909592148145),\n",
       " ('驱赶', 3.3503013324645115),\n",
       " ('放慢', 3.3503013324645115),\n",
       " ('一众', 3.3503013324645115),\n",
       " ('小', 3.3501691227697368),\n",
       " ('南平', 3.339577467072738),\n",
       " ('早点', 3.339577467072738),\n",
       " ('援手', 3.329112033394573),\n",
       " ('淡定', 3.29914881001713),\n",
       " ('上身', 3.2711200864168863),\n",
       " ('腼腆', 3.2533913194564548),\n",
       " ('再次出现', 3.2363579801576745),\n",
       " ('意想不到', 3.2280854541916844),\n",
       " ('桦', 3.2041732967862733),\n",
       " ('受挫', 3.196486468119982),\n",
       " ('淮安市', 3.188933330229536),\n",
       " ('从', 3.1671096611590173),\n",
       " ('披上', 3.1461813498085864),\n",
       " ('一位', 3.106760514268685),\n",
       " ('奔走', 3.095028827361205),\n",
       " ('挡住', 3.0890384636720176),\n",
       " ('善良', 3.060266721101993),\n",
       " ('想想', 3.054734232502032),\n",
       " ('小心翼翼', 3.04927133680053),\n",
       " ('长队', 3.028082037730592),\n",
       " ('微博上', 3.0128420711738553),\n",
       " ('大暴雨', 3.0128420711738553),\n",
       " ('裸露', 3.0029713171475607),\n",
       " ('外表', 3.0029713171475607),\n",
       " ('附近', 3.0014567526709657),\n",
       " ('冲向', 2.9885734964469184),\n",
       " ('一路上', 2.9885734964469184),\n",
       " ('念头', 2.9838783752385383),\n",
       " ('还', 2.946049390724077),\n",
       " ('骑着', 2.9353279844936933),\n",
       " ('群众', 2.9332797946217872),\n",
       " ('嘛', 2.9270554585277035),\n",
       " ('什么', 2.9264939088271085),\n",
       " ('奇怪', 2.899282880309054),\n",
       " ('上前', 2.8695759534760237),\n",
       " ('安慰', 2.812482237391237),\n",
       " ('年头', 2.812482237391237),\n",
       " ('而行', 2.7880084680080364),\n",
       " ('女生', 2.759236725438012),\n",
       " ('高峰期', 2.75646167138324),\n",
       " ('高大', 2.72964485264489),\n",
       " ('赶紧', 2.714315220663678),\n",
       " ('聆听', 2.704388057430667),\n",
       " ('期间', 2.687029002932124),\n",
       " ('驻足', 2.678203474528794),\n",
       " ('全身', 2.6736077228396447),\n",
       " ('有', 2.6584688103348446),\n",
       " ('一辈子', 2.649165266371985),\n",
       " ('哥哥', 2.6470099543458496),\n",
       " ('机动车', 2.6219475504432825),\n",
       " ('老家', 2.619922863876868),\n",
       " ('心灵', 2.617907572641543),\n",
       " ('朝着', 2.6099386429702673),\n",
       " ('现场', 2.605858201101714),\n",
       " ('路边', 2.6001788056811113),\n",
       " ('带到', 2.573963422844336),\n",
       " ('举动', 2.5685459578120424),\n",
       " ('扔', 2.5667550501941614),\n",
       " ('恐怕', 2.5631952394279414),\n",
       " ('行进', 2.557909642966257),\n",
       " ('尴尬', 2.554421315120436),\n",
       " ('大雨', 2.5390615597112216),\n",
       " ('遂', 2.5258500624278986),\n",
       " ('穿着', 2.517792419758275),\n",
       " ('旁边', 2.509881554728025),\n",
       " ('远离', 2.499042983745436),\n",
       " ('声称', 2.4975164637839633),\n",
       " ('躺', 2.4975164637839633),\n",
       " ('货车', 2.492968836033243),\n",
       " ('说话', 2.486978472344055),\n",
       " ('点赞', 2.485493703438364),\n",
       " ('派出所', 2.472354380835323),\n",
       " ('脚步', 2.460999629958201),\n",
       " ('这个', 2.4579755135469785),\n",
       " ('靠近', 2.454050770002873),\n",
       " ('后面', 2.4526742411740696),\n",
       " ('盯', 2.449934203808041),\n",
       " ('沿着', 2.4351654258424995),\n",
       " ('上面', 2.433847383914586),\n",
       " ('什么样', 2.4312232400884373),\n",
       " ('耐心', 2.4208824067502186),\n",
       " ('紧紧', 2.409535896833294),\n",
       " ('上班', 2.409535896833294),\n",
       " ('白色', 2.409535896833294),\n",
       " ('重复', 2.3984782971485994),\n",
       " ('暴雨', 2.3912599401434176),\n",
       " ('上去', 2.387695259540384),\n",
       " ('不时', 2.3680300994249426),\n",
       " ('跟随', 2.3680300994249426),\n",
       " ('送往', 2.362411722466766),\n",
       " ('报警', 2.3612967167659744),\n",
       " ('眼睛', 2.3590752567720163),\n",
       " ('异常', 2.3590752567720163),\n",
       " ('您', 2.3568651019668994),\n",
       " ('正值', 2.3481352707080037),\n",
       " ('清晨', 2.3406380157851316),\n",
       " ('康复', 2.328079227956805),\n",
       " ('事发', 2.307922734324635),\n",
       " ('不敢', 2.298184781914513),\n",
       " ('刺激', 2.2849083709025195),\n",
       " ('一名', 2.2786287172647315),\n",
       " ('情况', 2.273036066258414),\n",
       " ('见到', 2.2648323625778395),\n",
       " ('你们', 2.2630524646688532),\n",
       " ('家属', 2.2603962210251134),\n",
       " ('行走', 2.2595144045152438),\n",
       " ('三天', 2.258634374868827),\n",
       " ('一句', 2.2499307873469485),\n",
       " ('听到', 2.226449691497425),\n",
       " ('往', 2.2235068895663668),\n",
       " ('心里', 2.2231965340997037),\n",
       " ('昨日', 2.2191640586859043),\n",
       " ('自己', 2.214774771291172),\n",
       " ('公安局', 2.198778264899567),\n",
       " ('民警', 2.196486468119982),\n",
       " ('周围', 2.1904334853719445),\n",
       " ('场景', 2.1896827600650375),\n",
       " ('话', 2.179267590948998),\n",
       " ('想', 2.1774822070443163),\n",
       " ('回家', 2.1627806116280484),\n",
       " ('到', 2.1497523584585987),\n",
       " ('监控', 2.1455032942736563),\n",
       " ('大队', 2.133475909198464),\n",
       " ('聚集', 2.1308477953877003),\n",
       " ('没有', 2.1292630530088865),\n",
       " ('上', 2.1219500466542325),\n",
       " ('试图', 2.1004917230627074),\n",
       " ('感谢', 2.095028827361205),\n",
       " ('开始', 2.092052563974766),\n",
       " ('遭到', 2.0825431158131456),\n",
       " ('冒', 2.0744143721632855),\n",
       " ('中间', 2.073839528291267),\n",
       " ('大大', 2.0613817268027845),\n",
       " ('说', 2.049245802061725),\n",
       " ('挺', 2.0369614885802036),\n",
       " ('君', 2.034855814239927),\n",
       " ('身上', 2.0244779134617668),\n",
       " ('尝试', 2.0193805018692754),\n",
       " ('危险', 1.9899919881224526),\n",
       " ('吧', 1.9545382430467482),\n",
       " ('然后', 1.945895281543242),\n",
       " ('年龄', 1.943761152030556),\n",
       " ('一辆', 1.9420613671526616),\n",
       " ('治疗', 1.9258280592691768),\n",
       " ('拒', 1.920145620494492),\n",
       " ('家人', 1.9137411618427709),\n",
       " ('牵', 1.9101797292767073),\n",
       " ('寻找', 1.9089990457713442),\n",
       " ('只', 1.908029572792218),\n",
       " ('一只', 1.9046971291909136),\n",
       " ('事情', 1.9027557111975004),\n",
       " ('紧张', 1.8988987188670183),\n",
       " ('离开', 1.8834337121104017),\n",
       " ('到来', 1.8823234571847185),\n",
       " ('吗', 1.8728183163895675),\n",
       " ('感觉', 1.8702943895073605),\n",
       " ('车辆', 1.8649348667561882),\n",
       " ('限制', 1.864579905982931),\n",
       " ('根本', 1.8575409434376737),\n",
       " ('反映', 1.833435570966697),\n",
       " ('几个', 1.831129868642852),\n",
       " ('该', 1.8266086115180598),\n",
       " ('透露', 1.8255807467804646),\n",
       " ('地', 1.8182999882820219),\n",
       " ('关键词', 1.8165928092246513),\n",
       " ('帅', 1.8003789283349996),\n",
       " ('其实', 1.7994617273987261),\n",
       " ('速度', 1.7868202470701005),\n",
       " ('只能', 1.7820996083975162),\n",
       " ('些', 1.78159152381527),\n",
       " ('那么', 1.7620296256221821),\n",
       " ('去', 1.7578725340929844),\n",
       " ('出口', 1.747969991873174),\n",
       " ('姓', 1.7401737193885158),\n",
       " ('一份', 1.739907362752198),\n",
       " ('下来', 1.7186039608269632),\n",
       " ('另外', 1.6973301604469222),\n",
       " ('湖北', 1.6731508111910784),\n",
       " ('上午', 1.669965819049948),\n",
       " ('青年', 1.659662320748544),\n",
       " ('随后', 1.645721882768212),\n",
       " ('或者', 1.632422883812165),\n",
       " ('医院', 1.6286967881843735),\n",
       " ('面对', 1.6211365427717412),\n",
       " ('当时', 1.6157015003380535),\n",
       " ('大家', 1.603861753508636),\n",
       " ('作出', 1.6034726007210356),\n",
       " ('某', 1.5996001320686428),\n",
       " ('36', 1.5992147775784944),\n",
       " ('后', 1.5830759646797947),\n",
       " ('90', 1.5796333829068783),\n",
       " ('来说', 1.5787138515832557),\n",
       " ('产生', 1.5759668817552075),\n",
       " ('起来', 1.5545950676660236),\n",
       " ('控制', 1.5525146110795511),\n",
       " ('坐', 1.5492408026166558),\n",
       " ('穿', 1.5330666020390131),\n",
       " ('和', 1.5243340291611516),\n",
       " ('但是', 1.5230936573593052),\n",
       " ('标题', 1.5214803773395824),\n",
       " ('i', 1.5036550038873937),\n",
       " ('南', 1.499637037997105),\n",
       " ('导致', 1.4940256978005262),\n",
       " ('跑', 1.4923660677450823),\n",
       " ('原因', 1.4901131084374761),\n",
       " ('跟', 1.481069612733535),\n",
       " ('看到', 1.4469399962091927),\n",
       " ('不少', 1.4308309825137626),\n",
       " ('关于', 1.423958885838856),\n",
       " ('雨', 1.4122822349883009),\n",
       " ('为了', 1.4080451820450464),\n",
       " ('会', 1.399238623728092),\n",
       " ('16', 1.3983375078280595),\n",
       " ('存在', 1.3926940454044159),\n",
       " ('追', 1.3887615949109426),\n",
       " ('事', 1.3790139567525608),\n",
       " ('帮助', 1.3738367185174805),\n",
       " ('男子', 1.3700706410734795),\n",
       " ('员', 1.3697851181993932),\n",
       " ('一起', 1.3670134126978826),\n",
       " ('交流', 1.3570856119903743),\n",
       " ('据', 1.3432473005755838),\n",
       " ('这一', 1.332850602953975),\n",
       " ('令', 1.3271517984105927),\n",
       " ('其', 1.3209198466540129),\n",
       " ('停', 1.3098968035503522),\n",
       " ('去年', 1.2942544882860807),\n",
       " ('就是', 1.2374450757988886),\n",
       " ('不断', 1.235690348232338),\n",
       " ('一路', 1.2244948743249844),\n",
       " ('希望', 1.2148506331189974),\n",
       " ('住', 1.197020139980926),\n",
       " ('正在', 1.1947375778840845),\n",
       " ('手', 1.1873304484373264),\n",
       " ('发生', 1.1824672879803046),\n",
       " ('了解', 1.1690295609050496),\n",
       " ('50', 1.1678866800299572),\n",
       " ('为', 1.1607802604541433),\n",
       " ('要', 1.1560692992858268),\n",
       " ('爱', 1.1554402484623048),\n",
       " ('可能', 1.1455032942736563),\n",
       " ('陈', 1.138313602796874),\n",
       " ('当', 1.1360880308917092),\n",
       " ('那', 1.1350604453991524),\n",
       " ('史', 1.1277149090741216),\n",
       " ('号', 1.1255740849761815),\n",
       " ('拍', 1.1204915495119718),\n",
       " ('25', 1.1140160550164828),\n",
       " ('才', 1.1139530452982869),\n",
       " ('进入', 1.1128832764182752),\n",
       " ('介绍', 1.1120669921810373),\n",
       " ('他们', 1.1044803263470984),\n",
       " ('可以', 1.0866652638764032),\n",
       " ('花', 1.0686998886388561),\n",
       " ('提供', 1.0659270041635354),\n",
       " ('把', 1.059432341437268),\n",
       " ('连', 1.0414169180424948),\n",
       " ('人', 1.0398762897471812),\n",
       " ('将', 1.0305857067286253),\n",
       " ('同时', 1.0135915010093561),\n",
       " ('分', 0.9973828174544938),\n",
       " ('透', 0.99720293686668),\n",
       " ('今年', 0.966216859081953),\n",
       " ('记者', 0.9271998038792411),\n",
       " ('让', 0.9137014294899777),\n",
       " ('目前', 0.8933662302670573),\n",
       " ('问', 0.879670368779605),\n",
       " ('看', 0.8770699049091711),\n",
       " ('原', 0.8745938334104167),\n",
       " ('表示', 0.8634105895744374),\n",
       " ('一个', 0.8556598221824707),\n",
       " ('因', 0.8181204478458837),\n",
       " ('系', 0.7946628445169575),\n",
       " ('带', 0.7763279745284514),\n",
       " ('6', 0.7622602583437212),\n",
       " ('好', 0.7288653828300791),\n",
       " ('拉', 0.7275952497445629),\n",
       " ('进行', 0.7263804392128818),\n",
       " ('起', 0.7202295824958537),\n",
       " ('一', 0.710829003592252),\n",
       " ('他', 0.7074907017272314),\n",
       " ('正', 0.6973060202350319),\n",
       " ('可', 0.6842515939839953),\n",
       " ('最', 0.6400993178091264),\n",
       " ('天', 0.6235944942009486),\n",
       " ('能', 0.6185111786899286),\n",
       " ('里', 0.6039006879729503),\n",
       " ('等', 0.5441043941837564),\n",
       " ('中', 0.5156135775503206),\n",
       " ('个', 0.5035468301229501),\n",
       " ('这', 0.5000074536188772),\n",
       " ('与', 0.49074275983845767),\n",
       " ('多', 0.4809962583744546),\n",
       " ('前', 0.4735784562858743),\n",
       " ('7', 0.45891756623126934),\n",
       " ('来', 0.45742792557574563),\n",
       " ('是', 0.4069428640413574),\n",
       " ('在', 0.32985711253084343),\n",
       " ('大', 0.3132734527087363),\n",
       " ('照片', 0.24212545393891896),\n",
       " ('20', 0.1475474522482),\n",
       " ('月', 0.06974313771994531),\n",
       " ('日', 0.05085505597918966)]"
      ]
     },
     "execution_count": 96,
     "metadata": {},
     "output_type": "execute_result"
    }
   ],
   "source": [
    "shenzhen_social_news"
   ]
  },
  {
   "cell_type": "code",
   "execution_count": 40,
   "metadata": {},
   "outputs": [],
   "source": [
    "from PIL import Image"
   ]
  },
  {
   "cell_type": "code",
   "execution_count": 41,
   "metadata": {},
   "outputs": [],
   "source": [
    "import numpy as np"
   ]
  },
  {
   "cell_type": "code",
   "execution_count": 101,
   "metadata": {},
   "outputs": [],
   "source": [
    "image_file = 'D:\\python\\datasource\\Lesson_05/tam.png'"
   ]
  },
  {
   "cell_type": "code",
   "execution_count": 102,
   "metadata": {},
   "outputs": [],
   "source": [
    "police_mask = np.array(Image.open(image_file))"
   ]
  },
  {
   "cell_type": "code",
   "execution_count": 103,
   "metadata": {},
   "outputs": [],
   "source": [
    "wordcloud_with_mask = wordcloud.WordCloud(font_path = font_files, mask = police_mask)"
   ]
  },
  {
   "cell_type": "code",
   "execution_count": 104,
   "metadata": {},
   "outputs": [
    {
     "data": {
      "text/plain": [
       "<matplotlib.image.AxesImage at 0x46ab3d68>"
      ]
     },
     "execution_count": 104,
     "metadata": {},
     "output_type": "execute_result"
    },
    {
     "data": {
      "image/png": "[encoded data removed]",
      "text/plain": [
       "<matplotlib.figure.Figure at 0x1fac9588>"
      ]
     },
     "metadata": {},
     "output_type": "display_data"
    }
   ],
   "source": [
    "plt.imshow(wc.generate_from_frequencies({w:s for w, s in shenzhen_social_news[:20]}))"
   ]
  },
  {
   "cell_type": "code",
   "execution_count": 105,
   "metadata": {},
   "outputs": [
    {
     "data": {
      "text/plain": [
       "<matplotlib.image.AxesImage at 0x32b69cc0>"
      ]
     },
     "execution_count": 105,
     "metadata": {},
     "output_type": "execute_result"
    },
    {
     "data": {
      "image/png": "[encoded data removed]",
      "text/plain": [
       "<matplotlib.figure.Figure at 0x8bef240>"
      ]
     },
     "metadata": {},
     "output_type": "display_data"
    }
   ],
   "source": [
    "plt.imshow(wordcloud_with_mask.generate_from_frequencies({w:s for w, s in shenzhen_social_news[:20]}))"
   ]
  },
  {
   "cell_type": "markdown",
   "metadata": {},
   "source": [
    "### TFIDF Vectorizezd"
   ]
  },
  {
   "cell_type": "code",
   "execution_count": 46,
   "metadata": {},
   "outputs": [],
   "source": [
    "from sklearn.feature_extraction.text import TfidfVectorizer"
   ]
  },
  {
   "cell_type": "code",
   "execution_count": 47,
   "metadata": {},
   "outputs": [],
   "source": [
    "vectorized = TfidfVectorizer(max_features = 10000)"
   ]
  },
  {
   "cell_type": "code",
   "execution_count": 48,
   "metadata": {
    "collapsed": true
   },
   "outputs": [
    {
     "data": {
      "text/plain": [
       "['此外   自 本周   6 月 12 日   起   除 小米 手机 6 等 15 款 机型 外   其余 机型 已 暂停 更新 发布   含 开发 版   体验版 内测   稳定版 暂不受 影响   以 确保 工程师 可以 集中 全部 精力 进行 系统优化 工作   有人 猜测 这 也 是 将 精力 主要 用到 MIUI   9 的 研发 之中   MIUI   8 去年 5 月 发布   距今已有 一年 有余   也 是 时候 更新换代 了   当然   关于 MIUI   9 的 确切 信息   我们 还是 等待 官方消息',\n",
       " '骁龙 835 作为 唯一 通过 Windows   10 桌面 平台 认证 的 ARM 处理器   高通 强调   不会 因为 只 考虑 性能 而 去 屏蔽掉 小 核心   相反   他们 正 联手 微软   找到 一种 适合 桌面 平台 的   兼顾 性能 和 功耗 的 完美 方案   报道 称   微软 已经 拿到 了 一些 新 的 源码   以便 Windows   10 更好 地 理解 big   little 架构   资料 显示   骁龙 835 作为 一款 集成 了 CPU   GPU   基带   蓝牙   Wi   Fi 的 SoC   比 传统 的 Wintel 方案 可以 节省 至少 30   的 PCB 空间   按计划   今年 Q4   华硕   惠普   联想 将 首发 骁龙 835   Win10 电脑   预计 均 是 二合一 形态 的 产品   当然   高通 骁龙 只是 个 开始   未来 也许 还 能 见到 三星 Exynos   联发科   华为 麒麟   小米 澎湃 等 进入 Windows   10 桌面 平台',\n",
       " '此前 的 一加 3T 搭载 的 是 3400mAh 电池   DashCharge 快充 规格 为 5V   4A   至于 电池 缩水   可能 与 刘作 虎 所说   一加 手机 5 要 做 市面 最 轻薄 大屏 旗舰 的 设定 有关   按照 目前 掌握 的 资料   一加 手机 5 拥有 5   5 寸 1080P 三星 AMOLED 显示屏   6G   8GB   RAM   64GB   128GB   ROM   双 1600 万 摄像头   备货 量   惊喜   根据 京东 泄露 的 信息   一加 5 起 售价 是 xx99 元   应该 是 在 2799   2899   2999 中 的 某个',\n",
       " '这是 6 月 18 日 在 葡萄牙 中部 大 佩德罗 冈 地区 拍摄 的 被 森林 大火 烧毁 的 汽车   新华社 记者 张立 云摄',\n",
       " '原 标题   44 岁 女子 跑 深圳 约会 网友 被 拒   暴雨 中 裸身 奔走   深圳 交警 微博称   昨日 清晨 交警 发现 有 一 女子 赤裸 上身   行走 在 南坪 快速 上   期间 还 起 了 轻生 年头   一辅警 发现 后 赶紧 为 其 披上 黄衣   并 一路 劝说 她   那么 事发 时   到底 都 发生 了 些 什么 呢   南 都 记者 带 您 一起 还原 现场   南 都 记者 在 龙岗 大队 坂田 中队 见到 了 辅警 刘青   发现 女生 的 辅警   一位 外表 高大 帅气   说话 略带 些 腼腆 的 90 后 青年   刘青 介绍   6 月 16 日 早上 7 时 36 分   他 正在 环城 南路 附近 值勤   接到 中队 关于 一位 女子 裸身 进入 机动车 可能 有 危险 的 警情   随后 骑着 小 铁骑 开始 沿路 寻找   大概 花 了 十多分钟 在 南坪 大道 坂田 出口 往 龙岗 方向 的 逆行 辅道 上 发现 该 女子   女子 身上 一丝不挂 地逆 车流 而行   时 走时 停   时 坐 时 躺   险象环生   刘青停 好 小 铁骑   和 另外 一名 巡防 员 追 了 上去   发现 女子 的 情绪 很 低落   话 不 多   刘青 尝试 和 女子 交流   劝说 女子 离开   可 女子 并 不 愿意 接受   继续 缓慢 地往 南坪 快速路 的 主干道 上 走 去   此时 路边 上 已经 聚集 了 很 市民 围观   为了 不 刺激 女子 的 情绪   刘青 和 巡防 员 一边 盯 着 女子 一边 驱赶 着 围观 的 群众   现场 还原   从 警方 提供 的 一份 视频 了解 到   16 日 早上 7 时 25 分   女子 出现 在 坂雪岗 大道 与 环城 南路 的 监控 视频 中   此时 女子 还 穿着 白色 的 内裤   正 沿着 坂雪岗 大道 往 南坪 快速 的 方向 缓慢 地 走 着   当时 正值 上班 高峰期   十字路口 的 车流 已经 排起 了 长队   当 女子 出现 时   路上 的 市民 纷纷 驻足 观望   不少 车辆 也 放慢 了 速度   但 女子 并 不 为 市民 观望 停下 脚步   依然 缓慢 走 着   当 女子 行进 到 十字路口 中间 时   一辆 大 货车 挡住 了 镜头   但是 当 女子 再次出现 镜头 时   可以 发现 女子 已经 没 穿 内裤 了   全身 裸露 继续 朝着 南坪 快速 方向 走 去   记者 发现   视频 中 女子 周围 并 没有 人 尾随 或者 上前 劝止 的 市民   一 大清早 路上 看到 这样 的 情况   恐怕 大家 都 没 办法 淡定   面对 这一 情况   刘青 表示   一 开始 根本 不敢 看 她   心里 挺 别扭   感觉 很 尴尬   但 当 刘青 跟随 女子 上 了 南坪 快速路 主干道 时   女子 作出 了 让 人 意想不到 的 举动   她 突然 靠近 护栏 要 从 上面 跳下去   刘青 赶忙 冲上去 拉住 了 女子 的 手   将 其 控制 住 并 远离 护栏   碍于 女子 没有 穿衣服   刘青递 上 衣服   女子 没 接受 还 把 衣服 扔 到 排水沟 里   继续 往前走   没 办法 刘青 只能 紧紧 拉 着 她 的 一只 手 跟 在 后面   刘青 一路上 耐心 地 开导 安慰 她   但 只 听到 她 不断 地 重复 着 一句 话   要是 你 也 遭遇 我 的 事   你 也 会 这样 的   期间 她 还 不时 试图 挣脱 刘青 的 手要 冲向 护栏 往下跳   就 这样   我 被 牵 着 走 了 大概 十多分钟   天 突然 下起 了 大暴雨   雨大 的 连 眼睛 都 睁不开   刘青 继续 说 着   瞬间 他们 就 被 雨 透 了   但 女子 依然 不 愿意 接受 刘青 的 帮助   就 继续 冒 着 大雨 往前走   大概 走 了 有 四十分钟 吧   女子 突然 停下 来说   我 想 回家 了   然后 女子 也 接受 了 刘青 递过来 的 小 黄衣   就 出现 了 深圳 微博上 的 照片   女子 披着 小 黄衣   刘青 小心翼翼 地 在 旁边 走 着 的 场景   从 南平 快速 下来 后   刘青 和 巡防 员 将 女子 带到 了 附近 的 坂田 派出所   那 姑娘 到底 是 遭遇 了 什么样 的 事情   才 会 说   要是 你 也 遭遇 我 的 事   你 也 会 这样   据 警方 透露   该 女子 姓 陈   系 湖北 人   今年 44 岁   据 家属 反映 其有 精神病 史   三天 前   陈某 从 老家 来 深圳 约会 网友   但 约会 受挫 导致 情绪 异常   女子 遂 产生 轻生 念头   目前   陈某 已经 被 送往 深圳 某 精神病 医院 进行 治疗   大大 君 只 希望 姑娘 能 早点 康复   其实 真爱 的 到来 并 不 存在 年龄 的 限制   你们 说 呢   因 善良 的 原因   一众 网友 纷纷 为   交警 暖 男点 ZAN   弓常 yan 桦   就 想 问 这个 小 哥哥 有 女票 吗   原谅 我 这 一辈子 浪荡 不羁 爱 萨摩耶   有 什么 过不去 的 要 轻生 嘛   想想 自己 的 家人   同时 也 感谢 交警 蜀黍   火心 聆听 心灵   点赞 交警   中華云盾   警察   警察 就是 群众 最 需时 申出 援手   Tomchlee   蜀黍 帅   SJ   李赫海 i   这个 交警 很 暖 有 木有   男子 迷奸 网友 拍 418 个 视频   女方 从 20 岁 到 50 岁 不 等   去年 6 月 7 号 上午   淮安市 涟水县 公安局 刑警大队 突然 接到 了 一个 奇怪 的 报警 电话   一名 女子 言语 不清   声称 自己 遭到 了 侵害   女子   被 侵害   言语 不清   几个 关键词 令 接到 电话 的 民警 瞬间 紧张 起来',\n",
       " '受到 A股 被 纳入 MSCI 指数 的 利好 消息 刺激   A股 市场 从 周三 开始 再度 上演 龙马 行情   周四 上午 金融股 和 白马股 表现 喜人   但是 尾盘 跳水 之后   仅 金融 板块 仍 维系 红盘 状态   分析 人士 认为   金融股 受益 于 MSCI 纳入 A股 和 低 估值 而 重获 资金 青睐   但是 存量 资金 博弈 格局 下   风格 交替 的 震荡 格局 料 延续   流动性 改善   经济 悲观 预期 修正 等 有助于 支撑 板块 继而 大盘 指数 逐步 向 好   一 九   再现   周四   A股 市场 未能 延续 周三 的 上行 态势   两市 成交 小幅 放量   29 个 中信 一级 行业 中   收盘 仅 银行 和 非银行 金融 两个 行业 指数 收红   分别 上涨 1   80   和 0   20   从 二级 行业 来看   股份制 与 城商行 的 涨幅 最高   达到 2   22   国有银行 上涨 0   82   信托 及其 他 上涨 0   64   保险 板块 上涨 0   34   证券 板块 上涨 0   06   银行 板块 25 只 成分股 中   共有 21 只 收红   其中   招商银行 涨幅 最大   上涨 6   66   贵阳 银行 上涨 3   65   上海银行   华夏银行   浦发银行 和 兴业银行 的 涨幅 均 超过 1   50   非银行 金融 板块 44 只 成分股 中   共 17 只 个股 上涨   其中   安信 信托   中国 太保 涨幅 居前 两名   分别 上涨 4   57   和 3   04   西水股份   华安 证券   中国 人寿 和 新华 保险 的 涨幅 也 均 超过 2   相对而言   券商 股多 小幅 下跌   近期   对 A股 市场 消息面 影响 最大 的 就是 MSCI 宣布 从 2018 年 6 月 开始 将 A股 纳入 MSCI 新兴 市场 指数   而 其中   金融股 是 占 比 最大 的 一个 群体   国金 证券 李立峰 团队 指出   最新 方案 中 包含 的 222 只 成分股 中   剔除 了 中等 市值   非 互联互通 可 交易 的 股票 以及 有 停牌 限制 的 标的   由于 纳入 了 很多 大 市值 A H股   A股 在 MSCI   EM 中 的 权重 由 0   5   上升 到 了 0   73   其中   金融 板块 占 比 最高   达到 40   11   泛 消费 次之   占 比 为 24   26   两个 板块 涵盖 了 大部分 权重股   动态 来看   由于 加入 了 很多 是 指 占 比高 的 金融公司   金融 板块 的 权重 增加 了 近一半   其他 大部分 行业 权重 都 受到 了 稀释   尽管 A股 被 纳入 MSCI 这一 利好 事件 对 短期 市场 情绪 有所 提振   对 中长期 海外 增量 资金 预期 升温   但 短期内   市场 量 能 尚 不能 有效 放大   金融股 独 乐乐 情景 也 就 难以 持续   存量 博弈 格局 下   风格 交替   指数 震荡 格局 难 改变   光大 证券 指出   利好 并未 引起 市场 太大 的 热情   两市 指数 和 成交量 均 较为 平淡   但 市场 风格 出现 了 较大 变化   白马股 金融股 上涨 的 同时   成长 股   题材股 全天 低迷   这 表明 市场 增量 资金 依然 很少   存量 资金 在 不同 板块 之间 腾挪   这样 的 跷跷板 格局 使得 指数 难有 突破   市场 中期 依旧 偏空   短期 依旧 可能 维持 震荡 格局',\n",
       " '虽然 至今 夏普 智能手机 在 市场 上 无法 排得 上 号   已经 完全 没落   并 于   2013   年 退出 中国 市场   但是 今年   3   月份 官方 突然 宣布 回归 中国   预示 着 很快 就 有 夏普 新机 在 中国 登场 了   那么   第一款 夏普 手机 什么 时候 登陆 中国 呢   又 会 是 怎么样 的 手机 呢   近日   一款 型号 为   FS8016   的 夏普 神秘 新机 悄然 出现 在   GeekBench   的 跑 分库 上   从 其中 相关 信息 了解 到   这 款 机子 并非 旗舰 定位   所 搭载 的 是 高通 骁龙   660   处理器   配备 有   4GB   的 内存   骁龙   660   是 高通 今年 最受 瞩目 的 芯片 之一   采用   14   纳米 工艺   八个   Kryo   260   核心 设计   集成   Adreno   512   GPU   和   X12   LTE   调制解调器   当前 市面上 只有 一款 机子 采用 了 骁龙   660   处理器   那 就是 已经 上市 销售 的   OPPO   R11   骁龙   660   尽管 并非 旗舰 芯片   但 在 多 核新能 上 比 去年 骁龙   820   强   单核 改进 也 很 明显   所以 放在 今年 仍 可以 让 很多 手机 变成 高端 机   不过   由于   OPPO   与 高通 签署 了 排他性 协议   可以 独占 两三个 月 时间   考虑 到 夏普 既然 开始 测试 新机 了   说明 只要 等 独占 时期 一 过   夏普 就 能 发布 骁龙   660   新品 了   按照 之前 被 曝光 的 渲染 图 了解   夏普 的 新机 核心 竞争 优势 还是 全面 屏   因为 从   2013   年 推出 全球 首款 全面 屏 手机   EDGEST   302SH   至今   夏普 手机 推出 了 多达   28   款 的 全面 屏 手机   在   5   月份 的 媒体 沟通 会上   惠普 罗忠生 表示   我敢 打赌   12   个 月 之后   在座 的 各位 手机 都 会 换掉   因为 全面 屏 时代 的 到来   我们 怀揣 的 手机 都 将 成为 传统 手机',\n",
       " '沙漠 雄鹰   震荡 有利 消化 套牢 筹码   周四 开盘 上证 50 在 银行 券商 大 蓝筹 带动 下 一度 涨近 2   沪 指 也 一度 站上 60 日 与 120 日 均线   但 在   黑天鹅   万达 电影 暴跌 拖累 下   沪深股市 绝大多数 时间 分道扬镳   14 点后 次新股 大幅 跳水 令 各大 指数 全线 收绿   存量 博弈 格局 难改   量 能 久 日 不见 放大 下   蓝筹 行情 并 不可 持续   短线 策略 依然 是 以 题材 为主   次新股 和 区域 经济 概念股 调整 压力 仍然 突出   成长 股 再次 大跌   但 目前 处于 底部   低位 反复 震荡 有助于 夯实 底部   目前 市场 仍属 存量 资金 博弈   短期 蓝筹股 上演 的 指数 行情 令 市场 承压   短期 利好 带动 的 蓝筹股 行情 或 将 告一段落   后期 需要 题材股 接力 来维稳 指数 走向   今日 经财 要闻   一   央行 上海 总部 发布   债券 通   北向 通 境外 投资者 准入 备案 业务 指引   二   我国 信用 法规 和 标准 研究 正在 加快 推进   三   上海 易居 房地产 研究院 发布 的   房贷利率 与 楼市 研究 报告   显示   近期 许多 城市 的 个人 住房贷款 利率 均 有 不同 程度 的 上涨   四   水污染 防治法 修正案 草案 二审   更大 力度 保护 水 环境   五   根据 中国 结算 发布 的   关于 开展 存量 一人 多户 休眠 工作 的 通知   已 启动 对 同一 投资者 开立 的 三户 以上 多开 账户 的 休眠 工作   按 中国 结算 的 文件 要求   自 6 月 23 日后 的 下 一 交易日   下周一   6 月 26 日   起   被 确认 为 休眠 账户 的   将 在 交易系统 中止 交易   六   李军   十三 五   末 上海 金融市场 交易额 或 达 2000 万亿   七   受 A股 纳入 MSCI 新兴 市场 指数   以及 中国 宏观 环境 持续 稳定 的 双重 因素 鼓舞 下   富达 国际 基金 经理 马磊 表示   预计 2017 年 下半年 中国 股市 投资者 情绪 将 有望 转好   中国 股市 未来 十年 增长 将 主要 由 创新 驱动   大盘 回顾   周四 A股 市场 出现 了 早盘 冲高   午市 后 震荡 回落   尾盘 大幅 跳水 的 走势   从 盘面 看   沪 深 300 指数 盘中 创 17 个 月 新高   但 2000 余 只 个股 下跌   市场 分化 相当 明显   至 收盘   上证指数 报 3147   45 点   较前 一 交易日 跌 8   76 点   跌幅 为 0   28   深成指 报 10265   20 点   跌 101   97 点   跌幅 为 0   98   创业板 指 表现 最 弱   报 1798   38 点   跌幅 达到 1   44   两市 个股 普跌   仅 400 余 只 交易 品种 上涨   不 计算 ST 股 和 未 股改 股   两市 涨停 个股 不足 30 只   两市 共 成交 4781 亿元   较前 一 交易日 大增 800 多亿元   数据 显示   昨日 两市 共有 主力 尽 流出 190   57 亿元   较 上 一日 的 96   95 亿元 大增 96   27   两市 61 个 行业 板块 有 57 个 遭遇 主力 抛售   虽然 券商 与 银行 板块 共有 近 13 亿元 主力 介入   但 化工行业 与 医药 制造 就 分别 遭遇 14 亿元 与 12   21 亿元 的 主力 抛售   而 持续 低迷 的 雄安 新区 的 抛售 力度 更是 高达 41   69 亿元   技术 分析   昨日 临近 收盘 的 半个 小时   沪 指 上演 高位 跳水   将 涨幅 全部 回吐   失守 60 日 均线   成交量 明显 放大   留下 长长的 上影线   尽管 跌幅 不深   但 个股 一地 鸡毛   沪 指自 3016 点 以来   大盘 每次 回调 的 相对 低点 位置 都 在 不断 抬升   所以 即使 大盘 冲高 乏力 后 出现 回落   指数 调整 的 空间 也 因 被 封住 而 难以 出现 大跌   总体 来说 市场 震荡 分化 的 格局 短期 依然 难以 打破   短线 来看   沪 指 在 盘中 攻克 60 日 均线 和 半年线 压力 之后   却 在 当日 得而复失   而 创业板 指则 连 上方 均线 压力 都 无法 触及   这样 的 走势   无疑 会 对 投资者 心理 产生 负面影响   而 在 技术 形态 上   在 60 分钟 K 线 级别 已经 形成 了 背离 雏形   一旦 沪 指 跌破 3117 点   就 意味着 背离 成型   如此 即 可能 引发 日线 级别 的 下跌   综合 分析   目前 指数 正 处在 压力 区间   市场 脆弱 的 心态   碎片 化 的 涨停板   主线 模糊   热点 凌乱   赚钱 效应 弱 等 因素 都 是 大盘 突破 的 掣肘 因素   而 昨日 的 尾盘 跳水   主要 有 以下 原因   首先   长期 的 二八 分化   导致 人气 低迷   最近 一段时间 权重股 虽然 整体 走高   但 该 板块 群众 基础 弱   弹性 小 制约 绝对 涨幅   难以 形成 大面积 的 赚钱 效应   与此同时   现在 场内 二八 轮动 非常 频繁   今天 追进 的 资金 明天 就要 吃套   打击 资金 积极性   其次   市场 反弹 到 重要 压力 区   却 仅靠 资金 拉升 指标股 来 抬升 指数   这种 没有 赚钱 效应 的 拉 抬 是 不 可能 持久 的   昨日 招商银行 一度 大涨 7   但 投资者 似乎 并 不买账   跟风盘 极少   由于 目前 A股 一直 是 存量 资金 博弈 的 市场   所以   指标股 吸引 着 资金 加码   那么   就 意味着 中小 市值 品种 面临 着 强大 的 筹码 套现 压力   另外   昨日 万达 股票 债券 莫名 齐跌   午后 复星 医药 盘中 突现   闪崩   令 市场 踩踏 事件 出现   短期 市场 受此 影响   再次 收复 上方 半年线 的 压力 大增   投资 建议   近期 权重 蓝筹 一直 强于 中小 创   但 上涨 始终 缺乏 有效 的 量 能 支持   在 存量 博弈 背景 下   后续 资金 若 无法 跟上   活跃 资金 或会 转战 中小 创   短线 投资者 在 降低 权重 配置 时   可 加大 中小 创中 盘子 小   股性 活跃 的 超跌 品种   大盘 的 纠缠 格局 依然 还 在 进行 中   权重股 虽 整体 走高   但 群众 基础 弱   弹性 小   绝对 涨幅 有所 制约   金融 板块 大涨 促使 沪 指上 摸 3180 点 压力 位 区间   但 能否 真正 有效 突破   还 需要 观察 几日   基于 周四 K 线 组合 形态 偏向 悲观   因此 投资者 当前 宜先 退出 观望   等待 股指 下方 获得 支撑 后 再 寻机 操作   热点 分析   由于 粤港澳 大湾 区 论坛 期间   腾讯 看多 人工智能   百度 也 将 于 7 月 5 日 举办   百度 AI 开发者 大会   以谷歌   亚马逊 为 代表 的 互联网 巨头 一致 看好 人工智能 未来 的 发展   产业 创新 叠加 政策 扶持   人工智能 行业 高 景气 度 有望 维持   市场 在 最近 一个月 内 出现 了 4 次长 上影线   之前 三次 都 形成 了 周线 级别 调整   加之 下周 是 月末 钱荒 效应   值得 股民 做好 应对   自 6 月初 以来   市场 始终 是 以 中小 创 为首 的 反弹 模式   个股 赚钱 效应 保持   而 随着 周三 尾盘 开始   权重股 快速 拉升   带来 了 指数 尾盘 翻红   周四 刷新 高点   但 与此同时 个股 赚钱 效应 却 有 了 明显 的 降温 的   个股 涨少 跌 多   午盘 后 个股 跳水 加剧 这一 现象 必须 要 引起 重视   玉名 认为 这 意味着 上证 50 创新 高   但 并 没有 带来 其余 个股 的 跟随   相反 还 带来 了 大部分 个股 的 跳水   而 受到 政策 红利 的 军工 板块 和 上周   王者 荣耀   引发 的 手游股 类似   都 是 出现 了   一日游   的 走势   没有 延续性 的 热点   更多地 来自 于 事件 刺激 和 超跌 反弹   市场 下周 将 进入 到 一个 比较 敏感 的 时间段   既 是 月末   季末   又 是 半年 末   容易 出现 资金 的 异动   实际上   从 美联储 加息 和 缩表 行为 来看   已经 意味着 紧缩 货币政策 的 开启   而 这 也 在 全球 央行 中 流行   金融市场 很难 再现   大水 漫灌   式 强刺激   中性 偏紧 的 政策 和 流动性 将 成为 一种   常态   从 基本面 来看   玉名 认为 中国 经济 仍 将 是   L   型筑底 走势   这是 一个 阶段   是 一段 较长 的 时间   意味着 没有 高速 增长   也 没有 增速 大幅 下滑   而是 横盘 周期   同时 以 适度 偏紧 的 政策   为 供给 侧 结构性 改革 提供 良好环境   因此   从 基本面 决定 了 股市 只能 处于 震荡 市 周期   技术 上   沪 指 运行 到 60 日 均线 附近   在 权重股 拉升 之下 有 突破 之意   不过 由于 运行 到 前期 肩部 区域   压力 还是 比较 大   这种 单纯 依托 权重股   而 忽略 个股 效应 的 模式 能够 走多远   还是 值得 担忧 的   这是 引发 资金 派发 而 形成 跳水 的 关键因素   尤其 是 个股 的 赚钱 效应 越来越 差   甚至 不 排除 一些 获利盘 和 解套 盘 选择 了 短线 的 离场   伴随 着 高位   资金 追涨 的 压力 也 在 增加   谨慎 观望 气氛 增加   导致 了 成交量 的 止步不前   玉名 认为 目前 股民 需要 对于 个股 做 一个 梳理 了   短线 反弹 较 多 的   且 近期 放量 滞涨 的   就要 有所 警惕 了   要 逐步 兑现 利润   选择 落袋 为 安   重新 等待 机会   而 对于 已经 进入 前期 阻力 区 或 密集 套牢 区 的 个股   应该 及时 考虑 减仓   毕竟 这样 的 品种 很 容易 出现 再度 的 调整   对于 前期 涨幅 不 大   或者 是 下跌 通道 已经 扭转 的 个股   可以 暂时 持有 观望   昨日 回顾   主板 终于 费尽 九牛二虎之力 爬 到 了 3180 点 附近   但是 遗憾 的 是 在 主板 尤其 是 上证 50 和 沪 深 300 不断 地 创新 高 之际   中小 创却 依然 是 忍受着 无厘头 的 煎熬   午后 市场 更是 以 全线 跳水 的 结局 收盘   那么 对于 这样 的 市场 周五 会 怎样   昨日 消息面   央行   债券 通   登记 托管 等 实施细则 会 很快 发布 实施   发改委   抓紧 制定 出台 配气 价格 监管 规则   人 社部   9 月底 前 基本 实现 跨省 异地 就医 住院费用 直接 结算   23 日 成品油 将 迎 年内 第六次 下调   降幅 或 达 270 元   吨   国防 科工 局   推进 军工企业 混改   加快 军工 资产 证券化 进程   广电总局 要求 新浪 微博 等 网站 关停 视听 节目   欧美 股指 延续 涨跌 不一 的 走势   消息 面上   外围 市场 整体 稳健   国内 信息 面则 继续 是 不死不活 的 形式   预计 市场 继续 走 整理 行情   技术 分析   技术 上 看   市场 昨日 走势 在 午后 全线 跳水   主板 创新 高后 回落   创业板 则 是 继续 在 1800 点 附近 做 整理   相比 于 主板 则 显得 较为 弱势   技术 上 看   市场 周五 将 依然 不会 有大 行情   但是 二八 转换 的 格局 将 可能 随时 出现   今日 大盘 下 档 第一 支撑位 在 3130 点   第二 支撑位 在 3100   上 档 第一 压力 位 在 3160 点   第二 压力 位 在 3180 点   今日 走势   欧美 股指 高位 整理   隔夜 信息 面 依然 没有 什么 实质性 的 利好   今天 继续 有 新股申购   在 这样 的 情况 下   预计 大盘 再度 平开 或 小幅 低开 可能性 大   整体 看 今天 指数 出现 调整 的 可能性 大   日线 继续 以小阴   小阳 或 十字星 线 为主   随时 防止 主板 可能 出现 的 回调   今日 操作   就 昨日 市场 的 走势 看   依然 是 面子 行情   更是 将 中小 创 再度 推到 了 一个 极为 尴尬 的 境地   当然 在筑底 的 过程 中 很多 的 不 确定 因素 将会 愈发 明显   因此 建议 大家 操作 继续 在 短期 寻求 涨幅 不大 的 个股 或者 是 底部 放量 的 个股   尤其 是 再 加上 业绩 稳定 的 个股 将 是 最好   逢 低 介入   操作 上 短期 建议 执行 快 进快 出 的 策略   远离 短期 涨幅 过大 的 个股   具体操作 坚持 大涨 卖   大跌 买   不涨 不 跌 选择 观望 的 策略   从 昨日 市场走势 看   又 一次 证明 了 彬 哥 之前 所 让 大家 关注 的 3180 点 主板 可能 回调 的 观点 是 正确 的   而 主板 也 确实 在 3180 点 附近 出现 了 回调   对于 这样 的 回调   彬哥 认为 是 一个 健康 的 事情   也 是 一个 必须 要 出现 的 事情   现在 唯一 不能 确定 的 就是 在 主板 回调 的 时候 中小 创会 不会 出现 企稳   会 不会 出现 让 投资者 操作 的 机会   因此 大家 今天上午 需要 至少 需要 半天 的 时间 去 观察 市场 可能 出现 的 结果   目前 行情 有 一点 可以 确定 的 就是 主板 将会 在 3180 点 附近 出现 调整   因此 大家 万 不可 在 这个 时候 再 去 追涨 主板 的 个股   尤其 是 以 保险 银行 为首 的 上证 50 个股   就 周四 午后 市场 的 走势 看   主板 的 调整 势在必行   因此 大家 要 做好 主板 调整 的 心理准备   当然 还要 做好 市场 全线 调整 的 心理 预期',\n",
       " '原 标题   武汉 警方 一下子 抓 了 808 人   还 都 是 俊男靓女   原来 他们 每天 偷偷摸摸 干 这事   武汉 警方 一下子 抓 了 808 人   还 都 是 俊男靓女   原来 他们 每天 偷偷摸摸 干 这事   大家 还 记得 今年 4 月 光谷 曾 发生 的 一件 大事 吗   当时 微博 和 朋友圈 上 都 传 疯 了   说 是 光谷 国际 广场 大量 白领 被捕   现场 手铐 都 不够 用   结果 经 记者 深入调查 后 发现   这些 被 抓 的 并 不是 网传 的   白领   而是 一个 有 282 名 涉案人员 的 诈骗 团伙   天呐   接近 300 人 的 犯罪团伙   你 以为 这个 数字 已经 够 庞大 了 吗   错   还有 让 你 更 震惊 的   据 武汉市公安局 通报   6 月 9 日   警方 在 武汉三镇 的 10 处 窝点 内   抓获 了 808 名 嫌疑人   而且 令人 大跌眼镜 的 是   他们 当中 大多 都 是 年青人   用   俊男靓女   来 形容 也 不为过   年纪 不 大   外形 不差   那么 到底 是 犯 了 什么 事 呢   其实 说 起来   这 事 估计 绝大多数 人 都 碰到 过   那 就是 网络 诈骗   涉案 电脑 800 余台   手机 2000 余部   银行卡 3000 余张   因为 涉及 的 账户 太 多   涉案 金额 目前 还 没 统计 出来   这是 全国 涉案人 数最多 的 一起 特大 网络 诈骗案   这些 惊人 的 数字 背后   究竟 藏 着 什么样 的 秘密   警方 把 他们 一锅端 了   今年 4 月   武汉 警方 获悉 在 塔子 湖 地区 有 电信 网络 诈骗 活动   经过 2 个 多月 的 秘密 侦查   发现 了 一个 特大 网络 诈骗 犯罪团伙   原来 该 团伙 利用 非法 互联网 金融 平台   实施 推荐 股票   炒 期货 等 诈骗   其 10 处 窝点 散布 在 江岸   洪山   东湖 高新   硚口   江汉 等 5 个区 的 写字楼 内   涉案人员 多达 800 余名   6 月 9 日 上午   武汉 警方 组织 了 1000 余名 警力   分成 14 个 抓捕 组   同时 对 首脑 分子 和 10 处 窝点 实施 了 突击 抓捕 行动   目前   警方 已 依法 刑事拘留 411 人   对 45 人 取保候审   该案 还 在 进一步 调查 中   他们 是 如何 进行 诈骗 的   人数 众多 的 这个 诈骗 组织 是 怎么样 进行 人员 分工   又 是 如何 一步步 引 受害人 上钩 的 呢   2015 年 以来   该 犯罪团伙 以 投资 组建 的 某 集团公司 为 总部   旗下 成立 多家 分公司   子公司   设立 人事部   财务部   行政部 等 机构 部门   分为 经理   分析师   业务 小组长   业务员 等 组织 层级   在 网上 发布 招聘 信息 招揽   培训 业务员   依托 虚构 的 互联网 金融 平台   通过 业务员 散布   有 内幕消息   等 虚假 信息   引诱 受害人 加入 专门 的 QQ 群   微信群   再 由 所谓 的   证券公司 资深 分析师   和   经理   逐个 联系 受害人   引诱 受害人 交易 股票   期货   贵金属   外汇 等 金融 产品   受害人 若 获利 则 按   五五   六四   分成   若 亏损 则 拉入   黑名单   不再 联系   网友 热评   李晓猫 不吃 鱼   在 人 信汇 写字楼 面试 过 一个 这种 工作   一听 不对劲 就 撤 了   说 不 适合 我   我 嘴巴 笨   习惯 就 好 33xxzz   八百多 人   可能 相当 部分 人 都 不大清楚 自己 到底 是 啥 性质 工作 吧   刑法 守望者   要 警惕 了   普法   各种 工作 都 要 预防 法律 风险   要 做 个 明白人   不是 什么 钱 都 可以 拿   尤其 是 从事 金融   保险   银行   财务 的 人员   不 小心 就 触犯 刑法   童颜 永 在   心理医生   盘 在 写字楼 内 的 诈骗 公司   以 高薪 招聘 业务人员 为 诱饵   实行 诈骗 的 顽疾   终于 被 揣 掉 了   你 的 渔船   联系 一下 自己 的 朋友   看 有 多少 个 被 抓 了   The   former   degrees   招聘 平台 和 销售 会上 百分之八十 就是 这种 工作   从 源头 抓起   防止 更多人 受伤   宇宇家 的 小 仙女   恐怖   进 了 一个 星期 发现 不太 对劲   这 尼玛 是 让 我 骗人 啊   赶紧 自己 跑 路 了   z _ 路 漫漫   我 做 过   后来 听说 公司 跑 路 了   睡 不 饱 怎么办 啊 小铭大   我 都 面试 过 这种 工作   还 培训 了 几天   话术 一看 就 的 套路 骗   果断 闪 人   这种 公司 太多 了   遗忘 的 金 叶子   碰到 这样 的 骗子 找 我们 做 视频   最后 被 我 打电话 骂 了 一顿   a 一元复始 c   还有 那些 天天 电话 骚扰 别人 信贷 的   卖房 的   卖 邮票 的   发票 的 社会 生活 中 一不留神 就 会 被 坑   所以 活着 需要 理智   笑 看 世间 丑 2448337651   这 是 在 路上 发骗 广告 搞 高利贷 的 那些 互联网 金融公司 吗   未来 温暖 的 时光 属于 自己   金融 港   街道口 都 是 这些   好多 同学 刚刚 毕业 都 去 做 过   都 是 网上 投 简历   这些 公司 就 猛 联系 你   其实 好多 都 不 知道 这是 骗人 的 吧   有 强迫症 的 天蝎座 怪 咖   吓 到 我 了   冉冉 的 彗星 是 个 宝   早上 还 接到 说 做 期货   霖心 金鱼 And 张蒙   都 不敢 去 找 工作 了   蒋 妈妈 1   5   刚回到 武汉   准备 找份 工作   看 网上 好多 这种 招聘 的   感觉 像 骗人 的   都 不 看 的   看 了 网友 的 评论   小编 只有 一个 感觉   找 工作 时 一定 要 擦亮 双眼   不要 因为 一时 疏忽   而 给 自己 的 生活 抹 上 污点   俗话说   知己知彼 百战不殆   弄清 网络 诈骗 的 常见 手法   才能 避免 上当受骗   下面 就 为 大家 奉上 防骗 攻略   遇到 诈骗 只 需 见招拆招   网络 防骗 攻略   电信 网络 诈骗 犯罪 往往 表现 为   六大 陷阱   1   物美价廉 的 网购 陷阱   2   推销产品 的 便利 陷阱   3   异性 交友 的 情感 陷阱   4   中奖 信息 的 惊喜 陷阱   5   冒充 国家 工作人员 的 恐吓 陷阱   6   钓鱼 网站 和 网上银行 的 迷惑 陷阱   下面 是 网络 诈骗 中 比较 常见 的 几种 类型   一起 学习 如何 防范   让 骗子 无处 遁形   1 虚假 红包 诈骗   临近 节日 时   各大 电商 平台 会以 派 发红包 的 形式   为 促销 活动 预热   有 不法分子 趁机 在 微信 朋友圈   微信 群 等 平台 中   派发 虚假 红包   诱骗 大家 点击   套取 个人信息   或 传播 木马病毒   盗取 银行账号   识骗 方法   慎点 此类 红包 领取 链接   如果 不 小心 点击   应 第一 时间 关闭 手机 网络   修改 网银   支付宝 等 重要 账户 密码   并 通过 安全软件 查杀 木马病毒   2 二维码 诈骗   抢购 高峰期   网页 打开 慢   网银 交易 出现 比较 迟钝 现象   有 不法分子 会 冒充 客服 或 店主   以 单子 出现   调单   卡单   等 说法 为 幌子   故意 说 没有 收到 款项 欺诈 消费者   取得 信任 后 要求 消费者 以 其他 办法 进行 转账   识骗 方法   消费者 要 注意   调单   卡单   激活 订单 等 多 为 诈骗 术语   见 此类 词语 基本 可以 断定 对方 是 骗子   没有 收到 款项 这样 的 问题   是 不会 在 东京   天猫 这样 的 大型 网络 购物 平台 出现 的   3 钓鱼 网站 诈骗   节假日 期间   公众 的 购物 热情高涨   假冒 正规 电商 官方网站   在线 支付 平台 等 的 钓鱼 网站 活动 频繁   消费者 在 忙于 浏览 各色 商品 页面 时   往往 容易 忽略 链接 的 安全性   从而 误入 诈骗 分子 发来 的 虚假 钓鱼 网站   识骗 方法   对 陌生人 发来 的 商品 链接 要 提高警惕   谨慎 打开   如遇 网络 诈骗 应 第一 时间 向 属地 公安机关 报案   并 向 举报中心 举报   4 虚假 客服 诈骗   抢购 高峰期   网页 打开 慢   网银 交易 出现 比较 迟钝 现象   有 不法分子 会 冒充 客服 或 店主   以 单子 出现   调单   卡单   等 说法 为 幌子   故意 说 没有 收到 款项 欺诈 消费者   取得 信任 后 要求 消费者 以 其他 办法 进行 转账   识骗 方法   消费者 要 注意   调单   卡单   激活 订单 等 多 为 诈骗 术语   见 此类 词语 基本 可以 断定 对方 是 骗子   没有 收到 款项 这样 的 问题   是 不会 在 东京   天猫 这样 的 大型 网络 购物 平台 出现 的   5 预购 诈骗   还有 不法分子 会以   提前 购   预售   为 诱饵 向 用户 发送 木马 链接   除了 网购 链接 被 植入 木马   钓鱼 网站   还有 不法分子 会 在   预售   活动 上 做文章   骗取 买家   定金   识骗 方法   慎点 不明 链接   有关 购物 短信 也 不要 轻信   同时 也 请 给 手机 装 上 杀毒软件   提供 安全 的 上网 环境   6 中奖 诈骗   购物 过后   很多 人会 陆陆续续 收到 一些 商家 的 中奖 信息   切记 不要 随意 拨打 中奖 信息 提供 的 电话号码 或 点击 发来 的 网站 链接 地址   很 可能 会 让 手机 或 电脑 感染 上 木马病毒   识骗 方法   收到 中奖 信息 后 留心 一下   看一看 你 所 购买 的 产品 中 有没有 这家 的 产品   然后 最好 能 在 天猫 店里 直接 和 卖家 联系 确认 消息   7 朋友圈 诈骗   由于 缺少 第三方 监管 平台   不法分子 会 在 朋友圈 发布 虚假 低价 购物 信息   骗取 消费者 汇款 购买   识骗 方法   朋友 圈里 的 销售 行为   存在 取证难   查处 难 的 问题   因此 建议 大家 在 朋友圈 买 东西 时   尽可能 选择 正规 第三方 支付 平台 进行 支付   避免 直接 支付   以 确保安全   8 快递 诈骗   不法分子 会 从 非法 渠道 获得 客户 信息   制作 假 的 快递 单   随后 冒充 快递 员 提前 联系 受骗者   把 虚假 货品 送到 消费者 手中   骗取钱财   识骗 方法   签收 包裹 前   务必 按 官方 的 信息 核实 对方 身份   并 确认 是否是 自己 的 包裹   在 取货 之后   一定 记得 把 自己 的 个人信息 从 包裹 上 完全 抹 去   避免 个人信息 泄露   9 退款 诈骗   不法分子 常 以   退款   或   退货   为 由 假扮 网店 客服   要求 消费者 点击 其 提供 的   钓鱼 网站   链接   盗取 持卡人 的 银行 密码 及 动态 验证码   识骗 方法   如果 接到 网上 购物 退款 的 电话 或 短信 等 信息   一定 要 谨慎 对待   切莫 泄露 银行卡 账号   户名   动态 验证码 等 个人信息   同时   提醒 大家   保护 好 自己 账户 信息   遇到 情况 一定 及时 报警   武汉 破 特大 网络 诈骗案 抓 808 人   以   内幕消息   骗人   6 月 12 日   武汉市公安局 向 澎湃 新闻 通报   该局 破获 一起 特大 网络 诈骗案   抓获 包括 卢某   熊某 等 8 名 首脑 分子 在内 的 涉案人员 808 名   查扣 涉案 电脑 800 余台   手机 2000 余部   银行卡 3000 余张   据悉   这是 全国 打击 利用 非法 互联网 金融 平台 实施 诈骗 犯罪 中   查获 涉案人 数最多 的 一起 案件',\n",
       " '6 月 21 日   A股 纳入 MSCI 指数 尘埃落定   但 当天 被 寄予厚望 的 券商 股 并未 扛起 反弹 大旗   22 日   在 222 只 纳入 MSCI 指数 的 A股 股票 中   银行 股 全线 飘红   其中 招商银行 领涨   涨幅 达 6   66   保险 股 和 券商 股 的 表现 也 可圈可点   在 这 222 只 股票 中   金融 板块 的 股票 数量 和 总 市值 占 比均 位居 首位   分析 人士 指出   银行 股 股息 率高   估值 低   收益 稳定   对于 资金量 较大   投资 期限 较长 的 资金 存在 相当 大 的 吸引力   从 国际 经验 来看   纳入 MSCI 指数 后   相关 股市 的 投资者 风格 将 更加 稳健   更加 偏好 业绩 稳定   流动性 好   风险 低 的 优质 蓝筹股   银行 股具 估值 优势   6 月 22 日   A股 金融股 表现 强势   板块 涨幅 达 1   19   据 平安 证券 统计   在 222 只 纳入 MSCI 指数 的 A股 股票 中   金融 板块 市值 占 比达 41   32   其中 银行   证券 和 保险 子 板块 的 市值 占 比 分别 为 27   30   7   75   和 6   24   多家 券商 研究 报告 认为   银行 等 金融股 受到 纳入 MSCI 指数 的 提振   未来 更 多 境外 资金 将 进入 金融股   华泰 证券 表示   在 纳入 MSCI 指数 之后   A股 将 迎来 约 850 亿元 人民币 的 增量 资金   其中   考虑 到 222 只 股票 中   金融股 市值 占 比约 42   并且 金融股 体量 大   流动性 强   估值 低   符合 境外 资金 偏好   有望 迎来 超过 权重 的 资金 比例   预计 金融股 有望 吸引 增量 资金 约 350 亿元 人民币   新富 资本 证券 投资 中心 研究 总监 廖 云龙 认为   银行 股 脱颖而出 的 主要 原因 是 低 估值   市场 预期 银行 股 基本面 改善   同时 市场 整体 风格 偏 保守   偏爱 低 估值   22 日 银行 股 的 大涨 是 市场 风格 的 延续   是 投资者 对 龙头股 和 对 低 估值 的 防御性 选择   东方 财富 choice 统计 的 一季度 末 QFII 重仓股 数据 显示   银行 股是 QFII 关注 的 重点 之一   在 前 五十 大 重仓股 中   北京 银行   南京 银行   宁波 银行   上海银行 榜上有名']"
      ]
     },
     "execution_count": 48,
     "metadata": {},
     "output_type": "execute_result"
    }
   ],
   "source": [
    "news_content[:10]"
   ]
  },
  {
   "cell_type": "code",
   "execution_count": 49,
   "metadata": {},
   "outputs": [],
   "source": [
    "sample_num = 50000\n",
    "sub_samples = news_content[:sample_num]"
   ]
  },
  {
   "cell_type": "code",
   "execution_count": 50,
   "metadata": {},
   "outputs": [],
   "source": [
    "X = vectorized.fit_transform(sub_samples)"
   ]
  },
  {
   "cell_type": "code",
   "execution_count": 51,
   "metadata": {},
   "outputs": [
    {
     "data": {
      "text/plain": [
       "(50000, 10000)"
      ]
     },
     "execution_count": 51,
     "metadata": {},
     "output_type": "execute_result"
    }
   ],
   "source": [
    "X.shape"
   ]
  },
  {
   "cell_type": "code",
   "execution_count": 112,
   "metadata": {},
   "outputs": [
    {
     "data": {
      "text/plain": [
       "(array([0, 0, 0, 0, 0, 0, 0, 0, 0, 0, 0, 0, 0, 0, 0, 0, 0, 0, 0, 0, 0, 0,\n",
       "        0, 0, 0, 0, 0, 0, 0, 0, 0, 0, 0, 0], dtype=int64),\n",
       " array([  35,   46,  302,  912,  933, 1546, 1743, 1819, 1844, 2558, 2635,\n",
       "        2734, 3974, 4113, 4132, 4405, 4505, 4525, 4802, 4878, 5628, 5738,\n",
       "        5760, 5808, 5892, 6195, 6880, 7319, 7338, 7607, 7662, 9082, 9141,\n",
       "        9631], dtype=int64))"
      ]
     },
     "execution_count": 112,
     "metadata": {},
     "output_type": "execute_result"
    }
   ],
   "source": [
    "np.where(X[0].toarray())"
   ]
  },
  {
   "cell_type": "code",
   "execution_count": 52,
   "metadata": {},
   "outputs": [],
   "source": [
    "import random"
   ]
  },
  {
   "cell_type": "code",
   "execution_count": 114,
   "metadata": {},
   "outputs": [],
   "source": [
    "document_id_1, document_id_2 = random.randint(0, 1000), random.randint(0, 1000)"
   ]
  },
  {
   "cell_type": "code",
   "execution_count": 115,
   "metadata": {},
   "outputs": [
    {
     "data": {
      "text/plain": [
       "963"
      ]
     },
     "execution_count": 115,
     "metadata": {},
     "output_type": "execute_result"
    }
   ],
   "source": [
    "document_id_1"
   ]
  },
  {
   "cell_type": "code",
   "execution_count": 116,
   "metadata": {},
   "outputs": [
    {
     "data": {
      "text/plain": [
       "907"
      ]
     },
     "execution_count": 116,
     "metadata": {},
     "output_type": "execute_result"
    }
   ],
   "source": [
    "document_id_2"
   ]
  },
  {
   "cell_type": "code",
   "execution_count": 117,
   "metadata": {
    "collapsed": true
   },
   "outputs": [
    {
     "data": {
      "text/plain": [
       "'庆 余年   近日   由 海南 广播电视 总台   华娱 时代 影业 和悦 凯 娱乐 联合 出品 的 古装 权谋 IP 大剧   庆 余年   确认 将 于 10 月 正式 开机   同时   出品 方 还 宣布   该剧 将 由 著名 导演 蒋家 骏 执镜   自 发布 影视 化 消息 以来   IP 巨制   庆 余年   一直 备受 行业 内外 关注   此番 确认 开机 时间 和 导演 人选   进行 行业 资源整合 的 矩阵式 打造 更是 引起 了 一石激起千层浪 的 连锁 效应   进一步 引爆 了 广大 书迷 和 观众 的 期待值   蒋家 骏   名导 执镜   权谋 题材 再焕 青春 生机   导演 蒋家 骏 一直 以 影视剧 执导 经验丰富   影视作品 画面 精美   时尚 气息 强烈 著称   早年 曾 被 称为   最会 拍 时尚 剧 的 导演   偶像剧 教父   而 他 用 一部 青春 版   射雕 英雄传   彰显 了 他 对 古装 题材 极强 的 驾驭能力   除了 以 接近 电影 的 镜头 语言 诠释 古装剧 广受 业内 赞誉 之外   更是 赋予 了 古装剧 无与伦比 的 青春 气息   更加 符合 当下 影视剧 受众 主力军 的 喜好 和 价值 取向   庆 余年   讲述 了 一个 普通 少年 为 探寻 母亲 身亡 之谜 只身 涉险 入朝   陷入 权谋 漩涡   最终 凭借 智勇 闯 出 一片 伟业 的 传奇 经历   少年 英雄 的 设定 从 根源 上 突破 了 传统 男频 权谋 的 固有 套路   取而代之 的 是 更 年轻化 的 表达方式   由此 不难看出   蒋家 骏 导演 无疑 与 全剧 整体 的 气质 定位 十分 契合   二者 将 碰撞 出 怎样 的 火花   一切 剧中 见分晓   庆 余年   万众瞩目   黄金卡 司 呼之欲出   虽然 此次 片方 放出 导演 和 开机 的 信息   然而 最令 广大观众 期待 的 卡司 阵容 却 仍然 犹抱琵琶半遮面   横向 比较 不难看出   相似 量级 的 IP 剧集 纷纷 祭出 了 超 一线 大 咖 的 黄金 阵容   令人 不由得 对   庆 余年   的 卡司 配置 平添 了 几分 期待   庆 余年   作为 男频 IP 的 扛鼎之作   深入 地 刻画 了 一个 文武双全   志向 高洁   纵横捭阖 的 乱世 权臣 形象   而 主角 范闲 究竟 花落谁家 十足 令人 期待   之前 曝光 的 概念 海报 中 的 男性 侧影 就 已经 引发 网络 广泛 热议   也 留下 了 极大 的 悬念   鹿晗   吴亦凡 等 流量 担当 呼声 颇 高   而 胡歌   王凯 在 权谋 题材 电视剧 中 的 再次 携手 也 是 众望所归   陈伟霆   赵又廷 凭借 优质 古装 IP 收揽 了 大批 忠实 拥 趸   而 杨洋 与 深蓝 的 再度 携手 也 让 广大 粉丝 翘首以盼   未映 先火   此番   庆 余年   的 选角大热 态势 更加 从 侧面 说明 了 此 IP 的 强大 影响力   矩阵 联合   多驾 马车 倾力 保驾护航   随着 整体 行业 制作 水平 的 提升 和 观众 审美 水平 的 日趋 提高   品质 剧   的 标准 也 已经 达到 了 前所未有 的 高度   而 只有 深谙 影视 行业 发展 模式   整合 行业 资源   才能 在 现今 行业 的 泛 娱乐 生态 下 打造 引领 行业 的 精品   而   庆 余年   的 IP 量级 以及 在 行业 中 的 地位   对 各方 资源 的 高度集中 自然 有着 更 高 的 需求   因此   多家 出品 方 强强 联手   重拳出击   针对   庆 余年   的 制作   进行 了 矩阵式 资源整合   阅文 集团 提供 的 原始 授权   迈出 了 IP 孵化 的 第一步   名导 助阵   确保 剧集 的 质感 与 水准   而 深蓝 影业   海南 广播电视 总台   华娱 时代 影业 和悦 凯 娱乐 则 倾力 从 多维度 深耕 影视 工业化 流程 和 品质 化 打造   多驾 马车 并驾齐驱   为 超级 IP   庆 余年   转化 成为 2018 年度   头部 作品   保驾护航   深度 展现出 原著 中 波澜壮阔 的 史诗 长卷   将 一个 心怀 家国   忧国忧民   挥斥 方遒 的 少年 英杰 形象   鲜活 地 呈现 在 荧屏 之中'"
      ]
     },
     "execution_count": 117,
     "metadata": {},
     "output_type": "execute_result"
    }
   ],
   "source": [
    "news_content[document_id_1]"
   ]
  },
  {
   "cell_type": "code",
   "execution_count": 118,
   "metadata": {
    "collapsed": true
   },
   "outputs": [
    {
     "data": {
      "text/plain": [
       "'今日   由星 汇天姬 影视 传媒 出品 的 萌宠 动作 喜剧 合家欢 大 电影   营救 汪星 人   曝光 最新 剧照   除了 之前 亮相 的 主演 成毅 和 阿拉蕾 雅涵 以外   今日 揭开 了 部分 参演 的 其他 明星阵容   包括 综艺 小 天王 欧弟   家喻户晓 的 老戏骨 郑则仕   超级 萌娃 阿拉蕾 和 人气 萌娃 Jackson 周嘉诚   以及 近日 刚刚 疑似 公开 恋情 的 赵本山 女儿 球球 和 天佑 等   纷纷 亮相   让 这部 电影 增加 了 许多 看点   欧弟 变身   杀马特   司机   玩 嗨 现场   正在 青岛 紧张 拍摄 的 电影   营救 汪星 人   上周 迎来 一位   大牌   客串 嘉宾 欧弟   平日 以 主持 综艺节目 见长   口才 和 思维 反应 俱佳 的 欧弟   在 片中 饰演 一名 货车 司机   身穿 红色 紧身 皮 马甲   胳膊 上 缠 着 纹身 袖套   银灰色 头发 上 还 戴 着 发带   造型 十分   杀马特   喜剧效果 十足   据介绍   连续 两天 的 拍摄 虽然 遇上 大风 和 暴晒 天气   却 丝毫 没有 影响 欧弟 演技 的 发挥   剧情 十足 搞笑   而 欧弟 本人 也 在 片场 跟 几十条 狗狗 玩 嗨 了   忍不住 挂念 自己 家 的 宠物 狼犬   老戏骨 郑则仕 加盟   再现 经典 角色   肥猫   电影   营救 汪星 人   今日 曝出 的 剧照 中   出现 了 久违 的   肥猫   这一 经典 银幕 形象   香港 资深 老戏骨 郑则仕 在 十几年 演绎 的 小人物   肥猫   曾经 让 无数 观众 又哭又笑   印象 深刻   时隔多年 再次 穿 上   肥猫   经典 的 背带 牛仔裤   郑则仕 非常 开心   希望 这个 经典 角色 能 再度 唤起 一代人 的 儿时 回忆   而 生活 中 非常 喜欢 狗狗   家中 养 了 一只 比熊 的 郑则仕   在 拍戏 间隙 也 向 专业 训犬 师们   偷师   了 不少 实用 的 训犬 技巧   阿拉蕾 Jackson 人小鬼大   萌娃 出动 萌力 十足   今年 四月份 的 北京 电影节 开幕式 上   电影   营救 汪星 人   剧组 就 曾 以   男神 成毅   萌娃 阿拉蕾   的 组合 俘获 大批 网友 的 心   虽然 目前 阿拉蕾 还 未 进组 开始 拍摄   不过 前几日 另 一位 因为 综艺节目 而 人气 火爆 的 混血 萌娃 Jackson   已经 率先 完成 了 自己 的 戏份   这位 大 眼睛 长 睫毛 一头 卷发 的 漂亮 宝宝 在 片场 人气 极高   连 见惯 了 大 场面 的 剧组 工作人员 都 忍不住 直喊   太 可爱 了 要 被 萌化 了   据悉   备受 关注 和 喜爱 的 萌娃 阿拉蕾   将 于 七月份 进组 拍摄   萌娃 和 萌宠   让 人 无比 期待   球球   天佑 惊喜 出演   角色 暂 未公开   除了 以上 几位 客串 嘉宾   前几日 刚刚 疑似 公布 恋情 的 赵本山 女儿 球球 和 Mc 天佑   也 被 曝 加盟 电影   营救 汪星 人   实在 是 不小 的 惊喜   据 了解   球球 和 天佑 的 角色 暂时 保密   这 也 是 二位 的 首次 大 银幕 演出   电影   营救 汪星 人   是 一部 萌宠 动作 喜剧   讲述 了 退役 警犬 训练员 和 拉布拉多 犬 组成   神犬 特工队   与 犯罪团伙 斗智斗勇   历经 一场 惊险刺激 的 大 营救 的 故事   片方 还 将 陆续 邀请 多位   重量级   神秘 大 咖 友情 客串   务求   全程无 尿点'"
      ]
     },
     "execution_count": 118,
     "metadata": {},
     "output_type": "execute_result"
    }
   ],
   "source": [
    "news_content[document_id_2]"
   ]
  },
  {
   "cell_type": "code",
   "execution_count": 120,
   "metadata": {},
   "outputs": [
    {
     "data": {
      "text/plain": [
       "array([0., 0., 0., ..., 0., 0., 0.])"
      ]
     },
     "execution_count": 120,
     "metadata": {},
     "output_type": "execute_result"
    }
   ],
   "source": [
    "vector_of_d_1 = X[document_id_1].toarray()[0]\n",
    "vector_of_d_1"
   ]
  },
  {
   "cell_type": "code",
   "execution_count": 121,
   "metadata": {},
   "outputs": [
    {
     "data": {
      "text/plain": [
       "array([0., 0., 0., ..., 0., 0., 0.])"
      ]
     },
     "execution_count": 121,
     "metadata": {},
     "output_type": "execute_result"
    }
   ],
   "source": [
    "vector_of_d_2 = X[document_id_2].toarray()[0]\n",
    "vector_of_d_2"
   ]
  },
  {
   "cell_type": "code",
   "execution_count": 58,
   "metadata": {},
   "outputs": [
    {
     "data": {
      "text/plain": [
       "426"
      ]
     },
     "execution_count": 58,
     "metadata": {},
     "output_type": "execute_result"
    }
   ],
   "source": [
    "random_choose = random.randint(0, 1000)\n",
    "random_choose"
   ]
  },
  {
   "cell_type": "code",
   "execution_count": 59,
   "metadata": {
    "collapsed": true
   },
   "outputs": [
    {
     "data": {
      "text/plain": [
       "'原 标题   牟其中 出狱 后 首次 公开 亮相   召回 旧部 成立 南德 复业 小组   刚出狱 时 的 牟其中   这是 牟其中 自 去年 9 月 27 日 出狱 后 的 首次 参加 公开 活动   6 月 16 日 下午   由 中社 社会工作 发展 基金会 公和 基金 主办 的   公和 基金 2016 年度 公和 人物 颁奖礼   在 北京 举行   牟其中   夏宗伟 共同 获得 2016 公和 年度人物 候选 提名   如果 写作 民间 版 的 中国 当代史   必然 有 牟其中 的 故事   这是 牟其中 获奖 提名 理由 的 第一句   颁奖 会上   因为 这 两人 到来   而 引起 了 一阵 骚动   很多 慕名 者 前来 问候 和 合影   牟其中 说   他 需要 告诉 外界   出狱 9 个 月 以来 他 都 做 了 什么   最 重要 的 事情 就是   复业   重振 南德   此前 在 3 月 27 日   牟其中 选择 出狱 半年 的 这 一天   作为 南德 复业 的 开始   这 一天   一场   南德 智慧 文明 生产方式 研讨会   在 北京 门头沟区 的 一家 宾馆 举行   这里 距离 当年 牟其中 的 南德 宿舍楼 仅 有 10 分钟 的 步行 路程   1999 年 1 月 7 日   牟其中 就 是从 这个 宿舍楼 乘车 去往 南德 办公室 的 路上 被 抓捕   当天 参加 研讨会 的 80 多人 中   有 数位 南德 的 老 员工   现在 他们 又 有 了 一个 新 的 身份   南德 复业 筹备 小组 成员   组长 自然 就是 牟其中   再 一次 白手起家   再 一次 成功   就 能 证明 我 的 理论 是 正确 的   牟其中 说   辉煌 和 传奇 故事 都 是 过去 的   1   亮相   他 的 故事   在于 他奇 瑰 的 思考力   在此之前 曾 有 很多 论坛 和 会议 表达 了 希望 能 请 牟其中 出席 的 愿望   但 都 被 他 一一 推掉 了   对于 这次 获 年度人物 提名   牟其中 对夏宗伟 坦言   他 看重 的 并 不是 获得 提名   而是 因为 这次 大会 的 主办方 里 有 他 多年 信赖 的 老友   他 要 感谢 一份 几十年 不离 不弃 的 信任   另外 他 看重 的 是 基金会 的 公益性   公益   这 和 他 的 性情 相符   夏宗伟 说   评奖 词里 对 当年 的 这位   商业 教父   进行 了 事迹 总结   如果 写作 民间 版 的 中国 当代史   必然 有 牟其中 的 故事   他 的 故事   不仅 是 数次 死里逃生 的 传奇   或是 石破天惊 的 手笔   而 在于 他奇 瑰 的 思考力   一直 尝试 冲破 思想 的 牢狱   他 异想天开 的 创想   总是 突破 肉身 的 极限   在 今天 和 未来   中国 社会 永远 需要 炸裂 喜马拉雅 的 想象 和 意志   当然   人们 也 没有 忘记 夏宗伟   夏宗伟 当选 的 理由 是   无论是 显达 还是 困厄   夏宗伟 都 是 他 最 铁心 的 支持者   这种 虽 千万 人吾往 矣 的 勇气   堪 与 牟 老 的 精神 同辉   在 颁奖会 现场   大家 看到 牟其中 和 夏宗伟 的 到来   很多 人 上前 问候   出狱 以来   夏宗伟 一直 在 努力 让 牟其中 能 低调 一些   出门 会客 都 尽量 安排 在 能 保持 私密 的 地方   出现 在 公共场所 也 都 会 带上 帽子   2   复业   我们 愿意 再次 回到 南德   当年 的 南德 总部 大楼   当年 南德 总部 大楼 的 现状   楼上 的 租客 早已 换 了 几茬 了   对于 当年 牟其中 在 这里 的 故事   大多数 人 并 不 知晓   夏宗伟 说   南德 集团 的 复业 活动 是 牟其中 落脚 北京 后 开始 进行 的   在 去年 的 11 月 17 日至 19 日 牟其中 在 北京 召开 了 来自 全国 各地 的 老 员工 代表 座谈会   在 这次 座谈会 后   牟其中 正式 成立   南德 复业 筹备 小组   在 今年 元旦   牟其中 还 以 该 小组 的 名义 发布 了 元旦 寄语   当年 这些 员工   进入 南德 时 很多 都 在 二三十岁   他们 充满 干劲   被 牟其中 委以重任   他们 很多 人 坚守 到 南德 的 最后 一刻   前 南德 集团 研究院 院长 李 复耕 说   时隔 将近 20 年 还 能 再见面   这是 非常 不 容易 的   我们 非常 尊重 牟其中 先生   很多 老 南德 员工 回归 后   他们 的 名片 上 统一 印上 了   南德 复业 筹备 小组 成员   的 字样   夏宗伟 说   还 在 狱中 时   牟其中 就常 念叨 陈毅 元帅 的 那首 诗   此去 泉台 招 旧部   旌旗 十万 斩 阎罗   当年 曾 担任 南德 卫星 公司 总经理 的 王 德国 说   因为 对 牟 总 的 信任   我们 愿意 再次 回到 南德   其实 我们 很多 人 在 离开 南德 后 都 有 自己 的 事业   除了 老 员工   牟其中 也 物色 了 一些 新人 加入   一位 上海 的 投资人   为 投奔 牟其中   把 已经 成熟 的 三家 公司 进行 了 法人 变更   股份 稀释   就 为 能够 放手 跟随 牟其中 做 一番 事业   在 牟其中 出狱 前   夏宗伟 曾一度 设想   要是 他 能 像 普通 老人 那样 安度晚年 多好   这样 她 把 他 安顿 好 了 以后 自己 也 可以   退休   了   牟其中 注定 不是 安分 的 人   出狱 后   牟其中 曾多次 对夏宗伟 说   他 现在 甚至 有点   怀念   监狱 里 的 时间   那 是 一段 对 他 来说 是   书斋 式   的 时光   在 狱中 他 系统 的 反思   总结 过去   而 现在 他 每天 忙 到 没有 时间   牟其中 还 以 陈独秀 的   研究室 与 监狱   一文 为例   说 世界 上 只有 两个 地方 产生 文明 和 思想   科学 研究室 和 监狱   从 这 一个 角度 讲   监狱 对 我 来说 是 个 好 地方   牟其中 说   3   起步   我 唯一 能 做 的 就是 拼老命   如今 在 牟其中 北京 寓所 的 客厅 里   每天 都 会 有人 向 他 汇报工作 进展   在 短暂 的 思考 后   他 依然 会 向 当年 那样 给出 不容置疑 的 答复   复业 的 真正 起点   是 3 月 27 日   这天 对 牟其中 来说 是 一个 特殊 的 日子   是 他 出狱 整整 半年 的 日子   自 去年 9 月 27 日 出狱 的 第一天 开始   牟其中 唯一 想 的 事情 就是 如何 进行 南德 复业   在 3 月 27 这天   一场   南德 智慧 文明 生产方式 研讨会   在 北京 的 门头沟区 举行   与会者 80 多人 来自 全国 各地 的 企业家   在 为期 4 天 的 会期 中   牟其中 每天 连续 讲述 半天 时间   经过 半年 的 思考 和 准备   在 3 月 27 这天   一场   南德 智慧 文明 生产方式 研讨会   在 北京 的 门头沟区 举行   与会者 80 多人 来自 全国 各地 的 企业家   其中 也 包括 海归 企业家 和 港澳 的 商界 人士   在 为期 4 天 的 会期 中   牟其中 每天 连续 讲述 半天 时间   我要 讲 的 是 南德 从 哪里 来 的   要 到 哪里 去   以及 目标 是 什么   在 第一天 讲述 中   牟其中 就 开明 宗义   虽然 已近 77 岁   但 牟其中 思维 敏捷   记忆力 惊人   讲述 中 马克思   福山   克拉克 等 经济   历史学家 的 论述 观点 信手拈来   这 让 台下 众多 的 企业家 为 之 惊叹   作为 牟其中 16 年 来 的 唯一 代理人   夏宗伟 评价 牟其中 说   他 是 脑子 跑 在 嘴 前面 的   虽然 他 的 很多 想法 在 外界 看来 是 天马行空   但 他 有 自己 的 逻辑 和 证明 方式   南德 集团 当年 在 门头沟 购买 了 264 套 房子 作为 员工 宿舍   在 牟其中 被捕 后   这些 房产 被 几家 不同 法院 进行 了 拍卖   这次 开 研讨会 的 地方   距离 当年 牟其中 和 南德 员工 的 宿舍楼 步行 只要 10 分钟   1999 年 1 月 7 日   牟其中 就 是从 这个 宿舍 乘车 去往 南德 办公室 的 路上 被捕   狱中 18 年 从未 停止 思考   牟其中 说   我 在 狱中 坚持 锻炼   学习 都 是 为了 能 跟上 前进 的 步伐   半年 来   我 每天 都 在 思考 如何 让 南德 复业   重振 南德 雄风   是否 能 创造 更 辉煌 的 事业   牟其中 说   离开 监狱 的 第一件 事   他 想 的 就是 如何 把 南德 事业 推向 更 高 的 高峰   更大 的 规模   2004 年   牟其中 曾 对 探视 的 朋友 说   我 唯一 的 遗憾 是   被迫 终止 了   智慧 文明 时代 生产方式   的 试验 和 研究   我 已经 年 过 六旬   时间 宝贵   但 身陷囹圄 只能 虚度 时日   我 最大 的 愿望 就是 出去 后 继续 自己 的 试验   我 相信 自己 能够 复出   在 牟其中 出狱 时   夏宗伟 接受 封面 新闻记者 采访 时 也 曾 表示   对 他 来说   已经 没有 更 多 时间 成本 了   稳步 向前 才 是 最 重要 的   三次 坐牢 时间 加 起来 23 年 零 3 个 月   可以 说 牟其中 最好 的 年华 都 是 在 狱中 度过   我 唯一 能 做 的 就是 拼老命   要不然 我 为什么 要 锻炼身体 呢   牟其中 说   如今 牟其中 依然 保持 在 狱中 的 作息时间 和 锻炼 方式   4   寻路   每集 必看   人民 的 名义   在 牟其中 自己 看来   出狱 后 适应 社会 很难   但 判断 形势 更难   前 一段时间   人民 的 名义   大火   牟其中 几乎 每集 必看   这 就是 现在 反腐 形势 的 一种 艺术 体现 吧   牟其中 说   出狱 后   牟其中 曾到 上海   站 在 上海 环球 金融中心 俯瞰 上海   2016 年 9 月 27 日 出狱 后   牟其中 从 武汉 回到 万州 老家   随后 到 重庆   成都   上海 等 地   最后 落脚 到 北京   这 条 路线 也 是 30 多年 前 牟其中 离开 万州 开启 南德 集团 的 路线   在 度过 了 18 年 的 牢狱 生涯 后   牟其中 沿着 这条 路   去 观察 中国 经济 的 活跃 区域   如今 选择 门头沟 作为 第三次 创业 的 起始 之地   一方面 或许 是 为了   在 哪 跌倒   在 哪 爬 起   另一方面 对 喜欢   北京 气派   的 牟其中 来说   门头沟 在 北京 处于   上风 上 水   的 位置   在 牟其中 沿线 观察 的 时候   牟其中 同时 做 的 一件 事 就是 不停 的 见 人   不停 的 收集 外界 的 信息   几乎 每天 都 会见 不同 的 人   有 企业家   有 学者   也 有 慕名而来 的 粉丝   夏宗伟 说   牟其中 说 他 要 通过 和 不同 人 的 交谈 来 检验 自己 对 当下 的 判断   牟其中 对于 信息 极度 渴求   他 将 自己 当年 的 成功 也 归功于 对 各种 信息 的 把握   如今 他 依然 把 信息 的 获取 作为 一项 主要 工作   早 在 1995 年   牟其中 携带 南德 卫星 到 美国 华尔街 寻找 上市 机会 时   第一次 接触 到 网络   当时 牟其中 曾 问 身边 的 人   我们 可以 在 网络 上 取得 一切   甚至 面包 吗   回到 北京 后   牟其中 立即 购买 了 路透社 终端   当时 南德 大楼 大厅 的 电子 大屏 上   每天 都 在 不断 滚动 更新 2000 条 路透社 新闻   同时   南德 又 铺设 了 专门 用于 上网 的 光缆   这是 当时 全国 继 中科院 高能 所 第二家 铺设 此类 光缆 的 单位   在 狱中   牟其中 保持 了 大量 的 阅读 习惯   经过 和 外面 半年 的 接触   虽然 北京 早已 不是 他 印象 中 的 北京   但 从 信息 流通 的 角度 讲   牟其中 不 认为 自己 与 社会 脱节 了   相反 他 认为 外面 的 人 很多 信息 还 不如 他 掌握 的 多   对于 不断 的 会见   牟其中 还有 一个 私心   就是 希望 在 这些 人中 寻找 到 能 和 他 一起 再次 创业 的 年轻人   5   使命   我们 生活 在 一个 黄金时代   刚出狱 时 牟其中 说   智能手机   微信 这些   自己 都 知道   只是 不会 用   他 说   要学用 手机   还要 申请 微 信号   保持 了 在 狱中 养成 的 对 科技 信息 搜集 的 习惯   牟其中 出狱 后 对 人工智能   物 联网 等 新兴 科技 都 保有 强烈 的 兴趣   今年 4 月份 李彦宏 出版 了   智能 革命   一书   牟其中 读过 全书 后   对 刘慈欣 写 的 序言   AI 时代 的 曙光   很感兴趣   刘慈欣 在 序言 中   叙述 了 信息 革命 给 人类 带来 的 巨大 冲击 之后 写 到   这是 真正 的 人类 解放   是 向着 古老 的 乌托邦 理想 迈进 的 一大步   2016 年 是   乌托邦   发表 500 周年   但 托马斯   莫尔 无论如何 不会 想到   他 的 理想 会 借助于 智能 机器 实现   我 很 有 兴趣 的 想   如果 卡尔   马克思 知道 人工智能 这 回事   他 关于 资本主义 和 共产主义 的 理论 会 是 什么 样子   对于 科幻 作家 的 这个 问题   牟其中 很 郑重 的 表示   南德 试验   一直 在 试图 回答 这样 一个 划时代 的 问题   在 牟其中 的 话语 体系 中   充满 了 对于 时代 大 背景 的 铺陈   他 不断 强调   他 的 经历 是 随 中国 的 改革 历程 前行 的   如果 抛除 时代背景   他 所 做 的 一切 也 都 将 毫无意义   当年 作为   首富   的 时候   牟其中 住 的 房子 也 是 和 普通员工 一样   只不过 是 将 两套 间 打通   房间 里 除了 成堆 的 书   只有 一部 别人 送 的 旧 跑步机   在 个人 生活 上   牟其中 是 一种 极简 主义   喜欢 吃面 和 火锅   在 他 看来   这 两种 食物 都 做 起来 方便   煮 了 就 能 吃   牟其中 很难 理解 一些 人 吃 顿饭 花上 万块   甚至 认为 他们 很 可怜   人 活着 就 得 有 使命   如果 我 更 老 以后 动 不了 了   也 没 追求 了   我 不会 拖累 大家   在 和 来访者 谈到 情怀 的 时候   牟其中 如此 说   在 9 个 月 的 时间 里   有 很多 人 希望 能 得到 牟其中 的 指点 和 帮助   甚至 只 希望 能 和 他 见 上 一面 一解 心中 疑惑   有 来自 河南 的 农业 创业者 希望 借助 牟其中 的 名字 和 品牌   打造出 第二个 类似 褚时健   褚 橙   的 项目   还有 来自 成都 的 创业 失败者   因为 经历 了 第三次 创业 失败   见到 牟其中 时正 处于 人生 的 最低谷   但 听 了 牟其中 的 一席话   再次 重拾 信心   从 深圳 来 的 一位 90 后   到 北京 只是 为了 能 见 一眼 牟其中   我 之前 根本 不 知道 他   但是 在 看到 他 出狱 的 消息 后   我 把 他 经历 全部 检索 一遍   我 觉得 这 就是 传奇   深圳 这位 90 后 说   有 很多 人问 牟其中   为何 一再 坐牢 还要 一再 坚持   牟其中 说   从 这个 意义 上 看   他 认为 自己 三次 坐牢 都 有 特殊 的 意义   第一次 坐牢 是 为 给 民营企业 争取 出生 权   第二次 是 为 民营企业 争取 生存权   第三次 则 是 争取 了 发展权   正 因为 这种   使命感   牟其中 在 狱中 时 不屑于 和 共同 关押 在 同一 监狱 的 几位 民营企业 老板 来往   在 他 看来 有些 人 都 是 只顾 私利   缺乏 公义 之心   在 评价 自己 时   牟其中 愿意 引用 郭沫若 的 一句 话   这样 的 时代 有 这样 的 一个 人   有 这样 的 一个 人   生活 在 这样 的 一个 时代   面对 困惑 的 来访者   牟其中 说 的 最 多 的 一句 是   一个 人 很 难 碰上 一个 这样 的 时代   我们 生活 在 一个 黄金时代   大家 不要 迷茫   不要 气馁   显然   牟其中 想要 再造 一个 属于 他 的 时代   而 对于 来访者 来说   牟其中 那句   人生 既 可超 百载   何妨 一狂 再 少年   更 像是 励志 的 人生 格言   6   思考   我 在 监狱 里边 想 了 18 年   1992 年 2 月 18 日 下午 4 时   一架 崭新 的 图 154 飞机 平稳 地 降落 在 成都双流机场   这是 四川航空公司 得到 的 第三架 干线 飞机   此时   第 4 架 正在 5000 公里 外 的 古比雪夫 飞机 制造厂 总装   而数 以 千吨 计 的 中国 商品 正 源源 运往 莫斯科   难以置信 的 是   策划 完成 这笔 中俄间 最大 一笔 单向 易货贸易 的 竟是 一位 民间 的 企业家   牟其中   这是   经济日报   1992 年 4 月 8 日 刊登 文章   让 99 度 的 水 尽快 沸腾 起来   的 篇首 语   在 这次 飞机 贸易 后   牟其中 提出 了 他 的   99 度加 1 度 理论   即 社会 存量 资产 犹如 烧到 99 度 的 水   只要 再加 1 度 就 可以 沸腾   这 1 度   就是 他 和 南德 的 智慧 经济   牟其中 对夏宗伟 说   理论 写 的 再 好   还是 要 实践 检验   与 那些 经济学家   理论家 不 一样   我 自己 发现 了 一套 理论   我 还 可以 自己 做 出来 证明 出来   和 牟其中 在 上 世纪 70 年代 就 相识 的 刘忠智 说   牟其中 的 1 度 理论   其实 就 和 当下 的 互联网   类似   传统 经济 存量 已经 很大 了   只 需 再 加一点 推动 就 产生 巨大 能量   比如 现在 的 单车 加上 物 联网 就 变成 了 共享 单车   对于   智慧 文明 生产方式   牟其中 坚持 认为 自己 发现 了 一种   新 的 规律   牟其中 说   出狱 后 他 要 继续 他 的 南德 试验   要 在 更 大 的 范围 内 实践 以 智慧 为 中心 的 生产方式   早 在 1996 年   牟其中 就 发表   智慧 经济 南德 宣言   认定 人类 正在 告别 工业 文明 时代   进入 智慧 文明 时代   他 认为 工业 文明 生产方式 的 中心 是 货币资本   智慧 文明 生产方式 的 中心 是 智慧   是 人类 特有 的 创造 出 解决困难 的 新 方法   新 经验   新 学问   新 知识 的 一种 能力   牟其中 认为   智慧 经济 的 本质 其实 就是 今天 所 倡导 的 创新   对于 这套 理论   牟其中 说   我 在 监狱 里边 想 了 18 年   牟其中 说   南德 试验 的 下 一个 目标 就是 把 智慧 文明 生产方式 中 的 企业 模型 设计 出来   运转 起来   并且 向 全 社会 示范 出来   就是 要 让 这种 生产方式 公开 接受 全 社会 的 实践 检验   牟其中 说   牟其中 说   南德 第三次 创业 在 这里 开始   辉煌 和 传奇 故事 都 是 过去 的   7   案子   如果 刑案 申诉 正常 结案   或许 可以 收回 南德 资产   夏宗伟 表示   在 南德 刑事案件 审结 之后   南德 集团 将 正式 进入 办公   封面 新闻记者 在 湖北省 高级人民法院 官网 发现   南德 集团 及 牟其中 的 刑事 申诉 已 在 2015 年 10 月 21 日 立案   案号   2015   鄂刑 申字 第 00185 号   状态 仍为   正在 审理   在 2016 年 7 月 27 日   夏宗伟 被 法院 方面 告知   关于 案子 的 再审 申诉 更换 了 主审 法官   庭长 说   已经 立案   请 再 耐心 等待   夏宗伟 说   之后   在 牟其中 出狱 之后 的 2016 年 10 月 18 日   夏宗伟 陪同 牟其中 前往 湖北 高法   正式 接受 了 再审 法官 的 询问   此后 在 今年 的 4 月 7 日   夏宗伟 再次 去 到 武汉 询问 案件 的 进展   负责 该案 的 法官 回复 说   案件 还 在 等待 审判 委员会 的 意见   此前 在 2016 年 5 月 30 日   夏宗伟 从 湖北省 高级人民法院 领取 了 南德 案 的 终审 民事 生效 判决书   封面 新闻记者 注意 到   终审判决 书 判决   南德 集团 不是 湖北 中行 信用证 案件 的 当事人   与 信用证 没有 直接 的 法律 关系   湖北 中行 的 信用证 垫款 由 湖北 轻工 偿还   贵州 交行 承担 连带 清偿 责任   终审判决 书 认定   2001 年   2002 年 一   二审 判决 认定 正确   终审 裁定   再 审查 明 的 主要 事实 与 一   二 审查 明 的 事实 一致   关于 南德 案 的 刑事 部分   2000 年 武汉市 中级 人民法院 一审判决 南德 集团 及 牟其中 等 犯有 信用证 诈骗罪   当时 判处 牟其中 无期徒刑   并 剥夺 政治权利 终身   夏宗伟 说   在 民事 再审 已 终审判决 南德 集团 并 不是 信用证 法律 关系 的 主体 后   关于 南德 集团 及 牟其中 的 基于 同一个 法律 事实 的 信用证 诈骗案 的 刑事 申诉   相信 很快 也 会 得到 合法   公正 的 裁决   如果 刑事案 申诉 能够 正常 结案   对 牟其中 来说   也 意味着 或许 可以 收回 诸多 南德 的 资产   比如 南德 集团 当年 在 门头沟区 的 购买 那 264 套 房子   在 牟其中 被捕 后   这些 房产 被 几家 不同 法院 进行 了 拍卖   当年 南德 集团 开发 满洲里 时 曾 获批 的 10 平方公里 的 地块   等等   对于 未来   牟其中 仍然 坚信   南德 有过 两次 空手 创业 的 经历   新一轮 的 南德 试验 也 将 开始   南德 仍能 如约 起航'"
      ]
     },
     "execution_count": 59,
     "metadata": {},
     "output_type": "execute_result"
    }
   ],
   "source": [
    "news_content[random_choose]"
   ]
  },
  {
   "cell_type": "code",
   "execution_count": 104,
   "metadata": {},
   "outputs": [],
   "source": [
    "from scipy.spatial.distance import cosine"
   ]
  },
  {
   "cell_type": "code",
   "execution_count": 105,
   "metadata": {},
   "outputs": [],
   "source": [
    "def distance(v1, v2): return cosine(v1, v2)"
   ]
  },
  {
   "cell_type": "code",
   "execution_count": 127,
   "metadata": {},
   "outputs": [
    {
     "data": {
      "text/plain": [
       "0.0"
      ]
     },
     "execution_count": 127,
     "metadata": {},
     "output_type": "execute_result"
    }
   ],
   "source": [
    "distance([1,1], [2,2])"
   ]
  },
  {
   "cell_type": "code",
   "execution_count": 128,
   "metadata": {},
   "outputs": [
    {
     "data": {
      "text/plain": [
       "0.9888158668554633"
      ]
     },
     "execution_count": 128,
     "metadata": {},
     "output_type": "execute_result"
    }
   ],
   "source": [
    "distance(X[random_choose].toarray()[0], X[document_id_1].toarray()[0])"
   ]
  },
  {
   "cell_type": "code",
   "execution_count": 129,
   "metadata": {},
   "outputs": [
    {
     "data": {
      "text/plain": [
       "0.9724811035087289"
      ]
     },
     "execution_count": 129,
     "metadata": {},
     "output_type": "execute_result"
    }
   ],
   "source": [
    "distance(X[random_choose].toarray()[0], X[document_id_2].toarray()[0])"
   ]
  },
  {
   "cell_type": "code",
   "execution_count": 131,
   "metadata": {
    "collapsed": true
   },
   "outputs": [
    {
     "name": "stderr",
     "output_type": "stream",
     "text": [
      "D:\\ProgramData\\Anaconda3\\lib\\site-packages\\scipy\\spatial\\distance.py:644: RuntimeWarning: invalid value encountered in double_scalars\n",
      "  dist = 1.0 - uv / np.sqrt(uu * vv)\n"
     ]
    },
    {
     "data": {
      "text/plain": [
       "[2,\n",
       " 184,\n",
       " 1232,\n",
       " 440,\n",
       " 61,\n",
       " 6,\n",
       " 91,\n",
       " 87,\n",
       " 81,\n",
       " 92,\n",
       " 96,\n",
       " 105,\n",
       " 112,\n",
       " 106,\n",
       " 102,\n",
       " 84,\n",
       " 83,\n",
       " 114,\n",
       " 89,\n",
       " 101,\n",
       " 86,\n",
       " 85,\n",
       " 93,\n",
       " 95,\n",
       " 97,\n",
       " 108,\n",
       " 110,\n",
       " 90,\n",
       " 94,\n",
       " 98,\n",
       " 80,\n",
       " 82,\n",
       " 88,\n",
       " 99,\n",
       " 100,\n",
       " 103,\n",
       " 246,\n",
       " 217,\n",
       " 993,\n",
       " 1107,\n",
       " 981,\n",
       " 960,\n",
       " 975,\n",
       " 986,\n",
       " 977,\n",
       " 973,\n",
       " 963,\n",
       " 971,\n",
       " 980,\n",
       " 991,\n",
       " 976,\n",
       " 998,\n",
       " 988,\n",
       " 961,\n",
       " 965,\n",
       " 969,\n",
       " 968,\n",
       " 972,\n",
       " 979,\n",
       " 982,\n",
       " 987,\n",
       " 962,\n",
       " 964,\n",
       " 966,\n",
       " 967,\n",
       " 970,\n",
       " 974,\n",
       " 978,\n",
       " 983,\n",
       " 984,\n",
       " 985,\n",
       " 989,\n",
       " 990,\n",
       " 992,\n",
       " 994,\n",
       " 995,\n",
       " 996,\n",
       " 997,\n",
       " 1149,\n",
       " 157,\n",
       " 540,\n",
       " 1258,\n",
       " 561,\n",
       " 626,\n",
       " 854,\n",
       " 177,\n",
       " 58,\n",
       " 474,\n",
       " 40,\n",
       " 528,\n",
       " 870,\n",
       " 188,\n",
       " 326,\n",
       " 395,\n",
       " 1214,\n",
       " 1178,\n",
       " 1245,\n",
       " 421,\n",
       " 649,\n",
       " 729,\n",
       " 480,\n",
       " 447,\n",
       " 1034,\n",
       " 705,\n",
       " 1259,\n",
       " 56,\n",
       " 405,\n",
       " 370,\n",
       " 1014,\n",
       " 752,\n",
       " 422,\n",
       " 238,\n",
       " 694,\n",
       " 1127,\n",
       " 477,\n",
       " 0,\n",
       " 244,\n",
       " 32,\n",
       " 373,\n",
       " 276,\n",
       " 8,\n",
       " 205,\n",
       " 796,\n",
       " 1190,\n",
       " 1219,\n",
       " 1132,\n",
       " 733,\n",
       " 414,\n",
       " 1249,\n",
       " 1272,\n",
       " 34,\n",
       " 357,\n",
       " 465,\n",
       " 1,\n",
       " 735,\n",
       " 1197,\n",
       " 471,\n",
       " 413,\n",
       " 343,\n",
       " 427,\n",
       " 831,\n",
       " 468,\n",
       " 191,\n",
       " 356,\n",
       " 1091,\n",
       " 22,\n",
       " 784,\n",
       " 673,\n",
       " 770,\n",
       " 1004,\n",
       " 1044,\n",
       " 391,\n",
       " 65,\n",
       " 1064,\n",
       " 890,\n",
       " 350,\n",
       " 432,\n",
       " 397,\n",
       " 410,\n",
       " 1038,\n",
       " 1013,\n",
       " 1120,\n",
       " 339,\n",
       " 514,\n",
       " 827,\n",
       " 1022,\n",
       " 168,\n",
       " 1142,\n",
       " 219,\n",
       " 1103,\n",
       " 381,\n",
       " 538,\n",
       " 1215,\n",
       " 375,\n",
       " 861,\n",
       " 1225,\n",
       " 372,\n",
       " 29,\n",
       " 464,\n",
       " 64,\n",
       " 1168,\n",
       " 700,\n",
       " 1267,\n",
       " 437,\n",
       " 415,\n",
       " 925,\n",
       " 267,\n",
       " 620,\n",
       " 490,\n",
       " 52,\n",
       " 1167,\n",
       " 199,\n",
       " 546,\n",
       " 930,\n",
       " 304,\n",
       " 163,\n",
       " 1208,\n",
       " 1010,\n",
       " 1109,\n",
       " 907,\n",
       " 418,\n",
       " 660,\n",
       " 485,\n",
       " 795,\n",
       " 698,\n",
       " 828,\n",
       " 1069,\n",
       " 707,\n",
       " 709,\n",
       " 838,\n",
       " 1224,\n",
       " 279,\n",
       " 1275,\n",
       " 1212,\n",
       " 235,\n",
       " 544,\n",
       " 665,\n",
       " 232,\n",
       " 775,\n",
       " 384,\n",
       " 893,\n",
       " 259,\n",
       " 1045,\n",
       " 431,\n",
       " 905,\n",
       " 442,\n",
       " 1059,\n",
       " 62,\n",
       " 479,\n",
       " 189,\n",
       " 557,\n",
       " 773,\n",
       " 1236,\n",
       " 1252,\n",
       " 727,\n",
       " 1164,\n",
       " 367,\n",
       " 813,\n",
       " 699,\n",
       " 959,\n",
       " 841,\n",
       " 233,\n",
       " 761,\n",
       " 1233,\n",
       " 369,\n",
       " 31,\n",
       " 901,\n",
       " 1016,\n",
       " 1043,\n",
       " 1067,\n",
       " 1192,\n",
       " 643,\n",
       " 933,\n",
       " 510,\n",
       " 654,\n",
       " 377,\n",
       " 308,\n",
       " 336,\n",
       " 947,\n",
       " 283,\n",
       " 143,\n",
       " 1133,\n",
       " 1136,\n",
       " 368,\n",
       " 13,\n",
       " 1006,\n",
       " 1157,\n",
       " 221,\n",
       " 505,\n",
       " 253,\n",
       " 500,\n",
       " 822,\n",
       " 1030,\n",
       " 264,\n",
       " 641,\n",
       " 42,\n",
       " 1202,\n",
       " 805,\n",
       " 623,\n",
       " 948,\n",
       " 914,\n",
       " 1158,\n",
       " 14,\n",
       " 416,\n",
       " 1112,\n",
       " 776,\n",
       " 651,\n",
       " 736,\n",
       " 598,\n",
       " 165,\n",
       " 187,\n",
       " 1244,\n",
       " 293,\n",
       " 1094,\n",
       " 513,\n",
       " 744,\n",
       " 1270,\n",
       " 803,\n",
       " 236,\n",
       " 844,\n",
       " 300,\n",
       " 1056,\n",
       " 1036,\n",
       " 603,\n",
       " 619,\n",
       " 818,\n",
       " 760,\n",
       " 473,\n",
       " 444,\n",
       " 27,\n",
       " 202,\n",
       " 176,\n",
       " 299,\n",
       " 722,\n",
       " 859,\n",
       " 371,\n",
       " 830,\n",
       " 208,\n",
       " 724,\n",
       " 302,\n",
       " 7,\n",
       " 433,\n",
       " 1186,\n",
       " 911,\n",
       " 832,\n",
       " 704,\n",
       " 590,\n",
       " 864,\n",
       " 1228,\n",
       " 1063,\n",
       " 364,\n",
       " 1060,\n",
       " 289,\n",
       " 328,\n",
       " 476,\n",
       " 231,\n",
       " 489,\n",
       " 690,\n",
       " 197,\n",
       " 1061,\n",
       " 1189,\n",
       " 1097,\n",
       " 1049,\n",
       " 252,\n",
       " 1217,\n",
       " 130,\n",
       " 568,\n",
       " 824,\n",
       " 710,\n",
       " 1020,\n",
       " 154,\n",
       " 900,\n",
       " 527,\n",
       " 944,\n",
       " 1276,\n",
       " 470,\n",
       " 271,\n",
       " 631,\n",
       " 836,\n",
       " 874,\n",
       " 226,\n",
       " 272,\n",
       " 541,\n",
       " 178,\n",
       " 1017,\n",
       " 747,\n",
       " 725,\n",
       " 1234,\n",
       " 697,\n",
       " 702,\n",
       " 461,\n",
       " 814,\n",
       " 1179,\n",
       " 1242,\n",
       " 460,\n",
       " 1073,\n",
       " 492,\n",
       " 751,\n",
       " 1243,\n",
       " 815,\n",
       " 808,\n",
       " 693,\n",
       " 46,\n",
       " 592,\n",
       " 60,\n",
       " 1218,\n",
       " 354,\n",
       " 742,\n",
       " 507,\n",
       " 195,\n",
       " 331,\n",
       " 335,\n",
       " 1248,\n",
       " 917,\n",
       " 684,\n",
       " 455,\n",
       " 318,\n",
       " 1095,\n",
       " 1268,\n",
       " 1175,\n",
       " 662,\n",
       " 457,\n",
       " 59,\n",
       " 170,\n",
       " 303,\n",
       " 142,\n",
       " 756,\n",
       " 47,\n",
       " 1058,\n",
       " 324,\n",
       " 716,\n",
       " 67,\n",
       " 1082,\n",
       " 806,\n",
       " 262,\n",
       " 222,\n",
       " 504,\n",
       " 1260,\n",
       " 668,\n",
       " 924,\n",
       " 777,\n",
       " 531,\n",
       " 892,\n",
       " 720,\n",
       " 632,\n",
       " 12,\n",
       " 857,\n",
       " 23,\n",
       " 261,\n",
       " 1104,\n",
       " 1193,\n",
       " 1213,\n",
       " 133,\n",
       " 1229,\n",
       " 71,\n",
       " 48,\n",
       " 173,\n",
       " 833,\n",
       " 266,\n",
       " 1194,\n",
       " 596,\n",
       " 897,\n",
       " 438,\n",
       " 420,\n",
       " 1139,\n",
       " 754,\n",
       " 153,\n",
       " 44,\n",
       " 659,\n",
       " 685,\n",
       " 1084,\n",
       " 185,\n",
       " 1211,\n",
       " 1140,\n",
       " 396,\n",
       " 390,\n",
       " 1210,\n",
       " 821,\n",
       " 517,\n",
       " 150,\n",
       " 613,\n",
       " 569,\n",
       " 579,\n",
       " 734,\n",
       " 842,\n",
       " 1207,\n",
       " 667,\n",
       " 529,\n",
       " 593,\n",
       " 738,\n",
       " 359,\n",
       " 321,\n",
       " 771,\n",
       " 1106,\n",
       " 459,\n",
       " 352,\n",
       " 1170,\n",
       " 800,\n",
       " 862,\n",
       " 316,\n",
       " 766,\n",
       " 878,\n",
       " 535,\n",
       " 1261,\n",
       " 362,\n",
       " 508,\n",
       " 843,\n",
       " 68,\n",
       " 1101,\n",
       " 166,\n",
       " 1274,\n",
       " 950,\n",
       " 146,\n",
       " 585,\n",
       " 456,\n",
       " 1169,\n",
       " 545,\n",
       " 209,\n",
       " 305,\n",
       " 322,\n",
       " 530,\n",
       " 909,\n",
       " 701,\n",
       " 50,\n",
       " 1216,\n",
       " 1172,\n",
       " 401,\n",
       " 860,\n",
       " 248,\n",
       " 539,\n",
       " 387,\n",
       " 1195,\n",
       " 258,\n",
       " 663,\n",
       " 852,\n",
       " 366,\n",
       " 167,\n",
       " 78,\n",
       " 159,\n",
       " 881,\n",
       " 311,\n",
       " 314,\n",
       " 1021,\n",
       " 1090,\n",
       " 1180,\n",
       " 1025,\n",
       " 1154,\n",
       " 1230,\n",
       " 825,\n",
       " 846,\n",
       " 26,\n",
       " 1123,\n",
       " 804,\n",
       " 1240,\n",
       " 1026,\n",
       " 1075,\n",
       " 726,\n",
       " 533,\n",
       " 19,\n",
       " 656,\n",
       " 715,\n",
       " 240,\n",
       " 374,\n",
       " 345,\n",
       " 1093,\n",
       " 1263,\n",
       " 425,\n",
       " 1254,\n",
       " 506,\n",
       " 1204,\n",
       " 225,\n",
       " 913,\n",
       " 942,\n",
       " 713,\n",
       " 1085,\n",
       " 193,\n",
       " 926,\n",
       " 886,\n",
       " 458,\n",
       " 555,\n",
       " 1165,\n",
       " 939,\n",
       " 636,\n",
       " 1177,\n",
       " 243,\n",
       " 849,\n",
       " 412,\n",
       " 809,\n",
       " 565,\n",
       " 686,\n",
       " 1161,\n",
       " 929,\n",
       " 301,\n",
       " 1279,\n",
       " 927,\n",
       " 183,\n",
       " 1184,\n",
       " 269,\n",
       " 1196,\n",
       " 703,\n",
       " 609,\n",
       " 1134,\n",
       " 1051,\n",
       " 599,\n",
       " 1201,\n",
       " 810,\n",
       " 953,\n",
       " 360,\n",
       " 36,\n",
       " 692,\n",
       " 772,\n",
       " 1012,\n",
       " 600,\n",
       " 536,\n",
       " 834,\n",
       " 714,\n",
       " 1054,\n",
       " 1057,\n",
       " 1226,\n",
       " 1159,\n",
       " 1050,\n",
       " 564,\n",
       " 855,\n",
       " 1122,\n",
       " 482,\n",
       " 1027,\n",
       " 1264,\n",
       " 284,\n",
       " 1246,\n",
       " 21,\n",
       " 1271,\n",
       " 452,\n",
       " 196,\n",
       " 76,\n",
       " 1235,\n",
       " 871,\n",
       " 652,\n",
       " 759,\n",
       " 210,\n",
       " 798,\n",
       " 307,\n",
       " 383,\n",
       " 666,\n",
       " 918,\n",
       " 1028,\n",
       " 1088,\n",
       " 1129,\n",
       " 239,\n",
       " 180,\n",
       " 256,\n",
       " 512,\n",
       " 1108,\n",
       " 949,\n",
       " 1019,\n",
       " 201,\n",
       " 234,\n",
       " 880,\n",
       " 53,\n",
       " 769,\n",
       " 1160,\n",
       " 869,\n",
       " 719,\n",
       " 608,\n",
       " 363,\n",
       " 399,\n",
       " 388,\n",
       " 1068,\n",
       " 1072,\n",
       " 721,\n",
       " 385,\n",
       " 524,\n",
       " 877,\n",
       " 329,\n",
       " 1278,\n",
       " 175,\n",
       " 429,\n",
       " 522,\n",
       " 1198,\n",
       " 876,\n",
       " 445,\n",
       " 1231,\n",
       " 1053,\n",
       " 128,\n",
       " 172,\n",
       " 868,\n",
       " 376,\n",
       " 212,\n",
       " 708,\n",
       " 1135,\n",
       " 675,\n",
       " 1162,\n",
       " 382,\n",
       " 389,\n",
       " 682,\n",
       " 588,\n",
       " 782,\n",
       " 1223,\n",
       " 730,\n",
       " 640,\n",
       " 501,\n",
       " 1087,\n",
       " 750,\n",
       " 520,\n",
       " 780,\n",
       " 789,\n",
       " 519,\n",
       " 481,\n",
       " 1257,\n",
       " 160,\n",
       " 792,\n",
       " 1098,\n",
       " 49,\n",
       " 755,\n",
       " 820,\n",
       " 278,\n",
       " 664,\n",
       " 1114,\n",
       " 543,\n",
       " 1176,\n",
       " 1156,\n",
       " 1077,\n",
       " 683,\n",
       " 72,\n",
       " 24,\n",
       " 696,\n",
       " 1081,\n",
       " 493,\n",
       " 1221,\n",
       " 1238,\n",
       " 443,\n",
       " 635,\n",
       " 562,\n",
       " 127,\n",
       " 1040,\n",
       " 866,\n",
       " 938,\n",
       " 428,\n",
       " 285,\n",
       " 573,\n",
       " 583,\n",
       " 1080,\n",
       " 1041,\n",
       " 629,\n",
       " 553,\n",
       " 764,\n",
       " 908,\n",
       " 1102,\n",
       " 467,\n",
       " 1171,\n",
       " 765,\n",
       " 365,\n",
       " 169,\n",
       " 786,\n",
       " 379,\n",
       " 247,\n",
       " 679,\n",
       " 466,\n",
       " 802,\n",
       " 126,\n",
       " 268,\n",
       " 816,\n",
       " 229,\n",
       " 1182,\n",
       " 616,\n",
       " 327,\n",
       " 622,\n",
       " 791,\n",
       " 921,\n",
       " 1247,\n",
       " 745,\n",
       " 351,\n",
       " 797,\n",
       " 1047,\n",
       " 1126,\n",
       " 650,\n",
       " 182,\n",
       " 811,\n",
       " 885,\n",
       " 879,\n",
       " 158,\n",
       " 1089,\n",
       " 1117,\n",
       " 257,\n",
       " 1037,\n",
       " 1035,\n",
       " 348,\n",
       " 563,\n",
       " 1115,\n",
       " 11,\n",
       " 119,\n",
       " 400,\n",
       " 436,\n",
       " 349,\n",
       " 525,\n",
       " 1239,\n",
       " 604,\n",
       " 1009,\n",
       " 1125,\n",
       " 757,\n",
       " 670,\n",
       " 332,\n",
       " 943,\n",
       " 446,\n",
       " 781,\n",
       " 430,\n",
       " 254,\n",
       " 1011,\n",
       " 823,\n",
       " 835,\n",
       " 934,\n",
       " 35,\n",
       " 139,\n",
       " 678,\n",
       " 884,\n",
       " 537,\n",
       " 204,\n",
       " 1199,\n",
       " 380,\n",
       " 494,\n",
       " 902,\n",
       " 1144,\n",
       " 1265,\n",
       " 584,\n",
       " 1145,\n",
       " 845,\n",
       " 386,\n",
       " 394,\n",
       " 923,\n",
       " 340,\n",
       " 1062,\n",
       " 571,\n",
       " 497,\n",
       " 895,\n",
       " 310,\n",
       " 161,\n",
       " 124,\n",
       " 1130,\n",
       " 919,\n",
       " 378,\n",
       " 1191,\n",
       " 946,\n",
       " 137,\n",
       " 1187,\n",
       " 138,\n",
       " 873,\n",
       " 875,\n",
       " 294,\n",
       " 1148,\n",
       " 122,\n",
       " 472,\n",
       " 837,\n",
       " 43,\n",
       " 469,\n",
       " 280,\n",
       " 554,\n",
       " 41,\n",
       " 330,\n",
       " 1173,\n",
       " 306,\n",
       " 200,\n",
       " 779,\n",
       " 763,\n",
       " 706,\n",
       " 1181,\n",
       " 1253,\n",
       " 1032,\n",
       " 749,\n",
       " 1222,\n",
       " 586,\n",
       " 77,\n",
       " 687,\n",
       " 1121,\n",
       " 534,\n",
       " 297,\n",
       " 4,\n",
       " 1205,\n",
       " 463,\n",
       " 558,\n",
       " 647,\n",
       " 28,\n",
       " 645,\n",
       " 162,\n",
       " 819,\n",
       " 618,\n",
       " 1137,\n",
       " 509,\n",
       " 1079,\n",
       " 850,\n",
       " 347,\n",
       " 882,\n",
       " 1065,\n",
       " 851,\n",
       " 547,\n",
       " 1183,\n",
       " 1039,\n",
       " 270,\n",
       " 320,\n",
       " 743,\n",
       " 746,\n",
       " 317,\n",
       " 346,\n",
       " 274,\n",
       " 615,\n",
       " 277,\n",
       " 753,\n",
       " 607,\n",
       " 290,\n",
       " 1203,\n",
       " 1111,\n",
       " 55,\n",
       " 334,\n",
       " 556,\n",
       " 171,\n",
       " 1033,\n",
       " 502,\n",
       " 768,\n",
       " 451,\n",
       " 30,\n",
       " 181,\n",
       " 560,\n",
       " 1174,\n",
       " 216,\n",
       " 220,\n",
       " 578,\n",
       " 5,\n",
       " 552,\n",
       " 567,\n",
       " 511,\n",
       " 355,\n",
       " 325,\n",
       " 441,\n",
       " 853,\n",
       " 237,\n",
       " 941,\n",
       " 1116,\n",
       " 582,\n",
       " 767,\n",
       " 899,\n",
       " 129,\n",
       " 1277,\n",
       " 144,\n",
       " 498,\n",
       " 915,\n",
       " 245,\n",
       " 70,\n",
       " 323,\n",
       " 790,\n",
       " 788,\n",
       " 54,\n",
       " 296,\n",
       " 1262,\n",
       " 309,\n",
       " 595,\n",
       " 681,\n",
       " 523,\n",
       " 612,\n",
       " 190,\n",
       " 3,\n",
       " 9,\n",
       " 10,\n",
       " 15,\n",
       " 16,\n",
       " 17,\n",
       " 18,\n",
       " 20,\n",
       " 25,\n",
       " 33,\n",
       " 37,\n",
       " 38,\n",
       " 39,\n",
       " 45,\n",
       " 51,\n",
       " 57,\n",
       " 63,\n",
       " 66,\n",
       " 69,\n",
       " 73,\n",
       " 74,\n",
       " 75,\n",
       " 79,\n",
       " 104,\n",
       " 107,\n",
       " 109,\n",
       " 111,\n",
       " 113,\n",
       " 115,\n",
       " 116,\n",
       " 117,\n",
       " 118,\n",
       " 120,\n",
       " 121,\n",
       " 123,\n",
       " 125,\n",
       " 131,\n",
       " 132,\n",
       " 134,\n",
       " 135,\n",
       " 136,\n",
       " 140,\n",
       " 141,\n",
       " 145,\n",
       " 147,\n",
       " 148,\n",
       " 149,\n",
       " 151,\n",
       " 152,\n",
       " 155,\n",
       " 156,\n",
       " 164,\n",
       " 174,\n",
       " 179,\n",
       " 186,\n",
       " 192,\n",
       " 194,\n",
       " 198,\n",
       " 203,\n",
       " 206,\n",
       " 207,\n",
       " 211,\n",
       " 213,\n",
       " ...]"
      ]
     },
     "execution_count": 131,
     "metadata": {},
     "output_type": "execute_result"
    }
   ],
   "source": [
    "sorted(list(range(10000)), key=lambda i:distance(X[random_choose].toarray()[0], X[i].toarray()[0]))"
   ]
  },
  {
   "cell_type": "code",
   "execution_count": 132,
   "metadata": {},
   "outputs": [
    {
     "data": {
      "text/plain": [
       "'0b10011'"
      ]
     },
     "execution_count": 132,
     "metadata": {},
     "output_type": "execute_result"
    }
   ],
   "source": [
    "bin(19)"
   ]
  },
  {
   "cell_type": "markdown",
   "metadata": {},
   "source": [
    "### Build Search Engine"
   ]
  },
  {
   "cell_type": "code",
   "execution_count": 103,
   "metadata": {},
   "outputs": [],
   "source": [
    "def naive_search(keywords):\n",
    "    news_ids = [i for i, n in enumerate(news_content) if all(w in n for w in keywords)]\n",
    "    return news_ids"
   ]
  },
  {
   "cell_type": "code",
   "execution_count": 54,
   "metadata": {},
   "outputs": [
    {
     "data": {
      "text/plain": [
       "[2836,\n",
       " 18925,\n",
       " 18964,\n",
       " 19225,\n",
       " 19342,\n",
       " 20428,\n",
       " 30963,\n",
       " 31211,\n",
       " 31973,\n",
       " 32328,\n",
       " 35287,\n",
       " 35490,\n",
       " 35537,\n",
       " 42915,\n",
       " 42948,\n",
       " 84924,\n",
       " 86438]"
      ]
     },
     "execution_count": 54,
     "metadata": {},
     "output_type": "execute_result"
    }
   ],
   "source": [
    "naive_search('美军 司令 航母'.split())"
   ]
  },
  {
   "cell_type": "code",
   "execution_count": 55,
   "metadata": {},
   "outputs": [
    {
     "data": {
      "text/plain": [
       "87052"
      ]
     },
     "execution_count": 55,
     "metadata": {},
     "output_type": "execute_result"
    }
   ],
   "source": [
    "len(news_content)"
   ]
  },
  {
   "cell_type": "markdown",
   "metadata": {},
   "source": [
    "### Input word -> the documents which contain this word"
   ]
  },
  {
   "cell_type": "code",
   "execution_count": 56,
   "metadata": {},
   "outputs": [
    {
     "data": {
      "text/plain": [
       "(50000, 10000)"
      ]
     },
     "execution_count": 56,
     "metadata": {},
     "output_type": "execute_result"
    }
   ],
   "source": [
    "X.shape"
   ]
  },
  {
   "cell_type": "code",
   "execution_count": 57,
   "metadata": {},
   "outputs": [],
   "source": [
    "transposed_x = X.transpose().toarray()"
   ]
  },
  {
   "cell_type": "code",
   "execution_count": 60,
   "metadata": {
    "collapsed": true
   },
   "outputs": [
    {
     "data": {
      "text/plain": [
       "{'此外': 6182,\n",
       " '本周': 5873,\n",
       " '12': 35,\n",
       " '小米': 3957,\n",
       " '手机': 4869,\n",
       " '15': 48,\n",
       " '机型': 5912,\n",
       " '其余': 1831,\n",
       " '暂停': 5722,\n",
       " '更新': 5743,\n",
       " '发布': 2619,\n",
       " '开发': 4390,\n",
       " '影响': 4511,\n",
       " '确保': 7324,\n",
       " '工程师': 4117,\n",
       " '可以': 2718,\n",
       " '集中': 9628,\n",
       " '全部': 1731,\n",
       " '精力': 7658,\n",
       " '进行': 9131,\n",
       " '工作': 4098,\n",
       " '有人': 5790,\n",
       " '猜测': 6868,\n",
       " '主要': 913,\n",
       " '研发': 7304,\n",
       " '之中': 934,\n",
       " '去年': 2543,\n",
       " '一年': 304,\n",
       " '时候': 5613,\n",
       " '当然': 4492,\n",
       " '关于': 1806,\n",
       " '信息': 1543,\n",
       " '我们': 4793,\n",
       " '还是': 9074,\n",
       " '等待': 7598,\n",
       " '作为': 1437,\n",
       " '唯一': 2946,\n",
       " '通过': 9243,\n",
       " '10': 12,\n",
       " '平台': 4242,\n",
       " '认证': 8552,\n",
       " '处理器': 3312,\n",
       " '强调': 4468,\n",
       " '不会': 551,\n",
       " '因为': 3024,\n",
       " '考虑': 7977,\n",
       " '性能': 4628,\n",
       " '核心': 6057,\n",
       " '相反': 7198,\n",
       " '他们': 1242,\n",
       " '联手': 8016,\n",
       " '微软': 4565,\n",
       " '找到': 4944,\n",
       " '一种': 346,\n",
       " '适合': 9184,\n",
       " '兼顾': 1851,\n",
       " '完美': 3763,\n",
       " '方案': 5523,\n",
       " '报道': 5017,\n",
       " '已经': 4141,\n",
       " '拿到': 5084,\n",
       " '一些': 254,\n",
       " '以便': 1259,\n",
       " '更好': 5740,\n",
       " '理解': 6956,\n",
       " '架构': 6009,\n",
       " '资料': 8790,\n",
       " '显示': 5688,\n",
       " '一款': 334,\n",
       " '集成': 9634,\n",
       " '传统': 1354,\n",
       " '节省': 8195,\n",
       " '至少': 8125,\n",
       " '30': 105,\n",
       " '空间': 7487,\n",
       " '按计划': 5115,\n",
       " '今年': 1217,\n",
       " '联想': 8015,\n",
       " '首发': 9824,\n",
       " '电脑': 7055,\n",
       " '预计': 9742,\n",
       " '形态': 4499,\n",
       " '产品': 1135,\n",
       " '只是': 2712,\n",
       " '开始': 4397,\n",
       " '未来': 5867,\n",
       " '也许': 982,\n",
       " '见到': 8474,\n",
       " '三星': 444,\n",
       " '华为': 2406,\n",
       " '澎湃': 6692,\n",
       " '进入': 9114,\n",
       " '此前': 6180,\n",
       " '搭载': 5240,\n",
       " '电池': 7051,\n",
       " '规格': 8494,\n",
       " '至于': 8122,\n",
       " '可能': 2724,\n",
       " '所说': 4861,\n",
       " '设定': 8584,\n",
       " '有关': 5792,\n",
       " '按照': 5113,\n",
       " '目前': 7174,\n",
       " '掌握': 5150,\n",
       " '拥有': 5075,\n",
       " '摄像头': 5244,\n",
       " '惊喜': 4705,\n",
       " '根据': 6065,\n",
       " '京东': 1144,\n",
       " '泄露': 6399,\n",
       " '售价': 2944,\n",
       " '应该': 4332,\n",
       " '某个': 6012,\n",
       " '这是': 9097,\n",
       " '18': 55,\n",
       " '葡萄牙': 8318,\n",
       " '中部': 860,\n",
       " '地区': 3148,\n",
       " '拍摄': 5056,\n",
       " '森林': 6109,\n",
       " '大火': 3469,\n",
       " '汽车': 6346,\n",
       " '新华社': 5475,\n",
       " '记者': 8568,\n",
       " '标题': 6043,\n",
       " '44': 127,\n",
       " '女子': 3610,\n",
       " '深圳': 6568,\n",
       " '网友': 7885,\n",
       " '暴雨': 5732,\n",
       " '交警': 1119,\n",
       " '昨日': 5679,\n",
       " '清晨': 6597,\n",
       " '发现': 2630,\n",
       " '行走': 8387,\n",
       " '快速': 4608,\n",
       " '期间': 5863,\n",
       " '赶紧': 8849,\n",
       " '一路': 367,\n",
       " '那么': 9292,\n",
       " '事发': 1025,\n",
       " '到底': 2145,\n",
       " '发生': 2632,\n",
       " '什么': 1207,\n",
       " '一起': 366,\n",
       " '还原': 9073,\n",
       " '现场': 6914,\n",
       " '大队': 3503,\n",
       " '中队': 865,\n",
       " '女生': 3616,\n",
       " '一位': 260,\n",
       " '高大': 9920,\n",
       " '说话': 8665,\n",
       " '90': 185,\n",
       " '青年': 9669,\n",
       " '介绍': 1224,\n",
       " '16': 51,\n",
       " '早上': 5601,\n",
       " '36': 115,\n",
       " '正在': 6167,\n",
       " '附近': 9546,\n",
       " '接到': 5167,\n",
       " '机动车': 5908,\n",
       " '危险': 2496,\n",
       " '随后': 9599,\n",
       " '寻找': 3916,\n",
       " '大概': 3459,\n",
       " '大道': 3496,\n",
       " '出口': 1989,\n",
       " '方向': 5521,\n",
       " '身上': 8922,\n",
       " '另外': 2706,\n",
       " '一名': 278,\n",
       " '情绪': 4702,\n",
       " '尝试': 3979,\n",
       " '交流': 1114,\n",
       " '离开': 7390,\n",
       " '愿意': 4753,\n",
       " '接受': 5169,\n",
       " '继续': 7830,\n",
       " '缓慢': 7859,\n",
       " '此时': 6184,\n",
       " '路边': 8912,\n",
       " '聚集': 8031,\n",
       " '市民': 4178,\n",
       " '围观': 3045,\n",
       " '为了': 876,\n",
       " '刺激': 2170,\n",
       " '一边': 372,\n",
       " '群众': 7947,\n",
       " '警方': 8536,\n",
       " '提供': 5203,\n",
       " '一份': 258,\n",
       " '视频': 8508,\n",
       " '了解': 1007,\n",
       " '25': 97,\n",
       " '出现': 2012,\n",
       " '监控': 7151,\n",
       " '穿着': 7491,\n",
       " '白色': 7126,\n",
       " '沿着': 6396,\n",
       " '当时': 4489,\n",
       " '正值': 6166,\n",
       " '上班': 495,\n",
       " '高峰期': 9928,\n",
       " '路上': 8906,\n",
       " '纷纷': 7735,\n",
       " '驻足': 9886,\n",
       " '观望': 8484,\n",
       " '不少': 576,\n",
       " '车辆': 8947,\n",
       " '速度': 9247,\n",
       " '脚步': 8071,\n",
       " '依然': 1480,\n",
       " '行进': 8388,\n",
       " '中间': 863,\n",
       " '一辆': 370,\n",
       " '货车': 8753,\n",
       " '镜头': 9449,\n",
       " '但是': 1379,\n",
       " '全身': 1728,\n",
       " '朝着': 5847,\n",
       " '周围': 2888,\n",
       " '没有': 6366,\n",
       " '或者': 4802,\n",
       " '上前': 462,\n",
       " '看到': 7231,\n",
       " '这样': 9099,\n",
       " '情况': 4696,\n",
       " '恐怕': 4665,\n",
       " '大家': 3442,\n",
       " '办法': 2224,\n",
       " '面对': 9690,\n",
       " '这一': 9077,\n",
       " '表示': 8417,\n",
       " '根本': 6066,\n",
       " '不敢': 588,\n",
       " '心里': 4589,\n",
       " '感觉': 4749,\n",
       " '尴尬': 3997,\n",
       " '跟随': 8900,\n",
       " '作出': 1438,\n",
       " '举动': 920,\n",
       " '突然': 7500,\n",
       " '靠近': 9684,\n",
       " '上面': 510,\n",
       " '控制': 5180,\n",
       " '远离': 9136,\n",
       " '衣服': 8400,\n",
       " '只能': 2714,\n",
       " '紧紧': 7687,\n",
       " '一只': 274,\n",
       " '后面': 2847,\n",
       " '耐心': 7986,\n",
       " '听到': 2859,\n",
       " '不断': 589,\n",
       " '重复': 9358,\n",
       " '一句': 273,\n",
       " '要是': 8467,\n",
       " '遭遇': 9281,\n",
       " '不时': 593,\n",
       " '试图': 8624,\n",
       " '大暴雨': 3455,\n",
       " '眼睛': 7257,\n",
       " '瞬间': 7275,\n",
       " '帮助': 4211,\n",
       " '大雨': 3505,\n",
       " '来说': 5980,\n",
       " '回家': 3008,\n",
       " '然后': 6761,\n",
       " '照片': 6768,\n",
       " '旁边': 5532,\n",
       " '场景': 3177,\n",
       " '下来': 525,\n",
       " '带到': 4199,\n",
       " '派出所': 6463,\n",
       " '姑娘': 3654,\n",
       " '什么样': 1208,\n",
       " '事情': 1030,\n",
       " '透露': 9213,\n",
       " '湖北': 6638,\n",
       " '家属': 3864,\n",
       " '反映': 2599,\n",
       " '三天': 439,\n",
       " '陈某': 9553,\n",
       " '老家': 7960,\n",
       " '导致': 3923,\n",
       " '异常': 4427,\n",
       " '产生': 1139,\n",
       " '送往': 9182,\n",
       " '医院': 2371,\n",
       " '治疗': 6393,\n",
       " '大大': 3434,\n",
       " '希望': 4194,\n",
       " '康复': 4350,\n",
       " '其实': 1833,\n",
       " '到来': 2147,\n",
       " '存在': 3692,\n",
       " '年龄': 4283,\n",
       " '限制': 9574,\n",
       " '你们': 1448,\n",
       " '原因': 2527,\n",
       " '这个': 9078,\n",
       " '哥哥': 2933,\n",
       " '一辈子': 371,\n",
       " '自己': 8091,\n",
       " '家人': 3859,\n",
       " '同时': 2813,\n",
       " '感谢': 4750,\n",
       " '心灵': 4584,\n",
       " '点赞': 6734,\n",
       " '警察': 8532,\n",
       " '就是': 3988,\n",
       " '男子': 7066,\n",
       " '20': 66,\n",
       " '50': 134,\n",
       " '上午': 464,\n",
       " '公安局': 1758,\n",
       " '一个': 248,\n",
       " '报警': 5016,\n",
       " '电话': 7060,\n",
       " '声称': 3302,\n",
       " '遭到': 9279,\n",
       " '侵害': 1489,\n",
       " '几个': 1964,\n",
       " '关键词': 1821,\n",
       " '民警': 6278,\n",
       " '紧张': 7684,\n",
       " '起来': 8852,\n",
       " '受到': 2660,\n",
       " 'a股': 199,\n",
       " '纳入': 7728,\n",
       " 'msci': 219,\n",
       " '指数': 5106,\n",
       " '利好': 2128,\n",
       " '消息': 6536,\n",
       " '市场': 4164,\n",
       " '周三': 2882,\n",
       " '再度': 1871,\n",
       " '上演': 494,\n",
       " '行情': 8379,\n",
       " '周四': 2887,\n",
       " '金融股': 9403,\n",
       " '白马股': 7130,\n",
       " '表现': 8416,\n",
       " '尾盘': 4013,\n",
       " '跳水': 8916,\n",
       " '之后': 941,\n",
       " '金融': 9394,\n",
       " '板块': 5986,\n",
       " '状态': 6852,\n",
       " '分析': 2052,\n",
       " '人士': 1171,\n",
       " '认为': 8546,\n",
       " '受益': 2668,\n",
       " '估值': 1373,\n",
       " '资金': 8801,\n",
       " '青睐': 9677,\n",
       " '存量': 3696,\n",
       " '博弈': 2463,\n",
       " '格局': 6069,\n",
       " '风格': 9783,\n",
       " '震荡': 9657,\n",
       " '延续': 4359,\n",
       " '流动性': 6470,\n",
       " '改善': 5321,\n",
       " '经济': 7777,\n",
       " '预期': 9734,\n",
       " '有助于': 5796,\n",
       " '支撑': 5290,\n",
       " '大盘': 3475,\n",
       " '逐步': 9216,\n",
       " '再现': 1874,\n",
       " '未能': 5870,\n",
       " '上行': 501,\n",
       " '态势': 4615,\n",
       " '两市': 711,\n",
       " '成交': 4767,\n",
       " '小幅': 3947,\n",
       " '放量': 5355,\n",
       " '29': 104,\n",
       " '中信': 757,\n",
       " '一级': 354,\n",
       " '行业': 8371,\n",
       " '收盘': 5309,\n",
       " '银行': 9429,\n",
       " '两个': 689,\n",
       " '分别': 2036,\n",
       " '上涨': 490,\n",
       " '80': 172,\n",
       " '二级': 1050,\n",
       " '来看': 5976,\n",
       " '股份制': 8043,\n",
       " '涨幅': 6555,\n",
       " '最高': 5779,\n",
       " '达到': 9013,\n",
       " '22': 93,\n",
       " '82': 176,\n",
       " '信托': 1549,\n",
       " '及其': 2571,\n",
       " '64': 154,\n",
       " '保险': 1533,\n",
       " '34': 111,\n",
       " '证券': 8597,\n",
       " '06': 8,\n",
       " '成分股': 4773,\n",
       " '共有': 1801,\n",
       " '21': 92,\n",
       " '其中': 1828,\n",
       " '最大': 5767,\n",
       " '66': 156,\n",
       " '贵阳': 8782,\n",
       " '65': 155,\n",
       " '超过': 8869,\n",
       " '17': 53,\n",
       " '个股': 749,\n",
       " '中国': 771,\n",
       " '居前': 4025,\n",
       " '两名': 697,\n",
       " '57': 143,\n",
       " '04': 6,\n",
       " '新华': 5474,\n",
       " '券商': 2169,\n",
       " '下跌': 537,\n",
       " '近期': 9065,\n",
       " '宣布': 3849,\n",
       " '2018': 86,\n",
       " '新兴': 5469,\n",
       " '群体': 7948,\n",
       " '团队': 3035,\n",
       " '指出': 5096,\n",
       " '最新': 5772,\n",
       " '包含': 2311,\n",
       " '222': 94,\n",
       " '市值': 4161,\n",
       " '互联互通': 1066,\n",
       " '交易': 1105,\n",
       " '股票': 8048,\n",
       " '以及': 1264,\n",
       " '停牌': 1603,\n",
       " '标的': 6039,\n",
       " '由于': 7021,\n",
       " '很多': 4532,\n",
       " '权重': 5931,\n",
       " '上升': 463,\n",
       " '73': 165,\n",
       " '40': 121,\n",
       " '11': 24,\n",
       " '消费': 6539,\n",
       " '24': 96,\n",
       " '26': 100,\n",
       " '涵盖': 6556,\n",
       " '大部分': 3498,\n",
       " '动态': 2270,\n",
       " '加入': 2234,\n",
       " '增加': 3275,\n",
       " '其他': 1829,\n",
       " '尽管': 4011,\n",
       " '事件': 1018,\n",
       " '短期': 7287,\n",
       " '有所': 5802,\n",
       " '提振': 5212,\n",
       " '中长期': 862,\n",
       " '海外': 6507,\n",
       " '增量': 3289,\n",
       " '升温': 2391,\n",
       " '短期内': 7288,\n",
       " '不能': 606,\n",
       " '有效': 5803,\n",
       " '放大': 5344,\n",
       " '情景': 4701,\n",
       " '难以': 9613,\n",
       " '持续': 5089,\n",
       " '改变': 5320,\n",
       " '并未': 4289,\n",
       " '引起': 4435,\n",
       " '热情': 6744,\n",
       " '成交量': 4768,\n",
       " '较为': 8984,\n",
       " '较大': 8986,\n",
       " '变化': 2676,\n",
       " '成长': 4791,\n",
       " '全天': 1710,\n",
       " '低迷': 1390,\n",
       " '表明': 8413,\n",
       " '很少': 4535,\n",
       " '不同': 567,\n",
       " '之间': 956,\n",
       " '使得': 1454,\n",
       " '突破': 7501,\n",
       " '中期': 832,\n",
       " '依旧': 1476,\n",
       " '维持': 7838,\n",
       " '虽然': 8351,\n",
       " '至今': 8123,\n",
       " '夏普': 3333,\n",
       " '智能手机': 5721,\n",
       " '无法': 5553,\n",
       " '完全': 3756,\n",
       " '2013': 81,\n",
       " '退出': 9177,\n",
       " '月份': 5782,\n",
       " '官方': 3771,\n",
       " '回归': 3010,\n",
       " '预示': 9737,\n",
       " '很快': 4537,\n",
       " '登场': 7114,\n",
       " '登陆': 7119,\n",
       " '怎么样': 4619,\n",
       " '近日': 9064,\n",
       " '型号': 3202,\n",
       " '神秘': 7364,\n",
       " '悄然': 4683,\n",
       " '相关': 7197,\n",
       " '并非': 4292,\n",
       " '定位': 3778,\n",
       " '配备': 9326,\n",
       " '最受': 5764,\n",
       " '芯片': 8206,\n",
       " '之一': 931,\n",
       " '采用': 9337,\n",
       " '14': 45,\n",
       " '工艺': 4120,\n",
       " '设计': 8590,\n",
       " '当前': 4479,\n",
       " '只有': 2713,\n",
       " '上市': 474,\n",
       " '销售': 9435,\n",
       " '改进': 5328,\n",
       " '明显': 5650,\n",
       " '所以': 4850,\n",
       " '放在': 5343,\n",
       " '变成': 2680,\n",
       " '高端': 9946,\n",
       " '不过': 615,\n",
       " '签署': 7613,\n",
       " '协议': 2423,\n",
       " '时间': 5634,\n",
       " '既然': 5567,\n",
       " '测试': 6483,\n",
       " '说明': 8663,\n",
       " '只要': 2715,\n",
       " '时期': 5621,\n",
       " '新品': 5479,\n",
       " '之前': 939,\n",
       " '曝光': 5734,\n",
       " '竞争': 7518,\n",
       " '优势': 1316,\n",
       " '全面': 1734,\n",
       " '推出': 5186,\n",
       " '全球': 1720,\n",
       " '首款': 9839,\n",
       " '多达': 3403,\n",
       " '28': 103,\n",
       " '媒体': 3678,\n",
       " '沟通': 6362,\n",
       " '会上': 1330,\n",
       " '各位': 2760,\n",
       " '时代': 5611,\n",
       " '成为': 4766,\n",
       " '沙漠': 6358,\n",
       " '有利': 5793,\n",
       " '消化': 6534,\n",
       " '开盘': 4413,\n",
       " '上证': 502,\n",
       " '蓝筹': 8336,\n",
       " '带动': 4200,\n",
       " '一度': 306,\n",
       " '站上': 7516,\n",
       " '60': 147,\n",
       " '120': 36,\n",
       " '均线': 3182,\n",
       " '万达': 422,\n",
       " '电影': 7047,\n",
       " '暴跌': 5731,\n",
       " '拖累': 5062,\n",
       " '绝大多数': 7818,\n",
       " '大幅': 3450,\n",
       " '各大': 2764,\n",
       " '全线': 1725,\n",
       " '不见': 611,\n",
       " '不可': 564,\n",
       " '短线': 7291,\n",
       " '策略': 7603,\n",
       " '题材': 9769,\n",
       " '为主': 875,\n",
       " '区域': 2354,\n",
       " '概念股': 6119,\n",
       " '调整': 8682,\n",
       " '压力': 2516,\n",
       " '仍然': 1225,\n",
       " '突出': 7495,\n",
       " '再次': 1873,\n",
       " '大跌': 3492,\n",
       " '处于': 3304,\n",
       " '底部': 4335,\n",
       " '低位': 1386,\n",
       " '反复': 2590,\n",
       " '夯实': 3549,\n",
       " '蓝筹股': 8337,\n",
       " '承压': 4948,\n",
       " '后期': 2842,\n",
       " '需要': 9654,\n",
       " '接力': 5168,\n",
       " '走向': 8832,\n",
       " '今日': 1221,\n",
       " '要闻': 8470,\n",
       " '央行': 3547,\n",
       " '上海': 485,\n",
       " '总部': 4658,\n",
       " '债券': 1577,\n",
       " '北向': 2334,\n",
       " '境外': 3268,\n",
       " '投资者': 4988,\n",
       " '准入': 1947,\n",
       " '备案': 3320,\n",
       " '业务': 661,\n",
       " '指引': 5101,\n",
       " '我国': 4795,\n",
       " '信用': 1550,\n",
       " '法规': 6421,\n",
       " '标准': 6029,\n",
       " '研究': 7305,\n",
       " '加快': 2243,\n",
       " '推进': 5195,\n",
       " '房地产': 4842,\n",
       " '研究院': 7311,\n",
       " '房贷利率': 4847,\n",
       " '楼市': 6115,\n",
       " '报告': 5009,\n",
       " '许多': 8577,\n",
       " '城市': 3213,\n",
       " '个人': 739,\n",
       " '住房贷款': 1394,\n",
       " '利率': 2135,\n",
       " '程度': 7457,\n",
       " '水污染': 6307,\n",
       " '修正案': 1559,\n",
       " '草案': 8257,\n",
       " '二审': 1040,\n",
       " '更大': 5739,\n",
       " '力度': 2214,\n",
       " '保护': 1520,\n",
       " '环境': 6897,\n",
       " '结算': 7811,\n",
       " '开展': 4400,\n",
       " '一人': 255,\n",
       " '多户': 3386,\n",
       " '通知': 9232,\n",
       " '启动': 2863,\n",
       " '同一': 2804,\n",
       " '以上': 1256,\n",
       " '账户': 8746,\n",
       " '文件': 5428,\n",
       " '要求': 8468,\n",
       " '23': 95,\n",
       " '日后': 5573,\n",
       " '交易日': 1110,\n",
       " '确认': 7329,\n",
       " '十三': 2372,\n",
       " '金融市场': 9398,\n",
       " '交易额': 1112,\n",
       " '2000': 68,\n",
       " '万亿': 396,\n",
       " '宏观': 3765,\n",
       " '稳定': 7467,\n",
       " '双重': 2588,\n",
       " '因素': 3028,\n",
       " '鼓舞': 9994,\n",
       " '国际': 3097,\n",
       " '基金': 3248,\n",
       " '经理': 7787,\n",
       " '2017': 85,\n",
       " '下半年': 516,\n",
       " '股市': 8044,\n",
       " '有望': 5806,\n",
       " '十年': 2381,\n",
       " '增长': 3290,\n",
       " '创新': 2108,\n",
       " '驱动': 9880,\n",
       " '回顾': 3022,\n",
       " '早盘': 5610,\n",
       " '冲高': 1933,\n",
       " '回落': 3018,\n",
       " '走势': 8831,\n",
       " '盘面': 7164,\n",
       " '300': 106,\n",
       " '盘中': 7162,\n",
       " '新高': 5517,\n",
       " '分化': 2038,\n",
       " '相当': 7204,\n",
       " '45': 128,\n",
       " '较前': 8985,\n",
       " '76': 168,\n",
       " '跌幅': 8888,\n",
       " '101': 15,\n",
       " '97': 193,\n",
       " '98': 194,\n",
       " '创业板': 2098,\n",
       " '38': 118,\n",
       " '400': 122,\n",
       " '品种': 2919,\n",
       " '计算': 8543,\n",
       " 'st': 238,\n",
       " '涨停': 6554,\n",
       " '不足': 614,\n",
       " '亿元': 1201,\n",
       " '800': 173,\n",
       " '数据': 5409,\n",
       " '主力': 890,\n",
       " '流出': 6468,\n",
       " '一日': 319,\n",
       " '96': 192,\n",
       " '95': 191,\n",
       " '27': 101,\n",
       " '61': 150,\n",
       " '抛售': 4996,\n",
       " '13': 41,\n",
       " '介入': 1223,\n",
       " '医药': 2370,\n",
       " '制造': 2164,\n",
       " '雄安': 9621,\n",
       " '新区': 5473,\n",
       " '更是': 5744,\n",
       " '高达': 9955,\n",
       " '41': 124,\n",
       " '69': 159,\n",
       " '技术': 4957,\n",
       " '临近': 872,\n",
       " '半个': 2398,\n",
       " '小时': 3952,\n",
       " '高位': 9911,\n",
       " '留下': 7080,\n",
       " '以来': 1268,\n",
       " '每次': 6228,\n",
       " '回调': 3019,\n",
       " '相对': 7202,\n",
       " '位置': 1383,\n",
       " '即使': 2497,\n",
       " '乏力': 963,\n",
       " '总体': 4633,\n",
       " '打破': 4900,\n",
       " '攻克': 5333,\n",
       " '当日': 4488,\n",
       " '上方': 479,\n",
       " '触及': 8524,\n",
       " '无疑': 5555,\n",
       " '心理': 4585,\n",
       " '负面影响': 8726,\n",
       " '分钟': 2069,\n",
       " '级别': 7716,\n",
       " '形成': 4500,\n",
       " '一旦': 320,\n",
       " '跌破': 8889,\n",
       " '意味着': 4724,\n",
       " '如此': 3645,\n",
       " '引发': 4430,\n",
       " '综合': 7843,\n",
       " '处在': 3307,\n",
       " '区间': 2356,\n",
       " '脆弱': 8070,\n",
       " '心态': 4581,\n",
       " '碎片': 7331,\n",
       " '主线': 910,\n",
       " '模糊': 6131,\n",
       " '热点': 6748,\n",
       " '赚钱': 8808,\n",
       " '效应': 5376,\n",
       " '以下': 1257,\n",
       " '首先': 9823,\n",
       " '长期': 9463,\n",
       " '人气': 1192,\n",
       " '最近': 5777,\n",
       " '一段时间': 337,\n",
       " '整体': 5418,\n",
       " '走高': 8845,\n",
       " '基础': 3242,\n",
       " '弹性': 4453,\n",
       " '制约': 2160,\n",
       " '绝对': 7820,\n",
       " '大面积': 3507,\n",
       " '与此同时': 621,\n",
       " '现在': 6913,\n",
       " '非常': 9680,\n",
       " '频繁': 9765,\n",
       " '今天': 1216,\n",
       " '明天': 5646,\n",
       " '就要': 3992,\n",
       " '打击': 4889,\n",
       " '积极性': 7441,\n",
       " '其次': 1834,\n",
       " '反弹': 2596,\n",
       " '重要': 9372,\n",
       " '拉升': 5038,\n",
       " '这种': 9103,\n",
       " '大涨': 3465,\n",
       " '似乎': 1378,\n",
       " '一直': 345,\n",
       " '吸引': 2869,\n",
       " '加码': 2255,\n",
       " '中小': 809,\n",
       " '面临': 9685,\n",
       " '强大': 4462,\n",
       " '午后': 2396,\n",
       " '复星': 3325,\n",
       " '收复': 5304,\n",
       " '投资': 4986,\n",
       " '建议': 4377,\n",
       " '始终': 3651,\n",
       " '缺乏': 7877,\n",
       " '支持': 5286,\n",
       " '背景': 8057,\n",
       " '后续': 2845,\n",
       " '跟上': 8896,\n",
       " '活跃': 6460,\n",
       " '降低': 9561,\n",
       " '配置': 9328,\n",
       " '加大': 2237,\n",
       " '纠缠': 7699,\n",
       " '促使': 1502,\n",
       " '能否': 8065,\n",
       " '真正': 7249,\n",
       " '观察': 8481,\n",
       " '基于': 3226,\n",
       " '组合': 7749,\n",
       " '因此': 3026,\n",
       " '股指': 8045,\n",
       " '下方': 523,\n",
       " '获得': 8278,\n",
       " '操作': 5277,\n",
       " '粤港澳': 7655,\n",
       " '大湾': 3467,\n",
       " '论坛': 8579,\n",
       " '腾讯': 8081,\n",
       " '人工智能': 1177,\n",
       " '百度': 7136,\n",
       " '举办': 919,\n",
       " 'ai': 197,\n",
       " '开发者': 4393,\n",
       " '大会': 3412,\n",
       " '亚马逊': 1092,\n",
       " '代表': 1251,\n",
       " '互联网': 1067,\n",
       " '巨头': 4129,\n",
       " '一致': 360,\n",
       " '看好': 7232,\n",
       " '发展': 2613,\n",
       " '产业': 1125,\n",
       " '叠加': 2687,\n",
       " '政策': 5365,\n",
       " '扶持': 4937,\n",
       " '景气': 5710,\n",
       " '一个月': 250,\n",
       " '三次': 449,\n",
       " '加之': 2230,\n",
       " '下周': 520,\n",
       " '月末': 5786,\n",
       " '值得': 1583,\n",
       " '做好': 1595,\n",
       " '应对': 4327,\n",
       " '月初': 5783,\n",
       " '为首': 883,\n",
       " '模式': 6128,\n",
       " '保持': 1523,\n",
       " '随着': 9603,\n",
       " '带来': 4205,\n",
       " '刷新': 2168,\n",
       " '高点': 9943,\n",
       " '降温': 9565,\n",
       " '加剧': 2236,\n",
       " '现象': 6923,\n",
       " '必须': 4593,\n",
       " '重视': 9375,\n",
       " '红利': 7700,\n",
       " '军工': 1883,\n",
       " '上周': 468,\n",
       " '王者': 6885,\n",
       " '荣耀': 8260,\n",
       " '类似': 7651,\n",
       " '来自': 5977,\n",
       " '比较': 6245,\n",
       " '敏感': 5381,\n",
       " '半年': 2403,\n",
       " '容易': 3875,\n",
       " '实际上': 3817,\n",
       " '美联储': 7941,\n",
       " '加息': 2244,\n",
       " '缩表': 7872,\n",
       " '行为': 8373,\n",
       " '货币政策': 8749,\n",
       " '开启': 4394,\n",
       " '流行': 6475,\n",
       " '很难': 4539,\n",
       " '中性': 822,\n",
       " '常态': 4224,\n",
       " '基本面': 3239,\n",
       " '阶段': 9516,\n",
       " '一段': 336,\n",
       " '高速': 9957,\n",
       " '增速': 3288,\n",
       " '下滑': 530,\n",
       " '而是': 7984,\n",
       " '周期': 2891,\n",
       " '适度': 9187,\n",
       " '供给': 1472,\n",
       " '结构性': 7806,\n",
       " '改革': 5330,\n",
       " '决定': 1935,\n",
       " '运行': 9055,\n",
       " '之下': 933,\n",
       " '前期': 2185,\n",
       " '单纯': 2436,\n",
       " '依托': 1474,\n",
       " '能够': 8066,\n",
       " '担忧': 5034,\n",
       " '尤其': 3981,\n",
       " '越来越': 8872,\n",
       " '甚至': 6976,\n",
       " '排除': 5158,\n",
       " '选择': 9202,\n",
       " '伴随': 1377,\n",
       " '谨慎': 8706,\n",
       " '气氛': 6287,\n",
       " '对于': 3893,\n",
       " '梳理': 6093,\n",
       " '警惕': 8534,\n",
       " '兑现': 1669,\n",
       " '利润': 2132,\n",
       " '重新': 9366,\n",
       " '机会': 5904,\n",
       " '阻力': 9518,\n",
       " '密集': 3886,\n",
       " '及时': 2572,\n",
       " '减仓': 1953,\n",
       " '毕竟': 6254,\n",
       " '通道': 9244,\n",
       " '扭转': 4933,\n",
       " '暂时': 5724,\n",
       " '持有': 5087,\n",
       " '主板': 905,\n",
       " '终于': 7767,\n",
       " '遗憾': 9276,\n",
       " '之际': 957,\n",
       " '周五': 2884,\n",
       " '怎样': 4620,\n",
       " '登记': 7118,\n",
       " '托管': 4909,\n",
       " '实施细则': 3807,\n",
       " '实施': 3805,\n",
       " '发改委': 2626,\n",
       " '抓紧': 4970,\n",
       " '制定': 2153,\n",
       " '出台': 1990,\n",
       " '价格': 1279,\n",
       " '监管': 7158,\n",
       " '规则': 8491,\n",
       " '社部': 7354,\n",
       " '月底': 5784,\n",
       " '基本': 3236,\n",
       " '实现': 3810,\n",
       " '跨省': 8904,\n",
       " '异地': 4426,\n",
       " '就医': 3987,\n",
       " '直接': 7186,\n",
       " '成品油': 4778,\n",
       " '年内': 4264,\n",
       " '下调': 536,\n",
       " '降幅': 9563,\n",
       " '国防': 3094,\n",
       " '科工': 7410,\n",
       " '混改': 6587,\n",
       " '资产': 8788,\n",
       " '证券化': 8598,\n",
       " '进程': 9129,\n",
       " '广电总局': 4315,\n",
       " '新浪': 5498,\n",
       " '微博': 4562,\n",
       " '网站': 7891,\n",
       " '关停': 1807,\n",
       " '视听': 8502,\n",
       " '节目': 8194,\n",
       " '欧美': 6159,\n",
       " '稳健': 7466,\n",
       " '国内': 3055,\n",
       " '形式': 4498,\n",
       " '整理': 5423,\n",
       " '1800': 57,\n",
       " '相比': 7208,\n",
       " '显得': 5684,\n",
       " '弱势': 4452,\n",
       " '转换': 8963,\n",
       " '随时': 9601,\n",
       " '第一': 7538,\n",
       " '第二': 7566,\n",
       " '实质性': 3814,\n",
       " '低开': 1387,\n",
       " '可能性': 2725,\n",
       " '防止': 9505,\n",
       " '极为': 5987,\n",
       " '过程': 9033,\n",
       " ...}"
      ]
     },
     "execution_count": 60,
     "metadata": {},
     "output_type": "execute_result"
    }
   ],
   "source": [
    "word_2_id = vectorized.vocabulary_\n",
    "word_2_id"
   ]
  },
  {
   "cell_type": "code",
   "execution_count": 61,
   "metadata": {},
   "outputs": [
    {
     "data": {
      "text/plain": [
       "1216"
      ]
     },
     "execution_count": 61,
     "metadata": {},
     "output_type": "execute_result"
    }
   ],
   "source": [
    "word_2_id['今天']"
   ]
  },
  {
   "cell_type": "code",
   "execution_count": 63,
   "metadata": {},
   "outputs": [],
   "source": [
    "id_2_word = {d: w for w, d in word_2_id.items()}"
   ]
  },
  {
   "cell_type": "code",
   "execution_count": 64,
   "metadata": {},
   "outputs": [
    {
     "data": {
      "text/plain": [
       "'活力'"
      ]
     },
     "execution_count": 64,
     "metadata": {},
     "output_type": "execute_result"
    }
   ],
   "source": [
    "id_2_word[6157]"
   ]
  },
  {
   "cell_type": "code",
   "execution_count": 65,
   "metadata": {
    "collapsed": true
   },
   "outputs": [
    {
     "data": {
      "text/plain": [
       "{7,\n",
       " 156,\n",
       " 441,\n",
       " 502,\n",
       " 551,\n",
       " 608,\n",
       " 819,\n",
       " 824,\n",
       " 1176,\n",
       " 1995,\n",
       " 1997,\n",
       " 2050,\n",
       " 2194,\n",
       " 2505,\n",
       " 2813,\n",
       " 3355,\n",
       " 3422,\n",
       " 3520,\n",
       " 3688,\n",
       " 3768,\n",
       " 3807,\n",
       " 3860,\n",
       " 3868,\n",
       " 4099,\n",
       " 4169,\n",
       " 4254,\n",
       " 4408,\n",
       " 4460,\n",
       " 4487,\n",
       " 4495,\n",
       " 4498,\n",
       " 4601,\n",
       " 4608,\n",
       " 4684,\n",
       " 4743,\n",
       " 4838,\n",
       " 4893,\n",
       " 4905,\n",
       " 5042,\n",
       " 5107,\n",
       " 5191,\n",
       " 5457,\n",
       " 5487,\n",
       " 5494,\n",
       " 5594,\n",
       " 5631,\n",
       " 5670,\n",
       " 5761,\n",
       " 5871,\n",
       " 6168,\n",
       " 6377,\n",
       " 6465,\n",
       " 6986,\n",
       " 7381,\n",
       " 7596,\n",
       " 7655,\n",
       " 7661,\n",
       " 7672,\n",
       " 7777,\n",
       " 7838,\n",
       " 7875,\n",
       " 7892,\n",
       " 7918,\n",
       " 8073,\n",
       " 8121,\n",
       " 8159,\n",
       " 8163,\n",
       " 8218,\n",
       " 8315,\n",
       " 8345,\n",
       " 8358,\n",
       " 8431,\n",
       " 8612,\n",
       " 8702,\n",
       " 8840,\n",
       " 8947,\n",
       " 9293,\n",
       " 9297,\n",
       " 9843,\n",
       " 11528,\n",
       " 11562,\n",
       " 12115,\n",
       " 12120,\n",
       " 12819,\n",
       " 13312,\n",
       " 13524,\n",
       " 15112,\n",
       " 15178,\n",
       " 16988,\n",
       " 17360,\n",
       " 17559,\n",
       " 17561,\n",
       " 17565,\n",
       " 17566,\n",
       " 17567,\n",
       " 17568,\n",
       " 17569,\n",
       " 17570,\n",
       " 17675,\n",
       " 17702,\n",
       " 17778,\n",
       " 18665,\n",
       " 18669,\n",
       " 19385,\n",
       " 19540,\n",
       " 20230,\n",
       " 20364,\n",
       " 20549,\n",
       " 21806,\n",
       " 22005,\n",
       " 22023,\n",
       " 22339,\n",
       " 22791,\n",
       " 23254,\n",
       " 23290,\n",
       " 23297,\n",
       " 23298,\n",
       " 23745,\n",
       " 23823,\n",
       " 24262,\n",
       " 24291,\n",
       " 24332,\n",
       " 25289,\n",
       " 25500,\n",
       " 25925,\n",
       " 25965,\n",
       " 25975,\n",
       " 25976,\n",
       " 26364,\n",
       " 26567,\n",
       " 27783,\n",
       " 28278,\n",
       " 29603,\n",
       " 29740,\n",
       " 29879,\n",
       " 29901,\n",
       " 29969,\n",
       " 31080,\n",
       " 31364,\n",
       " 31476,\n",
       " 32957,\n",
       " 33481,\n",
       " 34116,\n",
       " 34146,\n",
       " 34428,\n",
       " 34678,\n",
       " 34923,\n",
       " 36101,\n",
       " 36182,\n",
       " 36457,\n",
       " 37573,\n",
       " 37889,\n",
       " 38020,\n",
       " 38132,\n",
       " 38464,\n",
       " 38531,\n",
       " 38544,\n",
       " 38557,\n",
       " 38563,\n",
       " 39105,\n",
       " 39242,\n",
       " 39365,\n",
       " 39913,\n",
       " 40481,\n",
       " 40541,\n",
       " 40644,\n",
       " 40911,\n",
       " 41033,\n",
       " 41102,\n",
       " 41103,\n",
       " 41104,\n",
       " 41809,\n",
       " 42153,\n",
       " 42154,\n",
       " 42155,\n",
       " 42156,\n",
       " 42271,\n",
       " 42569,\n",
       " 43035,\n",
       " 43183,\n",
       " 43562,\n",
       " 43572,\n",
       " 43654,\n",
       " 44291,\n",
       " 45497,\n",
       " 45626,\n",
       " 45772,\n",
       " 46630,\n",
       " 46712,\n",
       " 46866,\n",
       " 47057,\n",
       " 47467,\n",
       " 47698,\n",
       " 47787,\n",
       " 47890,\n",
       " 47976,\n",
       " 48135,\n",
       " 48165,\n",
       " 48303,\n",
       " 48433,\n",
       " 49171,\n",
       " 49216,\n",
       " 49353,\n",
       " 49443,\n",
       " 49444}"
      ]
     },
     "execution_count": 65,
     "metadata": {},
     "output_type": "execute_result"
    }
   ],
   "source": [
    "set(np.where(transposed_x[6159])[0])"
   ]
  },
  {
   "cell_type": "code",
   "execution_count": 66,
   "metadata": {},
   "outputs": [
    {
     "data": {
      "text/plain": [
       "7919"
      ]
     },
     "execution_count": 66,
     "metadata": {},
     "output_type": "execute_result"
    }
   ],
   "source": [
    "word_2_id['美军']"
   ]
  },
  {
   "cell_type": "code",
   "execution_count": 67,
   "metadata": {},
   "outputs": [
    {
     "data": {
      "text/plain": [
       "2752"
      ]
     },
     "execution_count": 67,
     "metadata": {},
     "output_type": "execute_result"
    }
   ],
   "source": [
    "word_2_id['司令']"
   ]
  },
  {
   "cell_type": "code",
   "execution_count": 68,
   "metadata": {},
   "outputs": [],
   "source": [
    "usa_force = set(np.where(transposed_x[7922])[0])"
   ]
  },
  {
   "cell_type": "code",
   "execution_count": 69,
   "metadata": {},
   "outputs": [],
   "source": [
    "commander = set(np.where(transposed_x[2769])[0])"
   ]
  },
  {
   "cell_type": "code",
   "execution_count": 70,
   "metadata": {},
   "outputs": [
    {
     "data": {
      "text/plain": [
       "{1259, 1890, 5591, 8164}"
      ]
     },
     "execution_count": 70,
     "metadata": {},
     "output_type": "execute_result"
    }
   ],
   "source": [
    "usa_force & commander"
   ]
  },
  {
   "cell_type": "code",
   "execution_count": 72,
   "metadata": {},
   "outputs": [],
   "source": [
    "from functools import reduce"
   ]
  },
  {
   "cell_type": "code",
   "execution_count": 80,
   "metadata": {},
   "outputs": [],
   "source": [
    "d1, d2, d3 = {1, 2, 3}, {4, 5, 6, 3, 2}, {1, 3, 4}"
   ]
  },
  {
   "cell_type": "code",
   "execution_count": 74,
   "metadata": {},
   "outputs": [],
   "source": [
    "from operator import and_"
   ]
  },
  {
   "cell_type": "code",
   "execution_count": 81,
   "metadata": {},
   "outputs": [
    {
     "data": {
      "text/plain": [
       "{3}"
      ]
     },
     "execution_count": 81,
     "metadata": {},
     "output_type": "execute_result"
    }
   ],
   "source": [
    "reduce(and_,(d1, d2, d3))"
   ]
  },
  {
   "cell_type": "code",
   "execution_count": 111,
   "metadata": {},
   "outputs": [],
   "source": [
    "def search_engine(query):\n",
    "    words = query.split()\n",
    "    query_vec = vectorized.transform([' '.join(words)]).toarray()[0]\n",
    "    candidates_ids = [word_2_id[w] for w in words]\n",
    "    documents_ids = [set(np.where(transposed_x[_id])[0]) for _id in candidates_ids]\n",
    "    merged_documents = reduce(and_, documents_ids)\n",
    "    sorted_documents_id = sorted(merged_documents, key=lambda i: distance(query_vec,X[i].toarray()))\n",
    "    return sorted_documents_id"
   ]
  },
  {
   "cell_type": "code",
   "execution_count": 85,
   "metadata": {},
   "outputs": [
    {
     "data": {
      "text/plain": [
       "(array([2244, 6137, 7941], dtype=int64),)"
      ]
     },
     "execution_count": 85,
     "metadata": {},
     "output_type": "execute_result"
    }
   ],
   "source": [
    "np.where(vectorized.transform(['美联储 加息 次数']).toarray()[0])"
   ]
  },
  {
   "cell_type": "code",
   "execution_count": 86,
   "metadata": {},
   "outputs": [],
   "source": [
    "text = \"\"\"新华社洛杉矶４月８日电（记者黄恒）美国第三舰队８日发布声明说，该舰队下属的“卡尔·文森”航母战斗群当天离开新加坡，改变原定驶往澳大利亚的任务计划，转而北上，前往西太平洋朝鲜半岛附近水域展开行动。\\n　　该舰队网站主页发布的消息说，美军太平洋司令部司令哈里·哈里斯指示“卡尔·文森”航母战斗群向北航行。这一战斗群包括“卡尔·文森”号航空母舰、海军第二航空队、两艘“阿利·伯克”级导弹驱逐舰和一艘“泰孔德罗加”级导弹巡洋舰。\\n　　“卡尔·文森”号航母的母港位于美国加利福尼亚州的圣迭戈，今年１月初前往西太平洋地区执行任务，并参与了日本及韩国的军事演习。\\n　　美国有线电视新闻网援引美国军方官员的话说，“‘卡尔·文森’号此次行动是为了对近期朝鲜的挑衅行为作出回应”。（完）\"\"\""
   ]
  },
  {
   "cell_type": "code",
   "execution_count": 87,
   "metadata": {},
   "outputs": [
    {
     "name": "stdout",
     "output_type": "stream",
     "text": [
      "新华社洛杉矶４月８日电（记者黄恒）美国第三舰队８日发布声明说，该舰队下属的“卡尔·文森”航母战斗群当天离开新加坡，改变原定驶往澳大利亚的任务计划，转而北上，前往西太平洋朝鲜半岛附近水域展开行动。\n",
      "　　该舰队网站主页发布的消息说，美军太平洋司令部司令哈里·哈里斯指示“卡尔·文森”航母战斗群向北航行。这一战斗群包括“卡尔·文森”号航空母舰、海军第二航空队、两艘“阿利·伯克”级导弹驱逐舰和一艘“泰孔德罗加”级导弹巡洋舰。\n",
      "　　“卡尔·文森”号航母的母港位于美国加利福尼亚州的圣迭戈，今年１月初前往西太平洋地区执行任务，并参与了日本及韩国的军事演习。\n",
      "　　美国有线电视新闻网援引美国军方官员的话说，“‘卡尔·文森’号此次行动是为了对近期朝鲜的挑衅行为作出回应”。（完）\n"
     ]
    }
   ],
   "source": [
    "print(text)"
   ]
  },
  {
   "cell_type": "code",
   "execution_count": 88,
   "metadata": {},
   "outputs": [],
   "source": [
    "import re"
   ]
  },
  {
   "cell_type": "code",
   "execution_count": 89,
   "metadata": {},
   "outputs": [],
   "source": [
    "text = \"\"\"美国有线电视新闻网援引美国军方官员的话说\"\"\""
   ]
  },
  {
   "cell_type": "code",
   "execution_count": 90,
   "metadata": {},
   "outputs": [],
   "source": [
    "pat = r'(新闻|官员)'"
   ]
  },
  {
   "cell_type": "code",
   "execution_count": 91,
   "metadata": {},
   "outputs": [
    {
     "data": {
      "text/plain": [
       "'美国有线电视**新闻**网援引美国军方**官员**的话说'"
      ]
     },
     "execution_count": 91,
     "metadata": {},
     "output_type": "execute_result"
    }
   ],
   "source": [
    "re.compile(pat).sub(repl=\"**\\g<1>**\", string=text)"
   ]
  },
  {
   "cell_type": "code",
   "execution_count": 92,
   "metadata": {},
   "outputs": [],
   "source": [
    "def get_query_pat(query):\n",
    "    return re.compile('({})'.format('|'.join(query.split())))"
   ]
  },
  {
   "cell_type": "code",
   "execution_count": 93,
   "metadata": {},
   "outputs": [
    {
     "data": {
      "text/plain": [
       "re.compile(r'(美军|司令|航母)', re.UNICODE)"
      ]
     },
     "execution_count": 93,
     "metadata": {},
     "output_type": "execute_result"
    }
   ],
   "source": [
    "get_query_pat('美军 司令 航母')"
   ]
  },
  {
   "cell_type": "code",
   "execution_count": 94,
   "metadata": {},
   "outputs": [],
   "source": [
    "def highlight_keywords(pat, document):\n",
    "    return pat.sub(repl=\"**\\g<1>**\", string=document)"
   ]
  },
  {
   "cell_type": "code",
   "execution_count": 95,
   "metadata": {
    "collapsed": true
   },
   "outputs": [
    {
     "data": {
      "text/plain": [
       "'\\u3000\\u3000新华社北京４月１０日电新闻分析：“卡尔·文森”号**航母**缘何成西太平洋军情新主角\\\\n\\u3000\\u3000新华社记者刘莉莉\\\\n\\u3000\\u3000美国海军第三舰队下属的“卡尔·文森”号**航母**打击群即将抵达西太平洋朝鲜半岛附近水域。分析人士认为，美方此次急调**航母**打击群北上，向朝鲜施压意图明显，很可能会加剧朝鲜半岛紧张局势。\\\\n\\u3000\\u3000（小标题）侧重对地攻击\\\\n\\u3000\\u3000据第三舰队网站主页发布的消息，**美军**太平洋**司令**部**司令**哈里·哈里斯指示“卡尔·文森”号**航母**打击群从新加坡向北航行。这一打击群还包括海军第二航空队、两艘“阿利·伯克”级导弹驱逐舰和一艘“泰孔德罗加”级导弹巡洋舰。\\\\n\\u3000\\u3000“卡尔·文森”号是“尼米兹”级核动力**航母**，母港位于美国加利福尼亚州的圣迭戈，今年１月初，“卡尔·文森”号曾前往西太平洋地区执行任务，并参与美日韩三国军事演习。“尼米兹”级**航母**是核动力多用途**航母**，也是美国海军远洋作战群的核心力量。\\\\n\\u3000\\u3000“卡尔·文森”**航母**打击群中，“阿利·伯克”级导弹驱逐舰和“泰孔德罗加”级导弹巡洋舰也不可小视。“阿利·伯克”级导弹驱逐舰是世界上最先配备四面相控阵雷达的驱逐舰，舰队防空是其主要作战任务。“泰孔德罗加”级导弹巡洋舰的武器配备也比较全面，涵盖了反潜、反舰、防空和对地４个种类。\\\\n\\u3000\\u3000据军事专业人士介绍，**航母**打击群与**航母**战斗群其实是两个概念，战斗群侧重于夺取制海权，例如海战；而**航母**打击群更侧重于对地攻击作战。一般而言，打击群的舰艇数量要远少于战斗群。\\\\n\\u3000\\u3000（小标题）配角跻身主角\\\\n\\u3000\\u3000第三舰队是美国海军太平洋舰队两大舰队之一，拥有４个**航母**打击群，分别是以“卡尔·文森”号为核心的第一**航母**打击群、以“约翰·斯坦尼斯”号为核心的第三**航母**打击群、以“西奥多·罗斯福”号为核心的第九**航母**打击群和以“尼米兹”号为核心的第十一**航母**打击群。\\u3000\\\\n\\u3000\\u3000资深军事评论员石宏说，在美国海军力量中，第三舰队原本地位一般，因为其所管辖的国际日期变更线以东的东太平洋比较安稳，所以更多扮演战略预备队的配角角色。只有在负责执行前沿部署和应急反应任务的第七舰队有需要时，第三舰队才会奉令前去换班或增援。但自２０１５年下半年以来，太平洋舰队打破了延续数十年的惯例，大幅提升第三舰队的活跃度，令其开始更多涉足西太平洋地区。\\\\n\\u3000\\u3000“实际上，这是**美军**根据新的‘全球一体化’军事战略而做的调整，目的是优化资源、改变本土与前沿的兵力平衡，缓解目前美国海军兵力不足与战线过长、资源下滑与保持战备之间的尖锐矛盾，”石宏说。\\\\n\\u3000\\u3000正因如此，“卡尔·文森”号**航母**开始忙碌起来。自从今年１月离开母港后，“卡尔·文森”号边走边练，特别是在夏威夷和关岛水域与当地驻扎部队进行了多轮演训。２月１８日，“卡尔·文森”号**航母**进入南海水域进行所谓“巡航”；３月１５日，“卡尔·文森”号抵达韩国釜山，随后在２０日参加了美韩“关键决断”联合军演。４月４日，“卡尔·文森”号抵达新加坡，原本计划南下前往澳大利亚，但随后接到再度北上命令，赶往朝鲜半岛附近海域。\\\\n\\u3000\\u3000（小标题）或在火上浇油\\\\n\\u3000\\u3000一名不愿公开姓名的五角大楼官员告诉美国有线电视新闻网，“卡尔·文森”号**航母**打击群驶向西太平洋的朝鲜半岛水域，“旨在对近期朝鲜的挑衅行为作出回应”。\\\\n\\u3000\\u3000包括“卡尔·文森”号在内的美国海军新近动向引起各方关注。不少人担心，这一行动将给半岛紧张局势火上浇油。俄罗斯议会上院防务和安全委员会主席维克托·奥泽罗夫警告说，美国动作可能会刺激朝鲜方面作出急躁反应。\\\\n\\u3000\\u3000石宏认为，美国急调“卡尔·文森”号**航母**打击群赶赴半岛附近水域，是想通过军事施压，迫使朝鲜放弃进行新一轮核试验的打算。但从以往经验看，美国用不断加码的军事威慑不仅不会让半岛局势降温，反而会刺激朝鲜越发强硬。（完）\\u3000'"
      ]
     },
     "execution_count": 95,
     "metadata": {},
     "output_type": "execute_result"
    }
   ],
   "source": [
    "highlight_keywords(get_query_pat('美军 司令 航母'), content['content'][22987])"
   ]
  },
  {
   "cell_type": "code",
   "execution_count": 96,
   "metadata": {},
   "outputs": [],
   "source": [
    "from IPython.display import display, Markdown"
   ]
  },
  {
   "cell_type": "code",
   "execution_count": 113,
   "metadata": {},
   "outputs": [],
   "source": [
    "def search_engine_with_pretty_print(query):\n",
    "    candidates_ids = search_engine(query)\n",
    "    for i, _id in enumerate(candidates_ids):\n",
    "        title = '## Search Result {}'.format(i)\n",
    "        c = content['content'][_id]\n",
    "        c = highlight_keywords(get_query_pat(query), c)\n",
    "        display(Markdown(title + '\\n' + c))"
   ]
  },
  {
   "cell_type": "code",
   "execution_count": 114,
   "metadata": {
    "scrolled": false
   },
   "outputs": [
    {
     "data": {
      "text/markdown": [
       "## Search Result 0\n",
       "????据新华社杭州6月22日电在22日召开的全国“互联网+人社”推进座谈会上，人力资源社会保障部负责人表示，9月底前基本实现跨省异地就医住院费用直接结算。\r\n",
       "????人力资源社会保障部部长尹蔚民说，各地要把这项工作作为今年的重点督办任务，整合资源，加快接入国家异地就医结算系统，确保9月底前基本实现全国联网和跨省异地就医住院医疗费用直接结算任务目标。\r\n",
       "????同时，要利用互联网技术创新医保服务模式，让群众就医更加便捷。“这方面各地都在积极探索，有不少借助手机客户端、微信等渠道开展医保服务的例子，值得认真总结，优化推广。”尹蔚民说。\r\n",
       "????作为基础支撑，人力资源社会保障部正在推进社会保障卡的普及和应用，增强线上支付能力，力争尽快实现全国社会保障一卡通。\r\n"
      ],
      "text/plain": [
       "<IPython.core.display.Markdown object>"
      ]
     },
     "metadata": {},
     "output_type": "display_data"
    },
    {
     "data": {
      "text/markdown": [
       "## Search Result 1\n",
       "新华社照片，外代，2017年3月31日\\n（外代二线）网球——迈阿密公开赛：费德勒晋级半决赛\\n3月30日，瑞士选手费德勒庆祝胜利。\\n当日，在2017迈阿密网球公开赛男单四分之一决赛中，瑞士选手费德勒以2比1战胜捷克选手伯蒂奇，晋级半决赛。\\n新华社/欧新\\n"
      ],
      "text/plain": [
       "<IPython.core.display.Markdown object>"
      ]
     },
     "metadata": {},
     "output_type": "display_data"
    },
    {
     "data": {
      "text/markdown": [
       "## Search Result 2\n",
       " "
      ],
      "text/plain": [
       "<IPython.core.display.Markdown object>"
      ]
     },
     "metadata": {},
     "output_type": "display_data"
    },
    {
     "data": {
      "text/markdown": [
       "## Search Result 3\n",
       "新华社照片，外代，2017年5月4日\\n（外代二线）足球——欧罗巴联赛：阿贾克斯胜里昂\\n5月3日，里昂队球员瓦尔布埃纳（右）与对方球员拼抢。\\n当日，在2016-2017赛季欧罗巴联赛半决赛首回合比赛中，荷兰阿贾克斯队主场以4比1战胜法国里昂队。\\n新华社/路透AI"
      ],
      "text/plain": [
       "<IPython.core.display.Markdown object>"
      ]
     },
     "metadata": {},
     "output_type": "display_data"
    },
    {
     "data": {
      "text/markdown": [
       "## Search Result 4\n",
       "中国信达资产管理股份有限公司湖北省分公司债权转让公告 ????湖北日报讯?经财政部及银监会批准，中国信达资产管理公司改制为中国信达资产管理股份有限公司，原中国信达资产管理公司各办事处机构名称统一变更为“中国信达资产管理股份有限公司XX省（自治区、直辖市、计划单列市）分公司”，简称“中国信达XX分公司”。据此，中国信达资产管理公司武汉办事处名称变更为中国信达资产管理股份有限公司湖北省分公司,　简称“中国信达湖北分公司”。 ????根据中国信达湖北分公司与枝江金润源建设投资控股集团有限公司（以下简称“金润源公司”）签订的债权转让合同，中国信达湖北分公司已将依法享有的对下列借款人和担保人的债权及担保权利依法转让给金润源公司，现以公告方式通知债务人和担保人。请借款人和相应担保人或借款人、担保人的承继人向金润源公司公司履行还款义务（若借款人、担保人因各种原因发生更名、改制、歇业、吊销营业执照或者丧失民事主体资格等情形，请相关承债主体、清算主体代为履行义务或者承担清算责任）。 ????特此公告 　　中国信达资产管理股份有限公司湖北省分公司 　　2017年6月22日 \r\n",
       " ? ?"
      ],
      "text/plain": [
       "<IPython.core.display.Markdown object>"
      ]
     },
     "metadata": {},
     "output_type": "display_data"
    },
    {
     "data": {
      "text/markdown": [
       "## Search Result 5\n",
       "新华社照片，外代，2017年4月30日\\n（外代二线）印度纪念国际舞蹈日\\n4月29日，在印度加尔各答，舞蹈演员表演节目，纪念国际舞蹈日。\\n4月29日是国际舞蹈日。\\n新华社/欧新\\n\\n"
      ],
      "text/plain": [
       "<IPython.core.display.Markdown object>"
      ]
     },
     "metadata": {},
     "output_type": "display_data"
    }
   ],
   "source": [
    "search_engine_with_pretty_print('春节 假期')"
   ]
  },
  {
   "cell_type": "code",
   "execution_count": 115,
   "metadata": {
    "collapsed": true
   },
   "outputs": [
    {
     "ename": "TypeError",
     "evalue": "search_engine() missing 1 required positional argument: 'query'",
     "output_type": "error",
     "traceback": [
      "\u001b[1;31m---------------------------------------------------------------------------\u001b[0m",
      "\u001b[1;31mTypeError\u001b[0m                                 Traceback (most recent call last)",
      "\u001b[1;32m<ipython-input-115-7f5a70b47ece>\u001b[0m in \u001b[0;36m<module>\u001b[1;34m()\u001b[0m\n\u001b[1;32m----> 1\u001b[1;33m \u001b[0msearch_engine\u001b[0m\u001b[1;33m(\u001b[0m\u001b[1;33m)\u001b[0m\u001b[1;33m\u001b[0m\u001b[0m\n\u001b[0m",
      "\u001b[1;31mTypeError\u001b[0m: search_engine() missing 1 required positional argument: 'query'"
     ]
    }
   ],
   "source": [
    "search_engine()"
   ]
  },
  {
   "cell_type": "code",
   "execution_count": 116,
   "metadata": {},
   "outputs": [
    {
     "data": {
      "text/plain": [
       "[2183]"
      ]
     },
     "execution_count": 116,
     "metadata": {},
     "output_type": "execute_result"
    }
   ],
   "source": [
    "search_engine('美联储 加息 次数')"
   ]
  },
  {
   "cell_type": "code",
   "execution_count": 118,
   "metadata": {
    "scrolled": false
   },
   "outputs": [
    {
     "data": {
      "text/plain": [
       "'央视网消息：据人社部网站消息，随着经济进入新常态和人口老龄化压力日渐增大，养老保险基金运行情况一直广受社会各界关注。对此，人社部有关部门负责人就我国养老保险基金运行问题进行了回应：\\r\\n今年1-5月份，职工养老保险基金总收入15769亿元，同比增长23.9%；基金总支出13505亿元，同比增长23.2%。当期结余2264亿元，累计结余4.08万亿元。从企业养老保险情况看，随着经济回稳向好，1-5月份基金征缴收入增幅10.4%，重回“两位数”增长，基金支出保持温和增长。按此趋势，全年养老保险基金仍将保持收大于支，基金累计结余持续增加，能够确保养老保险待遇按时足额发放。\\r\\n总体来看虽然基金结余规模可观，具备较强的支撑能力，但是由于地区间经济发展不平衡，存在着基金分布不均衡的结构性矛盾。目前情况是东部结余多、中西部结余少，特别是在东北等老工业地区，缴费人员少、退休人员多、抚养负担重的情况比较突出，基金出现了当期收不抵支。对此，我们正立足当前，着眼长远，采取有力措施保障基金健康平稳运行，促进养老保险制度可持续发展。一是实施全民参保计划，扩大覆盖范围。截至2016年底，职工养老保险人数3.79亿人，比2015年末增加2569万人。在保障人民群众养老保险权益的同时，加大征缴力度，增强基金收入。二是加大财政投入，保障基金运行。从1998年以来，中央财政累计对企业养老保险基金投入2.57万亿元，其中2016年超过4000亿元，同比增长12.9%，同时地方财政也在加大投入，2016年各省市县级财政投入合计668亿元，同比增长79.6%。三是提升统筹层次，均衡地区差异。针对部分省份基金结余少、支出压力大的情况，国家将通过提高统筹层次，在更大的范围内调剂基金余缺，均衡地区之间因抚养比差距而导致的负担不均问题。四是拓宽筹资渠道，壮大基金规模。通过开展养老基金投资运营，推动基金市场化、多元化、专业化投资，实现基金保值增值。同时,推动划转部分国有资本充实社保基金，有效提升基金抗风险能力，保障养老保险良好运行。五是发展多层次养老保险体系。逐步形成基本养老保险为基础、企业年金和职业年金为补充、与个人储蓄性养老保险和商业养老保险相衔接的多层次保障体系，满足不同群体的养老保障需求，提高退休后的生活保障水平。\\r\\n'"
      ]
     },
     "execution_count": 118,
     "metadata": {},
     "output_type": "execute_result"
    }
   ],
   "source": [
    "content['content'][2183]"
   ]
  },
  {
   "cell_type": "markdown",
   "metadata": {},
   "source": [
    "### PageRank"
   ]
  },
  {
   "cell_type": "code",
   "execution_count": 120,
   "metadata": {},
   "outputs": [],
   "source": [
    "import networkx as nx\n",
    "import random\n",
    "from string import ascii_uppercase"
   ]
  },
  {
   "cell_type": "code",
   "execution_count": 121,
   "metadata": {},
   "outputs": [
    {
     "data": {
      "text/plain": [
       "'ABCDEFGHIJKLMNOPQRSTUVWXYZ'"
      ]
     },
     "execution_count": 121,
     "metadata": {},
     "output_type": "execute_result"
    }
   ],
   "source": [
    "ascii_uppercase"
   ]
  },
  {
   "cell_type": "code",
   "execution_count": 130,
   "metadata": {},
   "outputs": [],
   "source": [
    "def generate_random_website():\n",
    "    return ''.join([random.choice(ascii_uppercase) for _ in range(random.randint(3,5))]) + '.' + random.choice(['com', 'cn', 'net'])"
   ]
  },
  {
   "cell_type": "code",
   "execution_count": 131,
   "metadata": {},
   "outputs": [
    {
     "data": {
      "text/plain": [
       "'STSOD.com'"
      ]
     },
     "execution_count": 131,
     "metadata": {},
     "output_type": "execute_result"
    }
   ],
   "source": [
    "generate_random_website()"
   ]
  },
  {
   "cell_type": "code",
   "execution_count": 132,
   "metadata": {},
   "outputs": [
    {
     "data": {
      "text/plain": [
       "['NCLHY.cn',\n",
       " 'OSMXV.com',\n",
       " 'BXB.net',\n",
       " 'PSO.com',\n",
       " 'AQJ.com',\n",
       " 'XIMWC.net',\n",
       " 'OTSX.net',\n",
       " 'CAV.cn',\n",
       " 'WXZI.net',\n",
       " 'FZJRJ.cn',\n",
       " 'ZIPVF.cn',\n",
       " 'AGN.net',\n",
       " 'UXP.com',\n",
       " 'TNV.com',\n",
       " 'WPM.cn',\n",
       " 'AWOIO.com',\n",
       " 'TECEC.net',\n",
       " 'PYDW.cn',\n",
       " 'VEG.com',\n",
       " 'MYS.net',\n",
       " 'FIJA.cn',\n",
       " 'YBQS.com',\n",
       " 'UOA.cn',\n",
       " 'ARK.net',\n",
       " 'UYCW.net']"
      ]
     },
     "execution_count": 132,
     "metadata": {},
     "output_type": "execute_result"
    }
   ],
   "source": [
    "websites = [generate_random_website() for _ in range(25)]\n",
    "websites"
   ]
  },
  {
   "cell_type": "code",
   "execution_count": 133,
   "metadata": {},
   "outputs": [
    {
     "data": {
      "text/plain": [
       "['TNV.com',\n",
       " 'YBQS.com',\n",
       " 'BXB.net',\n",
       " 'MYS.net',\n",
       " 'FIJA.cn',\n",
       " 'WXZI.net',\n",
       " 'UOA.cn',\n",
       " 'AGN.net',\n",
       " 'ZIPVF.cn',\n",
       " 'TECEC.net']"
      ]
     },
     "execution_count": 133,
     "metadata": {},
     "output_type": "execute_result"
    }
   ],
   "source": [
    "random.sample(websites, 10)"
   ]
  },
  {
   "cell_type": "code",
   "execution_count": 134,
   "metadata": {},
   "outputs": [],
   "source": [
    "website_collection = {\n",
    "    websites[0]: random.sample(websites, 10),\n",
    "    websites[1]: random.sample(websites, 5),\n",
    "    websites[2]: random.sample(websites, 6),\n",
    "    websites[3]: random.sample(websites, 7),\n",
    "    websites[4]: random.sample(websites, 2),\n",
    "    websites[5]: random.sample(websites, 1)\n",
    "}"
   ]
  },
  {
   "cell_type": "code",
   "execution_count": 135,
   "metadata": {},
   "outputs": [],
   "source": [
    "website_network = nx.graph.Graph(website_collection)"
   ]
  },
  {
   "cell_type": "code",
   "execution_count": 136,
   "metadata": {},
   "outputs": [
    {
     "data": {
      "image/png": "[encoded data removed]",
      "text/plain": [
       "<matplotlib.figure.Figure at 0x8d61710>"
      ]
     },
     "metadata": {},
     "output_type": "display_data"
    }
   ],
   "source": [
    "plt.figure(3, figsize=(12, 12))\n",
    "nx.draw_networkx(website_network, font_size = 10)"
   ]
  },
  {
   "cell_type": "code",
   "execution_count": 137,
   "metadata": {},
   "outputs": [
    {
     "data": {
      "text/plain": [
       "[('NCLHY.cn', 0.14458373648850112),\n",
       " ('BXB.net', 0.12167651946631422),\n",
       " ('PSO.com', 0.11869189427925421),\n",
       " ('OSMXV.com', 0.07900392412117926),\n",
       " ('AQJ.com', 0.04894187384579521),\n",
       " ('ZIPVF.cn', 0.04748555042914926),\n",
       " ('YBQS.com', 0.04614852547478334),\n",
       " ('CAV.cn', 0.0453291340590865),\n",
       " ('OTSX.net', 0.04091414623486361),\n",
       " ('XIMWC.net', 0.03356557699982217),\n",
       " ('TNV.com', 0.033542034474908576),\n",
       " ('TECEC.net', 0.03271781252948063),\n",
       " ('PYDW.cn', 0.03271781252948063),\n",
       " ('UXP.com', 0.032400974828253666),\n",
       " ('AWOIO.com', 0.032400974828253666),\n",
       " ('AGN.net', 0.028302824705257745),\n",
       " ('UYCW.net', 0.020930712945302708),\n",
       " ('WPM.cn', 0.020428159230832833),\n",
       " ('UOA.cn', 0.020428159230832833),\n",
       " ('ARK.net', 0.019789653298647798)]"
      ]
     },
     "execution_count": 137,
     "metadata": {},
     "output_type": "execute_result"
    }
   ],
   "source": [
    "sorted(nx.pagerank(website_network).items(),key=lambda x:x[1], reverse=True)"
   ]
  },
  {
   "cell_type": "code",
   "execution_count": null,
   "metadata": {},
   "outputs": [],
   "source": []
  }
 ],
 "metadata": {
  "kernelspec": {
   "display_name": "Python 3",
   "language": "python",
   "name": "python3"
  },
  "language_info": {
   "codemirror_mode": {
    "name": "ipython",
    "version": 3
   },
   "file_extension": ".py",
   "mimetype": "text/x-python",
   "name": "python",
   "nbconvert_exporter": "python",
   "pygments_lexer": "ipython3",
   "version": "3.6.4"
  }
 },
 "nbformat": 4,
 "nbformat_minor": 2
}
