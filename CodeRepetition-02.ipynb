{
 "cells": [
  {
   "cell_type": "code",
   "execution_count": 86,
   "metadata": {
    "scrolled": true
   },
   "outputs": [
    {
     "name": "stdout",
     "output_type": "stream",
     "text": [
      "['D:\\\\ProgramData\\\\Anaconda3\\\\lib\\\\site-packages\\\\matplotlib']\n"
     ]
    }
   ],
   "source": [
    "import matplotlib\n",
    "print(matplotlib.__path__)"
   ]
  },
  {
   "cell_type": "code",
   "execution_count": 116,
   "metadata": {},
   "outputs": [],
   "source": [
    "coordination_source = \"\"\"\n",
    "{name:'兰州', geoCoord:[103.73, 36.03]},\n",
    "{name:'嘉峪关', geoCoord:[98.17, 39.47]},\n",
    "{name:'西宁', geoCoord:[101.74, 36.56]},\n",
    "{name:'成都', geoCoord:[104.06, 30.67]},\n",
    "{name:'石家庄', geoCoord:[114.48, 38.03]},\n",
    "{name:'拉萨', geoCoord:[102.73, 25.04]},\n",
    "{name:'贵阳', geoCoord:[106.71, 26.57]},\n",
    "{name:'武汉', geoCoord:[114.31, 30.52]},\n",
    "{name:'郑州', geoCoord:[113.65, 34.76]},\n",
    "{name:'济南', geoCoord:[117, 36.65]},\n",
    "{name:'南京', geoCoord:[118.78, 32.04]},\n",
    "{name:'合肥', geoCoord:[117.27, 31.86]},\n",
    "{name:'杭州', geoCoord:[120.19, 30.26]},\n",
    "{name:'南昌', geoCoord:[115.89, 28.68]},\n",
    "{name:'福州', geoCoord:[119.3, 26.08]},\n",
    "{name:'广州', geoCoord:[113.23, 23.16]},\n",
    "{name:'长沙', geoCoord:[113, 28.21]},\n",
    "//{name:'海口', geoCoord:[110.35, 20.02]},\n",
    "{name:'沈阳', geoCoord:[123.38, 41.8]},\n",
    "{name:'长春', geoCoord:[125.35, 43.88]},\n",
    "{name:'哈尔滨', geoCoord:[126.63, 45.75]},\n",
    "{name:'太原', geoCoord:[112.53, 37.87]},\n",
    "{name:'西安', geoCoord:[108.95, 34.27]},\n",
    "//{name:'台湾', geoCoord:[121.30, 25.03]},\n",
    "{name:'北京', geoCoord:[116.46, 39.92]},\n",
    "{name:'上海', geoCoord:[121.48, 31.22]},\n",
    "{name:'重庆', geoCoord:[106.54, 29.59]},\n",
    "{name:'天津', geoCoord:[117.2, 39.13]},\n",
    "{name:'呼和浩特', geoCoord:[111.65, 40.82]},\n",
    "{name:'南宁', geoCoord:[108.33, 22.84]},\n",
    "//{name:'西藏', geoCoord:[91.11, 29.97]},\n",
    "{name:'银川', geoCoord:[106.27, 38.47]},\n",
    "{name:'乌鲁木齐', geoCoord:[87.68, 43.77]},\n",
    "{name:'香港', geoCoord:[114.17, 22.28]},\n",
    "{name:'澳门', geoCoord:[113.54, 22.19]}\n",
    "\"\"\""
   ]
  },
  {
   "cell_type": "code",
   "execution_count": 117,
   "metadata": {},
   "outputs": [],
   "source": [
    "import networkx as nx"
   ]
  },
  {
   "cell_type": "code",
   "execution_count": 118,
   "metadata": {},
   "outputs": [],
   "source": [
    "import re"
   ]
  },
  {
   "cell_type": "code",
   "execution_count": 119,
   "metadata": {},
   "outputs": [],
   "source": [
    "strText = \"\"\"\n",
    "{name:'澳门', geoCoord:[113.54, 22.19]}\n",
    "\"\"\""
   ]
  },
  {
   "cell_type": "code",
   "execution_count": 120,
   "metadata": {},
   "outputs": [
    {
     "data": {
      "text/plain": [
       "'22.19'"
      ]
     },
     "execution_count": 120,
     "metadata": {},
     "output_type": "execute_result"
    }
   ],
   "source": [
    "city = re.findall(r\"name:'(\\w+)',\\sgeoCoord:\\[(\\d+.\\d+),\\s(\\d+.\\d+)\\]\",strText)\n",
    "city[0][2]"
   ]
  },
  {
   "cell_type": "code",
   "execution_count": 121,
   "metadata": {},
   "outputs": [],
   "source": [
    "cityLocation = {}"
   ]
  },
  {
   "cell_type": "code",
   "execution_count": 122,
   "metadata": {
    "scrolled": true
   },
   "outputs": [
    {
     "data": {
      "text/plain": [
       "{'上海': (121.48, 31.22),\n",
       " '乌鲁木齐': (87.68, 43.77),\n",
       " '兰州': (103.73, 36.03),\n",
       " '北京': (116.46, 39.92),\n",
       " '南京': (118.78, 32.04),\n",
       " '南宁': (108.33, 22.84),\n",
       " '南昌': (115.89, 28.68),\n",
       " '合肥': (117.27, 31.86),\n",
       " '呼和浩特': (111.65, 40.82),\n",
       " '哈尔滨': (126.63, 45.75),\n",
       " '嘉峪关': (98.17, 39.47),\n",
       " '天津': (117.2, 39.13),\n",
       " '太原': (112.53, 37.87),\n",
       " '广州': (113.23, 23.16),\n",
       " '成都': (104.06, 30.67),\n",
       " '拉萨': (102.73, 25.04),\n",
       " '杭州': (120.19, 30.26),\n",
       " '武汉': (114.31, 30.52),\n",
       " '沈阳': (123.38, 41.8),\n",
       " '济南': (117.0, 36.65),\n",
       " '澳门': (113.54, 22.19),\n",
       " '石家庄': (114.48, 38.03),\n",
       " '福州': (119.3, 26.08),\n",
       " '西宁': (101.74, 36.56),\n",
       " '西安': (108.95, 34.27),\n",
       " '贵阳': (106.71, 26.57),\n",
       " '郑州': (113.65, 34.76),\n",
       " '重庆': (106.54, 29.59),\n",
       " '银川': (106.27, 38.47),\n",
       " '长春': (125.35, 43.88),\n",
       " '长沙': (113.0, 28.21),\n",
       " '香港': (114.17, 22.28)}"
      ]
     },
     "execution_count": 122,
     "metadata": {},
     "output_type": "execute_result"
    }
   ],
   "source": [
    "for line in coordination_source.split('\\n'):\n",
    "    if line.startswith('//'): continue\n",
    "    if line.strip() == '': continue\n",
    "    city = re.findall(r\"name:'(\\w+)',\\sgeoCoord:\\[(\\d+.\\d+),\\s(\\d+.\\d+)\\]\",line)\n",
    "    x=float(city[0][1])\n",
    "    y=float(city[0][2])\n",
    "    cityLocation[city[0][0]]=(x,y)\n",
    "cityLocation"
   ]
  },
  {
   "cell_type": "code",
   "execution_count": 123,
   "metadata": {},
   "outputs": [],
   "source": [
    "import math\n",
    "def getDistance(origin,destination):\n",
    "    lat1, lon1 = origin\n",
    "    lat2, lon2 = destination\n",
    "    radius = 6371  # km\n",
    "\n",
    "    dlat = math.radians(lat2 - lat1)\n",
    "    dlon = math.radians(lon2 - lon1)\n",
    "    a = (math.sin(dlat / 2) * math.sin(dlat / 2) +\n",
    "         math.cos(math.radians(lat1)) * math.cos(math.radians(lat2)) *\n",
    "         math.sin(dlon / 2) * math.sin(dlon / 2))\n",
    "    c = 2 * math.atan2(math.sqrt(a), math.sqrt(1 - a))\n",
    "    d = radius * c\n",
    "    return d"
   ]
  },
  {
   "cell_type": "code",
   "execution_count": 124,
   "metadata": {},
   "outputs": [],
   "source": [
    "def getCityDistance(city1,city2):\n",
    "    return getDistance(cityLocation[city1],cityLocation[city2])"
   ]
  },
  {
   "cell_type": "code",
   "execution_count": 125,
   "metadata": {},
   "outputs": [
    {
     "data": {
      "text/plain": [
       "153.5185697155768"
      ]
     },
     "execution_count": 125,
     "metadata": {},
     "output_type": "execute_result"
    }
   ],
   "source": [
    "getCityDistance(\"杭州\",\"上海\")"
   ]
  },
  {
   "cell_type": "code",
   "execution_count": 126,
   "metadata": {},
   "outputs": [],
   "source": [
    "cities = list(cityLocation.keys())"
   ]
  },
  {
   "cell_type": "code",
   "execution_count": 127,
   "metadata": {},
   "outputs": [],
   "source": [
    "cityGraph = nx.Graph()"
   ]
  },
  {
   "cell_type": "code",
   "execution_count": 128,
   "metadata": {},
   "outputs": [],
   "source": [
    "cityGraph.add_nodes_from(cities)"
   ]
  },
  {
   "cell_type": "code",
   "execution_count": 129,
   "metadata": {},
   "outputs": [],
   "source": [
    "import matplotlib.pyplot as plt"
   ]
  },
  {
   "cell_type": "code",
   "execution_count": 130,
   "metadata": {},
   "outputs": [],
   "source": [
    "plt.rcParams['font.sans-serif'] = ['SimHei']\n",
    "plt.rcParams['axes.unicode_minus'] = False"
   ]
  },
  {
   "cell_type": "code",
   "execution_count": 131,
   "metadata": {},
   "outputs": [],
   "source": [
    "import matplotlib.pyplot as plt"
   ]
  },
  {
   "cell_type": "code",
   "execution_count": 132,
   "metadata": {
    "scrolled": true
   },
   "outputs": [
    {
     "data": {
      "image/png": "[encoded data removed]",
      "text/plain": [
       "<matplotlib.figure.Figure at 0xb545048>"
      ]
     },
     "metadata": {},
     "output_type": "display_data"
    }
   ],
   "source": [
    "nx.draw(cityGraph,cityLocation,with_labels=True,node_size=10)"
   ]
  },
  {
   "cell_type": "code",
   "execution_count": 133,
   "metadata": {},
   "outputs": [],
   "source": [
    "threshold = 300"
   ]
  },
  {
   "cell_type": "code",
   "execution_count": 134,
   "metadata": {},
   "outputs": [],
   "source": [
    "from collections import defaultdict"
   ]
  },
  {
   "cell_type": "code",
   "execution_count": 135,
   "metadata": {},
   "outputs": [],
   "source": [
    "citiesConnection = defaultdict(list)"
   ]
  },
  {
   "cell_type": "code",
   "execution_count": 136,
   "metadata": {},
   "outputs": [],
   "source": [
    "for c1 in cities:\n",
    "    for c2 in cities:\n",
    "        if c1 == c2: continue\n",
    "        if getCityDistance(c1,c2) < threshold:\n",
    "            citiesConnection[c1].append(c2)\n",
    "            citiesConnection[c2].append(c1)\n",
    "            "
   ]
  },
  {
   "cell_type": "code",
   "execution_count": 137,
   "metadata": {},
   "outputs": [
    {
     "data": {
      "text/plain": [
       "29"
      ]
     },
     "execution_count": 137,
     "metadata": {},
     "output_type": "execute_result"
    }
   ],
   "source": [
    "len(citiesConnection)"
   ]
  },
  {
   "cell_type": "raw",
   "metadata": {
    "collapsed": true
   },
   "source": [
    "for city in cityLocation.keys():\n",
    "    print(city,\":\",citiesConnection[city])"
   ]
  },
  {
   "cell_type": "code",
   "execution_count": 138,
   "metadata": {},
   "outputs": [],
   "source": [
    "citiesConnectionGraph = nx.Graph(citiesConnection)"
   ]
  },
  {
   "cell_type": "code",
   "execution_count": 139,
   "metadata": {
    "scrolled": true
   },
   "outputs": [
    {
     "data": {
      "text/plain": [
       "defaultdict(list,\n",
       "            {'上海': ['杭州', '杭州'],\n",
       "             '兰州': ['西宁', '成都', '银川', '西宁', '成都', '银川'],\n",
       "             '北京': ['石家庄', '济南', '石家庄', '济南', '天津', '天津'],\n",
       "             '南京': ['合肥', '杭州', '合肥', '杭州'],\n",
       "             '南宁': ['贵阳', '贵阳'],\n",
       "             '南昌': ['武汉', '合肥', '武汉', '合肥'],\n",
       "             '合肥': ['济南', '南京', '济南', '南京', '南昌', '南昌'],\n",
       "             '呼和浩特': ['太原', '太原'],\n",
       "             '哈尔滨': ['长春', '长春'],\n",
       "             '天津': ['济南', '北京', '济南', '北京'],\n",
       "             '太原': ['石家庄', '郑州', '石家庄', '郑州', '呼和浩特', '呼和浩特'],\n",
       "             '广州': ['长沙', '香港', '澳门', '长沙', '香港', '澳门'],\n",
       "             '成都': ['兰州', '西宁', '兰州', '西宁', '拉萨', '重庆', '拉萨', '重庆'],\n",
       "             '拉萨': ['西宁', '成都', '西宁', '成都'],\n",
       "             '杭州': ['南京', '南京', '福州', '上海', '福州', '上海'],\n",
       "             '武汉': ['郑州', '南昌', '长沙', '郑州', '南昌', '长沙'],\n",
       "             '沈阳': ['长春', '长春'],\n",
       "             '济南': ['石家庄', '石家庄', '合肥', '北京', '天津', '合肥', '北京', '天津'],\n",
       "             '澳门': ['广州', '长沙', '香港', '广州', '长沙', '香港'],\n",
       "             '石家庄': ['郑州', '济南', '太原', '北京', '郑州', '济南', '太原', '北京'],\n",
       "             '福州': ['杭州', '杭州'],\n",
       "             '西宁': ['兰州', '兰州', '成都', '拉萨', '成都', '拉萨'],\n",
       "             '贵阳': ['重庆', '南宁', '重庆', '南宁'],\n",
       "             '郑州': ['石家庄', '武汉', '石家庄', '武汉', '长沙', '太原', '长沙', '太原'],\n",
       "             '重庆': ['成都', '贵阳', '成都', '贵阳', '银川', '银川'],\n",
       "             '银川': ['兰州', '重庆', '兰州', '重庆'],\n",
       "             '长春': ['沈阳', '沈阳', '哈尔滨', '哈尔滨'],\n",
       "             '长沙': ['武汉',\n",
       "              '郑州',\n",
       "              '广州',\n",
       "              '武汉',\n",
       "              '郑州',\n",
       "              '广州',\n",
       "              '香港',\n",
       "              '澳门',\n",
       "              '香港',\n",
       "              '澳门'],\n",
       "             '香港': ['广州', '长沙', '广州', '长沙', '澳门', '澳门']})"
      ]
     },
     "execution_count": 139,
     "metadata": {},
     "output_type": "execute_result"
    }
   ],
   "source": [
    "citiesConnection"
   ]
  },
  {
   "cell_type": "raw",
   "metadata": {},
   "source": [
    "'乌鲁木齐' in citiesConnection,'乌鲁木齐' in citiesConnectionGraph"
   ]
  },
  {
   "cell_type": "code",
   "execution_count": 140,
   "metadata": {
    "scrolled": false
   },
   "outputs": [
    {
     "data": {
      "image/png": "[encoded data removed]",
      "text/plain": [
       "<matplotlib.figure.Figure at 0xb54ef60>"
      ]
     },
     "metadata": {},
     "output_type": "display_data"
    }
   ],
   "source": [
    "nx.draw(citiesConnectionGraph,cityLocation,with_labels=True,node_size=10)"
   ]
  },
  {
   "cell_type": "code",
   "execution_count": 141,
   "metadata": {},
   "outputs": [],
   "source": [
    "def isGoal(desitination):\n",
    "    def _wrap(currentPath):\n",
    "        return currentPath[-1] == desitination\n",
    "    return _wrap"
   ]
  },
  {
   "cell_type": "code",
   "execution_count": 142,
   "metadata": {},
   "outputs": [],
   "source": [
    "def search(graph,start,isGoal,searchStrategy):\n",
    "    pathes = [[start]]\n",
    "    seen = set()\n",
    "    while pathes:\n",
    "        path = pathes.pop()\n",
    "        froniter = path[-1]\n",
    "        if froniter in seen: continue\n",
    "        successors = graph[froniter]\n",
    "        for city in successors:\n",
    "            if city in path: continue\n",
    "            newPath = path+[city]\n",
    "            pathes.append(newPath)\n",
    "            if isGoal(newPath): return newPath\n",
    "        seen.add(froniter)\n",
    "        pathes = searchStrategy(pathes)"
   ]
  },
  {
   "cell_type": "code",
   "execution_count": 143,
   "metadata": {},
   "outputs": [],
   "source": [
    "def transferStationsFirst(pathes):\n",
    "    return sorted(pathes,key=len)"
   ]
  },
  {
   "cell_type": "code",
   "execution_count": 144,
   "metadata": {},
   "outputs": [],
   "source": [
    "def transferAsMuchAsPossible(pathes):\n",
    "    return sorted(pathes,key=len,reverse=True)"
   ]
  },
  {
   "cell_type": "code",
   "execution_count": 145,
   "metadata": {
    "scrolled": true
   },
   "outputs": [
    {
     "name": "stdout",
     "output_type": "stream",
     "text": [
      "['北京', '天津', '济南', '合肥', '南京', '杭州', '上海']\n"
     ]
    }
   ],
   "source": [
    "path = search(citiesConnection,start='北京',isGoal=isGoal('上海'),searchStrategy = lambda n: n)\n",
    "print(path)"
   ]
  },
  {
   "cell_type": "code",
   "execution_count": 146,
   "metadata": {},
   "outputs": [],
   "source": [
    "def sortPath(cmpFunc,beam=-1):\n",
    "    def _sorted(pathes):\n",
    "        return sorted(pathes,key=cmpFunc)[:beam]\n",
    "    return _sorted"
   ]
  },
  {
   "cell_type": "code",
   "execution_count": 147,
   "metadata": {},
   "outputs": [
    {
     "name": "stdout",
     "output_type": "stream",
     "text": [
      "None\n"
     ]
    }
   ],
   "source": [
    "path  = search(citiesConnection,start='北京',isGoal=isGoal('拉萨'),searchStrategy = lambda n: n)\n",
    "print(path)"
   ]
  },
  {
   "cell_type": "code",
   "execution_count": 148,
   "metadata": {},
   "outputs": [],
   "source": [
    "def prettyPrint(cities):\n",
    "    print('->'.join(cities))"
   ]
  },
  {
   "cell_type": "code",
   "execution_count": 149,
   "metadata": {
    "scrolled": false
   },
   "outputs": [
    {
     "name": "stdout",
     "output_type": "stream",
     "text": [
      "北京->天津->济南->合肥->南京->杭州->福州\n"
     ]
    }
   ],
   "source": [
    "prettyPrint(search(citiesConnection,'北京',isGoal('福州'),transferStationsFirst))"
   ]
  },
  {
   "cell_type": "markdown",
   "metadata": {},
   "source": [
    "## 网络爬虫"
   ]
  },
  {
   "cell_type": "code",
   "execution_count": 154,
   "metadata": {},
   "outputs": [],
   "source": [
    "import requests"
   ]
  },
  {
   "cell_type": "code",
   "execution_count": 155,
   "metadata": {},
   "outputs": [],
   "source": [
    "url = 'https://movie.douban.com/subject/26931786/?from=showing'"
   ]
  },
  {
   "cell_type": "code",
   "execution_count": 156,
   "metadata": {},
   "outputs": [],
   "source": [
    "response = requests.get(url)"
   ]
  },
  {
   "cell_type": "code",
   "execution_count": 157,
   "metadata": {},
   "outputs": [],
   "source": [
    "whatWeWant = r'<a href=\"https://(movie\\.douban\\.com/subject/\\d+/\\?from=subject-page)\" class=\"\"'"
   ]
  },
  {
   "cell_type": "code",
   "execution_count": 158,
   "metadata": {},
   "outputs": [],
   "source": [
    "pattern = re.compile(whatWeWant)"
   ]
  },
  {
   "cell_type": "code",
   "execution_count": 159,
   "metadata": {},
   "outputs": [
    {
     "data": {
      "text/plain": [
       "['movie.douban.com/subject/24753477/?from=subject-page',\n",
       " 'movie.douban.com/subject/26100958/?from=subject-page',\n",
       " 'movie.douban.com/subject/25820460/?from=subject-page',\n",
       " 'movie.douban.com/subject/1432146/?from=subject-page',\n",
       " 'movie.douban.com/subject/1866473/?from=subject-page',\n",
       " 'movie.douban.com/subject/25937854/?from=subject-page',\n",
       " 'movie.douban.com/subject/25821634/?from=subject-page',\n",
       " 'movie.douban.com/subject/26213252/?from=subject-page',\n",
       " 'movie.douban.com/subject/3168101/?from=subject-page',\n",
       " 'movie.douban.com/subject/4920389/?from=subject-page']"
      ]
     },
     "execution_count": 159,
     "metadata": {},
     "output_type": "execute_result"
    }
   ],
   "source": [
    "likes = pattern.findall(response.text)\n",
    "likes"
   ]
  },
  {
   "cell_type": "markdown",
   "metadata": {},
   "source": [
    "## Machine Learning"
   ]
  },
  {
   "cell_type": "code",
   "execution_count": 160,
   "metadata": {},
   "outputs": [],
   "source": [
    "from sklearn.datasets import load_boston\n",
    "import matplotlib.pyplot as plt"
   ]
  },
  {
   "cell_type": "code",
   "execution_count": 161,
   "metadata": {},
   "outputs": [],
   "source": [
    "data = load_boston()"
   ]
  },
  {
   "cell_type": "code",
   "execution_count": 162,
   "metadata": {},
   "outputs": [],
   "source": [
    "x,y = data['data'],data['target']"
   ]
  },
  {
   "cell_type": "code",
   "execution_count": 163,
   "metadata": {},
   "outputs": [],
   "source": [
    "xRm = x[:,5]"
   ]
  },
  {
   "cell_type": "code",
   "execution_count": 165,
   "metadata": {},
   "outputs": [],
   "source": [
    "def drawRmAndPrice(x=xRm,yin=y):\n",
    "    plt.scatter(x,yin)"
   ]
  },
  {
   "cell_type": "code",
   "execution_count": 166,
   "metadata": {},
   "outputs": [
    {
     "data": {
      "image/png": "[encoded data removed]",
      "text/plain": [
       "<matplotlib.figure.Figure at 0xcb967f0>"
      ]
     },
     "metadata": {},
     "output_type": "display_data"
    }
   ],
   "source": [
    "drawRmAndPrice()"
   ]
  },
  {
   "cell_type": "code",
   "execution_count": 167,
   "metadata": {},
   "outputs": [],
   "source": [
    "def price(rm, k, b):\n",
    "    return k * rm + b"
   ]
  },
  {
   "cell_type": "code",
   "execution_count": 168,
   "metadata": {},
   "outputs": [],
   "source": [
    "import random"
   ]
  },
  {
   "cell_type": "code",
   "execution_count": 169,
   "metadata": {},
   "outputs": [
    {
     "data": {
      "text/plain": [
       "<matplotlib.collections.PathCollection at 0xce0a630>"
      ]
     },
     "execution_count": 169,
     "metadata": {},
     "output_type": "execute_result"
    },
    {
     "data": {
      "image/png": "[encoded data removed]",
      "text/plain": [
       "<matplotlib.figure.Figure at 0x363c4a8>"
      ]
     },
     "metadata": {},
     "output_type": "display_data"
    }
   ],
   "source": [
    "xRm = x[:,5]\n",
    "k = random.randint(-100,100)\n",
    "b = random.randint(-100,100)\n",
    "priceByRandom = [price(r,k,b) for r in xRm]\n",
    "drawRmAndPrice()\n",
    "plt.scatter(xRm,priceByRandom)"
   ]
  },
  {
   "cell_type": "code",
   "execution_count": 170,
   "metadata": {},
   "outputs": [],
   "source": [
    "def loss(y,yHat):\n",
    "    return sum((yi-yHati)**2 for yi,yHati in zip(list(y),list(yHat)))/len(y)"
   ]
  },
  {
   "cell_type": "code",
   "execution_count": 171,
   "metadata": {},
   "outputs": [],
   "source": [
    "xRm = x[:,5]"
   ]
  },
  {
   "cell_type": "markdown",
   "metadata": {},
   "source": [
    "### First Method Random Generation"
   ]
  },
  {
   "cell_type": "code",
   "execution_count": 172,
   "metadata": {
    "scrolled": true
   },
   "outputs": [
    {
     "name": "stdout",
     "output_type": "stream",
     "text": [
      "When time is: 0, get bestK: -51.83997555683493, bestB: -47.6969713645242, and the loss is: 158709.29650663535\n",
      "When time is: 2, get bestK: 17.84565526547577, bestB: -93.96905229531576, and the loss is: 100.17583409790394\n",
      "When time is: 253, get bestK: 0.46928534891850404, bestB: 20.48510335336198, and the loss is: 81.13183345843584\n",
      "When time is: 529, get bestK: 9.049377711457325, bestB: -40.375589789062325, and the loss is: 80.03963338511295\n",
      "When time is: 872, get bestK: 6.144249345069497, bestB: -11.45543637266367, and the loss is: 69.31207746621492\n",
      "When time is: 1011, get bestK: 7.118010063379174, bestB: -24.601701606409293, and the loss is: 51.302121996503764\n",
      "When time is: 1976, get bestK: 12.490861210795345, bestB: -57.15969960900371, and the loss is: 50.679375023286816\n"
     ]
    }
   ],
   "source": [
    "tryingTimes = 2000\n",
    "minLoss = float('inf')\n",
    "for i in range(tryingTimes):\n",
    "    currK = random.random() * 200 - 100\n",
    "    currB = random.random() * 200 - 100\n",
    "    priceByKAndB = [price(r, currK, currB) for r in xRm]\n",
    "    currLoss = loss(y,priceByKAndB)\n",
    "    if currLoss < minLoss:\n",
    "        minLoss = currLoss \n",
    "        bestK,bestB = currK, currB\n",
    "        print('When time is: {}, get bestK: {}, bestB: {}, and the loss is: {}'.format(i,currK,currB,minLoss))"
   ]
  },
  {
   "cell_type": "code",
   "execution_count": 173,
   "metadata": {
    "scrolled": true
   },
   "outputs": [
    {
     "data": {
      "text/plain": [
       "<matplotlib.collections.PathCollection at 0xce94240>"
      ]
     },
     "execution_count": 173,
     "metadata": {},
     "output_type": "execute_result"
    },
    {
     "data": {
      "image/png": "[encoded data removed]",
      "text/plain": [
       "<matplotlib.figure.Figure at 0xce369e8>"
      ]
     },
     "metadata": {},
     "output_type": "display_data"
    }
   ],
   "source": [
    "xRm = x[:,5]\n",
    "k = bestK\n",
    "b = bestB\n",
    "priceByRandom = [price(r,k,b) for r in xRm]\n",
    "drawRmAndPrice()\n",
    "plt.scatter(xRm,priceByRandom)"
   ]
  },
  {
   "cell_type": "markdown",
   "metadata": {},
   "source": [
    "### Second Method Direction Adjusting"
   ]
  },
  {
   "cell_type": "code",
   "execution_count": 174,
   "metadata": {},
   "outputs": [
    {
     "name": "stdout",
     "output_type": "stream",
     "text": [
      "When time is: 0, get bestK: -38.20828556770436, bestB: 94.70318233844466, and the loss is: 29355.17827405193\n",
      "When time is: 1, get bestK: -38.10828556770436, bestB: 94.60318233844467, and the loss is: 29173.284685952403\n",
      "When time is: 2, get bestK: -38.008285567704355, bestB: 94.50318233844467, and the loss is: 28991.959498969358\n",
      "When time is: 3, get bestK: -37.908285567704354, bestB: 94.40318233844468, and the loss is: 28811.20271310282\n",
      "When time is: 4, get bestK: -37.80828556770435, bestB: 94.30318233844469, and the loss is: 28631.014328352736\n",
      "When time is: 5, get bestK: -37.70828556770435, bestB: 94.20318233844469, and the loss is: 28451.394344719134\n",
      "When time is: 6, get bestK: -37.60828556770435, bestB: 94.1031823384447, and the loss is: 28272.342762202014\n",
      "When time is: 7, get bestK: -37.50828556770435, bestB: 94.0031823384447, and the loss is: 28093.859580801363\n",
      "When time is: 8, get bestK: -37.40828556770435, bestB: 93.90318233844471, and the loss is: 27915.944800517194\n",
      "When time is: 9, get bestK: -37.308285567704345, bestB: 93.80318233844471, and the loss is: 27738.598421349525\n",
      "When time is: 10, get bestK: -37.208285567704344, bestB: 93.70318233844472, and the loss is: 27561.820443298355\n",
      "When time is: 11, get bestK: -37.10828556770434, bestB: 93.60318233844473, and the loss is: 27385.610866363608\n",
      "When time is: 12, get bestK: -37.00828556770434, bestB: 93.50318233844473, and the loss is: 27209.969690545426\n",
      "When time is: 13, get bestK: -36.90828556770434, bestB: 93.40318233844474, and the loss is: 27034.896915843674\n",
      "When time is: 14, get bestK: -36.80828556770434, bestB: 93.30318233844474, and the loss is: 26860.39254225842\n",
      "When time is: 15, get bestK: -36.70828556770434, bestB: 93.20318233844475, and the loss is: 26686.456569789654\n",
      "When time is: 16, get bestK: -36.608285567704336, bestB: 93.10318233844475, and the loss is: 26513.08899843735\n",
      "When time is: 17, get bestK: -36.508285567704334, bestB: 93.00318233844476, and the loss is: 26340.28982820153\n",
      "When time is: 18, get bestK: -36.40828556770433, bestB: 92.90318233844476, and the loss is: 26168.059059082203\n",
      "When time is: 19, get bestK: -36.30828556770433, bestB: 92.80318233844477, and the loss is: 25996.396691079342\n",
      "When time is: 20, get bestK: -36.20828556770433, bestB: 92.70318233844478, and the loss is: 25825.302724192985\n",
      "When time is: 21, get bestK: -36.10828556770433, bestB: 92.60318233844478, and the loss is: 25654.777158423094\n",
      "When time is: 22, get bestK: -36.00828556770433, bestB: 92.50318233844479, and the loss is: 25484.819993769688\n",
      "When time is: 23, get bestK: -35.908285567704326, bestB: 92.4031823384448, and the loss is: 25315.431230232785\n",
      "When time is: 24, get bestK: -35.808285567704324, bestB: 92.3031823384448, and the loss is: 25146.61086781232\n",
      "When time is: 25, get bestK: -35.70828556770432, bestB: 92.2031823384448, and the loss is: 24978.358906508358\n",
      "When time is: 26, get bestK: -35.60828556770432, bestB: 92.10318233844481, and the loss is: 24810.67534632093\n",
      "When time is: 27, get bestK: -35.50828556770432, bestB: 92.00318233844482, and the loss is: 24643.5601872499\n",
      "When time is: 28, get bestK: -35.40828556770432, bestB: 91.90318233844482, and the loss is: 24477.0134292954\n",
      "When time is: 29, get bestK: -35.30828556770432, bestB: 91.80318233844483, and the loss is: 24311.03507245735\n",
      "When time is: 30, get bestK: -35.208285567704316, bestB: 91.70318233844483, and the loss is: 24145.62511673585\n",
      "When time is: 31, get bestK: -35.108285567704314, bestB: 91.60318233844484, and the loss is: 23980.783562130757\n",
      "When time is: 32, get bestK: -35.00828556770431, bestB: 91.50318233844484, and the loss is: 23816.510408642203\n",
      "When time is: 33, get bestK: -34.90828556770431, bestB: 91.40318233844485, and the loss is: 23652.805656270106\n",
      "When time is: 34, get bestK: -34.80828556770431, bestB: 91.30318233844486, and the loss is: 23489.669305014475\n",
      "When time is: 35, get bestK: -34.70828556770431, bestB: 91.20318233844486, and the loss is: 23327.10135487532\n",
      "When time is: 36, get bestK: -34.60828556770431, bestB: 91.10318233844487, and the loss is: 23165.10180585269\n",
      "When time is: 37, get bestK: -34.508285567704306, bestB: 91.00318233844487, and the loss is: 23003.67065794654\n",
      "When time is: 38, get bestK: -34.408285567704304, bestB: 90.90318233844488, and the loss is: 22842.8079111568\n",
      "When time is: 39, get bestK: -34.3082855677043, bestB: 90.80318233844488, and the loss is: 22682.513565483645\n",
      "When time is: 40, get bestK: -34.2082855677043, bestB: 90.70318233844489, and the loss is: 22522.78762092692\n",
      "When time is: 41, get bestK: -34.1082855677043, bestB: 90.6031823384449, and the loss is: 22363.630077486658\n",
      "When time is: 42, get bestK: -34.0082855677043, bestB: 90.5031823384449, and the loss is: 22205.0409351629\n",
      "When time is: 43, get bestK: -33.9082855677043, bestB: 90.4031823384449, and the loss is: 22047.020193955625\n",
      "When time is: 44, get bestK: -33.808285567704296, bestB: 90.30318233844491, and the loss is: 21889.567853864843\n",
      "When time is: 45, get bestK: -33.708285567704294, bestB: 90.20318233844492, and the loss is: 21732.68391489053\n",
      "When time is: 46, get bestK: -33.60828556770429, bestB: 90.10318233844492, and the loss is: 21576.36837703268\n",
      "When time is: 47, get bestK: -33.50828556770429, bestB: 90.00318233844493, and the loss is: 21420.621240291377\n",
      "When time is: 48, get bestK: -33.40828556770429, bestB: 89.90318233844494, and the loss is: 21265.442504666535\n",
      "When time is: 49, get bestK: -33.30828556770429, bestB: 89.80318233844494, and the loss is: 21110.83217015811\n",
      "When time is: 50, get bestK: -33.20828556770429, bestB: 89.70318233844495, and the loss is: 20956.790236766185\n",
      "When time is: 51, get bestK: -33.108285567704286, bestB: 89.60318233844495, and the loss is: 20803.316704490782\n",
      "When time is: 52, get bestK: -33.008285567704284, bestB: 89.50318233844496, and the loss is: 20650.41157333187\n",
      "When time is: 53, get bestK: -32.90828556770428, bestB: 89.40318233844496, and the loss is: 20498.07484328943\n",
      "When time is: 54, get bestK: -32.80828556770428, bestB: 89.30318233844497, and the loss is: 20346.30651436343\n",
      "When time is: 55, get bestK: -32.70828556770428, bestB: 89.20318233844498, and the loss is: 20195.106586553968\n",
      "When time is: 56, get bestK: -32.60828556770428, bestB: 89.10318233844498, and the loss is: 20044.475059860943\n",
      "When time is: 57, get bestK: -32.50828556770428, bestB: 89.00318233844499, and the loss is: 19894.41193428441\n",
      "When time is: 58, get bestK: -32.408285567704276, bestB: 88.90318233844499, and the loss is: 19744.91720982437\n",
      "When time is: 59, get bestK: -32.308285567704274, bestB: 88.803182338445, and the loss is: 19595.99088648082\n",
      "When time is: 60, get bestK: -32.20828556770427, bestB: 88.703182338445, and the loss is: 19447.632964253742\n",
      "When time is: 61, get bestK: -32.10828556770427, bestB: 88.60318233844501, and the loss is: 19299.843443143127\n",
      "When time is: 62, get bestK: -32.00828556770427, bestB: 88.50318233844501, and the loss is: 19152.622323149026\n",
      "When time is: 63, get bestK: -31.90828556770427, bestB: 88.40318233844502, and the loss is: 19005.96960427139\n",
      "When time is: 64, get bestK: -31.808285567704267, bestB: 88.30318233844503, and the loss is: 18859.885286510274\n",
      "When time is: 65, get bestK: -31.708285567704266, bestB: 88.20318233844503, and the loss is: 18714.369369865573\n",
      "When time is: 66, get bestK: -31.608285567704264, bestB: 88.10318233844504, and the loss is: 18569.4218543374\n",
      "When time is: 67, get bestK: -31.508285567704263, bestB: 88.00318233844504, and the loss is: 18425.042739925702\n",
      "When time is: 68, get bestK: -31.40828556770426, bestB: 87.90318233844505, and the loss is: 18281.232026630474\n",
      "When time is: 69, get bestK: -31.30828556770426, bestB: 87.80318233844505, and the loss is: 18137.989714451767\n",
      "When time is: 70, get bestK: -31.20828556770426, bestB: 87.70318233844506, and the loss is: 17995.315803389487\n",
      "When time is: 71, get bestK: -31.108285567704257, bestB: 87.60318233844507, and the loss is: 17853.21029344374\n",
      "When time is: 72, get bestK: -31.008285567704256, bestB: 87.50318233844507, and the loss is: 17711.673184614407\n",
      "When time is: 73, get bestK: -30.908285567704255, bestB: 87.40318233844508, and the loss is: 17570.70447690163\n",
      "When time is: 74, get bestK: -30.808285567704253, bestB: 87.30318233844508, and the loss is: 17430.304170305284\n",
      "When time is: 75, get bestK: -30.70828556770425, bestB: 87.20318233844509, and the loss is: 17290.472264825443\n",
      "When time is: 76, get bestK: -30.60828556770425, bestB: 87.1031823384451, and the loss is: 17151.208760462097\n",
      "When time is: 77, get bestK: -30.50828556770425, bestB: 87.0031823384451, and the loss is: 17012.5136572152\n",
      "When time is: 78, get bestK: -30.408285567704247, bestB: 86.9031823384451, and the loss is: 16874.386955084814\n",
      "When time is: 79, get bestK: -30.308285567704246, bestB: 86.80318233844511, and the loss is: 16736.828654070905\n",
      "When time is: 80, get bestK: -30.208285567704245, bestB: 86.70318233844512, and the loss is: 16599.838754173466\n",
      "When time is: 81, get bestK: -30.108285567704243, bestB: 86.60318233844512, and the loss is: 16463.417255392524\n",
      "When time is: 82, get bestK: -30.00828556770424, bestB: 86.50318233844513, and the loss is: 16327.56415772806\n",
      "When time is: 83, get bestK: -29.90828556770424, bestB: 86.40318233844513, and the loss is: 16192.279461180055\n",
      "When time is: 84, get bestK: -29.80828556770424, bestB: 86.30318233844514, and the loss is: 16057.563165748568\n",
      "When time is: 85, get bestK: -29.708285567704237, bestB: 86.20318233844515, and the loss is: 15923.41527143354\n",
      "When time is: 86, get bestK: -29.608285567704236, bestB: 86.10318233844515, and the loss is: 15789.835778235007\n",
      "When time is: 87, get bestK: -29.508285567704235, bestB: 86.00318233844516, and the loss is: 15656.824686152937\n",
      "When time is: 88, get bestK: -29.408285567704233, bestB: 85.90318233844516, and the loss is: 15524.38199518737\n",
      "When time is: 89, get bestK: -29.30828556770423, bestB: 85.80318233844517, and the loss is: 15392.50770533826\n",
      "When time is: 90, get bestK: -29.20828556770423, bestB: 85.70318233844517, and the loss is: 15261.201816605657\n",
      "When time is: 91, get bestK: -29.10828556770423, bestB: 85.60318233844518, and the loss is: 15130.464328989528\n",
      "When time is: 92, get bestK: -29.008285567704228, bestB: 85.50318233844519, and the loss is: 15000.295242489887\n",
      "When time is: 93, get bestK: -28.908285567704226, bestB: 85.40318233844519, and the loss is: 14870.694557106734\n",
      "When time is: 94, get bestK: -28.808285567704225, bestB: 85.3031823384452, and the loss is: 14741.662272840045\n",
      "When time is: 95, get bestK: -28.708285567704223, bestB: 85.2031823384452, and the loss is: 14613.198389689867\n",
      "When time is: 96, get bestK: -28.608285567704222, bestB: 85.10318233844521, and the loss is: 14485.302907656136\n",
      "When time is: 97, get bestK: -28.50828556770422, bestB: 85.00318233844521, and the loss is: 14357.975826738904\n",
      "When time is: 98, get bestK: -28.40828556770422, bestB: 84.90318233844522, and the loss is: 14231.21714693813\n",
      "When time is: 99, get bestK: -28.308285567704218, bestB: 84.80318233844523, and the loss is: 14105.02686825389\n",
      "When time is: 100, get bestK: -28.208285567704216, bestB: 84.70318233844523, and the loss is: 13979.404990686095\n",
      "When time is: 101, get bestK: -28.108285567704215, bestB: 84.60318233844524, and the loss is: 13854.35151423477\n",
      "When time is: 102, get bestK: -28.008285567704213, bestB: 84.50318233844524, and the loss is: 13729.866438899944\n",
      "When time is: 103, get bestK: -27.908285567704212, bestB: 84.40318233844525, and the loss is: 13605.94976468163\n",
      "When time is: 104, get bestK: -27.80828556770421, bestB: 84.30318233844525, and the loss is: 13482.601491579768\n",
      "When time is: 105, get bestK: -27.70828556770421, bestB: 84.20318233844526, and the loss is: 13359.821619594386\n",
      "When time is: 106, get bestK: -27.608285567704208, bestB: 84.10318233844527, and the loss is: 13237.610148725504\n",
      "When time is: 107, get bestK: -27.508285567704206, bestB: 84.00318233844527, and the loss is: 13115.967078973083\n",
      "When time is: 108, get bestK: -27.408285567704205, bestB: 83.90318233844528, and the loss is: 12994.892410337134\n",
      "When time is: 109, get bestK: -27.308285567704203, bestB: 83.80318233844528, and the loss is: 12874.386142817706\n",
      "When time is: 110, get bestK: -27.208285567704202, bestB: 83.70318233844529, and the loss is: 12754.448276414736\n",
      "When time is: 111, get bestK: -27.1082855677042, bestB: 83.6031823384453, and the loss is: 12635.07881112825\n",
      "When time is: 112, get bestK: -27.0082855677042, bestB: 83.5031823384453, and the loss is: 12516.277746958243\n",
      "When time is: 113, get bestK: -26.908285567704198, bestB: 83.4031823384453, and the loss is: 12398.04508390475\n",
      "When time is: 114, get bestK: -26.808285567704196, bestB: 83.30318233844531, and the loss is: 12280.380821967712\n",
      "When time is: 115, get bestK: -26.708285567704195, bestB: 83.20318233844532, and the loss is: 12163.284961147152\n",
      "When time is: 116, get bestK: -26.608285567704193, bestB: 83.10318233844532, and the loss is: 12046.757501443082\n",
      "When time is: 117, get bestK: -26.508285567704192, bestB: 83.00318233844533, and the loss is: 11930.798442855476\n",
      "When time is: 118, get bestK: -26.40828556770419, bestB: 82.90318233844533, and the loss is: 11815.40778538438\n",
      "When time is: 119, get bestK: -26.30828556770419, bestB: 82.80318233844534, and the loss is: 11700.58552902977\n",
      "When time is: 120, get bestK: -26.208285567704188, bestB: 82.70318233844534, and the loss is: 11586.331673791621\n",
      "When time is: 121, get bestK: -26.108285567704186, bestB: 82.60318233844535, and the loss is: 11472.646219669949\n",
      "When time is: 122, get bestK: -26.008285567704185, bestB: 82.50318233844536, and the loss is: 11359.529166664764\n",
      "When time is: 123, get bestK: -25.908285567704183, bestB: 82.40318233844536, and the loss is: 11246.980514776098\n",
      "When time is: 124, get bestK: -25.808285567704182, bestB: 82.30318233844537, and the loss is: 11135.000264003871\n",
      "When time is: 125, get bestK: -25.70828556770418, bestB: 82.20318233844537, and the loss is: 11023.588414348142\n",
      "When time is: 126, get bestK: -25.60828556770418, bestB: 82.10318233844538, and the loss is: 10912.744965808894\n",
      "When time is: 127, get bestK: -25.508285567704178, bestB: 82.00318233844538, and the loss is: 10802.469918386123\n",
      "When time is: 128, get bestK: -25.408285567704176, bestB: 81.90318233844539, and the loss is: 10692.76327207984\n",
      "When time is: 129, get bestK: -25.308285567704175, bestB: 81.8031823384454, and the loss is: 10583.625026890031\n",
      "When time is: 130, get bestK: -25.208285567704174, bestB: 81.7031823384454, and the loss is: 10475.055182816715\n",
      "When time is: 131, get bestK: -25.108285567704172, bestB: 81.60318233844541, and the loss is: 10367.053739859883\n",
      "When time is: 132, get bestK: -25.00828556770417, bestB: 81.50318233844541, and the loss is: 10259.620698019518\n",
      "When time is: 133, get bestK: -24.90828556770417, bestB: 81.40318233844542, and the loss is: 10152.756057295646\n",
      "When time is: 134, get bestK: -24.808285567704168, bestB: 81.30318233844542, and the loss is: 10046.45981768825\n",
      "When time is: 135, get bestK: -24.708285567704166, bestB: 81.20318233844543, and the loss is: 9940.73197919735\n",
      "When time is: 136, get bestK: -24.608285567704165, bestB: 81.10318233844544, and the loss is: 9835.572541822916\n",
      "When time is: 137, get bestK: -24.508285567704164, bestB: 81.00318233844544, and the loss is: 9730.981505564963\n",
      "When time is: 138, get bestK: -24.408285567704162, bestB: 80.90318233844545, and the loss is: 9626.958870423514\n",
      "When time is: 139, get bestK: -24.30828556770416, bestB: 80.80318233844545, and the loss is: 9523.50463639853\n",
      "When time is: 140, get bestK: -24.20828556770416, bestB: 80.70318233844546, and the loss is: 9420.618803490044\n",
      "When time is: 141, get bestK: -24.108285567704158, bestB: 80.60318233844546, and the loss is: 9318.301371698013\n",
      "When time is: 142, get bestK: -24.008285567704156, bestB: 80.50318233844547, and the loss is: 9216.552341022481\n",
      "When time is: 143, get bestK: -23.908285567704155, bestB: 80.40318233844548, and the loss is: 9115.371711463433\n",
      "When time is: 144, get bestK: -23.808285567704154, bestB: 80.30318233844548, and the loss is: 9014.759483020867\n",
      "When time is: 145, get bestK: -23.708285567704152, bestB: 80.20318233844549, and the loss is: 8914.715655694774\n",
      "When time is: 146, get bestK: -23.60828556770415, bestB: 80.10318233844549, and the loss is: 8815.24022948517\n",
      "When time is: 147, get bestK: -23.50828556770415, bestB: 80.0031823384455, and the loss is: 8716.333204392055\n",
      "When time is: 148, get bestK: -23.408285567704148, bestB: 79.9031823384455, and the loss is: 8617.994580415407\n",
      "When time is: 149, get bestK: -23.308285567704147, bestB: 79.80318233844551, and the loss is: 8520.224357555253\n",
      "When time is: 150, get bestK: -23.208285567704145, bestB: 79.70318233844552, and the loss is: 8423.022535811586\n",
      "When time is: 151, get bestK: -23.108285567704144, bestB: 79.60318233844552, and the loss is: 8326.389115184385\n",
      "When time is: 152, get bestK: -23.008285567704142, bestB: 79.50318233844553, and the loss is: 8230.324095673683\n",
      "When time is: 153, get bestK: -22.90828556770414, bestB: 79.40318233844553, and the loss is: 8134.827477279457\n",
      "When time is: 154, get bestK: -22.80828556770414, bestB: 79.30318233844554, and the loss is: 8039.89926000169\n",
      "When time is: 155, get bestK: -22.708285567704138, bestB: 79.20318233844554, and the loss is: 7945.539443840447\n",
      "When time is: 156, get bestK: -22.608285567704137, bestB: 79.10318233844555, and the loss is: 7851.74802879566\n",
      "When time is: 157, get bestK: -22.508285567704135, bestB: 79.00318233844555, and the loss is: 7758.525014867356\n",
      "When time is: 158, get bestK: -22.408285567704134, bestB: 78.90318233844556, and the loss is: 7665.870402055535\n",
      "When time is: 159, get bestK: -22.308285567704132, bestB: 78.80318233844557, and the loss is: 7573.7841903602\n",
      "When time is: 160, get bestK: -22.20828556770413, bestB: 78.70318233844557, and the loss is: 7482.266379781348\n",
      "When time is: 161, get bestK: -22.10828556770413, bestB: 78.60318233844558, and the loss is: 7391.31697031898\n",
      "When time is: 162, get bestK: -22.008285567704128, bestB: 78.50318233844558, and the loss is: 7300.935961973096\n",
      "When time is: 163, get bestK: -21.908285567704127, bestB: 78.40318233844559, and the loss is: 7211.123354743689\n",
      "When time is: 164, get bestK: -21.808285567704125, bestB: 78.3031823384456, and the loss is: 7121.879148630763\n",
      "When time is: 165, get bestK: -21.708285567704124, bestB: 78.2031823384456, and the loss is: 7033.2033436343245\n",
      "When time is: 166, get bestK: -21.608285567704122, bestB: 78.1031823384456, and the loss is: 6945.095939754365\n",
      "When time is: 167, get bestK: -21.50828556770412, bestB: 78.00318233844561, and the loss is: 6857.556936990885\n",
      "When time is: 168, get bestK: -21.40828556770412, bestB: 77.90318233844562, and the loss is: 6770.58633534389\n",
      "When time is: 169, get bestK: -21.308285567704118, bestB: 77.80318233844562, and the loss is: 6684.184134813382\n",
      "When time is: 170, get bestK: -21.208285567704117, bestB: 77.70318233844563, and the loss is: 6598.3503353993565\n",
      "When time is: 171, get bestK: -21.108285567704115, bestB: 77.60318233844563, and the loss is: 6513.084937101803\n",
      "When time is: 172, get bestK: -21.008285567704114, bestB: 77.50318233844564, and the loss is: 6428.3879399207335\n",
      "When time is: 173, get bestK: -20.908285567704112, bestB: 77.40318233844565, and the loss is: 6344.25934385615\n",
      "When time is: 174, get bestK: -20.80828556770411, bestB: 77.30318233844565, and the loss is: 6260.699148908052\n",
      "When time is: 175, get bestK: -20.70828556770411, bestB: 77.20318233844566, and the loss is: 6177.707355076425\n",
      "When time is: 176, get bestK: -20.608285567704108, bestB: 77.10318233844566, and the loss is: 6095.283962361297\n",
      "When time is: 177, get bestK: -20.508285567704107, bestB: 77.00318233844567, and the loss is: 6013.428970762637\n",
      "When time is: 178, get bestK: -20.408285567704105, bestB: 76.90318233844567, and the loss is: 5932.142380280472\n",
      "When time is: 179, get bestK: -20.308285567704104, bestB: 76.80318233844568, and the loss is: 5851.4241909147795\n",
      "When time is: 180, get bestK: -20.208285567704102, bestB: 76.70318233844569, and the loss is: 5771.274402665572\n",
      "When time is: 181, get bestK: -20.1082855677041, bestB: 76.60318233844569, and the loss is: 5691.693015532839\n",
      "When time is: 182, get bestK: -20.0082855677041, bestB: 76.5031823384457, and the loss is: 5612.6800295166\n",
      "When time is: 183, get bestK: -19.908285567704098, bestB: 76.4031823384457, and the loss is: 5534.235444616834\n",
      "When time is: 184, get bestK: -19.808285567704097, bestB: 76.30318233844571, and the loss is: 5456.359260833562\n",
      "When time is: 185, get bestK: -19.708285567704095, bestB: 76.20318233844571, and the loss is: 5379.05147816677\n",
      "When time is: 186, get bestK: -19.608285567704094, bestB: 76.10318233844572, and the loss is: 5302.312096616449\n",
      "When time is: 187, get bestK: -19.508285567704093, bestB: 76.00318233844573, and the loss is: 5226.14111618262\n",
      "When time is: 188, get bestK: -19.40828556770409, bestB: 75.90318233844573, and the loss is: 5150.538536865267\n",
      "When time is: 189, get bestK: -19.30828556770409, bestB: 75.80318233844574, and the loss is: 5075.504358664404\n",
      "When time is: 190, get bestK: -19.20828556770409, bestB: 75.70318233844574, and the loss is: 5001.038581580011\n",
      "When time is: 191, get bestK: -19.108285567704087, bestB: 75.60318233844575, and the loss is: 4927.141205612108\n",
      "When time is: 192, get bestK: -19.008285567704085, bestB: 75.50318233844575, and the loss is: 4853.812230760686\n",
      "When time is: 193, get bestK: -18.908285567704084, bestB: 75.40318233844576, and the loss is: 4781.051657025749\n",
      "When time is: 194, get bestK: -18.808285567704083, bestB: 75.30318233844577, and the loss is: 4708.859484407292\n",
      "When time is: 195, get bestK: -18.70828556770408, bestB: 75.20318233844577, and the loss is: 4637.23571290532\n",
      "When time is: 196, get bestK: -18.60828556770408, bestB: 75.10318233844578, and the loss is: 4566.18034251983\n",
      "When time is: 197, get bestK: -18.50828556770408, bestB: 75.00318233844578, and the loss is: 4495.693373250821\n",
      "When time is: 198, get bestK: -18.408285567704077, bestB: 74.90318233844579, and the loss is: 4425.77480509829\n",
      "When time is: 199, get bestK: -18.308285567704075, bestB: 74.8031823384458, and the loss is: 4356.424638062246\n",
      "When time is: 200, get bestK: -18.208285567704074, bestB: 74.7031823384458, and the loss is: 4287.642872142682\n",
      "When time is: 201, get bestK: -18.108285567704073, bestB: 74.6031823384458, and the loss is: 4219.4295073396015\n",
      "When time is: 202, get bestK: -18.00828556770407, bestB: 74.50318233844581, and the loss is: 4151.784543653006\n",
      "When time is: 203, get bestK: -17.90828556770407, bestB: 74.40318233844582, and the loss is: 4084.707981082888\n",
      "When time is: 204, get bestK: -17.80828556770407, bestB: 74.30318233844582, and the loss is: 4018.199819629256\n",
      "When time is: 205, get bestK: -17.708285567704067, bestB: 74.20318233844583, and the loss is: 3952.2600592921035\n",
      "When time is: 206, get bestK: -17.608285567704065, bestB: 74.10318233844583, and the loss is: 3886.8887000714317\n",
      "When time is: 207, get bestK: -17.508285567704064, bestB: 74.00318233844584, and the loss is: 3822.0857419672443\n",
      "When time is: 208, get bestK: -17.408285567704063, bestB: 73.90318233844584, and the loss is: 3757.8511849795414\n",
      "When time is: 209, get bestK: -17.30828556770406, bestB: 73.80318233844585, and the loss is: 3694.185029108317\n",
      "When time is: 210, get bestK: -17.20828556770406, bestB: 73.70318233844586, and the loss is: 3631.0872743535765\n",
      "When time is: 211, get bestK: -17.10828556770406, bestB: 73.60318233844586, and the loss is: 3568.5579207153173\n",
      "When time is: 212, get bestK: -17.008285567704057, bestB: 73.50318233844587, and the loss is: 3506.5969681935394\n",
      "When time is: 213, get bestK: -16.908285567704056, bestB: 73.40318233844587, and the loss is: 3445.204416788248\n",
      "When time is: 214, get bestK: -16.808285567704054, bestB: 73.30318233844588, and the loss is: 3384.380266499436\n",
      "When time is: 215, get bestK: -16.708285567704053, bestB: 73.20318233844588, and the loss is: 3324.124517327106\n",
      "When time is: 216, get bestK: -16.60828556770405, bestB: 73.10318233844589, and the loss is: 3264.4371692712602\n",
      "When time is: 217, get bestK: -16.50828556770405, bestB: 73.0031823384459, and the loss is: 3205.3182223318945\n",
      "When time is: 218, get bestK: -16.40828556770405, bestB: 72.9031823384459, and the loss is: 3146.7676765090123\n",
      "When time is: 219, get bestK: -16.308285567704047, bestB: 72.80318233844591, and the loss is: 3088.785531802613\n",
      "When time is: 220, get bestK: -16.208285567704046, bestB: 72.70318233844591, and the loss is: 3031.371788212696\n",
      "When time is: 221, get bestK: -16.108285567704044, bestB: 72.60318233844592, and the loss is: 2974.5264457392577\n",
      "When time is: 222, get bestK: -16.008285567704043, bestB: 72.50318233844592, and the loss is: 2918.2495043823064\n",
      "When time is: 223, get bestK: -15.908285567704043, bestB: 72.40318233844593, and the loss is: 2862.540964141833\n",
      "When time is: 224, get bestK: -15.808285567704043, bestB: 72.30318233844594, and the loss is: 2807.400825017844\n",
      "When time is: 225, get bestK: -15.708285567704044, bestB: 72.20318233844594, and the loss is: 2752.8290870103415\n",
      "When time is: 226, get bestK: -15.608285567704044, bestB: 72.10318233844595, and the loss is: 2698.8257501193143\n",
      "When time is: 227, get bestK: -15.508285567704045, bestB: 72.00318233844595, and the loss is: 2645.390814344778\n",
      "When time is: 228, get bestK: -15.408285567704045, bestB: 71.90318233844596, and the loss is: 2592.52427968672\n",
      "When time is: 229, get bestK: -15.308285567704045, bestB: 71.80318233844596, and the loss is: 2540.2261461451412\n",
      "When time is: 230, get bestK: -15.208285567704046, bestB: 71.70318233844597, and the loss is: 2488.496413720046\n",
      "When time is: 231, get bestK: -15.108285567704046, bestB: 71.60318233844598, and the loss is: 2437.3350824114336\n",
      "When time is: 232, get bestK: -15.008285567704046, bestB: 71.50318233844598, and the loss is: 2386.742152219305\n",
      "When time is: 233, get bestK: -14.908285567704047, bestB: 71.40318233844599, and the loss is: 2336.7176231436542\n",
      "When time is: 234, get bestK: -14.808285567704047, bestB: 71.30318233844599, and the loss is: 2287.261495184488\n",
      "When time is: 235, get bestK: -14.708285567704047, bestB: 71.203182338446, and the loss is: 2238.373768341806\n",
      "When time is: 236, get bestK: -14.608285567704048, bestB: 71.103182338446, and the loss is: 2190.0544426156043\n",
      "When time is: 237, get bestK: -14.508285567704048, bestB: 71.00318233844601, and the loss is: 2142.3035180058882\n",
      "When time is: 238, get bestK: -14.408285567704048, bestB: 70.90318233844602, and the loss is: 2095.1209945126493\n",
      "When time is: 239, get bestK: -14.308285567704049, bestB: 70.80318233844602, and the loss is: 2048.5068721358966\n",
      "When time is: 240, get bestK: -14.20828556770405, bestB: 70.70318233844603, and the loss is: 2002.4611508756204\n",
      "When time is: 241, get bestK: -14.10828556770405, bestB: 70.60318233844603, and the loss is: 1956.9838307318316\n",
      "When time is: 242, get bestK: -14.00828556770405, bestB: 70.50318233844604, and the loss is: 1912.074911704525\n",
      "When time is: 243, get bestK: -13.90828556770405, bestB: 70.40318233844604, and the loss is: 1867.7343937936969\n",
      "When time is: 244, get bestK: -13.80828556770405, bestB: 70.30318233844605, and the loss is: 1823.9622769993534\n",
      "When time is: 245, get bestK: -13.708285567704051, bestB: 70.20318233844606, and the loss is: 1780.7585613214926\n",
      "When time is: 246, get bestK: -13.608285567704051, bestB: 70.10318233844606, and the loss is: 1738.123246760114\n",
      "When time is: 247, get bestK: -13.508285567704052, bestB: 70.00318233844607, and the loss is: 1696.0563333152172\n",
      "When time is: 248, get bestK: -13.408285567704052, bestB: 69.90318233844607, and the loss is: 1654.5578209868013\n",
      "When time is: 249, get bestK: -13.308285567704052, bestB: 69.80318233844608, and the loss is: 1613.6277097748696\n",
      "When time is: 250, get bestK: -13.208285567704053, bestB: 69.70318233844608, and the loss is: 1573.2659996794184\n",
      "When time is: 251, get bestK: -13.108285567704053, bestB: 69.60318233844609, and the loss is: 1533.472690700451\n",
      "When time is: 252, get bestK: -13.008285567704053, bestB: 69.5031823384461, and the loss is: 1494.2477828379645\n",
      "When time is: 253, get bestK: -12.908285567704054, bestB: 69.4031823384461, and the loss is: 1455.5912760919641\n",
      "When time is: 254, get bestK: -12.808285567704054, bestB: 69.3031823384461, and the loss is: 1417.5031704624412\n",
      "When time is: 255, get bestK: -12.708285567704054, bestB: 69.20318233844611, and the loss is: 1379.983465949403\n",
      "When time is: 256, get bestK: -12.608285567704055, bestB: 69.10318233844612, and the loss is: 1343.0321625528454\n",
      "When time is: 257, get bestK: -12.508285567704055, bestB: 69.00318233844612, and the loss is: 1306.6492602727708\n",
      "When time is: 258, get bestK: -12.408285567704056, bestB: 68.90318233844613, and the loss is: 1270.8347591091774\n",
      "When time is: 259, get bestK: -12.308285567704056, bestB: 68.80318233844613, and the loss is: 1235.5886590620669\n",
      "When time is: 260, get bestK: -12.208285567704056, bestB: 68.70318233844614, and the loss is: 1200.9109601314406\n",
      "When time is: 261, get bestK: -12.108285567704057, bestB: 68.60318233844615, and the loss is: 1166.8016623172934\n",
      "When time is: 262, get bestK: -12.008285567704057, bestB: 68.50318233844615, and the loss is: 1133.2607656196283\n",
      "When time is: 263, get bestK: -11.908285567704057, bestB: 68.40318233844616, and the loss is: 1100.2882700384478\n",
      "When time is: 264, get bestK: -11.808285567704058, bestB: 68.30318233844616, and the loss is: 1067.8841755737492\n",
      "When time is: 265, get bestK: -11.708285567704058, bestB: 68.20318233844617, and the loss is: 1036.048482225533\n",
      "When time is: 266, get bestK: -11.608285567704058, bestB: 68.10318233844617, and the loss is: 1004.7811899937972\n",
      "When time is: 267, get bestK: -11.508285567704059, bestB: 68.00318233844618, and the loss is: 974.0822988785449\n",
      "When time is: 268, get bestK: -11.408285567704059, bestB: 67.90318233844619, and the loss is: 943.9518088797752\n",
      "When time is: 269, get bestK: -11.30828556770406, bestB: 67.80318233844619, and the loss is: 914.3897199974875\n",
      "When time is: 270, get bestK: -11.20828556770406, bestB: 67.7031823384462, and the loss is: 885.3960322316823\n",
      "When time is: 271, get bestK: -11.10828556770406, bestB: 67.6031823384462, and the loss is: 856.9707455823578\n",
      "When time is: 272, get bestK: -11.00828556770406, bestB: 67.50318233844621, and the loss is: 829.1138600495169\n",
      "When time is: 273, get bestK: -10.90828556770406, bestB: 67.40318233844621, and the loss is: 801.8253756331567\n",
      "When time is: 274, get bestK: -10.808285567704061, bestB: 67.30318233844622, and the loss is: 775.1052923332811\n",
      "When time is: 275, get bestK: -10.708285567704062, bestB: 67.20318233844623, and the loss is: 748.953610149886\n",
      "When time is: 276, get bestK: -10.608285567704062, bestB: 67.10318233844623, and the loss is: 723.3703290829736\n",
      "When time is: 277, get bestK: -10.508285567704062, bestB: 67.00318233844624, and the loss is: 698.3554491325422\n",
      "When time is: 278, get bestK: -10.408285567704063, bestB: 66.90318233844624, and the loss is: 673.9089702985942\n",
      "When time is: 279, get bestK: -10.308285567704063, bestB: 66.80318233844625, and the loss is: 650.030892581129\n",
      "When time is: 280, get bestK: -10.208285567704063, bestB: 66.70318233844625, and the loss is: 626.7212159801462\n",
      "When time is: 281, get bestK: -10.108285567704064, bestB: 66.60318233844626, and the loss is: 603.9799404956448\n",
      "When time is: 282, get bestK: -10.008285567704064, bestB: 66.50318233844627, and the loss is: 581.8070661276246\n",
      "When time is: 283, get bestK: -9.908285567704064, bestB: 66.40318233844627, and the loss is: 560.2025928760884\n",
      "When time is: 284, get bestK: -9.808285567704065, bestB: 66.30318233844628, and the loss is: 539.1665207410334\n",
      "When time is: 285, get bestK: -9.708285567704065, bestB: 66.20318233844628, and the loss is: 518.6988497224606\n",
      "When time is: 286, get bestK: -9.608285567704065, bestB: 66.10318233844629, and the loss is: 498.7995798203703\n",
      "When time is: 287, get bestK: -9.508285567704066, bestB: 66.0031823384463, and the loss is: 479.4687110347624\n",
      "When time is: 288, get bestK: -9.408285567704066, bestB: 65.9031823384463, and the loss is: 460.7062433656366\n",
      "When time is: 289, get bestK: -9.308285567704067, bestB: 65.8031823384463, and the loss is: 442.51217681299323\n",
      "When time is: 290, get bestK: -9.208285567704067, bestB: 65.70318233844631, and the loss is: 424.8865113768313\n",
      "When time is: 291, get bestK: -9.108285567704067, bestB: 65.60318233844632, and the loss is: 407.8292470571529\n",
      "When time is: 292, get bestK: -9.008285567704068, bestB: 65.50318233844632, and the loss is: 391.3403838539551\n",
      "When time is: 293, get bestK: -8.908285567704068, bestB: 65.40318233844633, and the loss is: 375.4199217672409\n",
      "When time is: 294, get bestK: -8.808285567704068, bestB: 65.30318233844633, and the loss is: 360.0678607970084\n",
      "When time is: 295, get bestK: -8.708285567704069, bestB: 65.20318233844634, and the loss is: 345.28420094325844\n",
      "When time is: 296, get bestK: -8.608285567704069, bestB: 65.10318233844635, and the loss is: 331.06894220598974\n",
      "When time is: 297, get bestK: -8.50828556770407, bestB: 65.00318233844635, and the loss is: 317.4220845852038\n",
      "When time is: 298, get bestK: -8.40828556770407, bestB: 64.90318233844636, and the loss is: 304.3436280809004\n",
      "When time is: 299, get bestK: -8.30828556770407, bestB: 64.80318233844636, and the loss is: 291.8335726930792\n",
      "When time is: 300, get bestK: -8.20828556770407, bestB: 64.70318233844637, and the loss is: 279.8919184217393\n",
      "When time is: 301, get bestK: -8.10828556770407, bestB: 64.60318233844637, and the loss is: 268.5186652668829\n",
      "When time is: 302, get bestK: -8.008285567704071, bestB: 64.50318233844638, and the loss is: 257.7138132285082\n",
      "When time is: 303, get bestK: -7.9082855677040715, bestB: 64.40318233844638, and the loss is: 247.4773623066155\n",
      "When time is: 304, get bestK: -7.808285567704072, bestB: 64.30318233844639, and the loss is: 237.80931250120548\n",
      "When time is: 305, get bestK: -7.708285567704072, bestB: 64.2031823384464, and the loss is: 228.70966381227709\n",
      "When time is: 306, get bestK: -7.608285567704073, bestB: 64.1031823384464, and the loss is: 220.178416239831\n",
      "When time is: 307, get bestK: -7.508285567704073, bestB: 64.00318233844641, and the loss is: 212.21556978386766\n",
      "When time is: 308, get bestK: -7.408285567704073, bestB: 63.903182338446406, and the loss is: 204.82112444438616\n",
      "When time is: 309, get bestK: -7.308285567704074, bestB: 63.803182338446405, and the loss is: 197.99508022138704\n",
      "When time is: 310, get bestK: -7.208285567704074, bestB: 63.7031823384464, and the loss is: 191.73743711486995\n",
      "When time is: 311, get bestK: -7.108285567704074, bestB: 63.6031823384464, and the loss is: 186.04819512483553\n",
      "When time is: 312, get bestK: -7.008285567704075, bestB: 63.5031823384464, and the loss is: 180.927354251283\n",
      "When time is: 313, get bestK: -6.908285567704075, bestB: 63.4031823384464, and the loss is: 176.37491449421265\n",
      "When time is: 314, get bestK: -6.8082855677040754, bestB: 63.3031823384464, and the loss is: 172.39087585362432\n",
      "When time is: 315, get bestK: -6.708285567704076, bestB: 63.203182338446396, and the loss is: 168.97523832951845\n",
      "When time is: 316, get bestK: -6.608285567704076, bestB: 63.103182338446395, and the loss is: 166.12800192189476\n",
      "When time is: 317, get bestK: -6.5082855677040765, bestB: 63.00318233844639, and the loss is: 163.84916663075336\n",
      "When time is: 318, get bestK: -6.408285567704077, bestB: 62.90318233844639, and the loss is: 162.13873245609403\n",
      "When time is: 319, get bestK: -6.308285567704077, bestB: 62.80318233844639, and the loss is: 160.9966993979169\n",
      "When time is: 320, get bestK: -6.208285567704078, bestB: 62.70318233844639, and the loss is: 160.423067456222\n",
      "When time is: 321, get bestK: -6.108285567704078, bestB: 62.60318233844639, and the loss is: 160.41783663100938\n",
      "When time is: 326, get bestK: -6.208285567704078, bestB: 62.503182338446386, and the loss is: 160.00163903660476\n",
      "When time is: 330, get bestK: -6.108285567704078, bestB: 62.403182338446385, and the loss is: 159.785022835898\n",
      "When time is: 340, get bestK: -6.208285567704078, bestB: 62.30318233844638, and the loss is: 159.6602106169877\n"
     ]
    },
    {
     "name": "stdout",
     "output_type": "stream",
     "text": [
      "When time is: 342, get bestK: -6.108285567704078, bestB: 62.20318233844638, and the loss is: 159.232209040787\n"
     ]
    }
   ],
   "source": [
    "tryingTimes = 2000\n",
    "minLoss = float('inf')\n",
    "bestK = random.random() * 200 - 100\n",
    "bestB = random.random() * 200 - 100\n",
    "direction = [(1,1),(1,-1),(-1,1),(-1,-1)]\n",
    "nextDirection = random.choice(direction)\n",
    "scalar = 0.1\n",
    "for i in range(tryingTimes):\n",
    "    kDirec,bDirec = nextDirection\n",
    "    currK,currB = bestK + kDirec*scalar, bestB + bDirec * scalar\n",
    "    priceByKAndB = [price(r, currK, currB) for r in xRm]\n",
    "    currLoss = loss(y,priceByKAndB)\n",
    "    if currLoss < minLoss:\n",
    "        minLoss = currLoss\n",
    "        bestK,bestB = currK,currB\n",
    "        nextDirection = nextDirection\n",
    "        print('When time is: {}, get bestK: {}, bestB: {}, and the loss is: {}'.format(i,bestK,bestB,minLoss))\n",
    "    else:\n",
    "        nextDirection = random.choice(direction)\n"
   ]
  },
  {
   "cell_type": "code",
   "execution_count": 175,
   "metadata": {},
   "outputs": [
    {
     "data": {
      "text/plain": [
       "<matplotlib.collections.PathCollection at 0xcefb3c8>"
      ]
     },
     "execution_count": 175,
     "metadata": {},
     "output_type": "execute_result"
    },
    {
     "data": {
      "image/png": "[encoded data removed]",
      "text/plain": [
       "<matplotlib.figure.Figure at 0xcbf1d30>"
      ]
     },
     "metadata": {},
     "output_type": "display_data"
    }
   ],
   "source": [
    "xRm = x[:,5]\n",
    "k = bestK\n",
    "b = bestB\n",
    "priceByRandom = [price(r,k,b) for r in xRm]\n",
    "drawRmAndPrice()\n",
    "plt.scatter(xRm,priceByRandom)"
   ]
  },
  {
   "cell_type": "code",
   "execution_count": 176,
   "metadata": {
    "scrolled": true
   },
   "outputs": [
    {
     "data": {
      "text/plain": [
       "array(['CRIM', 'ZN', 'INDUS', 'CHAS', 'NOX', 'RM', 'AGE', 'DIS', 'RAD',\n",
       "       'TAX', 'PTRATIO', 'B', 'LSTAT'], dtype='<U7')"
      ]
     },
     "execution_count": 176,
     "metadata": {},
     "output_type": "execute_result"
    }
   ],
   "source": [
    "data['feature_names']"
   ]
  },
  {
   "cell_type": "raw",
   "metadata": {
    "scrolled": true
   },
   "source": [
    "data['DESCR']"
   ]
  },
  {
   "cell_type": "markdown",
   "metadata": {},
   "source": [
    "## Supervised Learn"
   ]
  },
  {
   "cell_type": "raw",
   "metadata": {
    "scrolled": true
   },
   "source": [
    "!pip install icecream"
   ]
  },
  {
   "cell_type": "code",
   "execution_count": 177,
   "metadata": {
    "scrolled": false
   },
   "outputs": [],
   "source": [
    "from icecream import ic"
   ]
  },
  {
   "cell_type": "markdown",
   "metadata": {},
   "source": [
    "## 导数"
   ]
  },
  {
   "cell_type": "code",
   "execution_count": 178,
   "metadata": {},
   "outputs": [],
   "source": [
    "def partial_b_w(x, y, y_hat):\n",
    "    n = len(y)\n",
    "    dw = 0\n",
    "    db = 0\n",
    "    diff = 0\n",
    "    for xi, yi, yhat in zip(list(x), list(y), list(y_hat)):\n",
    "        diff = yi - yhat\n",
    "        db += diff\n",
    "        dw += diff * xi\n",
    "    db = -2 / n * db\n",
    "    dw = -2 / n * dw\n",
    "    return db, dw\n",
    "    "
   ]
  },
  {
   "cell_type": "code",
   "execution_count": 179,
   "metadata": {},
   "outputs": [],
   "source": [
    "def price(x, w, b):\n",
    "    return w * x + b"
   ]
  },
  {
   "cell_type": "code",
   "execution_count": 180,
   "metadata": {
    "scrolled": true
   },
   "outputs": [],
   "source": [
    "xRm, y = data['data'][:,5], data['target']\n",
    "#plt.scatter(xRm,y)"
   ]
  },
  {
   "cell_type": "markdown",
   "metadata": {},
   "source": [
    "#### loss计算公式：$$loss = \\frac{1}{n}\\sum_{i=0}^{n}{(y_i - \\hat y_i)^2}$$"
   ]
  },
  {
   "cell_type": "markdown",
   "metadata": {},
   "source": [
    "#### $$loss = \\frac{1}{n}\\sum_{i=0}^{n}(y_i-(wx_i+b))^2 $$"
   ]
  },
  {
   "cell_type": "markdown",
   "metadata": {},
   "source": [
    "#### $$\\frac{\\partial loss}{\\partial w} = - \\frac{2}{n}sum_{i=0}^{n}(y_i - (kx_i + b_i))x_i$$"
   ]
  },
  {
   "cell_type": "markdown",
   "metadata": {},
   "source": [
    "#### $$\\frac{\\partial loss}{\\partial b} = - \\frac{2}{n}sum_{i=0}^{n}(y_i - (kx_i + b_i))$$"
   ]
  },
  {
   "cell_type": "code",
   "execution_count": 181,
   "metadata": {
    "scrolled": true
   },
   "outputs": [
    {
     "name": "stdout",
     "output_type": "stream",
     "text": [
      "When time is : 0, get best_k: 0.13620392529550518 best_b: -0.16080835169585606, and the loss is: 560.088835228187\n",
      "When time is : 50, get best_k: 1.3024357565791826 best_b: 0.018210661581419665, and the loss is: 278.9013987080055\n",
      "When time is : 100, get best_k: 2.0754989668917214 best_b: 0.13542209361443877, and the loss is: 155.41694757884883\n",
      "When time is : 150, get best_k: 2.588016730913804 best_b: 0.21167497975858665, and the loss is: 101.18717282306369\n",
      "When time is : 200, get best_k: 2.9278759216857404 best_b: 0.26078558195233525, and the loss is: 77.37033052424786\n",
      "When time is : 250, get best_k: 3.153317510075141 best_b: 0.29190967601716594, and the loss is: 66.90921419389602\n",
      "When time is : 300, get best_k: 3.3029366874951993 best_b: 0.3111146216463774, and the loss is: 62.313215433469786\n",
      "When time is : 350, get best_k: 3.4023097583600452 best_b: 0.32242114349533746, and the loss is: 60.292861595781126\n",
      "When time is : 400, get best_k: 3.4683856565542843 best_b: 0.32849369983411286, and the loss is: 59.40359307747316\n",
      "When time is : 450, get best_k: 3.512396120455812 best_b: 0.33109797681472797, and the loss is: 59.011036934404764\n",
      "When time is : 500, get best_k: 3.541784210959588 best_b: 0.33140406128148947, and the loss is: 58.83661066197157\n",
      "When time is : 550, get best_k: 3.561482303948526 best_b: 0.330187347666429, and the loss is: 58.75797579566243\n",
      "When time is : 600, get best_k: 3.5747589917667972 best_b: 0.32796167519443375, and the loss is: 58.72140785648133\n",
      "When time is : 650, get best_k: 3.583780308830944 best_b: 0.32506755539455207, and the loss is: 58.703313940405614\n",
      "When time is : 700, get best_k: 3.589981645242636 best_b: 0.321730638805403, and the loss is: 58.69333331180473\n",
      "When time is : 750, get best_k: 3.5943142069155902 best_b: 0.3181004597566042, and the loss is: 58.68691609228052\n",
      "When time is : 800, get best_k: 3.5974083400468366 best_b: 0.31427611180365994, and the loss is: 58.68206421964322\n",
      "When time is : 850, get best_k: 3.5996817631591704 best_b: 0.31032326235373586, and the loss is: 58.67790025224172\n",
      "When time is : 900, get best_k: 3.6014112904315105 best_b: 0.30628542793680746, and the loss is: 58.674038864740844\n",
      "When time is : 950, get best_k: 3.6027803613953298 best_b: 0.30219144611489834, and the loss is: 58.670310842844124\n",
      "When time is : 1000, get best_k: 3.603910537966774 best_b: 0.2980604269752107, and the loss is: 58.66664187660903\n",
      "When time is : 1050, get best_k: 3.604882376934984 best_b: 0.29390503439110494, and the loss is: 58.66299933298468\n",
      "When time is : 1100, get best_k: 3.6057492617658866 best_b: 0.2897336604517806, and the loss is: 58.659368881171474\n",
      "When time is : 1150, get best_k: 3.606546568677337 best_b: 0.28555186641575564, and the loss is: 58.655744227735134\n",
      "When time is : 1200, get best_k: 3.6072977408239804 best_b: 0.281363337603523, and the loss is: 58.652122608820015\n",
      "When time is : 1250, get best_k: 3.6080183135448585 best_b: 0.2771705161868797, and the loss is: 58.64850281057187\n",
      "When time is : 1300, get best_k: 3.608718581818964 best_b: 0.272975020526463, and the loss is: 58.64488429981385\n",
      "When time is : 1350, get best_k: 3.6094053679376548 best_b: 0.2687779230588166, and the loss is: 58.64126684228595\n",
      "When time is : 1400, get best_k: 3.610083192907782 best_b: 0.2645799344469007, and the loss is: 58.63765033499651\n",
      "When time is : 1450, get best_k: 3.6107550527184222 best_b: 0.2603815256131565, and the loss is: 58.63403473259978\n",
      "When time is : 1500, get best_k: 3.611422932758165 best_b: 0.2561830086085138, and the loss is: 58.63042001506524\n",
      "When time is : 1550, get best_k: 3.6120881487097574 best_b: 0.2519845902027551, and the loss is: 58.6268061734792\n",
      "When time is : 1600, get best_k: 3.6127515724545187 best_b: 0.24778640739783706, and the loss is: 58.6231932038103\n",
      "When time is : 1650, get best_k: 3.613413781774953 best_b: 0.24358855096189846, and the loss is: 58.61958110417075\n",
      "When time is : 1700, get best_k: 3.6140751595598295 best_b: 0.2393910810248028, and the loss is: 58.61596987361453\n",
      "When time is : 1750, get best_k: 3.614735959545525 best_b: 0.23519403741300957, and the loss is: 58.612359511609135\n",
      "When time is : 1800, get best_k: 3.6153963498815567 best_b: 0.23099744649829804, and the loss is: 58.608750017803565\n",
      "When time is : 1850, get best_k: 3.616056442000653 best_b: 0.22680132573628797, and the loss is: 58.60514139192672\n",
      "When time is : 1900, get best_k: 3.616716309750392 best_b: 0.22260568667403102, and the loss is: 58.60153363374248\n",
      "When time is : 1950, get best_k: 3.617376002071389 best_b: 0.21841053694308432, and the loss is: 58.59792674303016\n"
     ]
    }
   ],
   "source": [
    "trying_times = 2000\n",
    "min_loss = float('inf')\n",
    "curr_w = random.random() * 2 - 1\n",
    "curr_b = random.random() * 2 - 1\n",
    "learning_rate = 1e-4\n",
    "update_time = 0\n",
    "for i in range(trying_times):\n",
    "    price_predict = [price(x, curr_w, curr_b) for x in xRm]\n",
    "    #print(price_predict)\n",
    "    curr_loss = loss(y, price_predict)\n",
    "    if curr_loss < min_loss:\n",
    "        min_loss = curr_loss\n",
    "        if i % 50 == 0:\n",
    "            print('When time is : {}, get best_k: {} best_b: {}, and the loss is: {}'.format(i, curr_w, curr_b, min_loss))\n",
    "    db, dw = partial_b_w(xRm, y, price_predict)\n",
    "    curr_b = curr_b + (-1 * db) * learning_rate\n",
    "    curr_w = curr_w + (-1 * dw) * learning_rate\n",
    "    "
   ]
  },
  {
   "cell_type": "code",
   "execution_count": 182,
   "metadata": {
    "scrolled": false
   },
   "outputs": [
    {
     "data": {
      "text/plain": [
       "<matplotlib.collections.PathCollection at 0xcdbea20>"
      ]
     },
     "execution_count": 182,
     "metadata": {},
     "output_type": "execute_result"
    },
    {
     "data": {
      "image/png": "[encoded data removed]",
      "text/plain": [
       "<matplotlib.figure.Figure at 0x940a1d0>"
      ]
     },
     "metadata": {},
     "output_type": "display_data"
    }
   ],
   "source": [
    "k = curr_w\n",
    "b = curr_b\n",
    "priceByRandom = [price(r,k,b) for r in xRm]\n",
    "drawRmAndPrice(xRm, y)\n",
    "plt.scatter(xRm,priceByRandom)"
   ]
  },
  {
   "cell_type": "markdown",
   "metadata": {},
   "source": [
    "#### 绝对值计算loss：$$loss = \\frac{1}{n}\\sum_{i=0}^{n}{|y_i - \\hat{y_i}|}$$"
   ]
  },
  {
   "cell_type": "markdown",
   "metadata": {},
   "source": [
    "$$loss=\\frac{1}{n}\\sum_{i=0}^{n} \\begin{cases}\n",
    "y_i-(wx_i+b),&y_i > \\hat y_i \\\\ 0,&y_i = \\hat y_i \\\\\n",
    "-y_i+(wx_i+b)),&y_i < \\hat y_i\\end{cases}$$"
   ]
  },
  {
   "cell_type": "markdown",
   "metadata": {},
   "source": [
    "权重偏导：\n",
    "$$\\frac{\\partial loss}{\\partial w}=\\frac{1}{n}\\sum_{i=0}^{n} \\begin{cases}\n",
    "-x_i,&y_i > \\hat y_i \\\\ 0,&y_i = \\hat y_i \\\\\n",
    "x_i,&y_i < \\hat y_i\\end{cases}$$"
   ]
  },
  {
   "cell_type": "markdown",
   "metadata": {},
   "source": [
    "偏置偏导：\n",
    "$$\\frac{\\partial loss}{\\partial b}=\\frac{1}{n}\\sum_{i=0}^{n} \\begin{cases}\n",
    "-1,&y_i >= \\hat y_i \\\\ 0,&y_i = \\hat y_i \\\\\n",
    "1,&y_i < \\hat y_i\\end{cases}$$"
   ]
  },
  {
   "cell_type": "code",
   "execution_count": 183,
   "metadata": {},
   "outputs": [],
   "source": [
    "def delta_w_b(x, y, y_hat):\n",
    "    n = len(y)\n",
    "    dw = 0\n",
    "    db = 0\n",
    "    diff = 0\n",
    "    for xi, yi, yhat in zip(list(x), list(y), list(y_hat)):\n",
    "        if yi > yhat:\n",
    "            dw += -1*xi\n",
    "            db += -1\n",
    "        elif yi == yhat:pass\n",
    "        else:\n",
    "            dw += xi\n",
    "            db += 1\n",
    "    db = 1 / n * db\n",
    "    dw = 1 / n * dw\n",
    "    return db, dw\n",
    "    "
   ]
  },
  {
   "cell_type": "code",
   "execution_count": 184,
   "metadata": {},
   "outputs": [],
   "source": [
    "def price(x, w, b):\n",
    "    return w * x + b"
   ]
  },
  {
   "cell_type": "code",
   "execution_count": 185,
   "metadata": {
    "scrolled": true
   },
   "outputs": [],
   "source": [
    "xRm, y = data['data'][:,5], data['target']\n",
    "#plt.scatter(xRm,y)"
   ]
  },
  {
   "cell_type": "code",
   "execution_count": 186,
   "metadata": {
    "scrolled": true
   },
   "outputs": [
    {
     "name": "stdout",
     "output_type": "stream",
     "text": [
      "When time is : 0, get best_k: -0.24743352618533598 best_b: -0.5387256923185104, and the loss is: 693.1365040171584\n",
      "When time is : 50, get best_k: -0.21601035424857684 best_b: -0.533725692318511, and the loss is: 682.9155625888028\n",
      "When time is : 100, get best_k: -0.1845871823118177 best_b: -0.5287256923185115, and the loss is: 672.7775930000329\n",
      "When time is : 150, get best_k: -0.15316401037505856 best_b: -0.5237256923185121, and the loss is: 662.7225952508472\n",
      "When time is : 200, get best_k: -0.12174083843829941 best_b: -0.5187256923185126, and the loss is: 652.7505693412475\n",
      "When time is : 250, get best_k: -0.09031766650154027 best_b: -0.5137256923185132, and the loss is: 642.8615152712339\n",
      "When time is : 300, get best_k: -0.05889449456478117 best_b: -0.5087256923185137, and the loss is: 633.0554330408042\n",
      "When time is : 350, get best_k: -0.027471322628022352 best_b: -0.5037256923185143, and the loss is: 623.3323226499625\n",
      "When time is : 400, get best_k: 0.003951849308736602 best_b: -0.4987256923185148, and the loss is: 613.6921840987052\n",
      "When time is : 450, get best_k: 0.03537502124549554 best_b: -0.4937256923185154, and the loss is: 604.1350173870327\n",
      "When time is : 500, get best_k: 0.06679819318225438 best_b: -0.4887256923185159, and the loss is: 594.6608225149447\n",
      "When time is : 550, get best_k: 0.09822136511901353 best_b: -0.4837256923185165, and the loss is: 585.2695994824443\n",
      "When time is : 600, get best_k: 0.12964453705577267 best_b: -0.478725692318517, and the loss is: 575.9613482895285\n",
      "When time is : 650, get best_k: 0.1610677089925318 best_b: -0.4737256923185176, and the loss is: 566.7360689361973\n",
      "When time is : 700, get best_k: 0.19249088092929095 best_b: -0.46872569231851813, and the loss is: 557.5937614224525\n",
      "When time is : 750, get best_k: 0.2239140528660501 best_b: -0.4637256923185187, and the loss is: 548.534425748293\n",
      "When time is : 800, get best_k: 0.25533722480280924 best_b: -0.45872569231851923, and the loss is: 539.5580619137185\n",
      "When time is : 850, get best_k: 0.2867603967395684 best_b: -0.4537256923185198, and the loss is: 530.6646699187302\n",
      "When time is : 900, get best_k: 0.3181835686763275 best_b: -0.44872569231852033, and the loss is: 521.8542497633268\n",
      "When time is : 950, get best_k: 0.34960674061308666 best_b: -0.4437256923185209, and the loss is: 513.1268014475083\n",
      "When time is : 1000, get best_k: 0.3810299125498458 best_b: -0.43872569231852143, and the loss is: 504.48232497127583\n",
      "When time is : 1050, get best_k: 0.41245308448660495 best_b: -0.433725692318522, and the loss is: 495.92082033462884\n",
      "When time is : 1100, get best_k: 0.4438762564233641 best_b: -0.42872569231852253, and the loss is: 487.44228753756664\n",
      "When time is : 1150, get best_k: 0.47529942836012323 best_b: -0.4237256923185231, and the loss is: 479.0467265800906\n",
      "When time is : 1200, get best_k: 0.5067226002968818 best_b: -0.41872569231852363, and the loss is: 470.73413746220024\n",
      "When time is : 1250, get best_k: 0.5381457722336381 best_b: -0.4137256923185242, and the loss is: 462.50452018389507\n",
      "When time is : 1300, get best_k: 0.5695689441703945 best_b: -0.40872569231852474, and the loss is: 454.35787474517576\n",
      "When time is : 1350, get best_k: 0.6009921161071509 best_b: -0.4037256923185253, and the loss is: 446.2942011460424\n",
      "When time is : 1400, get best_k: 0.6324152880439072 best_b: -0.39872569231852584, and the loss is: 438.31349938649373\n",
      "When time is : 1450, get best_k: 0.6638384599806636 best_b: -0.3937256923185264, and the loss is: 430.4157694665307\n",
      "When time is : 1500, get best_k: 0.69526163191742 best_b: -0.38872569231852694, and the loss is: 422.6010113861529\n",
      "When time is : 1550, get best_k: 0.7266848038541763 best_b: -0.3837256923185275, and the loss is: 414.869225145361\n",
      "When time is : 1600, get best_k: 0.7581079757909327 best_b: -0.37872569231852804, and the loss is: 407.2204107441538\n",
      "When time is : 1650, get best_k: 0.7895311477276891 best_b: -0.3737256923185286, and the loss is: 399.6545681825324\n",
      "When time is : 1700, get best_k: 0.8209543196644454 best_b: -0.36872569231852914, and the loss is: 392.17169746049643\n",
      "When time is : 1750, get best_k: 0.8523774916012018 best_b: -0.3637256923185297, and the loss is: 384.7717985780461\n",
      "When time is : 1800, get best_k: 0.8838006635379582 best_b: -0.35872569231853024, and the loss is: 377.4548715351809\n",
      "When time is : 1850, get best_k: 0.9152238354747145 best_b: -0.3537256923185308, and the loss is: 370.2209163319014\n",
      "When time is : 1900, get best_k: 0.9466290374509966 best_b: -0.34872885437386714, and the loss is: 363.0740089391268\n",
      "When time is : 1950, get best_k: 0.9779398971347885 best_b: -0.3437486172197164, and the loss is: 356.03112795661747\n"
     ]
    }
   ],
   "source": [
    "trying_times = 2000\n",
    "min_loss = float('inf')\n",
    "curr_w = random.random() * 2 - 1\n",
    "curr_b = random.random() * 2 - 1\n",
    "learning_rate = 1e-4\n",
    "update_time = 0\n",
    "for i in range(trying_times):\n",
    "    price_predict = [price(x, curr_w, curr_b) for x in xRm]\n",
    "    #print(price_predict)\n",
    "    curr_loss = loss(y, price_predict)\n",
    "    if curr_loss < min_loss:\n",
    "        min_loss = curr_loss\n",
    "        if i % 50 == 0:\n",
    "            print('When time is : {}, get best_k: {} best_b: {}, and the loss is: {}'.format(i, curr_w, curr_b, min_loss))\n",
    "    db, dw = delta_w_b(xRm, y, price_predict)\n",
    "    curr_b = curr_b + (-1 * db) * learning_rate\n",
    "    curr_w = curr_w + (-1 * dw) * learning_rate\n",
    "    "
   ]
  },
  {
   "cell_type": "code",
   "execution_count": 187,
   "metadata": {
    "scrolled": true
   },
   "outputs": [
    {
     "data": {
      "text/plain": [
       "<matplotlib.collections.PathCollection at 0xc5d3ef0>"
      ]
     },
     "execution_count": 187,
     "metadata": {},
     "output_type": "execute_result"
    },
    {
     "data": {
      "image/png": "[encoded data removed]",
      "text/plain": [
       "<matplotlib.figure.Figure at 0xb519908>"
      ]
     },
     "metadata": {},
     "output_type": "display_data"
    }
   ],
   "source": [
    "k = curr_w\n",
    "b = curr_b\n",
    "priceByRandom = [price(r,k,b) for r in xRm]\n",
    "drawRmAndPrice(xRm, y)\n",
    "plt.scatter(xRm,priceByRandom)"
   ]
  },
  {
   "cell_type": "code",
   "execution_count": null,
   "metadata": {},
   "outputs": [],
   "source": []
  }
 ],
 "metadata": {
  "kernelspec": {
   "display_name": "Python 3",
   "language": "python",
   "name": "python3"
  },
  "language_info": {
   "codemirror_mode": {
    "name": "ipython",
    "version": 3
   },
   "file_extension": ".py",
   "mimetype": "text/x-python",
   "name": "python",
   "nbconvert_exporter": "python",
   "pygments_lexer": "ipython3",
   "version": "3.6.4"
  }
 },
 "nbformat": 4,
 "nbformat_minor": 2
}
